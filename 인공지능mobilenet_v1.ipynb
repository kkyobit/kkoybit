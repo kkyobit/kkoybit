{
 "cells": [
  {
   "cell_type": "code",
   "execution_count": 1,
   "id": "8b909413",
   "metadata": {
    "collapsed": false,
    "execution": {
     "iopub.execute_input": "2022-11-17T16:35:54.623644Z",
     "iopub.status.busy": "2022-11-17T16:35:54.623175Z",
     "iopub.status.idle": "2022-11-17T16:36:23.658358Z",
     "shell.execute_reply": "2022-11-17T16:36:23.657234Z"
    },
    "jupyter": {
     "outputs_hidden": false
    },
    "papermill": {
     "duration": 29.056931,
     "end_time": "2022-11-17T16:36:23.661438",
     "exception": false,
     "start_time": "2022-11-17T16:35:54.604507",
     "status": "completed"
    },
    "pycharm": {
     "name": "#%%\n"
    },
    "tags": []
   },
   "outputs": [
    {
     "name": "stdout",
     "output_type": "stream",
     "text": [
      "Requirement already satisfied: torchmetrics in /opt/conda/lib/python3.7/site-packages (0.10.0)\r\n",
      "Collecting timm\r\n",
      "  Downloading timm-0.6.11-py3-none-any.whl (548 kB)\r\n",
      "\u001b[2K     \u001b[90m━━━━━━━━━━━━━━━━━━━━━━━━━━━━━━━━━━━━━━━\u001b[0m \u001b[32m548.7/548.7 kB\u001b[0m \u001b[31m2.2 MB/s\u001b[0m eta \u001b[36m0:00:00\u001b[0m\r\n",
      "\u001b[?25hRequirement already satisfied: packaging in /opt/conda/lib/python3.7/site-packages (from torchmetrics) (21.3)\r\n",
      "Requirement already satisfied: typing-extensions in /opt/conda/lib/python3.7/site-packages (from torchmetrics) (4.4.0)\r\n",
      "Requirement already satisfied: numpy>=1.17.2 in /opt/conda/lib/python3.7/site-packages (from torchmetrics) (1.21.6)\r\n",
      "Requirement already satisfied: torch>=1.3.1 in /opt/conda/lib/python3.7/site-packages (from torchmetrics) (1.11.0+cpu)\r\n",
      "Requirement already satisfied: torchvision in /opt/conda/lib/python3.7/site-packages (from timm) (0.12.0+cpu)\r\n",
      "Requirement already satisfied: pyyaml in /opt/conda/lib/python3.7/site-packages (from timm) (6.0)\r\n",
      "Requirement already satisfied: huggingface-hub in /opt/conda/lib/python3.7/site-packages (from timm) (0.10.1)\r\n",
      "Requirement already satisfied: requests in /opt/conda/lib/python3.7/site-packages (from huggingface-hub->timm) (2.28.1)\r\n",
      "Requirement already satisfied: tqdm in /opt/conda/lib/python3.7/site-packages (from huggingface-hub->timm) (4.64.0)\r\n",
      "Requirement already satisfied: importlib-metadata in /opt/conda/lib/python3.7/site-packages (from huggingface-hub->timm) (4.13.0)\r\n",
      "Requirement already satisfied: filelock in /opt/conda/lib/python3.7/site-packages (from huggingface-hub->timm) (3.7.1)\r\n",
      "Requirement already satisfied: pyparsing!=3.0.5,>=2.0.2 in /opt/conda/lib/python3.7/site-packages (from packaging->torchmetrics) (3.0.9)\r\n",
      "Requirement already satisfied: pillow!=8.3.*,>=5.3.0 in /opt/conda/lib/python3.7/site-packages (from torchvision->timm) (9.1.1)\r\n",
      "Requirement already satisfied: zipp>=0.5 in /opt/conda/lib/python3.7/site-packages (from importlib-metadata->huggingface-hub->timm) (3.8.0)\r\n",
      "Requirement already satisfied: urllib3<1.27,>=1.21.1 in /opt/conda/lib/python3.7/site-packages (from requests->huggingface-hub->timm) (1.26.12)\r\n",
      "Requirement already satisfied: certifi>=2017.4.17 in /opt/conda/lib/python3.7/site-packages (from requests->huggingface-hub->timm) (2022.9.24)\r\n",
      "Requirement already satisfied: idna<4,>=2.5 in /opt/conda/lib/python3.7/site-packages (from requests->huggingface-hub->timm) (3.3)\r\n",
      "Requirement already satisfied: charset-normalizer<3,>=2 in /opt/conda/lib/python3.7/site-packages (from requests->huggingface-hub->timm) (2.1.0)\r\n",
      "Installing collected packages: timm\r\n",
      "Successfully installed timm-0.6.11\r\n",
      "\u001b[33mWARNING: Running pip as the 'root' user can result in broken permissions and conflicting behaviour with the system package manager. It is recommended to use a virtual environment instead: https://pip.pypa.io/warnings/venv\u001b[0m\u001b[33m\r\n",
      "\u001b[0m"
     ]
    }
   ],
   "source": [
    "!pip install torchmetrics timm\n",
    "import gc\n",
    "import numpy as np\n",
    "import pandas as pd\n",
    "from torch.utils.data import Dataset,DataLoader\n",
    "from torchvision import datasets, models, transforms\n",
    "import torch\n",
    "from matplotlib import pyplot as plt\n",
    "from tensorflow import keras\n",
    "from cv2 import imread\n",
    "from tensorflow.keras.models import Sequential\n",
    "from tensorflow.keras.layers import Activation, Conv2D, MaxPooling2D, Dense, Flatten\n",
    "from tensorflow.keras.layers import Dropout, BatchNormalization \n",
    "from tensorflow.keras.utils import to_categorical\n",
    "from tensorflow.keras.preprocessing import image\n",
    "import torchmetrics \n",
    "import timm\n",
    "import albumentations as A\n",
    "from albumentations.pytorch import ToTensorV2\n",
    "from torch import nn\n",
    "from torch.optim import AdamW,Adam # optmizers\n",
    "import time\n",
    "from keras.callbacks import ModelCheckpoint\n",
    "\n",
    "import matplotlib.pyplot as plt\n",
    "\n",
    "import seaborn as sns\n",
    "import os\n",
    "import glob\n",
    "import plotly.graph_objects as go\n",
    "import cv2\n",
    "from PIL import Image\n",
    "from PIL import ImageFile\n",
    "from sklearn.model_selection import train_test_split\n",
    "from sklearn.preprocessing import LabelEncoder\n",
    "import tensorflow as tf\n",
    "from tensorflow.keras.preprocessing.image import ImageDataGenerator\n",
    "from keras.utils.np_utils import to_categorical\n",
    "from keras.applications.vgg16 import VGG16\n",
    "from tensorflow.keras.optimizers import Adam\n",
    "from keras.callbacks import EarlyStopping, ReduceLROnPlateau,ModelCheckpoint \n",
    "from sklearn.metrics import accuracy_score, confusion_matrix, classification_report\n",
    "import warnings\n",
    "warnings.filterwarnings(\"ignore\")\n",
    "ImageFile.LOAD_TRUNCATED_IMAGES = True\n",
    "\n",
    "from tqdm import tqdm"
   ]
  },
  {
   "cell_type": "markdown",
   "id": "10099e4a",
   "metadata": {
    "papermill": {
     "duration": 0.013321,
     "end_time": "2022-11-17T16:36:23.691516",
     "exception": false,
     "start_time": "2022-11-17T16:36:23.678195",
     "status": "completed"
    },
    "tags": []
   },
   "source": [
    "# 데이터"
   ]
  },
  {
   "cell_type": "code",
   "execution_count": 2,
   "id": "3ca94571",
   "metadata": {
    "execution": {
     "iopub.execute_input": "2022-11-17T16:36:23.723572Z",
     "iopub.status.busy": "2022-11-17T16:36:23.721722Z",
     "iopub.status.idle": "2022-11-17T16:36:23.763966Z",
     "shell.execute_reply": "2022-11-17T16:36:23.761743Z"
    },
    "papermill": {
     "duration": 0.061246,
     "end_time": "2022-11-17T16:36:23.766900",
     "exception": false,
     "start_time": "2022-11-17T16:36:23.705654",
     "status": "completed"
    },
    "tags": []
   },
   "outputs": [
    {
     "data": {
      "text/html": [
       "<div>\n",
       "<style scoped>\n",
       "    .dataframe tbody tr th:only-of-type {\n",
       "        vertical-align: middle;\n",
       "    }\n",
       "\n",
       "    .dataframe tbody tr th {\n",
       "        vertical-align: top;\n",
       "    }\n",
       "\n",
       "    .dataframe thead th {\n",
       "        text-align: right;\n",
       "    }\n",
       "</style>\n",
       "<table border=\"1\" class=\"dataframe\">\n",
       "  <thead>\n",
       "    <tr style=\"text-align: right;\">\n",
       "      <th></th>\n",
       "      <th>filename</th>\n",
       "      <th>old_label</th>\n",
       "      <th>new_label</th>\n",
       "    </tr>\n",
       "  </thead>\n",
       "  <tbody>\n",
       "    <tr>\n",
       "      <th>0</th>\n",
       "      <td>10.jpg</td>\n",
       "      <td>Type_2</td>\n",
       "      <td>Type_1</td>\n",
       "    </tr>\n",
       "    <tr>\n",
       "      <th>1</th>\n",
       "      <td>1001.jpg</td>\n",
       "      <td>Type_2</td>\n",
       "      <td>Type_1</td>\n",
       "    </tr>\n",
       "    <tr>\n",
       "      <th>2</th>\n",
       "      <td>1002.jpg</td>\n",
       "      <td>Type_3</td>\n",
       "      <td>Type_2</td>\n",
       "    </tr>\n",
       "    <tr>\n",
       "      <th>3</th>\n",
       "      <td>1004.jpg</td>\n",
       "      <td>Type_2</td>\n",
       "      <td>Type_1</td>\n",
       "    </tr>\n",
       "    <tr>\n",
       "      <th>4</th>\n",
       "      <td>1005.jpg</td>\n",
       "      <td>Type_3</td>\n",
       "      <td>Type_1</td>\n",
       "    </tr>\n",
       "    <tr>\n",
       "      <th>...</th>\n",
       "      <td>...</td>\n",
       "      <td>...</td>\n",
       "      <td>...</td>\n",
       "    </tr>\n",
       "    <tr>\n",
       "      <th>1816</th>\n",
       "      <td>975.jpg</td>\n",
       "      <td>Type_2</td>\n",
       "      <td>Type_1</td>\n",
       "    </tr>\n",
       "    <tr>\n",
       "      <th>1817</th>\n",
       "      <td>984.jpg</td>\n",
       "      <td>Type_2</td>\n",
       "      <td>Type_3</td>\n",
       "    </tr>\n",
       "    <tr>\n",
       "      <th>1818</th>\n",
       "      <td>986.jpg</td>\n",
       "      <td>Type_2</td>\n",
       "      <td>Type_1</td>\n",
       "    </tr>\n",
       "    <tr>\n",
       "      <th>1819</th>\n",
       "      <td>988.jpg</td>\n",
       "      <td>Type_2</td>\n",
       "      <td>Type_1</td>\n",
       "    </tr>\n",
       "    <tr>\n",
       "      <th>1820</th>\n",
       "      <td>997.jpg</td>\n",
       "      <td>Type_3</td>\n",
       "      <td>Type_2</td>\n",
       "    </tr>\n",
       "  </tbody>\n",
       "</table>\n",
       "<p>1821 rows × 3 columns</p>\n",
       "</div>"
      ],
      "text/plain": [
       "      filename old_label new_label\n",
       "0       10.jpg    Type_2    Type_1\n",
       "1     1001.jpg    Type_2    Type_1\n",
       "2     1002.jpg    Type_3    Type_2\n",
       "3     1004.jpg    Type_2    Type_1\n",
       "4     1005.jpg    Type_3    Type_1\n",
       "...        ...       ...       ...\n",
       "1816   975.jpg    Type_2    Type_1\n",
       "1817   984.jpg    Type_2    Type_3\n",
       "1818   986.jpg    Type_2    Type_1\n",
       "1819   988.jpg    Type_2    Type_1\n",
       "1820   997.jpg    Type_3    Type_2\n",
       "\n",
       "[1821 rows x 3 columns]"
      ]
     },
     "execution_count": 2,
     "metadata": {},
     "output_type": "execute_result"
    }
   ],
   "source": [
    "label = pd.read_csv(\"../input/intel-mobileodt-cervical-cancer-screening/fixed_labels_v2.csv\")\n",
    "label"
   ]
  },
  {
   "cell_type": "code",
   "execution_count": 3,
   "id": "a0ce83a5",
   "metadata": {
    "execution": {
     "iopub.execute_input": "2022-11-17T16:36:23.797110Z",
     "iopub.status.busy": "2022-11-17T16:36:23.796046Z",
     "iopub.status.idle": "2022-11-17T16:36:24.521153Z",
     "shell.execute_reply": "2022-11-17T16:36:24.519654Z"
    },
    "papermill": {
     "duration": 0.743223,
     "end_time": "2022-11-17T16:36:24.524112",
     "exception": false,
     "start_time": "2022-11-17T16:36:23.780889",
     "status": "completed"
    },
    "tags": []
   },
   "outputs": [
    {
     "name": "stdout",
     "output_type": "stream",
     "text": [
      "Type 1 files for training: 1441 \n",
      "Type 2 files for training: 4348\n",
      "Type 3 files for training: 2426\n"
     ]
    }
   ],
   "source": [
    "root_dir = '../input/intel-mobileodt-cervical-cancer-screening'\n",
    "train_dir = os.path.join(root_dir,'train', 'train')\n",
    "\n",
    "type1_dir = os.path.join(train_dir, 'Type_1')\n",
    "type2_dir = os.path.join(train_dir, 'Type_2')\n",
    "type3_dir = os.path.join(train_dir, 'Type_3')\n",
    "\n",
    "train_type1_files = glob.glob(type1_dir+'/*.jpg')\n",
    "train_type2_files = glob.glob(type2_dir+'/*.jpg')\n",
    "train_type3_files = glob.glob(type3_dir+'/*.jpg')\n",
    "\n",
    "added_type1_files  =  glob.glob(os.path.join(root_dir, \"additional_Type_1_v2\", \"Type_1\")+'/*.jpg')\n",
    "added_type2_files  =  glob.glob(os.path.join(root_dir, \"additional_Type_2_v2\", \"Type_2\")+'/*.jpg')\n",
    "added_type3_files  =  glob.glob(os.path.join(root_dir, \"additional_Type_3_v2\", \"Type_3\")+'/*.jpg')\n",
    "\n",
    "\n",
    "type1_files = train_type1_files + added_type1_files\n",
    "type2_files = train_type2_files + added_type2_files\n",
    "type3_files = train_type3_files + added_type3_files\n",
    "\n",
    "print(f'''Type 1 files for training: {len(type1_files)} \n",
    "Type 2 files for training: {len(type2_files)}\n",
    "Type 3 files for training: {len(type3_files)}''' )"
   ]
  },
  {
   "cell_type": "code",
   "execution_count": 4,
   "id": "0936f70e",
   "metadata": {
    "execution": {
     "iopub.execute_input": "2022-11-17T16:36:24.558672Z",
     "iopub.status.busy": "2022-11-17T16:36:24.558183Z",
     "iopub.status.idle": "2022-11-17T16:36:24.579512Z",
     "shell.execute_reply": "2022-11-17T16:36:24.578217Z"
    },
    "papermill": {
     "duration": 0.041668,
     "end_time": "2022-11-17T16:36:24.582494",
     "exception": false,
     "start_time": "2022-11-17T16:36:24.540826",
     "status": "completed"
    },
    "tags": []
   },
   "outputs": [
    {
     "data": {
      "text/html": [
       "<div>\n",
       "<style scoped>\n",
       "    .dataframe tbody tr th:only-of-type {\n",
       "        vertical-align: middle;\n",
       "    }\n",
       "\n",
       "    .dataframe tbody tr th {\n",
       "        vertical-align: top;\n",
       "    }\n",
       "\n",
       "    .dataframe thead th {\n",
       "        text-align: right;\n",
       "    }\n",
       "</style>\n",
       "<table border=\"1\" class=\"dataframe\">\n",
       "  <thead>\n",
       "    <tr style=\"text-align: right;\">\n",
       "      <th></th>\n",
       "      <th>filepath</th>\n",
       "      <th>label</th>\n",
       "    </tr>\n",
       "  </thead>\n",
       "  <tbody>\n",
       "    <tr>\n",
       "      <th>0</th>\n",
       "      <td>../input/intel-mobileodt-cervical-cancer-scree...</td>\n",
       "      <td>Type 1</td>\n",
       "    </tr>\n",
       "    <tr>\n",
       "      <th>1</th>\n",
       "      <td>../input/intel-mobileodt-cervical-cancer-scree...</td>\n",
       "      <td>Type 3</td>\n",
       "    </tr>\n",
       "    <tr>\n",
       "      <th>2</th>\n",
       "      <td>../input/intel-mobileodt-cervical-cancer-scree...</td>\n",
       "      <td>Type 1</td>\n",
       "    </tr>\n",
       "    <tr>\n",
       "      <th>3</th>\n",
       "      <td>../input/intel-mobileodt-cervical-cancer-scree...</td>\n",
       "      <td>Type 2</td>\n",
       "    </tr>\n",
       "    <tr>\n",
       "      <th>4</th>\n",
       "      <td>../input/intel-mobileodt-cervical-cancer-scree...</td>\n",
       "      <td>Type 3</td>\n",
       "    </tr>\n",
       "    <tr>\n",
       "      <th>...</th>\n",
       "      <td>...</td>\n",
       "      <td>...</td>\n",
       "    </tr>\n",
       "    <tr>\n",
       "      <th>8210</th>\n",
       "      <td>../input/intel-mobileodt-cervical-cancer-scree...</td>\n",
       "      <td>Type 2</td>\n",
       "    </tr>\n",
       "    <tr>\n",
       "      <th>8211</th>\n",
       "      <td>../input/intel-mobileodt-cervical-cancer-scree...</td>\n",
       "      <td>Type 3</td>\n",
       "    </tr>\n",
       "    <tr>\n",
       "      <th>8212</th>\n",
       "      <td>../input/intel-mobileodt-cervical-cancer-scree...</td>\n",
       "      <td>Type 1</td>\n",
       "    </tr>\n",
       "    <tr>\n",
       "      <th>8213</th>\n",
       "      <td>../input/intel-mobileodt-cervical-cancer-scree...</td>\n",
       "      <td>Type 2</td>\n",
       "    </tr>\n",
       "    <tr>\n",
       "      <th>8214</th>\n",
       "      <td>../input/intel-mobileodt-cervical-cancer-scree...</td>\n",
       "      <td>Type 1</td>\n",
       "    </tr>\n",
       "  </tbody>\n",
       "</table>\n",
       "<p>8215 rows × 2 columns</p>\n",
       "</div>"
      ],
      "text/plain": [
       "                                               filepath   label\n",
       "0     ../input/intel-mobileodt-cervical-cancer-scree...  Type 1\n",
       "1     ../input/intel-mobileodt-cervical-cancer-scree...  Type 3\n",
       "2     ../input/intel-mobileodt-cervical-cancer-scree...  Type 1\n",
       "3     ../input/intel-mobileodt-cervical-cancer-scree...  Type 2\n",
       "4     ../input/intel-mobileodt-cervical-cancer-scree...  Type 3\n",
       "...                                                 ...     ...\n",
       "8210  ../input/intel-mobileodt-cervical-cancer-scree...  Type 2\n",
       "8211  ../input/intel-mobileodt-cervical-cancer-scree...  Type 3\n",
       "8212  ../input/intel-mobileodt-cervical-cancer-scree...  Type 1\n",
       "8213  ../input/intel-mobileodt-cervical-cancer-scree...  Type 2\n",
       "8214  ../input/intel-mobileodt-cervical-cancer-scree...  Type 1\n",
       "\n",
       "[8215 rows x 2 columns]"
      ]
     },
     "execution_count": 4,
     "metadata": {},
     "output_type": "execute_result"
    }
   ],
   "source": [
    "files = {'filepath': type1_files + type2_files + type3_files,\n",
    "          'label': ['Type 1']* len(type1_files) + ['Type 2']* len(type2_files) + ['Type 3']* len(type3_files)}\n",
    "\n",
    "files_df = pd.DataFrame(files).sample(frac=1, random_state= 1).reset_index(drop=True)\n",
    "files_df"
   ]
  },
  {
   "cell_type": "code",
   "execution_count": 5,
   "id": "79434757",
   "metadata": {
    "execution": {
     "iopub.execute_input": "2022-11-17T16:36:24.615396Z",
     "iopub.status.busy": "2022-11-17T16:36:24.614523Z",
     "iopub.status.idle": "2022-11-17T16:38:35.575453Z",
     "shell.execute_reply": "2022-11-17T16:38:35.574144Z"
    },
    "papermill": {
     "duration": 130.981089,
     "end_time": "2022-11-17T16:38:35.579205",
     "exception": false,
     "start_time": "2022-11-17T16:36:24.598116",
     "status": "completed"
    },
    "tags": []
   },
   "outputs": [
    {
     "name": "stderr",
     "output_type": "stream",
     "text": [
      "100%|██████████| 8215/8215 [02:10<00:00, 62.74it/s]\n"
     ]
    }
   ],
   "source": [
    "bad_files = []\n",
    "for path in tqdm(files_df['filepath'].values):\n",
    "    try:\n",
    "        img = Image.open(path)\n",
    "    except:\n",
    "        index = files_df[files_df['filepath']==path].index.values[0]\n",
    "        bad_files.append(index)"
   ]
  },
  {
   "cell_type": "code",
   "execution_count": 6,
   "id": "9bd07a60",
   "metadata": {
    "execution": {
     "iopub.execute_input": "2022-11-17T16:38:35.750106Z",
     "iopub.status.busy": "2022-11-17T16:38:35.749658Z",
     "iopub.status.idle": "2022-11-17T16:38:35.756701Z",
     "shell.execute_reply": "2022-11-17T16:38:35.755683Z"
    },
    "papermill": {
     "duration": 0.093856,
     "end_time": "2022-11-17T16:38:35.759087",
     "exception": false,
     "start_time": "2022-11-17T16:38:35.665231",
     "status": "completed"
    },
    "tags": []
   },
   "outputs": [],
   "source": [
    "bad_files\n",
    "files_df.drop(bad_files, inplace=True)"
   ]
  },
  {
   "cell_type": "code",
   "execution_count": 7,
   "id": "be6775bc",
   "metadata": {
    "execution": {
     "iopub.execute_input": "2022-11-17T16:38:35.928414Z",
     "iopub.status.busy": "2022-11-17T16:38:35.927818Z",
     "iopub.status.idle": "2022-11-17T16:38:35.931884Z",
     "shell.execute_reply": "2022-11-17T16:38:35.930846Z"
    },
    "papermill": {
     "duration": 0.092639,
     "end_time": "2022-11-17T16:38:35.934478",
     "exception": false,
     "start_time": "2022-11-17T16:38:35.841839",
     "status": "completed"
    },
    "tags": []
   },
   "outputs": [],
   "source": [
    "# save csv (files_df)\n",
    "#files_df.to_csv('/kaggle/working/dropfiles.csv', sep=',')"
   ]
  },
  {
   "cell_type": "code",
   "execution_count": 8,
   "id": "2d89420e",
   "metadata": {
    "execution": {
     "iopub.execute_input": "2022-11-17T16:38:36.104368Z",
     "iopub.status.busy": "2022-11-17T16:38:36.103951Z",
     "iopub.status.idle": "2022-11-17T16:38:36.108996Z",
     "shell.execute_reply": "2022-11-17T16:38:36.107627Z"
    },
    "papermill": {
     "duration": 0.094456,
     "end_time": "2022-11-17T16:38:36.111786",
     "exception": false,
     "start_time": "2022-11-17T16:38:36.017330",
     "status": "completed"
    },
    "tags": []
   },
   "outputs": [],
   "source": [
    "# 정리된 files_df 사용\n",
    "#files_df = pd.read_csv('../input/dropfiles/dropfiles.csv', sep=',').drop('Unnamed: 0', axis=1)\n",
    "#files_df"
   ]
  },
  {
   "cell_type": "code",
   "execution_count": 9,
   "id": "af9c9e2c",
   "metadata": {
    "execution": {
     "iopub.execute_input": "2022-11-17T16:38:36.282012Z",
     "iopub.status.busy": "2022-11-17T16:38:36.281564Z",
     "iopub.status.idle": "2022-11-17T16:38:36.300171Z",
     "shell.execute_reply": "2022-11-17T16:38:36.298951Z"
    },
    "papermill": {
     "duration": 0.107678,
     "end_time": "2022-11-17T16:38:36.302815",
     "exception": false,
     "start_time": "2022-11-17T16:38:36.195137",
     "status": "completed"
    },
    "tags": []
   },
   "outputs": [
    {
     "data": {
      "text/html": [
       "<div>\n",
       "<style scoped>\n",
       "    .dataframe tbody tr th:only-of-type {\n",
       "        vertical-align: middle;\n",
       "    }\n",
       "\n",
       "    .dataframe tbody tr th {\n",
       "        vertical-align: top;\n",
       "    }\n",
       "\n",
       "    .dataframe thead th {\n",
       "        text-align: right;\n",
       "    }\n",
       "</style>\n",
       "<table border=\"1\" class=\"dataframe\">\n",
       "  <thead>\n",
       "    <tr style=\"text-align: right;\">\n",
       "      <th></th>\n",
       "      <th>Num_Values</th>\n",
       "    </tr>\n",
       "  </thead>\n",
       "  <tbody>\n",
       "    <tr>\n",
       "      <th>Type 2</th>\n",
       "      <td>4346</td>\n",
       "    </tr>\n",
       "    <tr>\n",
       "      <th>Type 3</th>\n",
       "      <td>2426</td>\n",
       "    </tr>\n",
       "    <tr>\n",
       "      <th>Type 1</th>\n",
       "      <td>1440</td>\n",
       "    </tr>\n",
       "  </tbody>\n",
       "</table>\n",
       "</div>"
      ],
      "text/plain": [
       "        Num_Values\n",
       "Type 2        4346\n",
       "Type 3        2426\n",
       "Type 1        1440"
      ]
     },
     "execution_count": 9,
     "metadata": {},
     "output_type": "execute_result"
    }
   ],
   "source": [
    "# get count of each type \n",
    "type_count = pd.DataFrame(files_df['label'].value_counts()).rename(columns= {'label': 'Num_Values'})\n",
    "type_count"
   ]
  },
  {
   "cell_type": "code",
   "execution_count": 10,
   "id": "d59319ee",
   "metadata": {
    "collapsed": false,
    "execution": {
     "iopub.execute_input": "2022-11-17T16:38:36.473926Z",
     "iopub.status.busy": "2022-11-17T16:38:36.473150Z",
     "iopub.status.idle": "2022-11-17T16:38:36.711625Z",
     "shell.execute_reply": "2022-11-17T16:38:36.710186Z"
    },
    "jupyter": {
     "outputs_hidden": false
    },
    "papermill": {
     "duration": 0.32693,
     "end_time": "2022-11-17T16:38:36.714461",
     "exception": false,
     "start_time": "2022-11-17T16:38:36.387531",
     "status": "completed"
    },
    "pycharm": {
     "name": "#%%\n"
    },
    "tags": []
   },
   "outputs": [
    {
     "data": {
      "image/png": "[encoded data removed]",
      "text/plain": [
       "<Figure size 1080x432 with 1 Axes>"
      ]
     },
     "metadata": {
      "needs_background": "light"
     },
     "output_type": "display_data"
    }
   ],
   "source": [
    "plt.figure(figsize = (15, 6))\n",
    "sns.barplot(x= type_count['Num_Values'], y= type_count.index.to_list())\n",
    "plt.title('Type Distribution')\n",
    "plt.grid(True)\n",
    "plt.show()"
   ]
  },
  {
   "cell_type": "code",
   "execution_count": 11,
   "id": "5307c847",
   "metadata": {
    "execution": {
     "iopub.execute_input": "2022-11-17T16:38:36.881703Z",
     "iopub.status.busy": "2022-11-17T16:38:36.881283Z",
     "iopub.status.idle": "2022-11-17T16:38:37.022328Z",
     "shell.execute_reply": "2022-11-17T16:38:37.020844Z"
    },
    "papermill": {
     "duration": 0.227913,
     "end_time": "2022-11-17T16:38:37.025016",
     "exception": false,
     "start_time": "2022-11-17T16:38:36.797103",
     "status": "completed"
    },
    "tags": []
   },
   "outputs": [
    {
     "data": {
      "text/html": [
       "        <script type=\"text/javascript\">\n",
       "        window.PlotlyConfig = {MathJaxConfig: 'local'};\n",
       "        if (window.MathJax && window.MathJax.Hub && window.MathJax.Hub.Config) {window.MathJax.Hub.Config({SVG: {font: \"STIX-Web\"}});}\n",
       "        if (typeof require !== 'undefined') {\n",
       "        require.undef(\"plotly\");\n",
       "        requirejs.config({\n",
       "            paths: {\n",
       "                'plotly': ['https://cdn.plot.ly/plotly-2.14.0.min']\n",
       "            }\n",
       "        });\n",
       "        require(['plotly'], function(Plotly) {\n",
       "            window._Plotly = Plotly;\n",
       "        });\n",
       "        }\n",
       "        </script>\n",
       "        "
      ]
     },
     "metadata": {},
     "output_type": "display_data"
    },
    {
     "data": {
      "text/html": [
       "<div>                            <div id=\"e79e2d4d-a55f-4f7d-9ba3-0ddd7ed12133\" class=\"plotly-graph-div\" style=\"height:525px; width:100%;\"></div>            <script type=\"text/javascript\">                require([\"plotly\"], function(Plotly) {                    window.PLOTLYENV=window.PLOTLYENV || {};                                    if (document.getElementById(\"e79e2d4d-a55f-4f7d-9ba3-0ddd7ed12133\")) {                    Plotly.newPlot(                        \"e79e2d4d-a55f-4f7d-9ba3-0ddd7ed12133\",                        [{\"hole\":0.2,\"labels\":[\"Type 2\",\"Type 3\",\"Type 1\"],\"text\":[\"Type 2\",\"Type 3\",\"Type 1\"],\"textposition\":\"auto\",\"values\":[4346,2426,1440],\"type\":\"pie\"}],                        {\"template\":{\"data\":{\"histogram2dcontour\":[{\"type\":\"histogram2dcontour\",\"colorbar\":{\"outlinewidth\":0,\"ticks\":\"\"},\"colorscale\":[[0.0,\"#0d0887\"],[0.1111111111111111,\"#46039f\"],[0.2222222222222222,\"#7201a8\"],[0.3333333333333333,\"#9c179e\"],[0.4444444444444444,\"#bd3786\"],[0.5555555555555556,\"#d8576b\"],[0.6666666666666666,\"#ed7953\"],[0.7777777777777778,\"#fb9f3a\"],[0.8888888888888888,\"#fdca26\"],[1.0,\"#f0f921\"]]}],\"choropleth\":[{\"type\":\"choropleth\",\"colorbar\":{\"outlinewidth\":0,\"ticks\":\"\"}}],\"histogram2d\":[{\"type\":\"histogram2d\",\"colorbar\":{\"outlinewidth\":0,\"ticks\":\"\"},\"colorscale\":[[0.0,\"#0d0887\"],[0.1111111111111111,\"#46039f\"],[0.2222222222222222,\"#7201a8\"],[0.3333333333333333,\"#9c179e\"],[0.4444444444444444,\"#bd3786\"],[0.5555555555555556,\"#d8576b\"],[0.6666666666666666,\"#ed7953\"],[0.7777777777777778,\"#fb9f3a\"],[0.8888888888888888,\"#fdca26\"],[1.0,\"#f0f921\"]]}],\"heatmap\":[{\"type\":\"heatmap\",\"colorbar\":{\"outlinewidth\":0,\"ticks\":\"\"},\"colorscale\":[[0.0,\"#0d0887\"],[0.1111111111111111,\"#46039f\"],[0.2222222222222222,\"#7201a8\"],[0.3333333333333333,\"#9c179e\"],[0.4444444444444444,\"#bd3786\"],[0.5555555555555556,\"#d8576b\"],[0.6666666666666666,\"#ed7953\"],[0.7777777777777778,\"#fb9f3a\"],[0.8888888888888888,\"#fdca26\"],[1.0,\"#f0f921\"]]}],\"heatmapgl\":[{\"type\":\"heatmapgl\",\"colorbar\":{\"outlinewidth\":0,\"ticks\":\"\"},\"colorscale\":[[0.0,\"#0d0887\"],[0.1111111111111111,\"#46039f\"],[0.2222222222222222,\"#7201a8\"],[0.3333333333333333,\"#9c179e\"],[0.4444444444444444,\"#bd3786\"],[0.5555555555555556,\"#d8576b\"],[0.6666666666666666,\"#ed7953\"],[0.7777777777777778,\"#fb9f3a\"],[0.8888888888888888,\"#fdca26\"],[1.0,\"#f0f921\"]]}],\"contourcarpet\":[{\"type\":\"contourcarpet\",\"colorbar\":{\"outlinewidth\":0,\"ticks\":\"\"}}],\"contour\":[{\"type\":\"contour\",\"colorbar\":{\"outlinewidth\":0,\"ticks\":\"\"},\"colorscale\":[[0.0,\"#0d0887\"],[0.1111111111111111,\"#46039f\"],[0.2222222222222222,\"#7201a8\"],[0.3333333333333333,\"#9c179e\"],[0.4444444444444444,\"#bd3786\"],[0.5555555555555556,\"#d8576b\"],[0.6666666666666666,\"#ed7953\"],[0.7777777777777778,\"#fb9f3a\"],[0.8888888888888888,\"#fdca26\"],[1.0,\"#f0f921\"]]}],\"surface\":[{\"type\":\"surface\",\"colorbar\":{\"outlinewidth\":0,\"ticks\":\"\"},\"colorscale\":[[0.0,\"#0d0887\"],[0.1111111111111111,\"#46039f\"],[0.2222222222222222,\"#7201a8\"],[0.3333333333333333,\"#9c179e\"],[0.4444444444444444,\"#bd3786\"],[0.5555555555555556,\"#d8576b\"],[0.6666666666666666,\"#ed7953\"],[0.7777777777777778,\"#fb9f3a\"],[0.8888888888888888,\"#fdca26\"],[1.0,\"#f0f921\"]]}],\"mesh3d\":[{\"type\":\"mesh3d\",\"colorbar\":{\"outlinewidth\":0,\"ticks\":\"\"}}],\"scatter\":[{\"fillpattern\":{\"fillmode\":\"overlay\",\"size\":10,\"solidity\":0.2},\"type\":\"scatter\"}],\"parcoords\":[{\"type\":\"parcoords\",\"line\":{\"colorbar\":{\"outlinewidth\":0,\"ticks\":\"\"}}}],\"scatterpolargl\":[{\"type\":\"scatterpolargl\",\"marker\":{\"colorbar\":{\"outlinewidth\":0,\"ticks\":\"\"}}}],\"bar\":[{\"error_x\":{\"color\":\"#2a3f5f\"},\"error_y\":{\"color\":\"#2a3f5f\"},\"marker\":{\"line\":{\"color\":\"#E5ECF6\",\"width\":0.5},\"pattern\":{\"fillmode\":\"overlay\",\"size\":10,\"solidity\":0.2}},\"type\":\"bar\"}],\"scattergeo\":[{\"type\":\"scattergeo\",\"marker\":{\"colorbar\":{\"outlinewidth\":0,\"ticks\":\"\"}}}],\"scatterpolar\":[{\"type\":\"scatterpolar\",\"marker\":{\"colorbar\":{\"outlinewidth\":0,\"ticks\":\"\"}}}],\"histogram\":[{\"marker\":{\"pattern\":{\"fillmode\":\"overlay\",\"size\":10,\"solidity\":0.2}},\"type\":\"histogram\"}],\"scattergl\":[{\"type\":\"scattergl\",\"marker\":{\"colorbar\":{\"outlinewidth\":0,\"ticks\":\"\"}}}],\"scatter3d\":[{\"type\":\"scatter3d\",\"line\":{\"colorbar\":{\"outlinewidth\":0,\"ticks\":\"\"}},\"marker\":{\"colorbar\":{\"outlinewidth\":0,\"ticks\":\"\"}}}],\"scattermapbox\":[{\"type\":\"scattermapbox\",\"marker\":{\"colorbar\":{\"outlinewidth\":0,\"ticks\":\"\"}}}],\"scatterternary\":[{\"type\":\"scatterternary\",\"marker\":{\"colorbar\":{\"outlinewidth\":0,\"ticks\":\"\"}}}],\"scattercarpet\":[{\"type\":\"scattercarpet\",\"marker\":{\"colorbar\":{\"outlinewidth\":0,\"ticks\":\"\"}}}],\"carpet\":[{\"aaxis\":{\"endlinecolor\":\"#2a3f5f\",\"gridcolor\":\"white\",\"linecolor\":\"white\",\"minorgridcolor\":\"white\",\"startlinecolor\":\"#2a3f5f\"},\"baxis\":{\"endlinecolor\":\"#2a3f5f\",\"gridcolor\":\"white\",\"linecolor\":\"white\",\"minorgridcolor\":\"white\",\"startlinecolor\":\"#2a3f5f\"},\"type\":\"carpet\"}],\"table\":[{\"cells\":{\"fill\":{\"color\":\"#EBF0F8\"},\"line\":{\"color\":\"white\"}},\"header\":{\"fill\":{\"color\":\"#C8D4E3\"},\"line\":{\"color\":\"white\"}},\"type\":\"table\"}],\"barpolar\":[{\"marker\":{\"line\":{\"color\":\"#E5ECF6\",\"width\":0.5},\"pattern\":{\"fillmode\":\"overlay\",\"size\":10,\"solidity\":0.2}},\"type\":\"barpolar\"}],\"pie\":[{\"automargin\":true,\"type\":\"pie\"}]},\"layout\":{\"autotypenumbers\":\"strict\",\"colorway\":[\"#636efa\",\"#EF553B\",\"#00cc96\",\"#ab63fa\",\"#FFA15A\",\"#19d3f3\",\"#FF6692\",\"#B6E880\",\"#FF97FF\",\"#FECB52\"],\"font\":{\"color\":\"#2a3f5f\"},\"hovermode\":\"closest\",\"hoverlabel\":{\"align\":\"left\"},\"paper_bgcolor\":\"white\",\"plot_bgcolor\":\"#E5ECF6\",\"polar\":{\"bgcolor\":\"#E5ECF6\",\"angularaxis\":{\"gridcolor\":\"white\",\"linecolor\":\"white\",\"ticks\":\"\"},\"radialaxis\":{\"gridcolor\":\"white\",\"linecolor\":\"white\",\"ticks\":\"\"}},\"ternary\":{\"bgcolor\":\"#E5ECF6\",\"aaxis\":{\"gridcolor\":\"white\",\"linecolor\":\"white\",\"ticks\":\"\"},\"baxis\":{\"gridcolor\":\"white\",\"linecolor\":\"white\",\"ticks\":\"\"},\"caxis\":{\"gridcolor\":\"white\",\"linecolor\":\"white\",\"ticks\":\"\"}},\"coloraxis\":{\"colorbar\":{\"outlinewidth\":0,\"ticks\":\"\"}},\"colorscale\":{\"sequential\":[[0.0,\"#0d0887\"],[0.1111111111111111,\"#46039f\"],[0.2222222222222222,\"#7201a8\"],[0.3333333333333333,\"#9c179e\"],[0.4444444444444444,\"#bd3786\"],[0.5555555555555556,\"#d8576b\"],[0.6666666666666666,\"#ed7953\"],[0.7777777777777778,\"#fb9f3a\"],[0.8888888888888888,\"#fdca26\"],[1.0,\"#f0f921\"]],\"sequentialminus\":[[0.0,\"#0d0887\"],[0.1111111111111111,\"#46039f\"],[0.2222222222222222,\"#7201a8\"],[0.3333333333333333,\"#9c179e\"],[0.4444444444444444,\"#bd3786\"],[0.5555555555555556,\"#d8576b\"],[0.6666666666666666,\"#ed7953\"],[0.7777777777777778,\"#fb9f3a\"],[0.8888888888888888,\"#fdca26\"],[1.0,\"#f0f921\"]],\"diverging\":[[0,\"#8e0152\"],[0.1,\"#c51b7d\"],[0.2,\"#de77ae\"],[0.3,\"#f1b6da\"],[0.4,\"#fde0ef\"],[0.5,\"#f7f7f7\"],[0.6,\"#e6f5d0\"],[0.7,\"#b8e186\"],[0.8,\"#7fbc41\"],[0.9,\"#4d9221\"],[1,\"#276419\"]]},\"xaxis\":{\"gridcolor\":\"white\",\"linecolor\":\"white\",\"ticks\":\"\",\"title\":{\"standoff\":15},\"zerolinecolor\":\"white\",\"automargin\":true,\"zerolinewidth\":2},\"yaxis\":{\"gridcolor\":\"white\",\"linecolor\":\"white\",\"ticks\":\"\",\"title\":{\"standoff\":15},\"zerolinecolor\":\"white\",\"automargin\":true,\"zerolinewidth\":2},\"scene\":{\"xaxis\":{\"backgroundcolor\":\"#E5ECF6\",\"gridcolor\":\"white\",\"linecolor\":\"white\",\"showbackground\":true,\"ticks\":\"\",\"zerolinecolor\":\"white\",\"gridwidth\":2},\"yaxis\":{\"backgroundcolor\":\"#E5ECF6\",\"gridcolor\":\"white\",\"linecolor\":\"white\",\"showbackground\":true,\"ticks\":\"\",\"zerolinecolor\":\"white\",\"gridwidth\":2},\"zaxis\":{\"backgroundcolor\":\"#E5ECF6\",\"gridcolor\":\"white\",\"linecolor\":\"white\",\"showbackground\":true,\"ticks\":\"\",\"zerolinecolor\":\"white\",\"gridwidth\":2}},\"shapedefaults\":{\"line\":{\"color\":\"#2a3f5f\"}},\"annotationdefaults\":{\"arrowcolor\":\"#2a3f5f\",\"arrowhead\":0,\"arrowwidth\":1},\"geo\":{\"bgcolor\":\"white\",\"landcolor\":\"#E5ECF6\",\"subunitcolor\":\"white\",\"showland\":true,\"showlakes\":true,\"lakecolor\":\"white\"},\"title\":{\"x\":0.05},\"mapbox\":{\"style\":\"light\"}}},\"title\":{\"text\":\"Pie Chart of Type Distribution\"}},                        {\"responsive\": true}                    ).then(function(){\n",
       "                            \n",
       "var gd = document.getElementById('e79e2d4d-a55f-4f7d-9ba3-0ddd7ed12133');\n",
       "var x = new MutationObserver(function (mutations, observer) {{\n",
       "        var display = window.getComputedStyle(gd).display;\n",
       "        if (!display || display === 'none') {{\n",
       "            console.log([gd, 'removed!']);\n",
       "            Plotly.purge(gd);\n",
       "            observer.disconnect();\n",
       "        }}\n",
       "}});\n",
       "\n",
       "// Listen for the removal of the full notebook cells\n",
       "var notebookContainer = gd.closest('#notebook-container');\n",
       "if (notebookContainer) {{\n",
       "    x.observe(notebookContainer, {childList: true});\n",
       "}}\n",
       "\n",
       "// Listen for the clearing of the current output cell\n",
       "var outputEl = gd.closest('.output');\n",
       "if (outputEl) {{\n",
       "    x.observe(outputEl, {childList: true});\n",
       "}}\n",
       "\n",
       "                        })                };                });            </script>        </div>"
      ]
     },
     "metadata": {},
     "output_type": "display_data"
    }
   ],
   "source": [
    "pie_plot = go.Pie(labels= type_count.index.to_list(), values= type_count.values.flatten(),\n",
    "                 hole= 0.2, text= type_count.index.to_list(), textposition='auto')\n",
    "fig = go.Figure([pie_plot])\n",
    "fig.update_layout(title_text='Pie Chart of Type Distribution')\n",
    "fig.show()"
   ]
  },
  {
   "cell_type": "markdown",
   "id": "5aafaaa5",
   "metadata": {
    "papermill": {
     "duration": 0.08526,
     "end_time": "2022-11-17T16:38:37.193821",
     "exception": false,
     "start_time": "2022-11-17T16:38:37.108561",
     "status": "completed"
    },
    "tags": []
   },
   "source": [
    "# 데이터 분리"
   ]
  },
  {
   "cell_type": "code",
   "execution_count": 12,
   "id": "2af81494",
   "metadata": {
    "execution": {
     "iopub.execute_input": "2022-11-17T16:38:37.365199Z",
     "iopub.status.busy": "2022-11-17T16:38:37.364170Z",
     "iopub.status.idle": "2022-11-17T16:38:37.380101Z",
     "shell.execute_reply": "2022-11-17T16:38:37.378827Z"
    },
    "papermill": {
     "duration": 0.104872,
     "end_time": "2022-11-17T16:38:37.382559",
     "exception": false,
     "start_time": "2022-11-17T16:38:37.277687",
     "status": "completed"
    },
    "tags": []
   },
   "outputs": [
    {
     "name": "stdout",
     "output_type": "stream",
     "text": [
      "6569 1643\n"
     ]
    }
   ],
   "source": [
    "# Train / Validation\n",
    "\n",
    "train_df, valid_df = train_test_split(files_df, test_size = 0.2, stratify = files_df['label'], random_state = 1234)\n",
    "\n",
    "print(len(train_df), len(valid_df))"
   ]
  },
  {
   "cell_type": "code",
   "execution_count": 13,
   "id": "b53f1d70",
   "metadata": {
    "execution": {
     "iopub.execute_input": "2022-11-17T16:38:37.553267Z",
     "iopub.status.busy": "2022-11-17T16:38:37.552593Z",
     "iopub.status.idle": "2022-11-17T16:38:37.560946Z",
     "shell.execute_reply": "2022-11-17T16:38:37.559920Z"
    },
    "papermill": {
     "duration": 0.097456,
     "end_time": "2022-11-17T16:38:37.563457",
     "exception": false,
     "start_time": "2022-11-17T16:38:37.466001",
     "status": "completed"
    },
    "tags": []
   },
   "outputs": [],
   "source": [
    "X_train = train_df[['filepath']]\n",
    "y_train = train_df[['label']]\n",
    "X_train = X_train.reset_index(drop=True)\n",
    "y_train = y_train.reset_index(drop=True)"
   ]
  },
  {
   "cell_type": "code",
   "execution_count": 14,
   "id": "f9e6bdf0",
   "metadata": {
    "execution": {
     "iopub.execute_input": "2022-11-17T16:38:37.734984Z",
     "iopub.status.busy": "2022-11-17T16:38:37.734456Z",
     "iopub.status.idle": "2022-11-17T16:38:37.743683Z",
     "shell.execute_reply": "2022-11-17T16:38:37.742476Z"
    },
    "papermill": {
     "duration": 0.09961,
     "end_time": "2022-11-17T16:38:37.746743",
     "exception": false,
     "start_time": "2022-11-17T16:38:37.647133",
     "status": "completed"
    },
    "tags": []
   },
   "outputs": [
    {
     "name": "stdout",
     "output_type": "stream",
     "text": [
      "6569 6569 1643 1643\n"
     ]
    }
   ],
   "source": [
    "X_valid = valid_df[['filepath']].reset_index(drop=True)\n",
    "y_valid = valid_df[['label']].reset_index(drop=True)\n",
    "\n",
    "print(len(X_train), len(y_train), len(X_valid),len(y_valid))"
   ]
  },
  {
   "cell_type": "markdown",
   "id": "ddc60739",
   "metadata": {
    "papermill": {
     "duration": 0.108062,
     "end_time": "2022-11-17T16:38:37.940788",
     "exception": false,
     "start_time": "2022-11-17T16:38:37.832726",
     "status": "completed"
    },
    "tags": []
   },
   "source": [
    "# 데이터 전처리"
   ]
  },
  {
   "cell_type": "code",
   "execution_count": 15,
   "id": "d34be242",
   "metadata": {
    "execution": {
     "iopub.execute_input": "2022-11-17T16:38:38.126205Z",
     "iopub.status.busy": "2022-11-17T16:38:38.125098Z",
     "iopub.status.idle": "2022-11-17T16:38:38.130617Z",
     "shell.execute_reply": "2022-11-17T16:38:38.129692Z"
    },
    "papermill": {
     "duration": 0.104749,
     "end_time": "2022-11-17T16:38:38.133269",
     "exception": false,
     "start_time": "2022-11-17T16:38:38.028520",
     "status": "completed"
    },
    "tags": []
   },
   "outputs": [],
   "source": [
    "# save train data as npy files\n",
    "\n",
    "#np.save('/kaggle/working/X_train_25', X_train)\n",
    "#np.save('/kaggle/working/y_train_25', y_train)"
   ]
  },
  {
   "cell_type": "code",
   "execution_count": 16,
   "id": "4e52d0d1",
   "metadata": {
    "execution": {
     "iopub.execute_input": "2022-11-17T16:38:38.331193Z",
     "iopub.status.busy": "2022-11-17T16:38:38.330126Z",
     "iopub.status.idle": "2022-11-17T17:04:38.813737Z",
     "shell.execute_reply": "2022-11-17T17:04:38.811516Z"
    },
    "papermill": {
     "duration": 1560.586403,
     "end_time": "2022-11-17T17:04:38.817407",
     "exception": false,
     "start_time": "2022-11-17T16:38:38.231004",
     "status": "completed"
    },
    "tags": []
   },
   "outputs": [
    {
     "name": "stderr",
     "output_type": "stream",
     "text": [
      " 23%|██▎       | 1503/6569 [05:50<21:58,  3.84it/s]Premature end of JPEG file\n",
      " 85%|████████▍ | 5581/6569 [21:51<03:13,  5.11it/s]Premature end of JPEG file\n",
      "100%|██████████| 6569/6569 [26:00<00:00,  4.21it/s]\n"
     ]
    }
   ],
   "source": [
    "features = []\n",
    "f_app = features.append\n",
    "path = train_df['filepath'].values\n",
    "labels = train_df['label'].values\n",
    "for p in tqdm(path):\n",
    "    image = cv2.imread(p)\n",
    "    image = cv2.cvtColor(image, cv2.COLOR_RGB2BGR)\n",
    "    re_image = cv2.resize(image, (128,128))\n",
    "    f_app(np.array(re_image))\n",
    "\n",
    "X_train = np.array(features)\n",
    "y_train = np.array(labels)"
   ]
  },
  {
   "cell_type": "code",
   "execution_count": 17,
   "id": "5c2bc28d",
   "metadata": {
    "execution": {
     "iopub.execute_input": "2022-11-17T17:04:39.905106Z",
     "iopub.status.busy": "2022-11-17T17:04:39.904239Z",
     "iopub.status.idle": "2022-11-17T17:04:39.911804Z",
     "shell.execute_reply": "2022-11-17T17:04:39.910490Z"
    },
    "papermill": {
     "duration": 0.516252,
     "end_time": "2022-11-17T17:04:39.914725",
     "exception": false,
     "start_time": "2022-11-17T17:04:39.398473",
     "status": "completed"
    },
    "tags": []
   },
   "outputs": [],
   "source": [
    "# 소요시간줄이는코드 (추가 수정 필요)\n",
    "#path = train_df['filepath'].values\n",
    "#labels = train_df['label'].values\n",
    "#features = [np.array(cv2.resize(cv2.cvtColor(cv2.imread(p),cv2.COLOR_RGB2BGR),(180,180))) for p in tqdm(path)]"
   ]
  },
  {
   "cell_type": "code",
   "execution_count": 18,
   "id": "94b826c3",
   "metadata": {
    "execution": {
     "iopub.execute_input": "2022-11-17T17:04:40.939210Z",
     "iopub.status.busy": "2022-11-17T17:04:40.938820Z",
     "iopub.status.idle": "2022-11-17T17:10:36.863860Z",
     "shell.execute_reply": "2022-11-17T17:10:36.862519Z"
    },
    "papermill": {
     "duration": 356.479466,
     "end_time": "2022-11-17T17:10:36.868816",
     "exception": false,
     "start_time": "2022-11-17T17:04:40.389350",
     "status": "completed"
    },
    "tags": []
   },
   "outputs": [
    {
     "name": "stderr",
     "output_type": "stream",
     "text": [
      " 37%|███▋      | 615/1643 [02:14<03:57,  4.33it/s]Premature end of JPEG file\n",
      "100%|██████████| 1643/1643 [05:55<00:00,  4.62it/s]\n"
     ]
    }
   ],
   "source": [
    "# validation data\n",
    "\n",
    "features = []\n",
    "f_app = features.append\n",
    "path = valid_df['filepath'].values\n",
    "labels = valid_df['label'].values\n",
    "for p in tqdm(path):\n",
    "    image = cv2.imread(p)\n",
    "    image = cv2.cvtColor(image, cv2.COLOR_RGB2BGR)\n",
    "    re_image = cv2.resize(image, (128,128))\n",
    "    f_app(np.array(re_image))\n",
    "\n",
    "X_valid = np.array(features)\n",
    "y_valid = np.array(labels)"
   ]
  },
  {
   "cell_type": "code",
   "execution_count": 19,
   "id": "4cdc7052",
   "metadata": {
    "execution": {
     "iopub.execute_input": "2022-11-17T17:10:38.103908Z",
     "iopub.status.busy": "2022-11-17T17:10:38.102909Z",
     "iopub.status.idle": "2022-11-17T17:10:38.108018Z",
     "shell.execute_reply": "2022-11-17T17:10:38.106776Z"
    },
    "papermill": {
     "duration": 0.586239,
     "end_time": "2022-11-17T17:10:38.110400",
     "exception": false,
     "start_time": "2022-11-17T17:10:37.524161",
     "status": "completed"
    },
    "tags": []
   },
   "outputs": [],
   "source": [
    "# save validation data as npy files\n",
    "\n",
    "#np.save('/kaggle/working/X_valid', X_valid)\n",
    "#np.save('/kaggle/working/y_valid', y_valid)"
   ]
  },
  {
   "cell_type": "code",
   "execution_count": 20,
   "id": "e69f46cb",
   "metadata": {
    "execution": {
     "iopub.execute_input": "2022-11-17T17:10:39.325297Z",
     "iopub.status.busy": "2022-11-17T17:10:39.324897Z",
     "iopub.status.idle": "2022-11-17T17:10:39.334030Z",
     "shell.execute_reply": "2022-11-17T17:10:39.333060Z"
    },
    "papermill": {
     "duration": 0.65495,
     "end_time": "2022-11-17T17:10:39.336642",
     "exception": false,
     "start_time": "2022-11-17T17:10:38.681692",
     "status": "completed"
    },
    "tags": []
   },
   "outputs": [
    {
     "data": {
      "text/plain": [
       "array([[[ 71,  81,  90],\n",
       "        [ 79,  89,  97],\n",
       "        [ 88, 101, 106],\n",
       "        ...,\n",
       "        [ 87,  57,  81],\n",
       "        [ 90,  58,  82],\n",
       "        [ 87,  55,  78]],\n",
       "\n",
       "       [[ 82,  89,  97],\n",
       "        [ 88,  95, 101],\n",
       "        [ 96, 107, 111],\n",
       "        ...,\n",
       "        [100,  66,  93],\n",
       "        [ 99,  65,  92],\n",
       "        [ 93,  60,  88]],\n",
       "\n",
       "       [[ 79,  83,  94],\n",
       "        [ 93,  98, 104],\n",
       "        [107, 114, 120],\n",
       "        ...,\n",
       "        [102,  67, 100],\n",
       "        [ 99,  64,  96],\n",
       "        [ 98,  63,  93]],\n",
       "\n",
       "       ...,\n",
       "\n",
       "       [[ 94,  62,  86],\n",
       "        [ 75,  47,  69],\n",
       "        [ 64,  43,  58],\n",
       "        ...,\n",
       "        [ 70,  37,  44],\n",
       "        [ 69,  37,  48],\n",
       "        [ 67,  36,  51]],\n",
       "\n",
       "       [[110,  74, 100],\n",
       "        [ 89,  57,  81],\n",
       "        [ 77,  49,  71],\n",
       "        ...,\n",
       "        [ 53,  24,  28],\n",
       "        [ 60,  30,  40],\n",
       "        [ 65,  36,  54]],\n",
       "\n",
       "       [[120,  84, 110],\n",
       "        [108,  75,  99],\n",
       "        [ 95,  63,  87],\n",
       "        ...,\n",
       "        [ 51,  23,  35],\n",
       "        [ 60,  29,  47],\n",
       "        [ 78,  46,  72]]], dtype=uint8)"
      ]
     },
     "execution_count": 20,
     "metadata": {},
     "output_type": "execute_result"
    }
   ],
   "source": [
    "# X train data 확인\n",
    "X_train[0]"
   ]
  },
  {
   "cell_type": "code",
   "execution_count": 21,
   "id": "29327860",
   "metadata": {
    "execution": {
     "iopub.execute_input": "2022-11-17T17:10:40.521194Z",
     "iopub.status.busy": "2022-11-17T17:10:40.520406Z",
     "iopub.status.idle": "2022-11-17T17:10:40.528187Z",
     "shell.execute_reply": "2022-11-17T17:10:40.527184Z"
    },
    "papermill": {
     "duration": 0.614885,
     "end_time": "2022-11-17T17:10:40.530981",
     "exception": false,
     "start_time": "2022-11-17T17:10:39.916096",
     "status": "completed"
    },
    "tags": []
   },
   "outputs": [
    {
     "data": {
      "text/plain": [
       "array([[[ 59,  51,  72],\n",
       "        [ 57,  49,  67],\n",
       "        [ 59,  52,  70],\n",
       "        ...,\n",
       "        [ 29,  39,  50],\n",
       "        [ 22,  31,  39],\n",
       "        [ 28,  36,  45]],\n",
       "\n",
       "       [[ 61,  53,  72],\n",
       "        [ 67,  56,  76],\n",
       "        [ 68,  54,  77],\n",
       "        ...,\n",
       "        [ 22,  40,  48],\n",
       "        [ 25,  39,  48],\n",
       "        [ 26,  35,  45]],\n",
       "\n",
       "       [[ 70,  61,  80],\n",
       "        [ 67,  59,  73],\n",
       "        [ 71,  59,  79],\n",
       "        ...,\n",
       "        [ 25,  38,  54],\n",
       "        [ 27,  39,  51],\n",
       "        [ 28,  37,  47]],\n",
       "\n",
       "       ...,\n",
       "\n",
       "       [[ 95,  87, 110],\n",
       "        [101,  93, 117],\n",
       "        [115, 103, 127],\n",
       "        ...,\n",
       "        [ 63,  49,  74],\n",
       "        [ 60,  47,  67],\n",
       "        [ 59,  45,  69]],\n",
       "\n",
       "       [[ 70,  67,  88],\n",
       "        [ 85,  78, 101],\n",
       "        [100,  91, 118],\n",
       "        ...,\n",
       "        [ 54,  41,  61],\n",
       "        [ 54,  41,  58],\n",
       "        [ 55,  42,  60]],\n",
       "\n",
       "       [[ 50,  48,  68],\n",
       "        [ 63,  60,  81],\n",
       "        [ 76,  67,  93],\n",
       "        ...,\n",
       "        [ 53,  40,  63],\n",
       "        [ 52,  39,  59],\n",
       "        [ 46,  34,  50]]], dtype=uint8)"
      ]
     },
     "execution_count": 21,
     "metadata": {},
     "output_type": "execute_result"
    }
   ],
   "source": [
    "# X validation data 확인\n",
    "X_valid[0]"
   ]
  },
  {
   "cell_type": "code",
   "execution_count": 22,
   "id": "2c3e60b3",
   "metadata": {
    "execution": {
     "iopub.execute_input": "2022-11-17T17:10:41.731815Z",
     "iopub.status.busy": "2022-11-17T17:10:41.730924Z",
     "iopub.status.idle": "2022-11-17T17:10:46.533060Z",
     "shell.execute_reply": "2022-11-17T17:10:46.531958Z"
    },
    "papermill": {
     "duration": 5.371141,
     "end_time": "2022-11-17T17:10:46.535688",
     "exception": false,
     "start_time": "2022-11-17T17:10:41.164547",
     "status": "completed"
    },
    "tags": []
   },
   "outputs": [],
   "source": [
    "# 정규화 (0과1사이의값)\n",
    "X_train = X_train/255\n",
    "X_valid = X_valid/255"
   ]
  },
  {
   "cell_type": "code",
   "execution_count": 23,
   "id": "15434d9f",
   "metadata": {
    "execution": {
     "iopub.execute_input": "2022-11-17T17:10:47.747221Z",
     "iopub.status.busy": "2022-11-17T17:10:47.746072Z",
     "iopub.status.idle": "2022-11-17T17:10:47.755850Z",
     "shell.execute_reply": "2022-11-17T17:10:47.754365Z"
    },
    "papermill": {
     "duration": 0.651888,
     "end_time": "2022-11-17T17:10:47.758268",
     "exception": false,
     "start_time": "2022-11-17T17:10:47.106380",
     "status": "completed"
    },
    "tags": []
   },
   "outputs": [
    {
     "data": {
      "text/plain": [
       "array([[[0.27843137, 0.31764706, 0.35294118],\n",
       "        [0.30980392, 0.34901961, 0.38039216],\n",
       "        [0.34509804, 0.39607843, 0.41568627],\n",
       "        ...,\n",
       "        [0.34117647, 0.22352941, 0.31764706],\n",
       "        [0.35294118, 0.22745098, 0.32156863],\n",
       "        [0.34117647, 0.21568627, 0.30588235]],\n",
       "\n",
       "       [[0.32156863, 0.34901961, 0.38039216],\n",
       "        [0.34509804, 0.37254902, 0.39607843],\n",
       "        [0.37647059, 0.41960784, 0.43529412],\n",
       "        ...,\n",
       "        [0.39215686, 0.25882353, 0.36470588],\n",
       "        [0.38823529, 0.25490196, 0.36078431],\n",
       "        [0.36470588, 0.23529412, 0.34509804]],\n",
       "\n",
       "       [[0.30980392, 0.3254902 , 0.36862745],\n",
       "        [0.36470588, 0.38431373, 0.40784314],\n",
       "        [0.41960784, 0.44705882, 0.47058824],\n",
       "        ...,\n",
       "        [0.4       , 0.2627451 , 0.39215686],\n",
       "        [0.38823529, 0.25098039, 0.37647059],\n",
       "        [0.38431373, 0.24705882, 0.36470588]],\n",
       "\n",
       "       ...,\n",
       "\n",
       "       [[0.36862745, 0.24313725, 0.3372549 ],\n",
       "        [0.29411765, 0.18431373, 0.27058824],\n",
       "        [0.25098039, 0.16862745, 0.22745098],\n",
       "        ...,\n",
       "        [0.2745098 , 0.14509804, 0.17254902],\n",
       "        [0.27058824, 0.14509804, 0.18823529],\n",
       "        [0.2627451 , 0.14117647, 0.2       ]],\n",
       "\n",
       "       [[0.43137255, 0.29019608, 0.39215686],\n",
       "        [0.34901961, 0.22352941, 0.31764706],\n",
       "        [0.30196078, 0.19215686, 0.27843137],\n",
       "        ...,\n",
       "        [0.20784314, 0.09411765, 0.10980392],\n",
       "        [0.23529412, 0.11764706, 0.15686275],\n",
       "        [0.25490196, 0.14117647, 0.21176471]],\n",
       "\n",
       "       [[0.47058824, 0.32941176, 0.43137255],\n",
       "        [0.42352941, 0.29411765, 0.38823529],\n",
       "        [0.37254902, 0.24705882, 0.34117647],\n",
       "        ...,\n",
       "        [0.2       , 0.09019608, 0.1372549 ],\n",
       "        [0.23529412, 0.11372549, 0.18431373],\n",
       "        [0.30588235, 0.18039216, 0.28235294]]])"
      ]
     },
     "execution_count": 23,
     "metadata": {},
     "output_type": "execute_result"
    }
   ],
   "source": [
    "# 정규화한 X train data 확인\n",
    "X_train[0]"
   ]
  },
  {
   "cell_type": "code",
   "execution_count": 24,
   "id": "2944d3d8",
   "metadata": {
    "execution": {
     "iopub.execute_input": "2022-11-17T17:10:48.974198Z",
     "iopub.status.busy": "2022-11-17T17:10:48.973429Z",
     "iopub.status.idle": "2022-11-17T17:10:48.981227Z",
     "shell.execute_reply": "2022-11-17T17:10:48.980148Z"
    },
    "papermill": {
     "duration": 0.657977,
     "end_time": "2022-11-17T17:10:48.983602",
     "exception": false,
     "start_time": "2022-11-17T17:10:48.325625",
     "status": "completed"
    },
    "tags": []
   },
   "outputs": [
    {
     "data": {
      "text/plain": [
       "array([[[0.23137255, 0.2       , 0.28235294],\n",
       "        [0.22352941, 0.19215686, 0.2627451 ],\n",
       "        [0.23137255, 0.20392157, 0.2745098 ],\n",
       "        ...,\n",
       "        [0.11372549, 0.15294118, 0.19607843],\n",
       "        [0.08627451, 0.12156863, 0.15294118],\n",
       "        [0.10980392, 0.14117647, 0.17647059]],\n",
       "\n",
       "       [[0.23921569, 0.20784314, 0.28235294],\n",
       "        [0.2627451 , 0.21960784, 0.29803922],\n",
       "        [0.26666667, 0.21176471, 0.30196078],\n",
       "        ...,\n",
       "        [0.08627451, 0.15686275, 0.18823529],\n",
       "        [0.09803922, 0.15294118, 0.18823529],\n",
       "        [0.10196078, 0.1372549 , 0.17647059]],\n",
       "\n",
       "       [[0.2745098 , 0.23921569, 0.31372549],\n",
       "        [0.2627451 , 0.23137255, 0.28627451],\n",
       "        [0.27843137, 0.23137255, 0.30980392],\n",
       "        ...,\n",
       "        [0.09803922, 0.14901961, 0.21176471],\n",
       "        [0.10588235, 0.15294118, 0.2       ],\n",
       "        [0.10980392, 0.14509804, 0.18431373]],\n",
       "\n",
       "       ...,\n",
       "\n",
       "       [[0.37254902, 0.34117647, 0.43137255],\n",
       "        [0.39607843, 0.36470588, 0.45882353],\n",
       "        [0.45098039, 0.40392157, 0.49803922],\n",
       "        ...,\n",
       "        [0.24705882, 0.19215686, 0.29019608],\n",
       "        [0.23529412, 0.18431373, 0.2627451 ],\n",
       "        [0.23137255, 0.17647059, 0.27058824]],\n",
       "\n",
       "       [[0.2745098 , 0.2627451 , 0.34509804],\n",
       "        [0.33333333, 0.30588235, 0.39607843],\n",
       "        [0.39215686, 0.35686275, 0.4627451 ],\n",
       "        ...,\n",
       "        [0.21176471, 0.16078431, 0.23921569],\n",
       "        [0.21176471, 0.16078431, 0.22745098],\n",
       "        [0.21568627, 0.16470588, 0.23529412]],\n",
       "\n",
       "       [[0.19607843, 0.18823529, 0.26666667],\n",
       "        [0.24705882, 0.23529412, 0.31764706],\n",
       "        [0.29803922, 0.2627451 , 0.36470588],\n",
       "        ...,\n",
       "        [0.20784314, 0.15686275, 0.24705882],\n",
       "        [0.20392157, 0.15294118, 0.23137255],\n",
       "        [0.18039216, 0.13333333, 0.19607843]]])"
      ]
     },
     "execution_count": 24,
     "metadata": {},
     "output_type": "execute_result"
    }
   ],
   "source": [
    "# 정규화한 X validation data 확인\n",
    "X_valid[0]"
   ]
  },
  {
   "cell_type": "code",
   "execution_count": 25,
   "id": "917bea8e",
   "metadata": {
    "execution": {
     "iopub.execute_input": "2022-11-17T17:10:50.134942Z",
     "iopub.status.busy": "2022-11-17T17:10:50.134488Z",
     "iopub.status.idle": "2022-11-17T17:10:50.140114Z",
     "shell.execute_reply": "2022-11-17T17:10:50.139131Z"
    },
    "papermill": {
     "duration": 0.586714,
     "end_time": "2022-11-17T17:10:50.142844",
     "exception": false,
     "start_time": "2022-11-17T17:10:49.556130",
     "status": "completed"
    },
    "tags": []
   },
   "outputs": [
    {
     "name": "stdout",
     "output_type": "stream",
     "text": [
      "6569 6569\n",
      "(6569, 128, 128, 3)\n"
     ]
    }
   ],
   "source": [
    "# train 개수, 차원 확인\n",
    "print(len(X_train), len(y_train))\n",
    "print(X_train.shape)"
   ]
  },
  {
   "cell_type": "code",
   "execution_count": 26,
   "id": "ba8b24a1",
   "metadata": {
    "execution": {
     "iopub.execute_input": "2022-11-17T17:10:51.368140Z",
     "iopub.status.busy": "2022-11-17T17:10:51.367723Z",
     "iopub.status.idle": "2022-11-17T17:10:51.372845Z",
     "shell.execute_reply": "2022-11-17T17:10:51.372032Z"
    },
    "papermill": {
     "duration": 0.595984,
     "end_time": "2022-11-17T17:10:51.376384",
     "exception": false,
     "start_time": "2022-11-17T17:10:50.780400",
     "status": "completed"
    },
    "tags": []
   },
   "outputs": [
    {
     "name": "stdout",
     "output_type": "stream",
     "text": [
      "1643 1643\n",
      "(1643, 128, 128, 3)\n"
     ]
    }
   ],
   "source": [
    "# validation 개수, 차원 확인\n",
    "print(len(X_valid), len(y_valid))\n",
    "print(X_valid.shape)"
   ]
  },
  {
   "cell_type": "code",
   "execution_count": 27,
   "id": "6e340851",
   "metadata": {
    "execution": {
     "iopub.execute_input": "2022-11-17T17:10:52.609817Z",
     "iopub.status.busy": "2022-11-17T17:10:52.609266Z",
     "iopub.status.idle": "2022-11-17T17:10:52.620310Z",
     "shell.execute_reply": "2022-11-17T17:10:52.619276Z"
    },
    "papermill": {
     "duration": 0.652464,
     "end_time": "2022-11-17T17:10:52.622553",
     "exception": false,
     "start_time": "2022-11-17T17:10:51.970089",
     "status": "completed"
    },
    "tags": []
   },
   "outputs": [],
   "source": [
    "# y 라벨링 (string -> int)\n",
    "le = LabelEncoder().fit(['Type 1', 'Type 2', 'Type 3'])\n",
    "y_train = le.transform(y_train)\n",
    "y_valid = le.transform(y_valid)\n",
    "\n",
    "y_train_onehot = to_categorical(y_train, num_classes=3)\n",
    "y_valid_onehot = to_categorical(y_valid, num_classes=3)"
   ]
  },
  {
   "cell_type": "code",
   "execution_count": 28,
   "id": "64838d70",
   "metadata": {
    "execution": {
     "iopub.execute_input": "2022-11-17T17:10:53.781238Z",
     "iopub.status.busy": "2022-11-17T17:10:53.780475Z",
     "iopub.status.idle": "2022-11-17T17:10:53.787982Z",
     "shell.execute_reply": "2022-11-17T17:10:53.786931Z"
    },
    "papermill": {
     "duration": 0.584508,
     "end_time": "2022-11-17T17:10:53.790240",
     "exception": false,
     "start_time": "2022-11-17T17:10:53.205732",
     "status": "completed"
    },
    "tags": []
   },
   "outputs": [
    {
     "data": {
      "text/plain": [
       "array([[0., 1., 0.],\n",
       "       [0., 0., 1.],\n",
       "       [0., 1., 0.],\n",
       "       [0., 1., 0.],\n",
       "       [0., 0., 1.]], dtype=float32)"
      ]
     },
     "execution_count": 28,
     "metadata": {},
     "output_type": "execute_result"
    }
   ],
   "source": [
    "y_train_onehot[:5]"
   ]
  },
  {
   "cell_type": "code",
   "execution_count": 29,
   "id": "f2a494bc",
   "metadata": {
    "execution": {
     "iopub.execute_input": "2022-11-17T17:10:55.005220Z",
     "iopub.status.busy": "2022-11-17T17:10:55.004468Z",
     "iopub.status.idle": "2022-11-17T17:10:55.011985Z",
     "shell.execute_reply": "2022-11-17T17:10:55.010781Z"
    },
    "papermill": {
     "duration": 0.586889,
     "end_time": "2022-11-17T17:10:55.014564",
     "exception": false,
     "start_time": "2022-11-17T17:10:54.427675",
     "status": "completed"
    },
    "tags": []
   },
   "outputs": [
    {
     "data": {
      "text/plain": [
       "array([[0., 1., 0.],\n",
       "       [0., 1., 0.],\n",
       "       [0., 1., 0.],\n",
       "       [0., 0., 1.],\n",
       "       [0., 1., 0.]], dtype=float32)"
      ]
     },
     "execution_count": 29,
     "metadata": {},
     "output_type": "execute_result"
    }
   ],
   "source": [
    "y_valid_onehot[:5]"
   ]
  },
  {
   "cell_type": "code",
   "execution_count": 30,
   "id": "f8aefbd8",
   "metadata": {
    "execution": {
     "iopub.execute_input": "2022-11-17T17:10:56.225320Z",
     "iopub.status.busy": "2022-11-17T17:10:56.224603Z",
     "iopub.status.idle": "2022-11-17T17:10:57.520764Z",
     "shell.execute_reply": "2022-11-17T17:10:57.518964Z"
    },
    "papermill": {
     "duration": 1.940458,
     "end_time": "2022-11-17T17:10:57.524185",
     "exception": false,
     "start_time": "2022-11-17T17:10:55.583727",
     "status": "completed"
    },
    "tags": []
   },
   "outputs": [
    {
     "name": "stderr",
     "output_type": "stream",
     "text": [
      "2022-11-17 17:10:56.354911: I tensorflow/core/common_runtime/process_util.cc:146] Creating new thread pool with default inter op setting: 2. Tune using inter_op_parallelism_threads for best performance.\n"
     ]
    },
    {
     "name": "stdout",
     "output_type": "stream",
     "text": [
      "Model: \"mobilenet_v1\"\n",
      "_________________________________________________________________\n",
      "Layer (type)                 Output Shape              Param #   \n",
      "=================================================================\n",
      "zero_padding2d (ZeroPadding2 multiple                  0         \n",
      "_________________________________________________________________\n",
      "conv2d (Conv2D)              multiple                  864       \n",
      "_________________________________________________________________\n",
      "batch_normalization (BatchNo multiple                  128       \n",
      "_________________________________________________________________\n",
      "re_lu (ReLU)                 multiple                  0         \n",
      "_________________________________________________________________\n",
      "sequential (Sequential)      (1, 113, 113, 64)         2720      \n",
      "_________________________________________________________________\n",
      "zero_padding2d_1 (ZeroPaddin multiple                  0         \n",
      "_________________________________________________________________\n",
      "sequential_1 (Sequential)    (1, 56, 56, 128)          28096     \n",
      "_________________________________________________________________\n",
      "zero_padding2d_2 (ZeroPaddin multiple                  0         \n",
      "_________________________________________________________________\n",
      "sequential_2 (Sequential)    (1, 28, 28, 256)          105344    \n",
      "_________________________________________________________________\n",
      "zero_padding2d_3 (ZeroPaddin multiple                  0         \n",
      "_________________________________________________________________\n",
      "sequential_3 (Sequential)    (1, 14, 14, 512)          1490688   \n",
      "_________________________________________________________________\n",
      "zero_padding2d_4 (ZeroPaddin multiple                  0         \n",
      "_________________________________________________________________\n",
      "sequential_4 (Sequential)    (1, 4, 4, 1024)           1601024   \n",
      "_________________________________________________________________\n",
      "global_average_pooling2d (Gl multiple                  0         \n",
      "_________________________________________________________________\n",
      "reshape (Reshape)            multiple                  0         \n",
      "_________________________________________________________________\n",
      "dropout (Dropout)            multiple                  0         \n",
      "_________________________________________________________________\n",
      "conv2d_14 (Conv2D)           multiple                  1025000   \n",
      "_________________________________________________________________\n",
      "reshape_1 (Reshape)          multiple                  0         \n",
      "=================================================================\n",
      "Total params: 4,253,864\n",
      "Trainable params: 4,231,976\n",
      "Non-trainable params: 21,888\n",
      "_________________________________________________________________\n"
     ]
    }
   ],
   "source": [
    "class Depthwise_bn_relu(tf.keras.Model):\n",
    "    def __init__(self, strides, padding):\n",
    "        super(Depthwise_bn_relu, self).__init__()\n",
    "\n",
    "        self.strides = strides\n",
    "        self.padding = padding\n",
    "\n",
    "        self.dw = tf.keras.layers.DepthwiseConv2D(kernel_size=(3, 3), \n",
    "                                                  strides=self.strides, \n",
    "                                                  padding=self.padding,\n",
    "                                                  use_bias=False)\n",
    "        self.bn = tf.keras.layers.BatchNormalization()\n",
    "        self.relu = tf.keras.layers.ReLU()\n",
    "\n",
    "    def call(self, x, training=False):\n",
    "        x = self.dw(x)\n",
    "        x = self.bn(x)\n",
    "        x = self.relu(x)\n",
    "\n",
    "        return x\n",
    "\n",
    "\n",
    "\n",
    "class Pointwise_bn_relu(tf.keras.Model):\n",
    "    def __init__(self, nb_filters):\n",
    "        super(Pointwise_bn_relu, self).__init__()\n",
    "\n",
    "        self.nb_filters = nb_filters\n",
    "\n",
    "        self.pw = tf.keras.layers.Conv2D(self.nb_filters,\n",
    "                                         kernel_size=(1, 1), \n",
    "                                         strides=(1, 1),  \n",
    "                                         padding='same', \n",
    "                                         use_bias=False)\n",
    "        self.bn = tf.keras.layers.BatchNormalization()\n",
    "        self.relu = tf.keras.layers.ReLU()\n",
    "\n",
    "    def call(self, x, training=False):\n",
    "        x = self.pw(x)\n",
    "        x = self.bn(x)\n",
    "        x = self.relu(x)\n",
    "\n",
    "        return x\n",
    "\n",
    "\n",
    "    \n",
    "\n",
    "\n",
    "class MobilenetV1(tf.keras.Model):\n",
    "    def __init__(self, nb_class):\n",
    "        super(MobilenetV1, self).__init__()\n",
    "\n",
    "        self.nb_class = nb_class\n",
    "        self.zero_pad = tf.keras.layers.ZeroPadding2D((2, 2))\n",
    "        self.conv = tf.keras.layers.Conv2D(32, (3, 3), strides=(2, 2), use_bias=False)\n",
    "        self.bn = tf.keras.layers.BatchNormalization()\n",
    "        self.relu = tf.keras.layers.ReLU()\n",
    "\n",
    "        self.block1 = tf.keras.Sequential()\n",
    "        self.block1.add(Depthwise_bn_relu(1, 'same'))\n",
    "        self.block1.add(Pointwise_bn_relu(64))\n",
    "        self.zero_pad_1 = tf.keras.layers.ZeroPadding2D(padding=((0, 1), (0, 1)))\n",
    "        \n",
    "        \n",
    "        self.block2 = tf.keras.Sequential()\n",
    "        self.block2.add(Depthwise_bn_relu(2, 'valid'))\n",
    "        self.block2.add(Pointwise_bn_relu(128))\n",
    "        self.block2.add(Depthwise_bn_relu(1, 'same'))\n",
    "        self.block2.add(Pointwise_bn_relu(128))\n",
    "        self.zero_pad_2 = tf.keras.layers.ZeroPadding2D(padding=((0, 1), (0, 1)))\n",
    "\n",
    "\n",
    "        self.block3 = tf.keras.Sequential()\n",
    "        self.block3.add(Depthwise_bn_relu(2, 'valid'))\n",
    "        self.block3.add(Pointwise_bn_relu(256))\n",
    "        self.block3.add(Depthwise_bn_relu(1, 'same'))\n",
    "        self.block3.add(Pointwise_bn_relu(256))\n",
    "        self.zero_pad_3 = tf.keras.layers.ZeroPadding2D(padding=((0, 1), (0, 1)))\n",
    "\n",
    "\n",
    "        self.block4 = tf.keras.Sequential()\n",
    "        self.block4.add(Depthwise_bn_relu(2, 'valid'))\n",
    "        self.block4.add(Pointwise_bn_relu(512))\n",
    "\n",
    "        for _ in range(5):\n",
    "            self.block4.add(Depthwise_bn_relu(1, 'same'))\n",
    "            self.block4.add(Pointwise_bn_relu(512))\n",
    "\n",
    "        self.zero_pad_4 = tf.keras.layers.ZeroPadding2D(padding=((0, 1), (0, 1)))\n",
    "\n",
    "\n",
    "\n",
    "        self.block5 = tf.keras.Sequential()\n",
    "        self.block5.add(Depthwise_bn_relu(2, 'valid'))\n",
    "        self.block5.add(Pointwise_bn_relu(1024))\n",
    "        self.block5.add(Depthwise_bn_relu(2, 'same'))\n",
    "        self.block5.add(Pointwise_bn_relu(1024))\n",
    "\n",
    "\n",
    "        self.gap = tf.keras.layers.GlobalAveragePooling2D()\n",
    "        self.reshape = tf.keras.layers.Reshape((1, 1, 1024))\n",
    "        self.drop = tf.keras.layers.Dropout(0.001)\n",
    "        self.conv_pred = tf.keras.layers.Conv2D(1000, \n",
    "                                                kernel_size=(1, 1), \n",
    "                                                strides=(1, 1), \n",
    "                                                padding='same', \n",
    "                                                activation='softmax')\n",
    "        self.reshape_2 = tf.keras.layers.Reshape((1000,))\n",
    "\n",
    "        \n",
    "\n",
    "\n",
    "    def call(self, x, training=False):\n",
    "        x = self.zero_pad(x)\n",
    "        x = self.conv(x)\n",
    "        x = self.bn(x)\n",
    "        x = self.relu(x)\n",
    "       \n",
    "        x = self.block1(x)\n",
    "        x = self.zero_pad_1(x)\n",
    "\n",
    "        x = self.block2(x)\n",
    "        x = self.zero_pad_2(x)\n",
    "\n",
    "        x = self.block3(x)\n",
    "        x = self.zero_pad_3(x)\n",
    "\n",
    "        x = self.block4(x)\n",
    "        x = self.zero_pad_4(x)\n",
    "\n",
    "        x = self.block5(x)\n",
    "\n",
    "        x = self.gap(x)\n",
    "        x = self.reshape(x)\n",
    "        x = self.drop(x)\n",
    "        x = self.conv_pred(x)\n",
    "        x = self.reshape_2(x)\n",
    "        \n",
    "        return x\n",
    "\n",
    "    \n",
    "\n",
    "\n",
    "model = MobilenetV1(1000)\n",
    "model.build((1, 224, 224, 3))\n",
    "model.summary()"
   ]
  },
  {
   "cell_type": "code",
   "execution_count": 31,
   "id": "d1eff811",
   "metadata": {
    "execution": {
     "iopub.execute_input": "2022-11-17T17:10:58.666834Z",
     "iopub.status.busy": "2022-11-17T17:10:58.665648Z",
     "iopub.status.idle": "2022-11-17T17:10:58.682918Z",
     "shell.execute_reply": "2022-11-17T17:10:58.681632Z"
    },
    "papermill": {
     "duration": 0.590448,
     "end_time": "2022-11-17T17:10:58.685512",
     "exception": false,
     "start_time": "2022-11-17T17:10:58.095064",
     "status": "completed"
    },
    "tags": []
   },
   "outputs": [],
   "source": [
    "model.compile(\n",
    "    loss = 'sparse_categorical_crossentropy'\n",
    "    ,metrics = ['accuracy']\n",
    ")"
   ]
  },
  {
   "cell_type": "code",
   "execution_count": 32,
   "id": "532cb90c",
   "metadata": {
    "execution": {
     "iopub.execute_input": "2022-11-17T17:10:59.892455Z",
     "iopub.status.busy": "2022-11-17T17:10:59.892071Z",
     "iopub.status.idle": "2022-11-17T17:10:59.897362Z",
     "shell.execute_reply": "2022-11-17T17:10:59.896332Z"
    },
    "papermill": {
     "duration": 0.582042,
     "end_time": "2022-11-17T17:10:59.899590",
     "exception": false,
     "start_time": "2022-11-17T17:10:59.317548",
     "status": "completed"
    },
    "tags": []
   },
   "outputs": [],
   "source": [
    "BATCH_SIZE = 16\n",
    "TRAIN_STEPS = len(train_df)//BATCH_SIZE\n",
    "VAL_STEPS = len(valid_df)//BATCH_SIZE"
   ]
  },
  {
   "cell_type": "code",
   "execution_count": 33,
   "id": "53a871a7",
   "metadata": {
    "execution": {
     "iopub.execute_input": "2022-11-17T17:11:01.104234Z",
     "iopub.status.busy": "2022-11-17T17:11:01.103854Z",
     "iopub.status.idle": "2022-11-17T17:11:01.110442Z",
     "shell.execute_reply": "2022-11-17T17:11:01.109644Z"
    },
    "papermill": {
     "duration": 0.580398,
     "end_time": "2022-11-17T17:11:01.112716",
     "exception": false,
     "start_time": "2022-11-17T17:11:00.532318",
     "status": "completed"
    },
    "tags": []
   },
   "outputs": [],
   "source": [
    "reduceLR = ReduceLROnPlateau(monitor='val_accuracy', patience=10, verbose= 1, mode='max', factor=  0.2, min_lr = 1e-5)\n",
    "\n",
    "early_stopping = EarlyStopping(monitor='val_accuracy', patience = 20, verbose=1, mode='max', restore_best_weights= True)\n",
    "\n",
    "checkpoint = ModelCheckpoint('movilenet_v1', monitor='val_accuracy', verbose=1,save_best_only=True, mode= 'max')"
   ]
  },
  {
   "cell_type": "code",
   "execution_count": 34,
   "id": "dbcd06a3",
   "metadata": {
    "execution": {
     "iopub.execute_input": "2022-11-17T17:11:02.325480Z",
     "iopub.status.busy": "2022-11-17T17:11:02.324655Z",
     "iopub.status.idle": "2022-11-17T18:14:34.180926Z",
     "shell.execute_reply": "2022-11-17T18:14:34.179538Z"
    },
    "papermill": {
     "duration": 3812.509468,
     "end_time": "2022-11-17T18:14:34.184621",
     "exception": false,
     "start_time": "2022-11-17T17:11:01.675153",
     "status": "completed"
    },
    "tags": []
   },
   "outputs": [
    {
     "name": "stderr",
     "output_type": "stream",
     "text": [
      "2022-11-17 17:11:05.176422: I tensorflow/compiler/mlir/mlir_graph_optimization_pass.cc:185] None of the MLIR Optimization Passes are enabled (registered 2)\n"
     ]
    },
    {
     "name": "stdout",
     "output_type": "stream",
     "text": [
      "Epoch 1/20\n",
      "410/410 [==============================] - 155s 360ms/step - loss: 1.1272 - accuracy: 0.4783 - val_loss: 1.0055 - val_accuracy: 0.5295\n",
      "\n",
      "Epoch 00001: val_accuracy improved from -inf to 0.52952, saving model to movilenet_v1\n"
     ]
    },
    {
     "name": "stderr",
     "output_type": "stream",
     "text": [
      "2022-11-17 17:13:52.679774: W tensorflow/python/util/util.cc:348] Sets are not currently considered sequences, but this may change in the future, so consider avoiding using them.\n"
     ]
    },
    {
     "name": "stdout",
     "output_type": "stream",
     "text": [
      "Epoch 2/20\n",
      "410/410 [==============================] - 149s 362ms/step - loss: 1.0062 - accuracy: 0.5130 - val_loss: 1.0792 - val_accuracy: 0.5100\n",
      "\n",
      "Epoch 00002: val_accuracy did not improve from 0.52952\n",
      "Epoch 3/20\n",
      "410/410 [==============================] - 146s 355ms/step - loss: 0.9780 - accuracy: 0.5259 - val_loss: 1.4483 - val_accuracy: 0.5295\n",
      "\n",
      "Epoch 00003: val_accuracy did not improve from 0.52952\n",
      "Epoch 4/20\n",
      "410/410 [==============================] - 147s 359ms/step - loss: 0.9641 - accuracy: 0.5201 - val_loss: 1.3225 - val_accuracy: 0.4005\n",
      "\n",
      "Epoch 00004: val_accuracy did not improve from 0.52952\n",
      "Epoch 5/20\n",
      "410/410 [==============================] - 141s 343ms/step - loss: 0.9403 - accuracy: 0.5285 - val_loss: 1.4130 - val_accuracy: 0.3731\n",
      "\n",
      "Epoch 00005: val_accuracy did not improve from 0.52952\n",
      "Epoch 6/20\n",
      "410/410 [==============================] - 144s 352ms/step - loss: 0.9281 - accuracy: 0.5323 - val_loss: 0.9396 - val_accuracy: 0.5563\n",
      "\n",
      "Epoch 00006: val_accuracy improved from 0.52952 to 0.55630, saving model to movilenet_v1\n",
      "Epoch 7/20\n",
      "410/410 [==============================] - 149s 363ms/step - loss: 0.9023 - accuracy: 0.5535 - val_loss: 1.1951 - val_accuracy: 0.3987\n",
      "\n",
      "Epoch 00007: val_accuracy did not improve from 0.55630\n",
      "Epoch 8/20\n",
      "410/410 [==============================] - 157s 383ms/step - loss: 0.8842 - accuracy: 0.5652 - val_loss: 1.0015 - val_accuracy: 0.5380\n",
      "\n",
      "Epoch 00008: val_accuracy did not improve from 0.55630\n",
      "Epoch 9/20\n",
      "410/410 [==============================] - 145s 354ms/step - loss: 0.8512 - accuracy: 0.5872 - val_loss: 0.9972 - val_accuracy: 0.5600\n",
      "\n",
      "Epoch 00009: val_accuracy improved from 0.55630 to 0.55995, saving model to movilenet_v1\n",
      "Epoch 10/20\n",
      "410/410 [==============================] - 145s 353ms/step - loss: 0.8005 - accuracy: 0.6209 - val_loss: 1.1515 - val_accuracy: 0.5478\n",
      "\n",
      "Epoch 00010: val_accuracy did not improve from 0.55995\n",
      "Epoch 11/20\n",
      "410/410 [==============================] - 153s 372ms/step - loss: 0.7478 - accuracy: 0.6595 - val_loss: 0.9527 - val_accuracy: 0.5867\n",
      "\n",
      "Epoch 00011: val_accuracy improved from 0.55995 to 0.58673, saving model to movilenet_v1\n",
      "Epoch 12/20\n",
      "410/410 [==============================] - 145s 352ms/step - loss: 0.6849 - accuracy: 0.6956 - val_loss: 1.1726 - val_accuracy: 0.5472\n",
      "\n",
      "Epoch 00012: val_accuracy did not improve from 0.58673\n",
      "Epoch 13/20\n",
      "410/410 [==============================] - 146s 356ms/step - loss: 0.6264 - accuracy: 0.7265 - val_loss: 1.0281 - val_accuracy: 0.5600\n",
      "\n",
      "Epoch 00013: val_accuracy did not improve from 0.58673\n",
      "Epoch 14/20\n",
      "410/410 [==============================] - 145s 354ms/step - loss: 0.5680 - accuracy: 0.7655 - val_loss: 1.0268 - val_accuracy: 0.5940\n",
      "\n",
      "Epoch 00014: val_accuracy improved from 0.58673 to 0.59404, saving model to movilenet_v1\n",
      "Epoch 15/20\n",
      "410/410 [==============================] - 143s 348ms/step - loss: 0.4973 - accuracy: 0.7919 - val_loss: 1.0557 - val_accuracy: 0.6086\n",
      "\n",
      "Epoch 00015: val_accuracy improved from 0.59404 to 0.60864, saving model to movilenet_v1\n",
      "Epoch 16/20\n",
      "410/410 [==============================] - 146s 357ms/step - loss: 0.4430 - accuracy: 0.8231 - val_loss: 1.4031 - val_accuracy: 0.5740\n",
      "\n",
      "Epoch 00016: val_accuracy did not improve from 0.60864\n",
      "Epoch 17/20\n",
      "410/410 [==============================] - 145s 353ms/step - loss: 0.3923 - accuracy: 0.8485 - val_loss: 1.2243 - val_accuracy: 0.5953\n",
      "\n",
      "Epoch 00017: val_accuracy did not improve from 0.60864\n",
      "Epoch 18/20\n",
      "410/410 [==============================] - 145s 354ms/step - loss: 0.3642 - accuracy: 0.8585 - val_loss: 1.4573 - val_accuracy: 0.5526\n",
      "\n",
      "Epoch 00018: val_accuracy did not improve from 0.60864\n",
      "Epoch 19/20\n",
      "410/410 [==============================] - 148s 360ms/step - loss: 0.3082 - accuracy: 0.8833 - val_loss: 1.4339 - val_accuracy: 0.5898\n",
      "\n",
      "Epoch 00019: val_accuracy did not improve from 0.60864\n",
      "Epoch 20/20\n",
      "410/410 [==============================] - 145s 354ms/step - loss: 0.2939 - accuracy: 0.8848 - val_loss: 1.8099 - val_accuracy: 0.5746\n",
      "\n",
      "Epoch 00020: val_accuracy did not improve from 0.60864\n"
     ]
    }
   ],
   "source": [
    "# Non-augmentation\n",
    "train_gen = ImageDataGenerator().flow(X_train, y_train, batch_size = BATCH_SIZE)\n",
    "valid_gen = ImageDataGenerator().flow(X_valid, y_valid, batch_size = BATCH_SIZE)\n",
    "\n",
    "history_mov1 = model.fit(\n",
    "    train_gen\n",
    "    , steps_per_epoch = TRAIN_STEPS\n",
    "    , validation_data = valid_gen\n",
    "    , epochs = 20\n",
    "    , callbacks = [reduceLR, early_stopping, checkpoint]\n",
    ")"
   ]
  },
  {
   "cell_type": "code",
   "execution_count": 35,
   "id": "0cfa8af9",
   "metadata": {
    "execution": {
     "iopub.execute_input": "2022-11-17T18:14:36.489461Z",
     "iopub.status.busy": "2022-11-17T18:14:36.488645Z",
     "iopub.status.idle": "2022-11-17T18:14:36.887634Z",
     "shell.execute_reply": "2022-11-17T18:14:36.886434Z"
    },
    "papermill": {
     "duration": 1.591346,
     "end_time": "2022-11-17T18:14:36.890100",
     "exception": false,
     "start_time": "2022-11-17T18:14:35.298754",
     "status": "completed"
    },
    "tags": []
   },
   "outputs": [
    {
     "data": {
      "image/png": "[encoded data removed]",
      "text/plain": [
       "<Figure size 1080x360 with 2 Axes>"
      ]
     },
     "metadata": {
      "needs_background": "light"
     },
     "output_type": "display_data"
    }
   ],
   "source": [
    "plt.figure(figsize=(15, 5))\n",
    "\n",
    "plt.subplot(1, 2, 1)\n",
    "plt.plot(history_mov1.history['accuracy'], label='Training Accuracy')\n",
    "plt.plot(history_mov1.history['val_accuracy'], label='Validation Accuracy')\n",
    "plt.legend(loc='lower right')\n",
    "plt.title('Training and Validation Accuracy')\n",
    "\n",
    "plt.subplot(1, 2, 2)\n",
    "plt.plot(history_mov1.history['loss'], label='Training Loss')\n",
    "plt.plot(history_mov1.history['val_loss'], label='Validation Loss')\n",
    "plt.legend(loc='upper right')\n",
    "plt.title('Training and Validation Loss')\n",
    "\n",
    "plt.show()"
   ]
  },
  {
   "cell_type": "code",
   "execution_count": 36,
   "id": "e64d7af5",
   "metadata": {
    "execution": {
     "iopub.execute_input": "2022-11-17T18:14:39.199178Z",
     "iopub.status.busy": "2022-11-17T18:14:39.198762Z",
     "iopub.status.idle": "2022-11-17T18:14:41.112724Z",
     "shell.execute_reply": "2022-11-17T18:14:41.111424Z"
    },
    "papermill": {
     "duration": 3.123734,
     "end_time": "2022-11-17T18:14:41.115826",
     "exception": false,
     "start_time": "2022-11-17T18:14:37.992092",
     "status": "completed"
    },
    "tags": []
   },
   "outputs": [],
   "source": [
    "train_datagen = ImageDataGenerator(rescale=1/255,\n",
    "                     rotation_range=20,\n",
    "                     width_shift_range=0.1,\n",
    "                     height_shift_range=0.1,\n",
    "                     zoom_range=0.1,\n",
    "                     vertical_flip=True,\n",
    "                     horizontal_flip=True,\n",
    "                     fill_mode='nearest')\n",
    "\n",
    "\n",
    "train_gen_ag = train_datagen.flow(X_train, y_train, batch_size = BATCH_SIZE)"
   ]
  },
  {
   "cell_type": "code",
   "execution_count": 37,
   "id": "7b7435b1",
   "metadata": {
    "execution": {
     "iopub.execute_input": "2022-11-17T18:14:43.484492Z",
     "iopub.status.busy": "2022-11-17T18:14:43.484049Z",
     "iopub.status.idle": "2022-11-17T18:14:43.491076Z",
     "shell.execute_reply": "2022-11-17T18:14:43.490158Z"
    },
    "papermill": {
     "duration": 1.142065,
     "end_time": "2022-11-17T18:14:43.493292",
     "exception": false,
     "start_time": "2022-11-17T18:14:42.351227",
     "status": "completed"
    },
    "tags": []
   },
   "outputs": [],
   "source": [
    "reduceLR = ReduceLROnPlateau(monitor='val_accuracy', patience=10, verbose= 1, mode='max', factor=  0.2, min_lr = 1e-5)\n",
    "\n",
    "early_stopping = EarlyStopping(monitor='val_accuracy', patience = 20, verbose=1, mode='max', restore_best_weights= True)\n",
    "\n",
    "checkpoint_ag = ModelCheckpoint('movilenet_v1_ag', monitor='val_accuracy', verbose=1,save_best_only=True, mode= 'max')"
   ]
  },
  {
   "cell_type": "code",
   "execution_count": 38,
   "id": "a13f6d26",
   "metadata": {
    "execution": {
     "iopub.execute_input": "2022-11-17T18:14:45.828868Z",
     "iopub.status.busy": "2022-11-17T18:14:45.827514Z",
     "iopub.status.idle": "2022-11-17T19:17:49.995249Z",
     "shell.execute_reply": "2022-11-17T19:17:49.994118Z"
    },
    "papermill": {
     "duration": 3785.275976,
     "end_time": "2022-11-17T19:17:49.998747",
     "exception": false,
     "start_time": "2022-11-17T18:14:44.722771",
     "status": "completed"
    },
    "tags": []
   },
   "outputs": [
    {
     "name": "stdout",
     "output_type": "stream",
     "text": [
      "Epoch 1/20\n",
      "410/410 [==============================] - 168s 410ms/step - loss: 0.9815 - accuracy: 0.5274 - val_loss: 11.1158 - val_accuracy: 0.3021\n",
      "\n",
      "Epoch 00001: val_accuracy improved from -inf to 0.30208, saving model to movilenet_v1_ag\n",
      "Epoch 2/20\n",
      "410/410 [==============================] - 169s 411ms/step - loss: 0.9388 - accuracy: 0.5332 - val_loss: 11.3677 - val_accuracy: 0.2947\n",
      "\n",
      "Epoch 00002: val_accuracy did not improve from 0.30208\n",
      "Epoch 3/20\n",
      "410/410 [==============================] - 169s 412ms/step - loss: 0.9259 - accuracy: 0.5292 - val_loss: 7.5752 - val_accuracy: 0.5300\n",
      "\n",
      "Epoch 00003: val_accuracy improved from 0.30208 to 0.53002, saving model to movilenet_v1_ag\n",
      "Epoch 4/20\n",
      "410/410 [==============================] - 168s 410ms/step - loss: 0.9206 - accuracy: 0.5396 - val_loss: 10.6286 - val_accuracy: 0.3297\n",
      "\n",
      "Epoch 00004: val_accuracy did not improve from 0.53002\n",
      "Epoch 5/20\n",
      "410/410 [==============================] - 168s 410ms/step - loss: 0.9149 - accuracy: 0.5420 - val_loss: 7.5950 - val_accuracy: 0.5288\n",
      "\n",
      "Epoch 00005: val_accuracy did not improve from 0.53002\n",
      "Epoch 6/20\n",
      "410/410 [==============================] - 172s 418ms/step - loss: 0.9056 - accuracy: 0.5533 - val_loss: 11.3875 - val_accuracy: 0.2935\n",
      "\n",
      "Epoch 00006: val_accuracy did not improve from 0.53002\n",
      "Epoch 7/20\n",
      "410/410 [==============================] - 172s 420ms/step - loss: 0.9024 - accuracy: 0.5596 - val_loss: 7.6048 - val_accuracy: 0.5282\n",
      "\n",
      "Epoch 00007: val_accuracy did not improve from 0.53002\n",
      "Epoch 8/20\n",
      "410/410 [==============================] - 173s 421ms/step - loss: 0.8948 - accuracy: 0.5620 - val_loss: 7.5950 - val_accuracy: 0.5288\n",
      "\n",
      "Epoch 00008: val_accuracy did not improve from 0.53002\n",
      "Epoch 9/20\n",
      "410/410 [==============================] - 171s 417ms/step - loss: 0.8938 - accuracy: 0.5626 - val_loss: 7.5752 - val_accuracy: 0.5300\n",
      "\n",
      "Epoch 00009: val_accuracy did not improve from 0.53002\n",
      "Epoch 10/20\n",
      "410/410 [==============================] - 172s 419ms/step - loss: 0.8879 - accuracy: 0.5698 - val_loss: 7.5950 - val_accuracy: 0.5288\n",
      "\n",
      "Epoch 00010: val_accuracy did not improve from 0.53002\n",
      "Epoch 11/20\n",
      "410/410 [==============================] - 170s 415ms/step - loss: 0.8815 - accuracy: 0.5709 - val_loss: 7.5653 - val_accuracy: 0.5306\n",
      "\n",
      "Epoch 00011: val_accuracy improved from 0.53002 to 0.53064, saving model to movilenet_v1_ag\n",
      "Epoch 12/20\n",
      "410/410 [==============================] - 176s 428ms/step - loss: 0.8785 - accuracy: 0.5715 - val_loss: 7.6246 - val_accuracy: 0.5270\n",
      "\n",
      "Epoch 00012: val_accuracy did not improve from 0.53064\n",
      "Epoch 13/20\n",
      "410/410 [==============================] - 171s 417ms/step - loss: 0.8707 - accuracy: 0.5764 - val_loss: 7.5950 - val_accuracy: 0.5288\n",
      "\n",
      "Epoch 00013: val_accuracy did not improve from 0.53064\n",
      "Epoch 14/20\n",
      "410/410 [==============================] - 170s 414ms/step - loss: 0.8656 - accuracy: 0.5820 - val_loss: 7.5752 - val_accuracy: 0.5300\n",
      "\n",
      "Epoch 00014: val_accuracy did not improve from 0.53064\n",
      "Epoch 15/20\n",
      "410/410 [==============================] - 170s 413ms/step - loss: 0.8671 - accuracy: 0.5750 - val_loss: 7.5653 - val_accuracy: 0.5306\n",
      "\n",
      "Epoch 00015: val_accuracy did not improve from 0.53064\n",
      "Epoch 16/20\n",
      "410/410 [==============================] - 171s 417ms/step - loss: 0.8678 - accuracy: 0.5834 - val_loss: 7.5950 - val_accuracy: 0.5288\n",
      "\n",
      "Epoch 00016: val_accuracy did not improve from 0.53064\n",
      "Epoch 17/20\n",
      "410/410 [==============================] - 173s 422ms/step - loss: 0.8600 - accuracy: 0.5849 - val_loss: 7.5851 - val_accuracy: 0.5294\n",
      "\n",
      "Epoch 00017: val_accuracy did not improve from 0.53064\n",
      "Epoch 18/20\n",
      "410/410 [==============================] - 170s 415ms/step - loss: 0.8747 - accuracy: 0.5906 - val_loss: 7.6048 - val_accuracy: 0.5282\n",
      "\n",
      "Epoch 00018: val_accuracy did not improve from 0.53064\n",
      "Epoch 19/20\n",
      "410/410 [==============================] - 171s 416ms/step - loss: 0.8606 - accuracy: 0.5881 - val_loss: 7.6628 - val_accuracy: 0.5239\n",
      "\n",
      "Epoch 00019: val_accuracy did not improve from 0.53064\n",
      "Epoch 20/20\n",
      "410/410 [==============================] - 173s 422ms/step - loss: 0.8544 - accuracy: 0.5868 - val_loss: 7.5851 - val_accuracy: 0.5294\n",
      "\n",
      "Epoch 00020: val_accuracy did not improve from 0.53064\n"
     ]
    }
   ],
   "source": [
    "history_mov1_ag = model.fit(\n",
    "    train_gen_ag\n",
    "    , steps_per_epoch= TRAIN_STEPS\n",
    "    , validation_data=valid_gen\n",
    "    , validation_steps=VAL_STEPS\n",
    "    , epochs= 20\n",
    "    , callbacks= [reduceLR, early_stopping, checkpoint_ag]\n",
    ")"
   ]
  },
  {
   "cell_type": "code",
   "execution_count": 39,
   "id": "efc8526e",
   "metadata": {
    "execution": {
     "iopub.execute_input": "2022-11-17T19:17:53.437041Z",
     "iopub.status.busy": "2022-11-17T19:17:53.436271Z",
     "iopub.status.idle": "2022-11-17T19:17:54.233667Z",
     "shell.execute_reply": "2022-11-17T19:17:54.231762Z"
    },
    "papermill": {
     "duration": 2.514932,
     "end_time": "2022-11-17T19:17:54.236380",
     "exception": false,
     "start_time": "2022-11-17T19:17:51.721448",
     "status": "completed"
    },
    "tags": []
   },
   "outputs": [
    {
     "data": {
      "image/png": "[encoded data removed]",
      "text/plain": [
       "<Figure size 1440x1152 with 4 Axes>"
      ]
     },
     "metadata": {
      "needs_background": "light"
     },
     "output_type": "display_data"
    }
   ],
   "source": [
    "plt.figure(figsize=(20, 16))\n",
    "\n",
    "plt.subplot(2, 2, 1)\n",
    "plt.plot(history_mov1.history['accuracy'], label='Training Accuracy')\n",
    "plt.plot(history_mov1.history['val_accuracy'], label='Validation Accuracy')\n",
    "plt.legend(loc='lower right')\n",
    "plt.title('Non-Augmentation Training and Validation Accuracy')\n",
    "\n",
    "plt.subplot(2, 2, 2)\n",
    "plt.plot(history_mov1.history['loss'], label='Training Loss')\n",
    "plt.plot(history_mov1.history['val_loss'], label='Validation Loss')\n",
    "plt.legend(loc='upper right')\n",
    "plt.title('Non-Augmentation Training and Validation Loss')\n",
    "\n",
    "plt.subplot(2, 2, 3)\n",
    "plt.plot(history_mov1_ag.history['accuracy'], label='Training Accuracy')\n",
    "plt.plot(history_mov1_ag.history['val_accuracy'], label='Validation Accuracy')\n",
    "plt.legend(loc='lower right')\n",
    "plt.title('Augmentation Training and Validation Accuracy')\n",
    "\n",
    "plt.subplot(2, 2, 4)\n",
    "plt.plot(history_mov1_ag.history['loss'], label='Training Loss')\n",
    "plt.plot(history_mov1_ag.history['val_loss'], label='Validation Loss')\n",
    "plt.legend(loc='upper right')\n",
    "plt.title('Augmentation Training and Validation Loss')\n",
    "\n",
    "plt.show()"
   ]
  },
  {
   "cell_type": "code",
   "execution_count": 40,
   "id": "5f144d5f",
   "metadata": {
    "collapsed": false,
    "execution": {
     "iopub.execute_input": "2022-11-17T19:17:57.657905Z",
     "iopub.status.busy": "2022-11-17T19:17:57.657173Z",
     "iopub.status.idle": "2022-11-17T19:17:57.665061Z",
     "shell.execute_reply": "2022-11-17T19:17:57.663889Z"
    },
    "jupyter": {
     "outputs_hidden": false
    },
    "papermill": {
     "duration": 1.704509,
     "end_time": "2022-11-17T19:17:57.667169",
     "exception": false,
     "start_time": "2022-11-17T19:17:55.962660",
     "status": "completed"
    },
    "pycharm": {
     "name": "#%%\n"
    },
    "tags": []
   },
   "outputs": [],
   "source": [
    "#이미지 오류남\n",
    "\n",
    "#stage1 = y_train[y_train == 0].index\n",
    "#stage2 = y_train[y_train == 1].index\n",
    "#stage3 = y_train[y_train == 2].index\n",
    "\n",
    "#\n",
    "\n",
    "#stage1 = np.where(y_train == 0)\n",
    "#type(stage1)\n",
    "#stageq = stage1[0]\n",
    "\n",
    "#stage2 = np.where(y_train == 1)\n",
    "#type(stage2)\n",
    "#stagew = stage2[0]\n",
    "\n",
    "#stage3 = np.where(y_train == 2)\n",
    "#type(stage3)\n",
    "#stagee = stage3[0]\n",
    "\n",
    "#\n",
    "\n",
    "#plt.figure(figsize=(20, 20))\n",
    "\n",
    "#for i in range(16):\n",
    "#    plt.subplot(4, 4, i+1)\n",
    "#    plt.suptitle('Type1 Images', fontsize=20) # 하나의 큰 제목 설정\n",
    "#    plt.imshow(X_train[stageq[i]])\n",
    "#    plt.title('Type1')\n",
    "#    plt.subplots_adjust(hspace=0.5)\n",
    "#    plt.axis(False)\n",
    "#plt.show()\n",
    "\n",
    "#\n",
    "\n",
    "#plt.figure(figsize=(20, 20))\n",
    "\n",
    "#for i in range(16):\n",
    "#    plt.subplot(4, 4, i+1)\n",
    "#    plt.suptitle('type2 Images', fontsize=20) # 하나의 큰 제목 설정\n",
    "#    plt.imshow(X_train[stagew[i]])\n",
    "#    plt.title('type2')\n",
    "#    plt.subplots_adjust(hspace=0.5)\n",
    "#    plt.axis(False)\n",
    "#plt.savefig('type2.png', dpi=300)\n",
    "#plt.show()\n",
    "\n",
    "#\n",
    "\n",
    "#plt.figure(figsize=(20, 20))\n",
    "#\n",
    "#for i in range(16):\n",
    "#    plt.subplot(4, 4, i+1)\n",
    "#    plt.suptitle('type3 Images', fontsize=20) # 하나의 큰 제목 설정\n",
    "#    plt.imshow(X_train[stagee[i]])\n",
    "#    plt.title('type3')\n",
    "#    plt.subplots_adjust(hspace=0.5)\n",
    "#    plt.axis(False)\n",
    "#plt.savefig('type3.png', dpi=300)\n",
    "#plt.show()"
   ]
  },
  {
   "cell_type": "code",
   "execution_count": null,
   "id": "24df2909",
   "metadata": {
    "papermill": {
     "duration": 1.721604,
     "end_time": "2022-11-17T19:18:01.092360",
     "exception": false,
     "start_time": "2022-11-17T19:17:59.370756",
     "status": "completed"
    },
    "tags": []
   },
   "outputs": [],
   "source": []
  },
  {
   "cell_type": "code",
   "execution_count": 41,
   "id": "e3a6b6fa",
   "metadata": {
    "execution": {
     "iopub.execute_input": "2022-11-17T19:18:04.437873Z",
     "iopub.status.busy": "2022-11-17T19:18:04.437441Z",
     "iopub.status.idle": "2022-11-17T19:18:04.443453Z",
     "shell.execute_reply": "2022-11-17T19:18:04.442375Z"
    },
    "papermill": {
     "duration": 1.63445,
     "end_time": "2022-11-17T19:18:04.445703",
     "exception": false,
     "start_time": "2022-11-17T19:18:02.811253",
     "status": "completed"
    },
    "pycharm": {
     "name": "#%%\n"
    },
    "tags": []
   },
   "outputs": [],
   "source": [
    "# 참고용\n",
    "# double\n",
    "\n",
    "#history_df_cnn = pd.DataFrame(historycnn.history)\n",
    "#history_df_dnn = pd.DataFrame(historydnn.history)\n",
    "\n",
    "#plt.figure(figsize= (15,6))\n",
    "#plt.subplot(1,2,1)\n",
    "#plt.plot(history_df_cnn['accuracy'], label= 'cnn_accuracy' )\n",
    "## plt.plot(history_df_cnn['val_accuracy'], label= 'val_accuracy')\n",
    "#plt.plot(history_df_dnn['accuracy'], label= 'dnn_accuracy', color='limegreen' )\n",
    "## plt.plot(history_df_dnn['val_accuracy'], label= 'val_accuracy', color='limegreen')\n",
    "## history_df[['acc', 'val_acc']]\n",
    "#plt.xlabel('Epochs')\n",
    "#plt.ylabel('Accuracy')\n",
    "#plt.title('Training and Validation Accuracy History')\n",
    "#plt.legend()\n",
    "\n",
    "# display history of loss\n",
    "#plt.subplot(1,2,2)\n",
    "#plt.plot(history_df_cnn['loss'], label= 'cnn_loss')\n",
    "##plt.plot(history_df_cnn['val_loss'], label= 'val_loss')\n",
    "#plt.plot(history_df_dnn['loss'], label= 'dnn_loss', color='limegreen')\n",
    "##plt.plot(history_df_dnn['val_loss'], label= 'val_loss', color='limegreen')\n",
    "# history_df[['loss', 'val_loss']].plot()\n",
    "#plt.xlabel('Epochs')\n",
    "#plt.ylabel('Loss')\n",
    "#plt.title('Training and Validation Loss History')\n",
    "#plt.legend()\n",
    "#plt.savefig('fig2.png', dpi=300)\n",
    "#plt.show()\n"
   ]
  },
  {
   "cell_type": "code",
   "execution_count": 42,
   "id": "243cbb87",
   "metadata": {
    "execution": {
     "iopub.execute_input": "2022-11-17T19:18:07.914419Z",
     "iopub.status.busy": "2022-11-17T19:18:07.914008Z",
     "iopub.status.idle": "2022-11-17T19:18:07.919406Z",
     "shell.execute_reply": "2022-11-17T19:18:07.918493Z"
    },
    "papermill": {
     "duration": 1.733533,
     "end_time": "2022-11-17T19:18:07.921777",
     "exception": false,
     "start_time": "2022-11-17T19:18:06.188244",
     "status": "completed"
    },
    "tags": []
   },
   "outputs": [],
   "source": [
    "#plt.figure(figsize= (6,6))\n",
    "#plt.plot(history_df_cnn['accuracy'], label= 'cnn_accuracy' )\n",
    "##plt.plot(history_df_cnn['val_loss'], label= 'val_loss')\n",
    "##plt.plot(history_df_dnn['loss'], label= 'dnn_loss', color='limegreen')\n",
    "##plt.plot(history_df_dnn['val_loss'], label= 'val_loss', color='limegreen')\n",
    "## history_df[['loss', 'val_loss']].plot()\n",
    "#plt.xlabel('Epochs')\n",
    "#plt.ylabel('Loss')\n",
    "#plt.title('Training and Validation Loss History')\n",
    "#plt.legend()\n",
    "#plt.savefig('cnnaccuracy.png', dpi=300)\n",
    "#plt.show()"
   ]
  },
  {
   "cell_type": "markdown",
   "id": "8dccdebd",
   "metadata": {
    "papermill": {
     "duration": 1.713047,
     "end_time": "2022-11-17T19:18:11.250931",
     "exception": false,
     "start_time": "2022-11-17T19:18:09.537884",
     "status": "completed"
    },
    "tags": []
   },
   "source": [
    "# test data (2차에 활용)"
   ]
  },
  {
   "cell_type": "code",
   "execution_count": 43,
   "id": "4d158c94",
   "metadata": {
    "execution": {
     "iopub.execute_input": "2022-11-17T19:18:14.687390Z",
     "iopub.status.busy": "2022-11-17T19:18:14.686939Z",
     "iopub.status.idle": "2022-11-17T19:18:14.691801Z",
     "shell.execute_reply": "2022-11-17T19:18:14.690871Z"
    },
    "papermill": {
     "duration": 1.726391,
     "end_time": "2022-11-17T19:18:14.694289",
     "exception": false,
     "start_time": "2022-11-17T19:18:12.967898",
     "status": "completed"
    },
    "tags": []
   },
   "outputs": [],
   "source": [
    "# test data\n",
    "\n",
    "#test_y = pd.read_csv(\"../input/intel-mobileodt-cervical-cancer-screening/solution_stg1_release.csv\")\n",
    "#test_y.loc[1,['Type_1','Type_2','Type_3']]\n",
    "\n",
    "#root_dir = '../input/intel-mobileodt-cervical-cancer-screening'\n",
    "#test_dir = os.path.join(root_dir,'test', 'test')\n",
    "\n",
    "#test_type = []\n",
    "#test_features = []\n",
    "#i=0\n",
    "#for fn in test_y[['image_name']].to_numpy():\n",
    "#    for filename in fn:\n",
    "#        filepath = os.path.join(test_dir,filename)\n",
    "#        #print(filepath)\n",
    "#        img = cv2.imread(filepath)\n",
    "#        resized_img = cv2.resize(img, (180, 180))\n",
    "#        test_features.append(np.array(resized_img))\n",
    "#        test_type.append(np.array(test_y.loc[i,['Type_1','Type_2','Type_3']]))\n",
    "#        i=i+1\n",
    "    \n",
    "#print( len(test_features))"
   ]
  },
  {
   "cell_type": "code",
   "execution_count": 44,
   "id": "1bc1eaf3",
   "metadata": {
    "execution": {
     "iopub.execute_input": "2022-11-17T19:18:18.065468Z",
     "iopub.status.busy": "2022-11-17T19:18:18.064626Z",
     "iopub.status.idle": "2022-11-17T19:18:18.070139Z",
     "shell.execute_reply": "2022-11-17T19:18:18.068965Z"
    },
    "papermill": {
     "duration": 1.746576,
     "end_time": "2022-11-17T19:18:18.072481",
     "exception": false,
     "start_time": "2022-11-17T19:18:16.325905",
     "status": "completed"
    },
    "tags": []
   },
   "outputs": [],
   "source": [
    "#test_y = pd.read_csv(\"../input/intel-mobileodt-cervical-cancer-screening/solution_stg1_release.csv\")\n",
    "#test_y.loc[1,['Type_1','Type_2','Type_3']]"
   ]
  },
  {
   "cell_type": "code",
   "execution_count": 45,
   "id": "91055804",
   "metadata": {
    "execution": {
     "iopub.execute_input": "2022-11-17T19:18:21.632635Z",
     "iopub.status.busy": "2022-11-17T19:18:21.631212Z",
     "iopub.status.idle": "2022-11-17T19:18:21.636718Z",
     "shell.execute_reply": "2022-11-17T19:18:21.635174Z"
    },
    "papermill": {
     "duration": 1.790664,
     "end_time": "2022-11-17T19:18:21.639012",
     "exception": false,
     "start_time": "2022-11-17T19:18:19.848348",
     "status": "completed"
    },
    "tags": []
   },
   "outputs": [],
   "source": [
    "#y_test = test_y.loc[:,['Type_1','Type_2','Type_3']]\n",
    "#y_test\n",
    "#import tensorflow as tf"
   ]
  },
  {
   "cell_type": "code",
   "execution_count": 46,
   "id": "4ab3a601",
   "metadata": {
    "execution": {
     "iopub.execute_input": "2022-11-17T19:18:25.139385Z",
     "iopub.status.busy": "2022-11-17T19:18:25.138405Z",
     "iopub.status.idle": "2022-11-17T19:18:25.143834Z",
     "shell.execute_reply": "2022-11-17T19:18:25.142682Z"
    },
    "papermill": {
     "duration": 1.738678,
     "end_time": "2022-11-17T19:18:25.146322",
     "exception": false,
     "start_time": "2022-11-17T19:18:23.407644",
     "status": "completed"
    },
    "tags": []
   },
   "outputs": [],
   "source": [
    "#y_train_onehot"
   ]
  },
  {
   "cell_type": "code",
   "execution_count": 47,
   "id": "148fb8fd",
   "metadata": {
    "execution": {
     "iopub.execute_input": "2022-11-17T19:18:28.524177Z",
     "iopub.status.busy": "2022-11-17T19:18:28.523772Z",
     "iopub.status.idle": "2022-11-17T19:18:28.528613Z",
     "shell.execute_reply": "2022-11-17T19:18:28.527434Z"
    },
    "papermill": {
     "duration": 1.747298,
     "end_time": "2022-11-17T19:18:28.530899",
     "exception": false,
     "start_time": "2022-11-17T19:18:26.783601",
     "status": "completed"
    },
    "tags": []
   },
   "outputs": [],
   "source": [
    "#print(y_test)\n",
    "#list = []\n",
    "#for d in y_test.index:\n",
    "#    res = y_test.loc[d,:].values.tolist()\n",
    "#    list.append(res)"
   ]
  },
  {
   "cell_type": "code",
   "execution_count": 48,
   "id": "d5a969a1",
   "metadata": {
    "execution": {
     "iopub.execute_input": "2022-11-17T19:18:31.958175Z",
     "iopub.status.busy": "2022-11-17T19:18:31.957320Z",
     "iopub.status.idle": "2022-11-17T19:18:31.962320Z",
     "shell.execute_reply": "2022-11-17T19:18:31.961389Z"
    },
    "papermill": {
     "duration": 1.719738,
     "end_time": "2022-11-17T19:18:31.964749",
     "exception": false,
     "start_time": "2022-11-17T19:18:30.245011",
     "status": "completed"
    },
    "tags": []
   },
   "outputs": [],
   "source": [
    "#y_test = np.array(list)\n",
    "#y_test"
   ]
  },
  {
   "cell_type": "code",
   "execution_count": 49,
   "id": "befb3262",
   "metadata": {
    "execution": {
     "iopub.execute_input": "2022-11-17T19:18:35.305974Z",
     "iopub.status.busy": "2022-11-17T19:18:35.305521Z",
     "iopub.status.idle": "2022-11-17T19:18:35.310629Z",
     "shell.execute_reply": "2022-11-17T19:18:35.309365Z"
    },
    "papermill": {
     "duration": 1.616779,
     "end_time": "2022-11-17T19:18:35.313027",
     "exception": false,
     "start_time": "2022-11-17T19:18:33.696248",
     "status": "completed"
    },
    "tags": []
   },
   "outputs": [],
   "source": [
    "# normalize test features\n",
    "#test_X = np.array(test_features)\n",
    "#X_test = test_X/255"
   ]
  },
  {
   "cell_type": "code",
   "execution_count": 50,
   "id": "56ea11ed",
   "metadata": {
    "execution": {
     "iopub.execute_input": "2022-11-17T19:18:38.774027Z",
     "iopub.status.busy": "2022-11-17T19:18:38.773592Z",
     "iopub.status.idle": "2022-11-17T19:18:38.778544Z",
     "shell.execute_reply": "2022-11-17T19:18:38.777338Z"
    },
    "papermill": {
     "duration": 1.757552,
     "end_time": "2022-11-17T19:18:38.781018",
     "exception": false,
     "start_time": "2022-11-17T19:18:37.023466",
     "status": "completed"
    },
    "tags": []
   },
   "outputs": [],
   "source": [
    "#print(cnn.evaluate(X_test, y_test))\n",
    "#print(dnn.evaluate(X_test, y_test))"
   ]
  }
 ],
 "metadata": {
  "kernelspec": {
   "display_name": "Python 3",
   "language": "python",
   "name": "python3"
  },
  "language_info": {
   "codemirror_mode": {
    "name": "ipython",
    "version": 3
   },
   "file_extension": ".py",
   "mimetype": "text/x-python",
   "name": "python",
   "nbconvert_exporter": "python",
   "pygments_lexer": "ipython3",
   "version": "3.7.12"
  },
  "papermill": {
   "default_parameters": {},
   "duration": 9779.015709,
   "end_time": "2022-11-17T19:18:44.202168",
   "environment_variables": {},
   "exception": null,
   "input_path": "__notebook__.ipynb",
   "output_path": "__notebook__.ipynb",
   "parameters": {},
   "start_time": "2022-11-17T16:35:45.186459",
   "version": "2.3.4"
  }
 },
 "nbformat": 4,
 "nbformat_minor": 5
}
