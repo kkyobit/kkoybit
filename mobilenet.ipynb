{
 "cells": [
  {
   "cell_type": "code",
   "execution_count": 1,
   "id": "5a6526a7",
   "metadata": {
    "collapsed": false,
    "execution": {
     "iopub.execute_input": "2022-11-22T11:11:33.587060Z",
     "iopub.status.busy": "2022-11-22T11:11:33.586535Z",
     "iopub.status.idle": "2022-11-22T11:11:55.557869Z",
     "shell.execute_reply": "2022-11-22T11:11:55.556823Z"
    },
    "jupyter": {
     "outputs_hidden": false
    },
    "papermill": {
     "duration": 21.992472,
     "end_time": "2022-11-22T11:11:55.560651",
     "exception": false,
     "start_time": "2022-11-22T11:11:33.568179",
     "status": "completed"
    },
    "pycharm": {
     "name": "#%%\n"
    },
    "tags": []
   },
   "outputs": [
    {
     "name": "stdout",
     "output_type": "stream",
     "text": [
      "Requirement already satisfied: torchmetrics in /opt/conda/lib/python3.7/site-packages (0.10.0)\r\n",
      "Collecting timm\r\n",
      "  Downloading timm-0.6.11-py3-none-any.whl (548 kB)\r\n",
      "\u001b[2K     \u001b[90m━━━━━━━━━━━━━━━━━━━━━━━━━━━━━━━━━━━━━━━\u001b[0m \u001b[32m548.7/548.7 kB\u001b[0m \u001b[31m2.5 MB/s\u001b[0m eta \u001b[36m0:00:00\u001b[0m\r\n",
      "\u001b[?25hRequirement already satisfied: typing-extensions in /opt/conda/lib/python3.7/site-packages (from torchmetrics) (4.1.1)\r\n",
      "Requirement already satisfied: torch>=1.3.1 in /opt/conda/lib/python3.7/site-packages (from torchmetrics) (1.11.0)\r\n",
      "Requirement already satisfied: numpy>=1.17.2 in /opt/conda/lib/python3.7/site-packages (from torchmetrics) (1.21.6)\r\n",
      "Requirement already satisfied: packaging in /opt/conda/lib/python3.7/site-packages (from torchmetrics) (21.3)\r\n",
      "Requirement already satisfied: huggingface-hub in /opt/conda/lib/python3.7/site-packages (from timm) (0.10.1)\r\n",
      "Requirement already satisfied: pyyaml in /opt/conda/lib/python3.7/site-packages (from timm) (6.0)\r\n",
      "Requirement already satisfied: torchvision in /opt/conda/lib/python3.7/site-packages (from timm) (0.12.0)\r\n",
      "Requirement already satisfied: requests in /opt/conda/lib/python3.7/site-packages (from huggingface-hub->timm) (2.28.1)\r\n",
      "Requirement already satisfied: tqdm in /opt/conda/lib/python3.7/site-packages (from huggingface-hub->timm) (4.64.0)\r\n",
      "Requirement already satisfied: filelock in /opt/conda/lib/python3.7/site-packages (from huggingface-hub->timm) (3.7.1)\r\n",
      "Requirement already satisfied: importlib-metadata in /opt/conda/lib/python3.7/site-packages (from huggingface-hub->timm) (4.13.0)\r\n",
      "Requirement already satisfied: pyparsing!=3.0.5,>=2.0.2 in /opt/conda/lib/python3.7/site-packages (from packaging->torchmetrics) (3.0.9)\r\n",
      "Requirement already satisfied: pillow!=8.3.*,>=5.3.0 in /opt/conda/lib/python3.7/site-packages (from torchvision->timm) (9.1.1)\r\n",
      "Requirement already satisfied: zipp>=0.5 in /opt/conda/lib/python3.7/site-packages (from importlib-metadata->huggingface-hub->timm) (3.8.0)\r\n",
      "Requirement already satisfied: certifi>=2017.4.17 in /opt/conda/lib/python3.7/site-packages (from requests->huggingface-hub->timm) (2022.9.24)\r\n",
      "Requirement already satisfied: urllib3<1.27,>=1.21.1 in /opt/conda/lib/python3.7/site-packages (from requests->huggingface-hub->timm) (1.26.12)\r\n",
      "Requirement already satisfied: idna<4,>=2.5 in /opt/conda/lib/python3.7/site-packages (from requests->huggingface-hub->timm) (3.3)\r\n",
      "Requirement already satisfied: charset-normalizer<3,>=2 in /opt/conda/lib/python3.7/site-packages (from requests->huggingface-hub->timm) (2.1.0)\r\n",
      "Installing collected packages: timm\r\n",
      "Successfully installed timm-0.6.11\r\n",
      "\u001b[33mWARNING: Running pip as the 'root' user can result in broken permissions and conflicting behaviour with the system package manager. It is recommended to use a virtual environment instead: https://pip.pypa.io/warnings/venv\u001b[0m\u001b[33m\r\n",
      "\u001b[0m"
     ]
    }
   ],
   "source": [
    "!pip install torchmetrics timm\n",
    "import gc\n",
    "import numpy as np\n",
    "import pandas as pd\n",
    "from torch.utils.data import Dataset,DataLoader\n",
    "from torchvision import datasets, models, transforms\n",
    "import torch\n",
    "from matplotlib import pyplot as plt\n",
    "from tensorflow import keras\n",
    "from cv2 import imread\n",
    "from tensorflow.keras.models import Sequential\n",
    "from tensorflow.keras.layers import Activation, Conv2D, MaxPooling2D, Dense, Flatten\n",
    "from tensorflow.keras.layers import Dropout, BatchNormalization \n",
    "from tensorflow.keras.utils import to_categorical\n",
    "from tensorflow.keras.preprocessing import image\n",
    "import torchmetrics \n",
    "import timm\n",
    "import albumentations as A\n",
    "from albumentations.pytorch import ToTensorV2\n",
    "from torch import nn\n",
    "from torch.optim import AdamW,Adam # optmizers\n",
    "import time\n",
    "from keras.callbacks import ModelCheckpoint\n",
    "\n",
    "import matplotlib.pyplot as plt\n",
    "\n",
    "import seaborn as sns\n",
    "import os\n",
    "import glob\n",
    "import plotly.graph_objects as go\n",
    "import cv2\n",
    "from PIL import Image\n",
    "from PIL import ImageFile\n",
    "from sklearn.model_selection import train_test_split\n",
    "from sklearn.preprocessing import LabelEncoder\n",
    "import tensorflow as tf\n",
    "from tensorflow.keras.preprocessing.image import ImageDataGenerator\n",
    "from keras.utils.np_utils import to_categorical\n",
    "from keras.applications.vgg16 import VGG16\n",
    "from tensorflow.keras.optimizers import Adam\n",
    "from keras.callbacks import EarlyStopping, ReduceLROnPlateau,ModelCheckpoint \n",
    "from sklearn.metrics import accuracy_score, confusion_matrix, classification_report\n",
    "import warnings\n",
    "warnings.filterwarnings(\"ignore\")\n",
    "ImageFile.LOAD_TRUNCATED_IMAGES = True\n",
    "\n",
    "from tqdm import tqdm"
   ]
  },
  {
   "cell_type": "code",
   "execution_count": 2,
   "id": "283d3fe1",
   "metadata": {
    "execution": {
     "iopub.execute_input": "2022-11-22T11:11:55.581703Z",
     "iopub.status.busy": "2022-11-22T11:11:55.581159Z",
     "iopub.status.idle": "2022-11-22T11:11:59.136621Z",
     "shell.execute_reply": "2022-11-22T11:11:59.135557Z"
    },
    "papermill": {
     "duration": 3.56857,
     "end_time": "2022-11-22T11:11:59.139270",
     "exception": false,
     "start_time": "2022-11-22T11:11:55.570700",
     "status": "completed"
    },
    "tags": []
   },
   "outputs": [],
   "source": [
    "X_valid = np.load('../input/cervical-cancer-screening128/X_valid_128.npy',allow_pickle=True)\n",
    "y_valid = np.load('../input/cervical-cancer-screening128/y_valid_128.npy',allow_pickle=True)\n",
    "X_train = np.load('../input/cervical-cancer-screening128/X_train_128.npy',allow_pickle=True)\n",
    "y_train = np.load('../input/cervical-cancer-screening128/y_train_128.npy',allow_pickle=True)"
   ]
  },
  {
   "cell_type": "markdown",
   "id": "d2928c6e",
   "metadata": {
    "papermill": {
     "duration": 0.009534,
     "end_time": "2022-11-22T11:11:59.161510",
     "exception": false,
     "start_time": "2022-11-22T11:11:59.151976",
     "status": "completed"
    },
    "tags": []
   },
   "source": [
    "# 데이터"
   ]
  },
  {
   "cell_type": "markdown",
   "id": "73ecf972",
   "metadata": {
    "papermill": {
     "duration": 0.010323,
     "end_time": "2022-11-22T11:11:59.181489",
     "exception": false,
     "start_time": "2022-11-22T11:11:59.171166",
     "status": "completed"
    },
    "tags": []
   },
   "source": [
    "# 데이터 분리"
   ]
  },
  {
   "cell_type": "code",
   "execution_count": 3,
   "id": "aff9b0f3",
   "metadata": {
    "execution": {
     "iopub.execute_input": "2022-11-22T11:11:59.205883Z",
     "iopub.status.busy": "2022-11-22T11:11:59.205501Z",
     "iopub.status.idle": "2022-11-22T11:11:59.211183Z",
     "shell.execute_reply": "2022-11-22T11:11:59.210125Z"
    },
    "papermill": {
     "duration": 0.020733,
     "end_time": "2022-11-22T11:11:59.213560",
     "exception": false,
     "start_time": "2022-11-22T11:11:59.192827",
     "status": "completed"
    },
    "tags": []
   },
   "outputs": [],
   "source": [
    "# Train / Validation\n",
    "\n",
    "#train_df, valid_df = train_test_split(files_df, test_size = 0.2, stratify = files_df['label'], random_state = 1234)\n",
    "\n",
    "#print(len(train_df), len(valid_df))"
   ]
  },
  {
   "cell_type": "code",
   "execution_count": 4,
   "id": "ee50b61d",
   "metadata": {
    "execution": {
     "iopub.execute_input": "2022-11-22T11:11:59.237172Z",
     "iopub.status.busy": "2022-11-22T11:11:59.236843Z",
     "iopub.status.idle": "2022-11-22T11:11:59.242129Z",
     "shell.execute_reply": "2022-11-22T11:11:59.241107Z"
    },
    "papermill": {
     "duration": 0.019781,
     "end_time": "2022-11-22T11:11:59.244485",
     "exception": false,
     "start_time": "2022-11-22T11:11:59.224704",
     "status": "completed"
    },
    "tags": []
   },
   "outputs": [],
   "source": [
    "#X_train = train_df[['filepath']]\n",
    "#y_train = train_df[['label']]\n",
    "#X_train = X_train.reset_index(drop=True)\n",
    "#y_train = y_train.reset_index(drop=True)"
   ]
  },
  {
   "cell_type": "code",
   "execution_count": 5,
   "id": "2ff6f404",
   "metadata": {
    "execution": {
     "iopub.execute_input": "2022-11-22T11:11:59.269256Z",
     "iopub.status.busy": "2022-11-22T11:11:59.268874Z",
     "iopub.status.idle": "2022-11-22T11:11:59.276177Z",
     "shell.execute_reply": "2022-11-22T11:11:59.274490Z"
    },
    "papermill": {
     "duration": 0.02315,
     "end_time": "2022-11-22T11:11:59.279050",
     "exception": false,
     "start_time": "2022-11-22T11:11:59.255900",
     "status": "completed"
    },
    "tags": []
   },
   "outputs": [
    {
     "name": "stdout",
     "output_type": "stream",
     "text": [
      "6569 6569 1643 1643\n"
     ]
    }
   ],
   "source": [
    "#X_valid = valid_df[['filepath']].reset_index(drop=True)\n",
    "#y_valid = valid_df[['label']].reset_index(drop=True)\n",
    "\n",
    "print(len(X_train), len(y_train), len(X_valid),len(y_valid))"
   ]
  },
  {
   "cell_type": "markdown",
   "id": "c8dd3f51",
   "metadata": {
    "papermill": {
     "duration": 0.011115,
     "end_time": "2022-11-22T11:11:59.301864",
     "exception": false,
     "start_time": "2022-11-22T11:11:59.290749",
     "status": "completed"
    },
    "tags": []
   },
   "source": [
    "# 데이터 전처리"
   ]
  },
  {
   "cell_type": "code",
   "execution_count": 6,
   "id": "8634e388",
   "metadata": {
    "execution": {
     "iopub.execute_input": "2022-11-22T11:11:59.325930Z",
     "iopub.status.busy": "2022-11-22T11:11:59.325543Z",
     "iopub.status.idle": "2022-11-22T11:11:59.331766Z",
     "shell.execute_reply": "2022-11-22T11:11:59.330717Z"
    },
    "papermill": {
     "duration": 0.020758,
     "end_time": "2022-11-22T11:11:59.333923",
     "exception": false,
     "start_time": "2022-11-22T11:11:59.313165",
     "status": "completed"
    },
    "tags": []
   },
   "outputs": [],
   "source": [
    "# save train data as npy files\n",
    "\n",
    "#np.save('/kaggle/working/X_train_25', X_train)\n",
    "#np.save('/kaggle/working/y_train_25', y_train)"
   ]
  },
  {
   "cell_type": "code",
   "execution_count": 7,
   "id": "d135da56",
   "metadata": {
    "execution": {
     "iopub.execute_input": "2022-11-22T11:11:59.357916Z",
     "iopub.status.busy": "2022-11-22T11:11:59.356868Z",
     "iopub.status.idle": "2022-11-22T11:11:59.362033Z",
     "shell.execute_reply": "2022-11-22T11:11:59.360969Z"
    },
    "papermill": {
     "duration": 0.01939,
     "end_time": "2022-11-22T11:11:59.364180",
     "exception": false,
     "start_time": "2022-11-22T11:11:59.344790",
     "status": "completed"
    },
    "tags": []
   },
   "outputs": [],
   "source": [
    "#features = []\n",
    "#f_app = features.append\n",
    "#path = train_df['filepath'].values\n",
    "#labels = train_df['label'].values\n",
    "#for p in tqdm(path):\n",
    "#    image = cv2.imread(p)\n",
    "#    image = cv2.cvtColor(image, cv2.COLOR_RGB2BGR)\n",
    "#    re_image = cv2.resize(image, (128,128))\n",
    "#    f_app(np.array(re_image))\n",
    "\n",
    "#X_train = np.array(features)\n",
    "#y_train = np.array(labels)"
   ]
  },
  {
   "cell_type": "code",
   "execution_count": 8,
   "id": "63bb3312",
   "metadata": {
    "execution": {
     "iopub.execute_input": "2022-11-22T11:11:59.387235Z",
     "iopub.status.busy": "2022-11-22T11:11:59.386931Z",
     "iopub.status.idle": "2022-11-22T11:11:59.392076Z",
     "shell.execute_reply": "2022-11-22T11:11:59.390353Z"
    },
    "papermill": {
     "duration": 0.019345,
     "end_time": "2022-11-22T11:11:59.394395",
     "exception": false,
     "start_time": "2022-11-22T11:11:59.375050",
     "status": "completed"
    },
    "tags": []
   },
   "outputs": [],
   "source": [
    "# 소요시간줄이는코드 (추가 수정 필요)\n",
    "#path = train_df['filepath'].values\n",
    "#labels = train_df['label'].values\n",
    "#features = [np.array(cv2.resize(cv2.cvtColor(cv2.imread(p),cv2.COLOR_RGB2BGR),(180,180))) for p in tqdm(path)]"
   ]
  },
  {
   "cell_type": "code",
   "execution_count": 9,
   "id": "4eeb73b7",
   "metadata": {
    "execution": {
     "iopub.execute_input": "2022-11-22T11:11:59.417404Z",
     "iopub.status.busy": "2022-11-22T11:11:59.417117Z",
     "iopub.status.idle": "2022-11-22T11:11:59.421667Z",
     "shell.execute_reply": "2022-11-22T11:11:59.420479Z"
    },
    "papermill": {
     "duration": 0.018873,
     "end_time": "2022-11-22T11:11:59.424202",
     "exception": false,
     "start_time": "2022-11-22T11:11:59.405329",
     "status": "completed"
    },
    "tags": []
   },
   "outputs": [],
   "source": [
    "# validation data\n",
    "\n",
    "#features = []\n",
    "#f_app = features.append\n",
    "#path = valid_df['filepath'].values\n",
    "#labels = valid_df['label'].values\n",
    "#for p in tqdm(path):\n",
    "#    image = cv2.imread(p)\n",
    "#    image = cv2.cvtColor(image, cv2.COLOR_RGB2BGR)\n",
    "#    re_image = cv2.resize(image, (128,128))\n",
    "#    f_app(np.array(re_image))\n",
    "\n",
    "#X_valid = np.array(features)\n",
    "#y_valid = np.array(labels)"
   ]
  },
  {
   "cell_type": "code",
   "execution_count": 10,
   "id": "f5775919",
   "metadata": {
    "execution": {
     "iopub.execute_input": "2022-11-22T11:11:59.448186Z",
     "iopub.status.busy": "2022-11-22T11:11:59.447300Z",
     "iopub.status.idle": "2022-11-22T11:11:59.453232Z",
     "shell.execute_reply": "2022-11-22T11:11:59.452277Z"
    },
    "papermill": {
     "duration": 0.020459,
     "end_time": "2022-11-22T11:11:59.455589",
     "exception": false,
     "start_time": "2022-11-22T11:11:59.435130",
     "status": "completed"
    },
    "tags": []
   },
   "outputs": [],
   "source": [
    "# save validation data as npy files\n",
    "\n",
    "#np.save('/kaggle/working/X_valid', X_valid)\n",
    "#np.save('/kaggle/working/y_valid', y_valid)"
   ]
  },
  {
   "cell_type": "code",
   "execution_count": 11,
   "id": "228628d5",
   "metadata": {
    "execution": {
     "iopub.execute_input": "2022-11-22T11:11:59.479076Z",
     "iopub.status.busy": "2022-11-22T11:11:59.478722Z",
     "iopub.status.idle": "2022-11-22T11:11:59.489758Z",
     "shell.execute_reply": "2022-11-22T11:11:59.488607Z"
    },
    "papermill": {
     "duration": 0.025972,
     "end_time": "2022-11-22T11:11:59.492648",
     "exception": false,
     "start_time": "2022-11-22T11:11:59.466676",
     "status": "completed"
    },
    "tags": []
   },
   "outputs": [
    {
     "data": {
      "text/plain": [
       "array([[[ 71,  81,  90],\n",
       "        [ 79,  89,  97],\n",
       "        [ 88, 101, 106],\n",
       "        ...,\n",
       "        [ 87,  57,  81],\n",
       "        [ 90,  58,  82],\n",
       "        [ 87,  55,  78]],\n",
       "\n",
       "       [[ 82,  89,  97],\n",
       "        [ 88,  95, 101],\n",
       "        [ 96, 107, 111],\n",
       "        ...,\n",
       "        [100,  66,  93],\n",
       "        [ 99,  65,  92],\n",
       "        [ 93,  60,  88]],\n",
       "\n",
       "       [[ 79,  83,  94],\n",
       "        [ 93,  98, 104],\n",
       "        [107, 114, 120],\n",
       "        ...,\n",
       "        [102,  67, 100],\n",
       "        [ 99,  64,  96],\n",
       "        [ 98,  63,  93]],\n",
       "\n",
       "       ...,\n",
       "\n",
       "       [[ 94,  62,  86],\n",
       "        [ 75,  47,  69],\n",
       "        [ 64,  43,  58],\n",
       "        ...,\n",
       "        [ 70,  37,  44],\n",
       "        [ 69,  37,  48],\n",
       "        [ 67,  36,  51]],\n",
       "\n",
       "       [[110,  74, 100],\n",
       "        [ 89,  57,  81],\n",
       "        [ 77,  49,  71],\n",
       "        ...,\n",
       "        [ 53,  24,  28],\n",
       "        [ 60,  30,  40],\n",
       "        [ 65,  36,  54]],\n",
       "\n",
       "       [[120,  84, 110],\n",
       "        [108,  75,  99],\n",
       "        [ 95,  63,  87],\n",
       "        ...,\n",
       "        [ 51,  23,  35],\n",
       "        [ 60,  29,  47],\n",
       "        [ 78,  46,  72]]], dtype=uint8)"
      ]
     },
     "execution_count": 11,
     "metadata": {},
     "output_type": "execute_result"
    }
   ],
   "source": [
    "# X train data 확인\n",
    "X_train[0]"
   ]
  },
  {
   "cell_type": "code",
   "execution_count": 12,
   "id": "5ca708b0",
   "metadata": {
    "execution": {
     "iopub.execute_input": "2022-11-22T11:11:59.515165Z",
     "iopub.status.busy": "2022-11-22T11:11:59.514873Z",
     "iopub.status.idle": "2022-11-22T11:11:59.522421Z",
     "shell.execute_reply": "2022-11-22T11:11:59.520932Z"
    },
    "papermill": {
     "duration": 0.021694,
     "end_time": "2022-11-22T11:11:59.525045",
     "exception": false,
     "start_time": "2022-11-22T11:11:59.503351",
     "status": "completed"
    },
    "tags": []
   },
   "outputs": [
    {
     "data": {
      "text/plain": [
       "array([[[ 59,  51,  72],\n",
       "        [ 57,  49,  67],\n",
       "        [ 59,  52,  70],\n",
       "        ...,\n",
       "        [ 29,  39,  50],\n",
       "        [ 22,  31,  39],\n",
       "        [ 28,  36,  45]],\n",
       "\n",
       "       [[ 61,  53,  72],\n",
       "        [ 67,  56,  76],\n",
       "        [ 68,  54,  77],\n",
       "        ...,\n",
       "        [ 22,  40,  48],\n",
       "        [ 25,  39,  48],\n",
       "        [ 26,  35,  45]],\n",
       "\n",
       "       [[ 70,  61,  80],\n",
       "        [ 67,  59,  73],\n",
       "        [ 71,  59,  79],\n",
       "        ...,\n",
       "        [ 25,  38,  54],\n",
       "        [ 27,  39,  51],\n",
       "        [ 28,  37,  47]],\n",
       "\n",
       "       ...,\n",
       "\n",
       "       [[ 95,  87, 110],\n",
       "        [101,  93, 117],\n",
       "        [115, 103, 127],\n",
       "        ...,\n",
       "        [ 63,  49,  74],\n",
       "        [ 60,  47,  67],\n",
       "        [ 59,  45,  69]],\n",
       "\n",
       "       [[ 70,  67,  88],\n",
       "        [ 85,  78, 101],\n",
       "        [100,  91, 118],\n",
       "        ...,\n",
       "        [ 54,  41,  61],\n",
       "        [ 54,  41,  58],\n",
       "        [ 55,  42,  60]],\n",
       "\n",
       "       [[ 50,  48,  68],\n",
       "        [ 63,  60,  81],\n",
       "        [ 76,  67,  93],\n",
       "        ...,\n",
       "        [ 53,  40,  63],\n",
       "        [ 52,  39,  59],\n",
       "        [ 46,  34,  50]]], dtype=uint8)"
      ]
     },
     "execution_count": 12,
     "metadata": {},
     "output_type": "execute_result"
    }
   ],
   "source": [
    "# X validation data 확인\n",
    "X_valid[0]"
   ]
  },
  {
   "cell_type": "code",
   "execution_count": 13,
   "id": "5f5f5f05",
   "metadata": {
    "execution": {
     "iopub.execute_input": "2022-11-22T11:11:59.548363Z",
     "iopub.status.busy": "2022-11-22T11:11:59.548021Z",
     "iopub.status.idle": "2022-11-22T11:12:00.693331Z",
     "shell.execute_reply": "2022-11-22T11:12:00.692270Z"
    },
    "papermill": {
     "duration": 1.160416,
     "end_time": "2022-11-22T11:12:00.696724",
     "exception": false,
     "start_time": "2022-11-22T11:11:59.536308",
     "status": "completed"
    },
    "tags": []
   },
   "outputs": [],
   "source": [
    "# 정규화 (0과1사이의값)\n",
    "X_train = X_train/255\n",
    "X_valid = X_valid/255"
   ]
  },
  {
   "cell_type": "code",
   "execution_count": 14,
   "id": "73b04383",
   "metadata": {
    "execution": {
     "iopub.execute_input": "2022-11-22T11:12:00.733973Z",
     "iopub.status.busy": "2022-11-22T11:12:00.733562Z",
     "iopub.status.idle": "2022-11-22T11:12:00.746380Z",
     "shell.execute_reply": "2022-11-22T11:12:00.745485Z"
    },
    "papermill": {
     "duration": 0.034154,
     "end_time": "2022-11-22T11:12:00.749314",
     "exception": false,
     "start_time": "2022-11-22T11:12:00.715160",
     "status": "completed"
    },
    "tags": []
   },
   "outputs": [
    {
     "data": {
      "text/plain": [
       "array([[[0.27843137, 0.31764706, 0.35294118],\n",
       "        [0.30980392, 0.34901961, 0.38039216],\n",
       "        [0.34509804, 0.39607843, 0.41568627],\n",
       "        ...,\n",
       "        [0.34117647, 0.22352941, 0.31764706],\n",
       "        [0.35294118, 0.22745098, 0.32156863],\n",
       "        [0.34117647, 0.21568627, 0.30588235]],\n",
       "\n",
       "       [[0.32156863, 0.34901961, 0.38039216],\n",
       "        [0.34509804, 0.37254902, 0.39607843],\n",
       "        [0.37647059, 0.41960784, 0.43529412],\n",
       "        ...,\n",
       "        [0.39215686, 0.25882353, 0.36470588],\n",
       "        [0.38823529, 0.25490196, 0.36078431],\n",
       "        [0.36470588, 0.23529412, 0.34509804]],\n",
       "\n",
       "       [[0.30980392, 0.3254902 , 0.36862745],\n",
       "        [0.36470588, 0.38431373, 0.40784314],\n",
       "        [0.41960784, 0.44705882, 0.47058824],\n",
       "        ...,\n",
       "        [0.4       , 0.2627451 , 0.39215686],\n",
       "        [0.38823529, 0.25098039, 0.37647059],\n",
       "        [0.38431373, 0.24705882, 0.36470588]],\n",
       "\n",
       "       ...,\n",
       "\n",
       "       [[0.36862745, 0.24313725, 0.3372549 ],\n",
       "        [0.29411765, 0.18431373, 0.27058824],\n",
       "        [0.25098039, 0.16862745, 0.22745098],\n",
       "        ...,\n",
       "        [0.2745098 , 0.14509804, 0.17254902],\n",
       "        [0.27058824, 0.14509804, 0.18823529],\n",
       "        [0.2627451 , 0.14117647, 0.2       ]],\n",
       "\n",
       "       [[0.43137255, 0.29019608, 0.39215686],\n",
       "        [0.34901961, 0.22352941, 0.31764706],\n",
       "        [0.30196078, 0.19215686, 0.27843137],\n",
       "        ...,\n",
       "        [0.20784314, 0.09411765, 0.10980392],\n",
       "        [0.23529412, 0.11764706, 0.15686275],\n",
       "        [0.25490196, 0.14117647, 0.21176471]],\n",
       "\n",
       "       [[0.47058824, 0.32941176, 0.43137255],\n",
       "        [0.42352941, 0.29411765, 0.38823529],\n",
       "        [0.37254902, 0.24705882, 0.34117647],\n",
       "        ...,\n",
       "        [0.2       , 0.09019608, 0.1372549 ],\n",
       "        [0.23529412, 0.11372549, 0.18431373],\n",
       "        [0.30588235, 0.18039216, 0.28235294]]])"
      ]
     },
     "execution_count": 14,
     "metadata": {},
     "output_type": "execute_result"
    }
   ],
   "source": [
    "# 정규화한 X train data 확인\n",
    "X_train[0]"
   ]
  },
  {
   "cell_type": "code",
   "execution_count": 15,
   "id": "6150c0b8",
   "metadata": {
    "execution": {
     "iopub.execute_input": "2022-11-22T11:12:00.784247Z",
     "iopub.status.busy": "2022-11-22T11:12:00.783893Z",
     "iopub.status.idle": "2022-11-22T11:12:00.795110Z",
     "shell.execute_reply": "2022-11-22T11:12:00.794231Z"
    },
    "papermill": {
     "duration": 0.03176,
     "end_time": "2022-11-22T11:12:00.797884",
     "exception": false,
     "start_time": "2022-11-22T11:12:00.766124",
     "status": "completed"
    },
    "tags": []
   },
   "outputs": [
    {
     "data": {
      "text/plain": [
       "array([[[0.23137255, 0.2       , 0.28235294],\n",
       "        [0.22352941, 0.19215686, 0.2627451 ],\n",
       "        [0.23137255, 0.20392157, 0.2745098 ],\n",
       "        ...,\n",
       "        [0.11372549, 0.15294118, 0.19607843],\n",
       "        [0.08627451, 0.12156863, 0.15294118],\n",
       "        [0.10980392, 0.14117647, 0.17647059]],\n",
       "\n",
       "       [[0.23921569, 0.20784314, 0.28235294],\n",
       "        [0.2627451 , 0.21960784, 0.29803922],\n",
       "        [0.26666667, 0.21176471, 0.30196078],\n",
       "        ...,\n",
       "        [0.08627451, 0.15686275, 0.18823529],\n",
       "        [0.09803922, 0.15294118, 0.18823529],\n",
       "        [0.10196078, 0.1372549 , 0.17647059]],\n",
       "\n",
       "       [[0.2745098 , 0.23921569, 0.31372549],\n",
       "        [0.2627451 , 0.23137255, 0.28627451],\n",
       "        [0.27843137, 0.23137255, 0.30980392],\n",
       "        ...,\n",
       "        [0.09803922, 0.14901961, 0.21176471],\n",
       "        [0.10588235, 0.15294118, 0.2       ],\n",
       "        [0.10980392, 0.14509804, 0.18431373]],\n",
       "\n",
       "       ...,\n",
       "\n",
       "       [[0.37254902, 0.34117647, 0.43137255],\n",
       "        [0.39607843, 0.36470588, 0.45882353],\n",
       "        [0.45098039, 0.40392157, 0.49803922],\n",
       "        ...,\n",
       "        [0.24705882, 0.19215686, 0.29019608],\n",
       "        [0.23529412, 0.18431373, 0.2627451 ],\n",
       "        [0.23137255, 0.17647059, 0.27058824]],\n",
       "\n",
       "       [[0.2745098 , 0.2627451 , 0.34509804],\n",
       "        [0.33333333, 0.30588235, 0.39607843],\n",
       "        [0.39215686, 0.35686275, 0.4627451 ],\n",
       "        ...,\n",
       "        [0.21176471, 0.16078431, 0.23921569],\n",
       "        [0.21176471, 0.16078431, 0.22745098],\n",
       "        [0.21568627, 0.16470588, 0.23529412]],\n",
       "\n",
       "       [[0.19607843, 0.18823529, 0.26666667],\n",
       "        [0.24705882, 0.23529412, 0.31764706],\n",
       "        [0.29803922, 0.2627451 , 0.36470588],\n",
       "        ...,\n",
       "        [0.20784314, 0.15686275, 0.24705882],\n",
       "        [0.20392157, 0.15294118, 0.23137255],\n",
       "        [0.18039216, 0.13333333, 0.19607843]]])"
      ]
     },
     "execution_count": 15,
     "metadata": {},
     "output_type": "execute_result"
    }
   ],
   "source": [
    "# 정규화한 X validation data 확인\n",
    "X_valid[0]"
   ]
  },
  {
   "cell_type": "code",
   "execution_count": 16,
   "id": "009d1d4b",
   "metadata": {
    "execution": {
     "iopub.execute_input": "2022-11-22T11:12:00.833640Z",
     "iopub.status.busy": "2022-11-22T11:12:00.833274Z",
     "iopub.status.idle": "2022-11-22T11:12:00.838835Z",
     "shell.execute_reply": "2022-11-22T11:12:00.837916Z"
    },
    "papermill": {
     "duration": 0.029644,
     "end_time": "2022-11-22T11:12:00.844614",
     "exception": false,
     "start_time": "2022-11-22T11:12:00.814970",
     "status": "completed"
    },
    "tags": []
   },
   "outputs": [
    {
     "name": "stdout",
     "output_type": "stream",
     "text": [
      "6569 6569\n",
      "(6569, 128, 128, 3)\n"
     ]
    }
   ],
   "source": [
    "# train 개수, 차원 확인\n",
    "print(len(X_train), len(y_train))\n",
    "print(X_train.shape)"
   ]
  },
  {
   "cell_type": "code",
   "execution_count": 17,
   "id": "f1854532",
   "metadata": {
    "execution": {
     "iopub.execute_input": "2022-11-22T11:12:00.880639Z",
     "iopub.status.busy": "2022-11-22T11:12:00.880283Z",
     "iopub.status.idle": "2022-11-22T11:12:00.886049Z",
     "shell.execute_reply": "2022-11-22T11:12:00.885229Z"
    },
    "papermill": {
     "duration": 0.029716,
     "end_time": "2022-11-22T11:12:00.891478",
     "exception": false,
     "start_time": "2022-11-22T11:12:00.861762",
     "status": "completed"
    },
    "tags": []
   },
   "outputs": [
    {
     "name": "stdout",
     "output_type": "stream",
     "text": [
      "1643 1643\n",
      "(1643, 128, 128, 3)\n"
     ]
    }
   ],
   "source": [
    "# validation 개수, 차원 확인\n",
    "print(len(X_valid), len(y_valid))\n",
    "print(X_valid.shape)"
   ]
  },
  {
   "cell_type": "code",
   "execution_count": 18,
   "id": "d04be544",
   "metadata": {
    "execution": {
     "iopub.execute_input": "2022-11-22T11:12:00.925702Z",
     "iopub.status.busy": "2022-11-22T11:12:00.925372Z",
     "iopub.status.idle": "2022-11-22T11:12:00.936387Z",
     "shell.execute_reply": "2022-11-22T11:12:00.935479Z"
    },
    "papermill": {
     "duration": 0.031053,
     "end_time": "2022-11-22T11:12:00.938955",
     "exception": false,
     "start_time": "2022-11-22T11:12:00.907902",
     "status": "completed"
    },
    "tags": []
   },
   "outputs": [],
   "source": [
    "# y 라벨링 (string -> int)\n",
    "le = LabelEncoder().fit(['Type 1', 'Type 2', 'Type 3'])\n",
    "y_train = le.transform(y_train)\n",
    "y_valid = le.transform(y_valid)\n",
    "\n",
    "y_train_onehot = to_categorical(y_train, num_classes=3)\n",
    "y_valid_onehot = to_categorical(y_valid, num_classes=3)"
   ]
  },
  {
   "cell_type": "code",
   "execution_count": 19,
   "id": "6f000719",
   "metadata": {
    "execution": {
     "iopub.execute_input": "2022-11-22T11:12:00.973047Z",
     "iopub.status.busy": "2022-11-22T11:12:00.972741Z",
     "iopub.status.idle": "2022-11-22T11:12:00.979399Z",
     "shell.execute_reply": "2022-11-22T11:12:00.978445Z"
    },
    "papermill": {
     "duration": 0.029586,
     "end_time": "2022-11-22T11:12:00.984809",
     "exception": false,
     "start_time": "2022-11-22T11:12:00.955223",
     "status": "completed"
    },
    "tags": []
   },
   "outputs": [
    {
     "data": {
      "text/plain": [
       "array([[0., 1., 0.],\n",
       "       [0., 0., 1.],\n",
       "       [0., 1., 0.],\n",
       "       [0., 1., 0.],\n",
       "       [0., 0., 1.]], dtype=float32)"
      ]
     },
     "execution_count": 19,
     "metadata": {},
     "output_type": "execute_result"
    }
   ],
   "source": [
    "y_train_onehot[:5]"
   ]
  },
  {
   "cell_type": "code",
   "execution_count": 20,
   "id": "8105fb8c",
   "metadata": {
    "execution": {
     "iopub.execute_input": "2022-11-22T11:12:01.019003Z",
     "iopub.status.busy": "2022-11-22T11:12:01.018705Z",
     "iopub.status.idle": "2022-11-22T11:12:01.024850Z",
     "shell.execute_reply": "2022-11-22T11:12:01.024009Z"
    },
    "papermill": {
     "duration": 0.028995,
     "end_time": "2022-11-22T11:12:01.030287",
     "exception": false,
     "start_time": "2022-11-22T11:12:01.001292",
     "status": "completed"
    },
    "tags": []
   },
   "outputs": [
    {
     "data": {
      "text/plain": [
       "array([[0., 1., 0.],\n",
       "       [0., 1., 0.],\n",
       "       [0., 1., 0.],\n",
       "       [0., 0., 1.],\n",
       "       [0., 1., 0.]], dtype=float32)"
      ]
     },
     "execution_count": 20,
     "metadata": {},
     "output_type": "execute_result"
    }
   ],
   "source": [
    "y_valid_onehot[:5]"
   ]
  },
  {
   "cell_type": "code",
   "execution_count": 21,
   "id": "293344a5",
   "metadata": {
    "execution": {
     "iopub.execute_input": "2022-11-22T11:12:01.065763Z",
     "iopub.status.busy": "2022-11-22T11:12:01.065444Z",
     "iopub.status.idle": "2022-11-22T11:12:07.204739Z",
     "shell.execute_reply": "2022-11-22T11:12:07.203164Z"
    },
    "papermill": {
     "duration": 6.159369,
     "end_time": "2022-11-22T11:12:07.207104",
     "exception": false,
     "start_time": "2022-11-22T11:12:01.047735",
     "status": "completed"
    },
    "tags": []
   },
   "outputs": [
    {
     "name": "stderr",
     "output_type": "stream",
     "text": [
      "2022-11-22 11:12:01.203527: I tensorflow/stream_executor/cuda/cuda_gpu_executor.cc:937] successful NUMA node read from SysFS had negative value (-1), but there must be at least one NUMA node, so returning NUMA node zero\n",
      "2022-11-22 11:12:01.205147: I tensorflow/stream_executor/cuda/cuda_gpu_executor.cc:937] successful NUMA node read from SysFS had negative value (-1), but there must be at least one NUMA node, so returning NUMA node zero\n",
      "2022-11-22 11:12:01.206194: I tensorflow/stream_executor/cuda/cuda_gpu_executor.cc:937] successful NUMA node read from SysFS had negative value (-1), but there must be at least one NUMA node, so returning NUMA node zero\n",
      "2022-11-22 11:12:01.207713: I tensorflow/core/platform/cpu_feature_guard.cc:142] This TensorFlow binary is optimized with oneAPI Deep Neural Network Library (oneDNN) to use the following CPU instructions in performance-critical operations:  AVX2 AVX512F FMA\n",
      "To enable them in other operations, rebuild TensorFlow with the appropriate compiler flags.\n",
      "2022-11-22 11:12:01.208216: I tensorflow/stream_executor/cuda/cuda_gpu_executor.cc:937] successful NUMA node read from SysFS had negative value (-1), but there must be at least one NUMA node, so returning NUMA node zero\n",
      "2022-11-22 11:12:01.209446: I tensorflow/stream_executor/cuda/cuda_gpu_executor.cc:937] successful NUMA node read from SysFS had negative value (-1), but there must be at least one NUMA node, so returning NUMA node zero\n",
      "2022-11-22 11:12:01.210476: I tensorflow/stream_executor/cuda/cuda_gpu_executor.cc:937] successful NUMA node read from SysFS had negative value (-1), but there must be at least one NUMA node, so returning NUMA node zero\n",
      "2022-11-22 11:12:06.069995: I tensorflow/stream_executor/cuda/cuda_gpu_executor.cc:937] successful NUMA node read from SysFS had negative value (-1), but there must be at least one NUMA node, so returning NUMA node zero\n",
      "2022-11-22 11:12:06.071005: I tensorflow/stream_executor/cuda/cuda_gpu_executor.cc:937] successful NUMA node read from SysFS had negative value (-1), but there must be at least one NUMA node, so returning NUMA node zero\n",
      "2022-11-22 11:12:06.071777: I tensorflow/stream_executor/cuda/cuda_gpu_executor.cc:937] successful NUMA node read from SysFS had negative value (-1), but there must be at least one NUMA node, so returning NUMA node zero\n",
      "2022-11-22 11:12:06.072384: I tensorflow/core/common_runtime/gpu/gpu_device.cc:1510] Created device /job:localhost/replica:0/task:0/device:GPU:0 with 15043 MB memory:  -> device: 0, name: Tesla P100-PCIE-16GB, pci bus id: 0000:00:04.0, compute capability: 6.0\n"
     ]
    },
    {
     "name": "stdout",
     "output_type": "stream",
     "text": [
      "Model: \"mobilenet_v1\"\n",
      "_________________________________________________________________\n",
      "Layer (type)                 Output Shape              Param #   \n",
      "=================================================================\n",
      "zero_padding2d (ZeroPadding2 multiple                  0         \n",
      "_________________________________________________________________\n",
      "conv2d (Conv2D)              multiple                  864       \n",
      "_________________________________________________________________\n",
      "batch_normalization (BatchNo multiple                  128       \n",
      "_________________________________________________________________\n",
      "re_lu (ReLU)                 multiple                  0         \n",
      "_________________________________________________________________\n",
      "sequential (Sequential)      (1, 113, 113, 64)         2720      \n",
      "_________________________________________________________________\n",
      "zero_padding2d_1 (ZeroPaddin multiple                  0         \n",
      "_________________________________________________________________\n",
      "sequential_1 (Sequential)    (1, 56, 56, 128)          28096     \n",
      "_________________________________________________________________\n",
      "zero_padding2d_2 (ZeroPaddin multiple                  0         \n",
      "_________________________________________________________________\n",
      "sequential_2 (Sequential)    (1, 28, 28, 256)          105344    \n",
      "_________________________________________________________________\n",
      "zero_padding2d_3 (ZeroPaddin multiple                  0         \n",
      "_________________________________________________________________\n",
      "sequential_3 (Sequential)    (1, 14, 14, 512)          1490688   \n",
      "_________________________________________________________________\n",
      "zero_padding2d_4 (ZeroPaddin multiple                  0         \n",
      "_________________________________________________________________\n",
      "sequential_4 (Sequential)    (1, 4, 4, 1024)           1601024   \n",
      "_________________________________________________________________\n",
      "global_average_pooling2d (Gl multiple                  0         \n",
      "_________________________________________________________________\n",
      "reshape (Reshape)            multiple                  0         \n",
      "_________________________________________________________________\n",
      "dropout (Dropout)            multiple                  0         \n",
      "_________________________________________________________________\n",
      "conv2d_14 (Conv2D)           multiple                  1025000   \n",
      "_________________________________________________________________\n",
      "reshape_1 (Reshape)          multiple                  0         \n",
      "=================================================================\n",
      "Total params: 4,253,864\n",
      "Trainable params: 4,231,976\n",
      "Non-trainable params: 21,888\n",
      "_________________________________________________________________\n"
     ]
    }
   ],
   "source": [
    "class Depthwise_bn_relu(tf.keras.Model):\n",
    "    def __init__(self, strides, padding):\n",
    "        super(Depthwise_bn_relu, self).__init__()\n",
    "\n",
    "        self.strides = strides\n",
    "        self.padding = padding\n",
    "\n",
    "        self.dw = tf.keras.layers.DepthwiseConv2D(kernel_size=(3, 3), \n",
    "                                                  strides=self.strides, \n",
    "                                                  padding=self.padding,\n",
    "                                                  use_bias=False)\n",
    "        self.bn = tf.keras.layers.BatchNormalization()\n",
    "        self.relu = tf.keras.layers.ReLU()\n",
    "\n",
    "    def call(self, x, training=False):\n",
    "        x = self.dw(x)\n",
    "        x = self.bn(x)\n",
    "        x = self.relu(x)\n",
    "\n",
    "        return x\n",
    "\n",
    "\n",
    "\n",
    "class Pointwise_bn_relu(tf.keras.Model):\n",
    "    def __init__(self, nb_filters):\n",
    "        super(Pointwise_bn_relu, self).__init__()\n",
    "\n",
    "        self.nb_filters = nb_filters\n",
    "\n",
    "        self.pw = tf.keras.layers.Conv2D(self.nb_filters,\n",
    "                                         kernel_size=(1, 1), \n",
    "                                         strides=(1, 1),  \n",
    "                                         padding='same', \n",
    "                                         use_bias=False)\n",
    "        self.bn = tf.keras.layers.BatchNormalization()\n",
    "        self.relu = tf.keras.layers.ReLU()\n",
    "\n",
    "    def call(self, x, training=False):\n",
    "        x = self.pw(x)\n",
    "        x = self.bn(x)\n",
    "        x = self.relu(x)\n",
    "\n",
    "        return x\n",
    "\n",
    "\n",
    "    \n",
    "\n",
    "\n",
    "class MobilenetV1(tf.keras.Model):\n",
    "    def __init__(self, nb_class):\n",
    "        super(MobilenetV1, self).__init__()\n",
    "\n",
    "        self.nb_class = nb_class\n",
    "        self.zero_pad = tf.keras.layers.ZeroPadding2D((2, 2))\n",
    "        self.conv = tf.keras.layers.Conv2D(32, (3, 3), strides=(2, 2), use_bias=False)\n",
    "        self.bn = tf.keras.layers.BatchNormalization()\n",
    "        self.relu = tf.keras.layers.ReLU()\n",
    "\n",
    "        self.block1 = tf.keras.Sequential()\n",
    "        self.block1.add(Depthwise_bn_relu(1, 'same'))\n",
    "        self.block1.add(Pointwise_bn_relu(64))\n",
    "        self.zero_pad_1 = tf.keras.layers.ZeroPadding2D(padding=((0, 1), (0, 1)))\n",
    "        \n",
    "        \n",
    "        self.block2 = tf.keras.Sequential()\n",
    "        self.block2.add(Depthwise_bn_relu(2, 'valid'))\n",
    "        self.block2.add(Pointwise_bn_relu(128))\n",
    "        self.block2.add(Depthwise_bn_relu(1, 'same'))\n",
    "        self.block2.add(Pointwise_bn_relu(128))\n",
    "        self.zero_pad_2 = tf.keras.layers.ZeroPadding2D(padding=((0, 1), (0, 1)))\n",
    "\n",
    "\n",
    "        self.block3 = tf.keras.Sequential()\n",
    "        self.block3.add(Depthwise_bn_relu(2, 'valid'))\n",
    "        self.block3.add(Pointwise_bn_relu(256))\n",
    "        self.block3.add(Depthwise_bn_relu(1, 'same'))\n",
    "        self.block3.add(Pointwise_bn_relu(256))\n",
    "        self.zero_pad_3 = tf.keras.layers.ZeroPadding2D(padding=((0, 1), (0, 1)))\n",
    "\n",
    "\n",
    "        self.block4 = tf.keras.Sequential()\n",
    "        self.block4.add(Depthwise_bn_relu(2, 'valid'))\n",
    "        self.block4.add(Pointwise_bn_relu(512))\n",
    "\n",
    "        for _ in range(5):\n",
    "            self.block4.add(Depthwise_bn_relu(1, 'same'))\n",
    "            self.block4.add(Pointwise_bn_relu(512))\n",
    "\n",
    "        self.zero_pad_4 = tf.keras.layers.ZeroPadding2D(padding=((0, 1), (0, 1)))\n",
    "\n",
    "\n",
    "\n",
    "        self.block5 = tf.keras.Sequential()\n",
    "        self.block5.add(Depthwise_bn_relu(2, 'valid'))\n",
    "        self.block5.add(Pointwise_bn_relu(1024))\n",
    "        self.block5.add(Depthwise_bn_relu(2, 'same'))\n",
    "        self.block5.add(Pointwise_bn_relu(1024))\n",
    "\n",
    "\n",
    "        self.gap = tf.keras.layers.GlobalAveragePooling2D()\n",
    "        self.reshape = tf.keras.layers.Reshape((1, 1, 1024))\n",
    "        self.drop = tf.keras.layers.Dropout(0.001)\n",
    "        self.conv_pred = tf.keras.layers.Conv2D(1000, \n",
    "                                                kernel_size=(1, 1), \n",
    "                                                strides=(1, 1), \n",
    "                                                padding='same', \n",
    "                                                activation='softmax')\n",
    "        self.reshape_2 = tf.keras.layers.Reshape((1000,))\n",
    "\n",
    "        \n",
    "\n",
    "\n",
    "    def call(self, x, training=False):\n",
    "        x = self.zero_pad(x)\n",
    "        x = self.conv(x)\n",
    "        x = self.bn(x)\n",
    "        x = self.relu(x)\n",
    "       \n",
    "        x = self.block1(x)\n",
    "        x = self.zero_pad_1(x)\n",
    "\n",
    "        x = self.block2(x)\n",
    "        x = self.zero_pad_2(x)\n",
    "\n",
    "        x = self.block3(x)\n",
    "        x = self.zero_pad_3(x)\n",
    "\n",
    "        x = self.block4(x)\n",
    "        x = self.zero_pad_4(x)\n",
    "\n",
    "        x = self.block5(x)\n",
    "\n",
    "        x = self.gap(x)\n",
    "        x = self.reshape(x)\n",
    "        x = self.drop(x)\n",
    "        x = self.conv_pred(x)\n",
    "        x = self.reshape_2(x)\n",
    "        \n",
    "        return x\n",
    "\n",
    "    \n",
    "\n",
    "\n",
    "model = MobilenetV1(1000)\n",
    "model.build((1, 224, 224, 3))\n",
    "model.summary()"
   ]
  },
  {
   "cell_type": "code",
   "execution_count": 22,
   "id": "7511e429",
   "metadata": {
    "execution": {
     "iopub.execute_input": "2022-11-22T11:12:07.230772Z",
     "iopub.status.busy": "2022-11-22T11:12:07.230383Z",
     "iopub.status.idle": "2022-11-22T11:12:07.246249Z",
     "shell.execute_reply": "2022-11-22T11:12:07.245298Z"
    },
    "papermill": {
     "duration": 0.030306,
     "end_time": "2022-11-22T11:12:07.248651",
     "exception": false,
     "start_time": "2022-11-22T11:12:07.218345",
     "status": "completed"
    },
    "tags": []
   },
   "outputs": [],
   "source": [
    "model.compile(\n",
    "    loss = 'sparse_categorical_crossentropy'\n",
    "    ,metrics = ['accuracy']\n",
    ")"
   ]
  },
  {
   "cell_type": "code",
   "execution_count": 23,
   "id": "7b831734",
   "metadata": {
    "execution": {
     "iopub.execute_input": "2022-11-22T11:12:07.271300Z",
     "iopub.status.busy": "2022-11-22T11:12:07.270961Z",
     "iopub.status.idle": "2022-11-22T11:12:07.275477Z",
     "shell.execute_reply": "2022-11-22T11:12:07.274497Z"
    },
    "papermill": {
     "duration": 0.018079,
     "end_time": "2022-11-22T11:12:07.277462",
     "exception": false,
     "start_time": "2022-11-22T11:12:07.259383",
     "status": "completed"
    },
    "tags": []
   },
   "outputs": [],
   "source": [
    "BATCH_SIZE = 16\n",
    "TRAIN_STEPS = len(X_train)//BATCH_SIZE\n",
    "VAL_STEPS = len(X_valid)//BATCH_SIZE"
   ]
  },
  {
   "cell_type": "code",
   "execution_count": 24,
   "id": "e427f81c",
   "metadata": {
    "execution": {
     "iopub.execute_input": "2022-11-22T11:12:07.300032Z",
     "iopub.status.busy": "2022-11-22T11:12:07.299224Z",
     "iopub.status.idle": "2022-11-22T11:12:07.305653Z",
     "shell.execute_reply": "2022-11-22T11:12:07.304792Z"
    },
    "papermill": {
     "duration": 0.019811,
     "end_time": "2022-11-22T11:12:07.307655",
     "exception": false,
     "start_time": "2022-11-22T11:12:07.287844",
     "status": "completed"
    },
    "tags": []
   },
   "outputs": [],
   "source": [
    "reduceLR = ReduceLROnPlateau(monitor='val_accuracy', patience=10, verbose= 1, mode='max', factor=  0.2, min_lr = 1e-5)\n",
    "\n",
    "early_stopping = EarlyStopping(monitor='val_accuracy', patience = 20, verbose=1, mode='max', restore_best_weights= True)\n",
    "\n",
    "checkpoint = ModelCheckpoint('movilenet_v1', monitor='val_accuracy', verbose=1,save_best_only=True, mode= 'max')"
   ]
  },
  {
   "cell_type": "code",
   "execution_count": 25,
   "id": "fd497276",
   "metadata": {
    "execution": {
     "iopub.execute_input": "2022-11-22T11:12:07.330744Z",
     "iopub.status.busy": "2022-11-22T11:12:07.329876Z",
     "iopub.status.idle": "2022-11-22T11:33:20.626256Z",
     "shell.execute_reply": "2022-11-22T11:33:20.625313Z"
    },
    "papermill": {
     "duration": 1273.310707,
     "end_time": "2022-11-22T11:33:20.628951",
     "exception": false,
     "start_time": "2022-11-22T11:12:07.318244",
     "status": "completed"
    },
    "tags": []
   },
   "outputs": [
    {
     "name": "stderr",
     "output_type": "stream",
     "text": [
      "2022-11-22 11:12:08.038745: I tensorflow/compiler/mlir/mlir_graph_optimization_pass.cc:185] None of the MLIR Optimization Passes are enabled (registered 2)\n"
     ]
    },
    {
     "name": "stdout",
     "output_type": "stream",
     "text": [
      "Epoch 1/100\n"
     ]
    },
    {
     "name": "stderr",
     "output_type": "stream",
     "text": [
      "2022-11-22 11:12:13.351114: I tensorflow/stream_executor/cuda/cuda_dnn.cc:369] Loaded cuDNN version 8005\n"
     ]
    },
    {
     "name": "stdout",
     "output_type": "stream",
     "text": [
      "410/410 [==============================] - 27s 37ms/step - loss: 1.1175 - accuracy: 0.4851 - val_loss: 1.0042 - val_accuracy: 0.5295\n",
      "\n",
      "Epoch 00001: val_accuracy improved from -inf to 0.52952, saving model to movilenet_v1\n"
     ]
    },
    {
     "name": "stderr",
     "output_type": "stream",
     "text": [
      "2022-11-22 11:12:43.362045: W tensorflow/python/util/util.cc:348] Sets are not currently considered sequences, but this may change in the future, so consider avoiding using them.\n"
     ]
    },
    {
     "name": "stdout",
     "output_type": "stream",
     "text": [
      "Epoch 2/100\n",
      "410/410 [==============================] - 15s 35ms/step - loss: 1.0024 - accuracy: 0.5198 - val_loss: 2.2712 - val_accuracy: 0.4139\n",
      "\n",
      "Epoch 00002: val_accuracy did not improve from 0.52952\n",
      "Epoch 3/100\n",
      "410/410 [==============================] - 15s 36ms/step - loss: 0.9765 - accuracy: 0.5199 - val_loss: 1.0223 - val_accuracy: 0.5052\n",
      "\n",
      "Epoch 00003: val_accuracy did not improve from 0.52952\n",
      "Epoch 4/100\n",
      "410/410 [==============================] - 14s 35ms/step - loss: 0.9557 - accuracy: 0.5228 - val_loss: 1.1333 - val_accuracy: 0.5295\n",
      "\n",
      "Epoch 00004: val_accuracy did not improve from 0.52952\n",
      "Epoch 5/100\n",
      "410/410 [==============================] - 15s 35ms/step - loss: 0.9310 - accuracy: 0.5272 - val_loss: 1.0390 - val_accuracy: 0.4595\n",
      "\n",
      "Epoch 00005: val_accuracy did not improve from 0.52952\n",
      "Epoch 6/100\n",
      "410/410 [==============================] - 14s 35ms/step - loss: 0.9207 - accuracy: 0.5420 - val_loss: 1.1843 - val_accuracy: 0.4285\n",
      "\n",
      "Epoch 00006: val_accuracy did not improve from 0.52952\n",
      "Epoch 7/100\n",
      "410/410 [==============================] - 14s 35ms/step - loss: 0.9047 - accuracy: 0.5485 - val_loss: 0.9717 - val_accuracy: 0.5447\n",
      "\n",
      "Epoch 00007: val_accuracy improved from 0.52952 to 0.54474, saving model to movilenet_v1\n",
      "Epoch 8/100\n",
      "410/410 [==============================] - 14s 35ms/step - loss: 0.8776 - accuracy: 0.5663 - val_loss: 0.9730 - val_accuracy: 0.5399\n",
      "\n",
      "Epoch 00008: val_accuracy did not improve from 0.54474\n",
      "Epoch 9/100\n",
      "410/410 [==============================] - 14s 35ms/step - loss: 0.8567 - accuracy: 0.5848 - val_loss: 0.9176 - val_accuracy: 0.5740\n",
      "\n",
      "Epoch 00009: val_accuracy improved from 0.54474 to 0.57395, saving model to movilenet_v1\n",
      "Epoch 10/100\n",
      "410/410 [==============================] - 14s 35ms/step - loss: 0.8161 - accuracy: 0.6132 - val_loss: 1.0131 - val_accuracy: 0.5600\n",
      "\n",
      "Epoch 00010: val_accuracy did not improve from 0.57395\n",
      "Epoch 11/100\n",
      "410/410 [==============================] - 14s 35ms/step - loss: 0.7589 - accuracy: 0.6486 - val_loss: 1.0623 - val_accuracy: 0.5046\n",
      "\n",
      "Epoch 00011: val_accuracy did not improve from 0.57395\n",
      "Epoch 12/100\n",
      "410/410 [==============================] - 14s 35ms/step - loss: 0.6853 - accuracy: 0.6978 - val_loss: 1.0318 - val_accuracy: 0.5703\n",
      "\n",
      "Epoch 00012: val_accuracy did not improve from 0.57395\n",
      "Epoch 13/100\n",
      "410/410 [==============================] - 14s 35ms/step - loss: 0.6152 - accuracy: 0.7413 - val_loss: 1.5595 - val_accuracy: 0.4400\n",
      "\n",
      "Epoch 00013: val_accuracy did not improve from 0.57395\n",
      "Epoch 14/100\n",
      "410/410 [==============================] - 14s 35ms/step - loss: 0.5461 - accuracy: 0.7732 - val_loss: 1.2026 - val_accuracy: 0.5892\n",
      "\n",
      "Epoch 00014: val_accuracy improved from 0.57395 to 0.58917, saving model to movilenet_v1\n",
      "Epoch 15/100\n",
      "410/410 [==============================] - 14s 34ms/step - loss: 0.4984 - accuracy: 0.7963 - val_loss: 1.0929 - val_accuracy: 0.6044\n",
      "\n",
      "Epoch 00015: val_accuracy improved from 0.58917 to 0.60438, saving model to movilenet_v1\n",
      "Epoch 16/100\n",
      "410/410 [==============================] - 15s 36ms/step - loss: 0.4324 - accuracy: 0.8260 - val_loss: 1.5008 - val_accuracy: 0.5721\n",
      "\n",
      "Epoch 00016: val_accuracy did not improve from 0.60438\n",
      "Epoch 17/100\n",
      "410/410 [==============================] - 14s 35ms/step - loss: 0.3687 - accuracy: 0.8547 - val_loss: 1.3685 - val_accuracy: 0.5910\n",
      "\n",
      "Epoch 00017: val_accuracy did not improve from 0.60438\n",
      "Epoch 18/100\n",
      "410/410 [==============================] - 14s 35ms/step - loss: 0.3413 - accuracy: 0.8663 - val_loss: 1.3041 - val_accuracy: 0.6007\n",
      "\n",
      "Epoch 00018: val_accuracy did not improve from 0.60438\n",
      "Epoch 19/100\n",
      "410/410 [==============================] - 14s 35ms/step - loss: 0.3112 - accuracy: 0.8808 - val_loss: 1.3494 - val_accuracy: 0.5910\n",
      "\n",
      "Epoch 00019: val_accuracy did not improve from 0.60438\n",
      "Epoch 20/100\n",
      "410/410 [==============================] - 14s 35ms/step - loss: 0.2861 - accuracy: 0.8892 - val_loss: 1.4059 - val_accuracy: 0.5971\n",
      "\n",
      "Epoch 00020: val_accuracy did not improve from 0.60438\n",
      "Epoch 21/100\n",
      "410/410 [==============================] - 15s 35ms/step - loss: 0.2561 - accuracy: 0.9057 - val_loss: 1.4941 - val_accuracy: 0.5922\n",
      "\n",
      "Epoch 00021: val_accuracy did not improve from 0.60438\n",
      "Epoch 22/100\n",
      "410/410 [==============================] - 14s 35ms/step - loss: 0.2314 - accuracy: 0.9107 - val_loss: 1.5792 - val_accuracy: 0.6208\n",
      "\n",
      "Epoch 00022: val_accuracy improved from 0.60438 to 0.62082, saving model to movilenet_v1\n",
      "Epoch 23/100\n",
      "410/410 [==============================] - 14s 35ms/step - loss: 0.2129 - accuracy: 0.9200 - val_loss: 1.5649 - val_accuracy: 0.6129\n",
      "\n",
      "Epoch 00023: val_accuracy did not improve from 0.62082\n",
      "Epoch 24/100\n",
      "410/410 [==============================] - 14s 35ms/step - loss: 0.2014 - accuracy: 0.9269 - val_loss: 1.5022 - val_accuracy: 0.6086\n",
      "\n",
      "Epoch 00024: val_accuracy did not improve from 0.62082\n",
      "Epoch 25/100\n",
      "410/410 [==============================] - 15s 36ms/step - loss: 0.1975 - accuracy: 0.9292 - val_loss: 1.9692 - val_accuracy: 0.6001\n",
      "\n",
      "Epoch 00025: val_accuracy did not improve from 0.62082\n",
      "Epoch 26/100\n",
      "410/410 [==============================] - 14s 35ms/step - loss: 0.1750 - accuracy: 0.9391 - val_loss: 1.6291 - val_accuracy: 0.6086\n",
      "\n",
      "Epoch 00026: val_accuracy did not improve from 0.62082\n",
      "Epoch 27/100\n",
      "410/410 [==============================] - 14s 35ms/step - loss: 0.1609 - accuracy: 0.9441 - val_loss: 1.6781 - val_accuracy: 0.6013\n",
      "\n",
      "Epoch 00027: val_accuracy did not improve from 0.62082\n",
      "Epoch 28/100\n",
      "410/410 [==============================] - 14s 35ms/step - loss: 0.1523 - accuracy: 0.9448 - val_loss: 1.8693 - val_accuracy: 0.5983\n",
      "\n",
      "Epoch 00028: val_accuracy did not improve from 0.62082\n",
      "Epoch 29/100\n",
      "410/410 [==============================] - 14s 35ms/step - loss: 0.1559 - accuracy: 0.9452 - val_loss: 1.9824 - val_accuracy: 0.6166\n",
      "\n",
      "Epoch 00029: val_accuracy did not improve from 0.62082\n",
      "Epoch 30/100\n",
      "410/410 [==============================] - 14s 35ms/step - loss: 0.1420 - accuracy: 0.9492 - val_loss: 1.8864 - val_accuracy: 0.6269\n",
      "\n",
      "Epoch 00030: val_accuracy improved from 0.62082 to 0.62690, saving model to movilenet_v1\n",
      "Epoch 31/100\n",
      "410/410 [==============================] - 14s 35ms/step - loss: 0.1462 - accuracy: 0.9480 - val_loss: 1.7902 - val_accuracy: 0.6190\n",
      "\n",
      "Epoch 00031: val_accuracy did not improve from 0.62690\n",
      "Epoch 32/100\n",
      "410/410 [==============================] - 14s 35ms/step - loss: 0.1283 - accuracy: 0.9548 - val_loss: 1.8341 - val_accuracy: 0.6013\n",
      "\n",
      "Epoch 00032: val_accuracy did not improve from 0.62690\n",
      "Epoch 33/100\n",
      "410/410 [==============================] - 14s 35ms/step - loss: 0.1173 - accuracy: 0.9570 - val_loss: 2.0322 - val_accuracy: 0.6129\n",
      "\n",
      "Epoch 00033: val_accuracy did not improve from 0.62690\n",
      "Epoch 34/100\n",
      "410/410 [==============================] - 14s 35ms/step - loss: 0.1116 - accuracy: 0.9602 - val_loss: 2.2539 - val_accuracy: 0.6123\n",
      "\n",
      "Epoch 00034: val_accuracy did not improve from 0.62690\n",
      "Epoch 35/100\n",
      "410/410 [==============================] - 14s 35ms/step - loss: 0.1197 - accuracy: 0.9580 - val_loss: 2.1666 - val_accuracy: 0.5806\n",
      "\n",
      "Epoch 00035: val_accuracy did not improve from 0.62690\n",
      "Epoch 36/100\n",
      "410/410 [==============================] - 14s 35ms/step - loss: 0.1032 - accuracy: 0.9618 - val_loss: 2.3425 - val_accuracy: 0.6330\n",
      "\n",
      "Epoch 00036: val_accuracy improved from 0.62690 to 0.63299, saving model to movilenet_v1\n",
      "Epoch 37/100\n",
      "410/410 [==============================] - 14s 35ms/step - loss: 0.1184 - accuracy: 0.9585 - val_loss: 1.8672 - val_accuracy: 0.6263\n",
      "\n",
      "Epoch 00037: val_accuracy did not improve from 0.63299\n",
      "Epoch 38/100\n",
      "410/410 [==============================] - 14s 35ms/step - loss: 0.0949 - accuracy: 0.9686 - val_loss: 2.0054 - val_accuracy: 0.6202\n",
      "\n",
      "Epoch 00038: val_accuracy did not improve from 0.63299\n",
      "Epoch 39/100\n",
      "410/410 [==============================] - 14s 34ms/step - loss: 0.1030 - accuracy: 0.9646 - val_loss: 1.8384 - val_accuracy: 0.6427\n",
      "\n",
      "Epoch 00039: val_accuracy improved from 0.63299 to 0.64273, saving model to movilenet_v1\n",
      "Epoch 40/100\n",
      "410/410 [==============================] - 15s 36ms/step - loss: 0.0994 - accuracy: 0.9655 - val_loss: 2.2093 - val_accuracy: 0.5946\n",
      "\n",
      "Epoch 00040: val_accuracy did not improve from 0.64273\n",
      "Epoch 41/100\n",
      "410/410 [==============================] - 14s 35ms/step - loss: 0.0953 - accuracy: 0.9707 - val_loss: 2.2055 - val_accuracy: 0.5983\n",
      "\n",
      "Epoch 00041: val_accuracy did not improve from 0.64273\n",
      "Epoch 42/100\n",
      "410/410 [==============================] - 14s 35ms/step - loss: 0.0950 - accuracy: 0.9678 - val_loss: 1.9573 - val_accuracy: 0.6196\n",
      "\n",
      "Epoch 00042: val_accuracy did not improve from 0.64273\n",
      "Epoch 43/100\n",
      "410/410 [==============================] - 14s 35ms/step - loss: 0.0875 - accuracy: 0.9710 - val_loss: 2.2544 - val_accuracy: 0.6275\n",
      "\n",
      "Epoch 00043: val_accuracy did not improve from 0.64273\n",
      "Epoch 44/100\n",
      "410/410 [==============================] - 14s 35ms/step - loss: 0.0917 - accuracy: 0.9684 - val_loss: 2.2982 - val_accuracy: 0.5490\n",
      "\n",
      "Epoch 00044: val_accuracy did not improve from 0.64273\n",
      "Epoch 45/100\n",
      "410/410 [==============================] - 14s 35ms/step - loss: 0.0914 - accuracy: 0.9692 - val_loss: 2.2712 - val_accuracy: 0.6135\n",
      "\n",
      "Epoch 00045: val_accuracy did not improve from 0.64273\n",
      "Epoch 46/100\n",
      "410/410 [==============================] - 14s 35ms/step - loss: 0.0858 - accuracy: 0.9724 - val_loss: 2.3437 - val_accuracy: 0.5910\n",
      "\n",
      "Epoch 00046: val_accuracy did not improve from 0.64273\n",
      "Epoch 47/100\n",
      "410/410 [==============================] - 14s 35ms/step - loss: 0.0812 - accuracy: 0.9727 - val_loss: 2.1114 - val_accuracy: 0.5782\n",
      "\n",
      "Epoch 00047: val_accuracy did not improve from 0.64273\n",
      "Epoch 48/100\n",
      "410/410 [==============================] - 15s 36ms/step - loss: 0.0820 - accuracy: 0.9741 - val_loss: 2.2491 - val_accuracy: 0.6166\n",
      "\n",
      "Epoch 00048: val_accuracy did not improve from 0.64273\n",
      "Epoch 49/100\n",
      "410/410 [==============================] - 14s 35ms/step - loss: 0.0870 - accuracy: 0.9736 - val_loss: 2.3292 - val_accuracy: 0.6099\n",
      "\n",
      "Epoch 00049: ReduceLROnPlateau reducing learning rate to 0.00020000000949949026.\n",
      "\n",
      "Epoch 00049: val_accuracy did not improve from 0.64273\n",
      "Epoch 50/100\n",
      "410/410 [==============================] - 15s 36ms/step - loss: 0.0294 - accuracy: 0.9901 - val_loss: 2.1380 - val_accuracy: 0.6233\n",
      "\n",
      "Epoch 00050: val_accuracy did not improve from 0.64273\n",
      "Epoch 51/100\n",
      "410/410 [==============================] - 14s 35ms/step - loss: 0.0088 - accuracy: 0.9977 - val_loss: 2.5645 - val_accuracy: 0.6360\n",
      "\n",
      "Epoch 00051: val_accuracy did not improve from 0.64273\n",
      "Epoch 52/100\n",
      "410/410 [==============================] - 14s 35ms/step - loss: 0.0042 - accuracy: 0.9989 - val_loss: 2.9185 - val_accuracy: 0.6348\n",
      "\n",
      "Epoch 00052: val_accuracy did not improve from 0.64273\n",
      "Epoch 53/100\n",
      "410/410 [==============================] - 14s 35ms/step - loss: 0.0042 - accuracy: 0.9983 - val_loss: 3.0801 - val_accuracy: 0.6366\n",
      "\n",
      "Epoch 00053: val_accuracy did not improve from 0.64273\n",
      "Epoch 54/100\n",
      "410/410 [==============================] - 14s 34ms/step - loss: 0.0052 - accuracy: 0.9983 - val_loss: 3.1526 - val_accuracy: 0.6263\n",
      "\n",
      "Epoch 00054: val_accuracy did not improve from 0.64273\n",
      "Epoch 55/100\n",
      "410/410 [==============================] - 14s 35ms/step - loss: 0.0030 - accuracy: 0.9986 - val_loss: 3.1844 - val_accuracy: 0.6342\n",
      "\n",
      "Epoch 00055: val_accuracy did not improve from 0.64273\n",
      "Epoch 56/100\n",
      "410/410 [==============================] - 14s 35ms/step - loss: 0.0035 - accuracy: 0.9994 - val_loss: 3.4152 - val_accuracy: 0.6366\n",
      "\n",
      "Epoch 00056: val_accuracy did not improve from 0.64273\n",
      "Epoch 57/100\n",
      "410/410 [==============================] - 14s 35ms/step - loss: 0.0039 - accuracy: 0.9989 - val_loss: 3.5239 - val_accuracy: 0.6360\n",
      "\n",
      "Epoch 00057: val_accuracy did not improve from 0.64273\n",
      "Epoch 58/100\n",
      "410/410 [==============================] - 14s 35ms/step - loss: 0.0032 - accuracy: 0.9994 - val_loss: 3.5147 - val_accuracy: 0.6372\n",
      "\n",
      "Epoch 00058: val_accuracy did not improve from 0.64273\n",
      "Epoch 59/100\n",
      "410/410 [==============================] - 14s 35ms/step - loss: 0.0037 - accuracy: 0.9989 - val_loss: 3.6112 - val_accuracy: 0.6220\n",
      "\n",
      "Epoch 00059: ReduceLROnPlateau reducing learning rate to 4.0000001899898055e-05.\n",
      "Restoring model weights from the end of the best epoch.\n",
      "\n",
      "Epoch 00059: val_accuracy did not improve from 0.64273\n",
      "Epoch 00059: early stopping\n"
     ]
    }
   ],
   "source": [
    "# Non-augmentation\n",
    "train_gen = ImageDataGenerator().flow(X_train, y_train, batch_size = BATCH_SIZE)\n",
    "valid_gen = ImageDataGenerator().flow(X_valid, y_valid, batch_size = BATCH_SIZE)\n",
    "\n",
    "history_mov1 = model.fit(\n",
    "    train_gen\n",
    "    , steps_per_epoch = TRAIN_STEPS\n",
    "    , validation_data = valid_gen\n",
    "    , epochs = 100\n",
    "    , callbacks = [reduceLR, early_stopping, checkpoint]\n",
    ")"
   ]
  },
  {
   "cell_type": "code",
   "execution_count": 26,
   "id": "66154b4c",
   "metadata": {
    "execution": {
     "iopub.execute_input": "2022-11-22T11:33:22.133825Z",
     "iopub.status.busy": "2022-11-22T11:33:22.133411Z",
     "iopub.status.idle": "2022-11-22T11:33:22.547288Z",
     "shell.execute_reply": "2022-11-22T11:33:22.546347Z"
    },
    "papermill": {
     "duration": 1.126635,
     "end_time": "2022-11-22T11:33:22.549509",
     "exception": false,
     "start_time": "2022-11-22T11:33:21.422874",
     "status": "completed"
    },
    "tags": []
   },
   "outputs": [
    {
     "data": {
      "image/png": "[encoded data removed]",
      "text/plain": [
       "<Figure size 1080x360 with 2 Axes>"
      ]
     },
     "metadata": {
      "needs_background": "light"
     },
     "output_type": "display_data"
    }
   ],
   "source": [
    "plt.figure(figsize=(15, 5))\n",
    "\n",
    "plt.subplot(1, 2, 1)\n",
    "plt.plot(history_mov1.history['accuracy'], label='Training Accuracy')\n",
    "plt.plot(history_mov1.history['val_accuracy'], label='Validation Accuracy')\n",
    "plt.legend(loc='lower right')\n",
    "plt.title('Training and Validation Accuracy')\n",
    "\n",
    "plt.subplot(1, 2, 2)\n",
    "plt.plot(history_mov1.history['loss'], label='Training Loss')\n",
    "plt.plot(history_mov1.history['val_loss'], label='Validation Loss')\n",
    "plt.legend(loc='upper right')\n",
    "plt.title('Training and Validation Loss')\n",
    "\n",
    "plt.show()"
   ]
  },
  {
   "cell_type": "code",
   "execution_count": 27,
   "id": "85943e82",
   "metadata": {
    "execution": {
     "iopub.execute_input": "2022-11-22T11:33:23.924473Z",
     "iopub.status.busy": "2022-11-22T11:33:23.924088Z",
     "iopub.status.idle": "2022-11-22T11:33:25.723093Z",
     "shell.execute_reply": "2022-11-22T11:33:25.721832Z"
    },
    "papermill": {
     "duration": 2.505386,
     "end_time": "2022-11-22T11:33:25.726227",
     "exception": false,
     "start_time": "2022-11-22T11:33:23.220841",
     "status": "completed"
    },
    "tags": []
   },
   "outputs": [],
   "source": [
    "train_datagen = ImageDataGenerator(rescale=1/255,\n",
    "                     rotation_range=20,\n",
    "                     width_shift_range=0.1,\n",
    "                     height_shift_range=0.1,\n",
    "                     zoom_range=0.1,\n",
    "                     vertical_flip=True,\n",
    "                     horizontal_flip=True,\n",
    "                     fill_mode='nearest')\n",
    "\n",
    "\n",
    "train_gen_ag = train_datagen.flow(X_train, y_train, batch_size = BATCH_SIZE)"
   ]
  },
  {
   "cell_type": "code",
   "execution_count": 28,
   "id": "1a8e7b52",
   "metadata": {
    "execution": {
     "iopub.execute_input": "2022-11-22T11:33:27.062099Z",
     "iopub.status.busy": "2022-11-22T11:33:27.061738Z",
     "iopub.status.idle": "2022-11-22T11:33:27.067891Z",
     "shell.execute_reply": "2022-11-22T11:33:27.066821Z"
    },
    "papermill": {
     "duration": 0.697201,
     "end_time": "2022-11-22T11:33:27.070495",
     "exception": false,
     "start_time": "2022-11-22T11:33:26.373294",
     "status": "completed"
    },
    "tags": []
   },
   "outputs": [],
   "source": [
    "reduceLR = ReduceLROnPlateau(monitor='val_accuracy', patience=10, verbose= 1, mode='max', factor=  0.2, min_lr = 1e-5)\n",
    "\n",
    "early_stopping = EarlyStopping(monitor='val_accuracy', patience = 20, verbose=1, mode='max', restore_best_weights= True)\n",
    "\n",
    "checkpoint_ag = ModelCheckpoint('movilenet_v1_ag', monitor='val_accuracy', verbose=1,save_best_only=True, mode= 'max')"
   ]
  },
  {
   "cell_type": "code",
   "execution_count": 29,
   "id": "4ddd4131",
   "metadata": {
    "execution": {
     "iopub.execute_input": "2022-11-22T11:33:28.402619Z",
     "iopub.status.busy": "2022-11-22T11:33:28.402106Z",
     "iopub.status.idle": "2022-11-22T11:58:48.618544Z",
     "shell.execute_reply": "2022-11-22T11:58:48.617112Z"
    },
    "papermill": {
     "duration": 1520.914887,
     "end_time": "2022-11-22T11:58:48.620671",
     "exception": false,
     "start_time": "2022-11-22T11:33:27.705784",
     "status": "completed"
    },
    "tags": []
   },
   "outputs": [
    {
     "name": "stdout",
     "output_type": "stream",
     "text": [
      "Epoch 1/100\n",
      "410/410 [==============================] - 28s 69ms/step - loss: 2.4819 - accuracy: 0.5051 - val_loss: 10.2289 - val_accuracy: 0.3474\n",
      "\n",
      "Epoch 00001: val_accuracy improved from -inf to 0.34743, saving model to movilenet_v1_ag\n",
      "Epoch 2/100\n",
      "410/410 [==============================] - 29s 71ms/step - loss: 1.4506 - accuracy: 0.5120 - val_loss: 11.3578 - val_accuracy: 0.2953\n",
      "\n",
      "Epoch 00002: val_accuracy did not improve from 0.34743\n",
      "Epoch 3/100\n",
      "410/410 [==============================] - 29s 71ms/step - loss: 1.0918 - accuracy: 0.5088 - val_loss: 11.0245 - val_accuracy: 0.3107\n",
      "\n",
      "Epoch 00003: val_accuracy did not improve from 0.34743\n",
      "Epoch 4/100\n",
      "410/410 [==============================] - 29s 70ms/step - loss: 0.9983 - accuracy: 0.5126 - val_loss: 9.9684 - val_accuracy: 0.3719\n",
      "\n",
      "Epoch 00004: val_accuracy improved from 0.34743 to 0.37194, saving model to movilenet_v1_ag\n",
      "Epoch 5/100\n",
      "410/410 [==============================] - 29s 71ms/step - loss: 0.9549 - accuracy: 0.5303 - val_loss: 8.5653 - val_accuracy: 0.4614\n",
      "\n",
      "Epoch 00005: val_accuracy improved from 0.37194 to 0.46140, saving model to movilenet_v1_ag\n",
      "Epoch 6/100\n",
      "410/410 [==============================] - 29s 71ms/step - loss: 0.9399 - accuracy: 0.5414 - val_loss: 8.7829 - val_accuracy: 0.4406\n",
      "\n",
      "Epoch 00006: val_accuracy did not improve from 0.46140\n",
      "Epoch 7/100\n",
      "410/410 [==============================] - 29s 71ms/step - loss: 0.9285 - accuracy: 0.5359 - val_loss: 8.3981 - val_accuracy: 0.4694\n",
      "\n",
      "Epoch 00007: val_accuracy improved from 0.46140 to 0.46936, saving model to movilenet_v1_ag\n",
      "Epoch 8/100\n",
      "410/410 [==============================] - 29s 72ms/step - loss: 0.9177 - accuracy: 0.5517 - val_loss: 8.5618 - val_accuracy: 0.4540\n",
      "\n",
      "Epoch 00008: val_accuracy did not improve from 0.46936\n",
      "Epoch 9/100\n",
      "410/410 [==============================] - 29s 70ms/step - loss: 0.9089 - accuracy: 0.5520 - val_loss: 8.1654 - val_accuracy: 0.4792\n",
      "\n",
      "Epoch 00009: val_accuracy improved from 0.46936 to 0.47917, saving model to movilenet_v1_ag\n",
      "Epoch 10/100\n",
      "410/410 [==============================] - 29s 71ms/step - loss: 0.9153 - accuracy: 0.5489 - val_loss: 7.7210 - val_accuracy: 0.5184\n",
      "\n",
      "Epoch 00010: val_accuracy improved from 0.47917 to 0.51838, saving model to movilenet_v1_ag\n",
      "Epoch 11/100\n",
      "410/410 [==============================] - 30s 72ms/step - loss: 0.9097 - accuracy: 0.5501 - val_loss: 7.7259 - val_accuracy: 0.5165\n",
      "\n",
      "Epoch 00011: val_accuracy did not improve from 0.51838\n",
      "Epoch 12/100\n",
      "410/410 [==============================] - 29s 72ms/step - loss: 0.9069 - accuracy: 0.5532 - val_loss: 7.7030 - val_accuracy: 0.5196\n",
      "\n",
      "Epoch 00012: val_accuracy improved from 0.51838 to 0.51961, saving model to movilenet_v1_ag\n",
      "Epoch 13/100\n",
      "410/410 [==============================] - 30s 72ms/step - loss: 0.8989 - accuracy: 0.5579 - val_loss: 7.7504 - val_accuracy: 0.5135\n",
      "\n",
      "Epoch 00013: val_accuracy did not improve from 0.51961\n",
      "Epoch 14/100\n",
      "410/410 [==============================] - 29s 72ms/step - loss: 0.8964 - accuracy: 0.5660 - val_loss: 7.7234 - val_accuracy: 0.5159\n",
      "\n",
      "Epoch 00014: val_accuracy did not improve from 0.51961\n",
      "Epoch 15/100\n",
      "410/410 [==============================] - 29s 71ms/step - loss: 0.8945 - accuracy: 0.5663 - val_loss: 7.4878 - val_accuracy: 0.5337\n",
      "\n",
      "Epoch 00015: val_accuracy improved from 0.51961 to 0.53370, saving model to movilenet_v1_ag\n",
      "Epoch 16/100\n",
      "410/410 [==============================] - 29s 71ms/step - loss: 0.8944 - accuracy: 0.5643 - val_loss: 7.6825 - val_accuracy: 0.5165\n",
      "\n",
      "Epoch 00016: val_accuracy did not improve from 0.53370\n",
      "Epoch 17/100\n",
      "410/410 [==============================] - 29s 71ms/step - loss: 0.8924 - accuracy: 0.5666 - val_loss: 7.6876 - val_accuracy: 0.5196\n",
      "\n",
      "Epoch 00017: val_accuracy did not improve from 0.53370\n",
      "Epoch 18/100\n",
      "410/410 [==============================] - 29s 71ms/step - loss: 0.8873 - accuracy: 0.5703 - val_loss: 7.5582 - val_accuracy: 0.5282\n",
      "\n",
      "Epoch 00018: val_accuracy did not improve from 0.53370\n",
      "Epoch 19/100\n",
      "410/410 [==============================] - 29s 72ms/step - loss: 0.8878 - accuracy: 0.5662 - val_loss: 7.5456 - val_accuracy: 0.5319\n",
      "\n",
      "Epoch 00019: val_accuracy did not improve from 0.53370\n",
      "Epoch 20/100\n",
      "410/410 [==============================] - 29s 71ms/step - loss: 0.8799 - accuracy: 0.5735 - val_loss: 7.5559 - val_accuracy: 0.5306\n",
      "\n",
      "Epoch 00020: val_accuracy did not improve from 0.53370\n",
      "Epoch 21/100\n",
      "410/410 [==============================] - 29s 71ms/step - loss: 0.8827 - accuracy: 0.5729 - val_loss: 7.5752 - val_accuracy: 0.5300\n",
      "\n",
      "Epoch 00021: val_accuracy did not improve from 0.53370\n",
      "Epoch 22/100\n",
      "410/410 [==============================] - 29s 72ms/step - loss: 0.8745 - accuracy: 0.5762 - val_loss: 7.5151 - val_accuracy: 0.5337\n",
      "\n",
      "Epoch 00022: val_accuracy did not improve from 0.53370\n",
      "Epoch 23/100\n",
      "410/410 [==============================] - 29s 72ms/step - loss: 0.8756 - accuracy: 0.5794 - val_loss: 7.5576 - val_accuracy: 0.5306\n",
      "\n",
      "Epoch 00023: val_accuracy did not improve from 0.53370\n",
      "Epoch 24/100\n",
      "410/410 [==============================] - 30s 72ms/step - loss: 0.8796 - accuracy: 0.5687 - val_loss: 7.5320 - val_accuracy: 0.5325\n",
      "\n",
      "Epoch 00024: val_accuracy did not improve from 0.53370\n",
      "Epoch 25/100\n",
      "410/410 [==============================] - 29s 71ms/step - loss: 0.8731 - accuracy: 0.5694 - val_loss: 7.5752 - val_accuracy: 0.5300\n",
      "\n",
      "Epoch 00025: ReduceLROnPlateau reducing learning rate to 1e-05.\n",
      "\n",
      "Epoch 00025: val_accuracy did not improve from 0.53370\n",
      "Epoch 26/100\n",
      "410/410 [==============================] - 30s 72ms/step - loss: 0.8674 - accuracy: 0.5828 - val_loss: 7.5950 - val_accuracy: 0.5288\n",
      "\n",
      "Epoch 00026: val_accuracy did not improve from 0.53370\n",
      "Epoch 27/100\n",
      "410/410 [==============================] - 29s 70ms/step - loss: 0.8720 - accuracy: 0.5781 - val_loss: 7.5614 - val_accuracy: 0.5300\n",
      "\n",
      "Epoch 00027: val_accuracy did not improve from 0.53370\n",
      "Epoch 28/100\n",
      "410/410 [==============================] - 30s 72ms/step - loss: 0.8693 - accuracy: 0.5797 - val_loss: 7.5851 - val_accuracy: 0.5294\n",
      "\n",
      "Epoch 00028: val_accuracy did not improve from 0.53370\n",
      "Epoch 29/100\n",
      "410/410 [==============================] - 30s 73ms/step - loss: 0.8692 - accuracy: 0.5825 - val_loss: 7.5752 - val_accuracy: 0.5300\n",
      "\n",
      "Epoch 00029: val_accuracy did not improve from 0.53370\n",
      "Epoch 30/100\n",
      "410/410 [==============================] - 30s 72ms/step - loss: 0.8683 - accuracy: 0.5811 - val_loss: 7.5851 - val_accuracy: 0.5294\n",
      "\n",
      "Epoch 00030: val_accuracy did not improve from 0.53370\n",
      "Epoch 31/100\n",
      "410/410 [==============================] - 29s 71ms/step - loss: 0.8656 - accuracy: 0.5915 - val_loss: 7.5615 - val_accuracy: 0.5306\n",
      "\n",
      "Epoch 00031: val_accuracy did not improve from 0.53370\n",
      "Epoch 32/100\n",
      "410/410 [==============================] - 29s 72ms/step - loss: 0.8699 - accuracy: 0.5770 - val_loss: 7.5950 - val_accuracy: 0.5288\n",
      "\n",
      "Epoch 00032: val_accuracy did not improve from 0.53370\n",
      "Epoch 33/100\n",
      "410/410 [==============================] - 30s 73ms/step - loss: 0.8702 - accuracy: 0.5762 - val_loss: 7.5851 - val_accuracy: 0.5294\n",
      "\n",
      "Epoch 00033: val_accuracy did not improve from 0.53370\n",
      "Epoch 34/100\n",
      "410/410 [==============================] - 29s 70ms/step - loss: 0.8644 - accuracy: 0.5813 - val_loss: 7.5950 - val_accuracy: 0.5288\n",
      "\n",
      "Epoch 00034: val_accuracy did not improve from 0.53370\n",
      "Epoch 35/100\n",
      "410/410 [==============================] - 30s 72ms/step - loss: 0.8623 - accuracy: 0.5813 - val_loss: 7.5555 - val_accuracy: 0.5312\n",
      "Restoring model weights from the end of the best epoch.\n",
      "\n",
      "Epoch 00035: val_accuracy did not improve from 0.53370\n",
      "Epoch 00035: early stopping\n"
     ]
    }
   ],
   "source": [
    "history_mov1_ag = model.fit(\n",
    "    train_gen_ag\n",
    "    , steps_per_epoch= TRAIN_STEPS\n",
    "    , validation_data=valid_gen\n",
    "    , validation_steps=VAL_STEPS\n",
    "    , epochs= 100\n",
    "    , callbacks= [reduceLR, early_stopping, checkpoint_ag]\n",
    ")"
   ]
  },
  {
   "cell_type": "code",
   "execution_count": 30,
   "id": "aed9cc1e",
   "metadata": {
    "execution": {
     "iopub.execute_input": "2022-11-22T11:58:51.477928Z",
     "iopub.status.busy": "2022-11-22T11:58:51.477534Z",
     "iopub.status.idle": "2022-11-22T11:59:00.453560Z",
     "shell.execute_reply": "2022-11-22T11:59:00.452594Z"
    },
    "papermill": {
     "duration": 10.424401,
     "end_time": "2022-11-22T11:59:00.456416",
     "exception": false,
     "start_time": "2022-11-22T11:58:50.032015",
     "status": "completed"
    },
    "tags": []
   },
   "outputs": [
    {
     "data": {
      "image/png": "[encoded data removed]",
      "text/plain": [
       "<Figure size 1440x1152 with 4 Axes>"
      ]
     },
     "metadata": {
      "needs_background": "light"
     },
     "output_type": "display_data"
    }
   ],
   "source": [
    "plt.figure(figsize=(20, 16))\n",
    "\n",
    "plt.subplot(2, 2, 1)\n",
    "plt.plot(history_mov1.history['accuracy'], label='Training Accuracy')\n",
    "plt.plot(history_mov1.history['val_accuracy'], label='Validation Accuracy')\n",
    "plt.legend(loc='lower right')\n",
    "plt.title('Non-Augmentation Training and Validation Accuracy')\n",
    "\n",
    "plt.subplot(2, 2, 2)\n",
    "plt.plot(history_mov1.history['loss'], label='Training Loss')\n",
    "plt.plot(history_mov1.history['val_loss'], label='Validation Loss')\n",
    "plt.legend(loc='upper right')\n",
    "plt.title('Non-Augmentation Training and Validation Loss')\n",
    "\n",
    "plt.subplot(2, 2, 3)\n",
    "plt.plot(history_mov1_ag.history['accuracy'], label='Training Accuracy')\n",
    "plt.plot(history_mov1_ag.history['val_accuracy'], label='Validation Accuracy')\n",
    "plt.legend(loc='lower right')\n",
    "plt.title('Augmentation Training and Validation Accuracy')\n",
    "\n",
    "plt.subplot(2, 2, 4)\n",
    "plt.plot(history_mov1_ag.history['loss'], label='Training Loss')\n",
    "plt.plot(history_mov1_ag.history['val_loss'], label='Validation Loss')\n",
    "plt.legend(loc='upper right')\n",
    "plt.title('Augmentation Training and Validation Loss')\n",
    "\n",
    "plt.show()"
   ]
  },
  {
   "cell_type": "code",
   "execution_count": 31,
   "id": "0411bbdd",
   "metadata": {
    "collapsed": false,
    "execution": {
     "iopub.execute_input": "2022-11-22T11:59:03.386408Z",
     "iopub.status.busy": "2022-11-22T11:59:03.385355Z",
     "iopub.status.idle": "2022-11-22T11:59:03.391712Z",
     "shell.execute_reply": "2022-11-22T11:59:03.390702Z"
    },
    "jupyter": {
     "outputs_hidden": false
    },
    "papermill": {
     "duration": 1.421703,
     "end_time": "2022-11-22T11:59:03.393804",
     "exception": false,
     "start_time": "2022-11-22T11:59:01.972101",
     "status": "completed"
    },
    "pycharm": {
     "name": "#%%\n"
    },
    "tags": []
   },
   "outputs": [],
   "source": [
    "#이미지 오류남\n",
    "\n",
    "#stage1 = y_train[y_train == 0].index\n",
    "#stage2 = y_train[y_train == 1].index\n",
    "#stage3 = y_train[y_train == 2].index\n",
    "\n",
    "#\n",
    "\n",
    "#stage1 = np.where(y_train == 0)\n",
    "#type(stage1)\n",
    "#stageq = stage1[0]\n",
    "\n",
    "#stage2 = np.where(y_train == 1)\n",
    "#type(stage2)\n",
    "#stagew = stage2[0]\n",
    "\n",
    "#stage3 = np.where(y_train == 2)\n",
    "#type(stage3)\n",
    "#stagee = stage3[0]\n",
    "\n",
    "#\n",
    "\n",
    "#plt.figure(figsize=(20, 20))\n",
    "\n",
    "#for i in range(16):\n",
    "#    plt.subplot(4, 4, i+1)\n",
    "#    plt.suptitle('Type1 Images', fontsize=20) # 하나의 큰 제목 설정\n",
    "#    plt.imshow(X_train[stageq[i]])\n",
    "#    plt.title('Type1')\n",
    "#    plt.subplots_adjust(hspace=0.5)\n",
    "#    plt.axis(False)\n",
    "#plt.show()\n",
    "\n",
    "#\n",
    "\n",
    "#plt.figure(figsize=(20, 20))\n",
    "\n",
    "#for i in range(16):\n",
    "#    plt.subplot(4, 4, i+1)\n",
    "#    plt.suptitle('type2 Images', fontsize=20) # 하나의 큰 제목 설정\n",
    "#    plt.imshow(X_train[stagew[i]])\n",
    "#    plt.title('type2')\n",
    "#    plt.subplots_adjust(hspace=0.5)\n",
    "#    plt.axis(False)\n",
    "#plt.savefig('type2.png', dpi=300)\n",
    "#plt.show()\n",
    "\n",
    "#\n",
    "\n",
    "#plt.figure(figsize=(20, 20))\n",
    "#\n",
    "#for i in range(16):\n",
    "#    plt.subplot(4, 4, i+1)\n",
    "#    plt.suptitle('type3 Images', fontsize=20) # 하나의 큰 제목 설정\n",
    "#    plt.imshow(X_train[stagee[i]])\n",
    "#    plt.title('type3')\n",
    "#    plt.subplots_adjust(hspace=0.5)\n",
    "#    plt.axis(False)\n",
    "#plt.savefig('type3.png', dpi=300)\n",
    "#plt.show()"
   ]
  },
  {
   "cell_type": "code",
   "execution_count": null,
   "id": "27134f81",
   "metadata": {
    "papermill": {
     "duration": 1.46672,
     "end_time": "2022-11-22T11:59:06.529081",
     "exception": false,
     "start_time": "2022-11-22T11:59:05.062361",
     "status": "completed"
    },
    "tags": []
   },
   "outputs": [],
   "source": []
  },
  {
   "cell_type": "code",
   "execution_count": 32,
   "id": "8d5da156",
   "metadata": {
    "execution": {
     "iopub.execute_input": "2022-11-22T11:59:09.533773Z",
     "iopub.status.busy": "2022-11-22T11:59:09.533363Z",
     "iopub.status.idle": "2022-11-22T11:59:09.538876Z",
     "shell.execute_reply": "2022-11-22T11:59:09.537809Z"
    },
    "papermill": {
     "duration": 1.547751,
     "end_time": "2022-11-22T11:59:09.541352",
     "exception": false,
     "start_time": "2022-11-22T11:59:07.993601",
     "status": "completed"
    },
    "pycharm": {
     "name": "#%%\n"
    },
    "tags": []
   },
   "outputs": [],
   "source": [
    "# 참고용\n",
    "# double\n",
    "\n",
    "#history_df_cnn = pd.DataFrame(historycnn.history)\n",
    "#history_df_dnn = pd.DataFrame(historydnn.history)\n",
    "\n",
    "#plt.figure(figsize= (15,6))\n",
    "#plt.subplot(1,2,1)\n",
    "#plt.plot(history_df_cnn['accuracy'], label= 'cnn_accuracy' )\n",
    "## plt.plot(history_df_cnn['val_accuracy'], label= 'val_accuracy')\n",
    "#plt.plot(history_df_dnn['accuracy'], label= 'dnn_accuracy', color='limegreen' )\n",
    "## plt.plot(history_df_dnn['val_accuracy'], label= 'val_accuracy', color='limegreen')\n",
    "## history_df[['acc', 'val_acc']]\n",
    "#plt.xlabel('Epochs')\n",
    "#plt.ylabel('Accuracy')\n",
    "#plt.title('Training and Validation Accuracy History')\n",
    "#plt.legend()\n",
    "\n",
    "# display history of loss\n",
    "#plt.subplot(1,2,2)\n",
    "#plt.plot(history_df_cnn['loss'], label= 'cnn_loss')\n",
    "##plt.plot(history_df_cnn['val_loss'], label= 'val_loss')\n",
    "#plt.plot(history_df_dnn['loss'], label= 'dnn_loss', color='limegreen')\n",
    "##plt.plot(history_df_dnn['val_loss'], label= 'val_loss', color='limegreen')\n",
    "# history_df[['loss', 'val_loss']].plot()\n",
    "#plt.xlabel('Epochs')\n",
    "#plt.ylabel('Loss')\n",
    "#plt.title('Training and Validation Loss History')\n",
    "#plt.legend()\n",
    "#plt.savefig('fig2.png', dpi=300)\n",
    "#plt.show()\n"
   ]
  },
  {
   "cell_type": "code",
   "execution_count": 33,
   "id": "b874d69c",
   "metadata": {
    "execution": {
     "iopub.execute_input": "2022-11-22T11:59:12.476393Z",
     "iopub.status.busy": "2022-11-22T11:59:12.476038Z",
     "iopub.status.idle": "2022-11-22T11:59:12.480733Z",
     "shell.execute_reply": "2022-11-22T11:59:12.479751Z"
    },
    "papermill": {
     "duration": 1.562486,
     "end_time": "2022-11-22T11:59:12.482714",
     "exception": false,
     "start_time": "2022-11-22T11:59:10.920228",
     "status": "completed"
    },
    "tags": []
   },
   "outputs": [],
   "source": [
    "#plt.figure(figsize= (6,6))\n",
    "#plt.plot(history_df_cnn['accuracy'], label= 'cnn_accuracy' )\n",
    "##plt.plot(history_df_cnn['val_loss'], label= 'val_loss')\n",
    "##plt.plot(history_df_dnn['loss'], label= 'dnn_loss', color='limegreen')\n",
    "##plt.plot(history_df_dnn['val_loss'], label= 'val_loss', color='limegreen')\n",
    "## history_df[['loss', 'val_loss']].plot()\n",
    "#plt.xlabel('Epochs')\n",
    "#plt.ylabel('Loss')\n",
    "#plt.title('Training and Validation Loss History')\n",
    "#plt.legend()\n",
    "#plt.savefig('cnnaccuracy.png', dpi=300)\n",
    "#plt.show()"
   ]
  },
  {
   "cell_type": "markdown",
   "id": "094beeb2",
   "metadata": {
    "papermill": {
     "duration": 1.723915,
     "end_time": "2022-11-22T11:59:15.661274",
     "exception": false,
     "start_time": "2022-11-22T11:59:13.937359",
     "status": "completed"
    },
    "tags": []
   },
   "source": [
    "# test data (2차에 활용)"
   ]
  },
  {
   "cell_type": "code",
   "execution_count": 34,
   "id": "01335c70",
   "metadata": {
    "execution": {
     "iopub.execute_input": "2022-11-22T11:59:18.559939Z",
     "iopub.status.busy": "2022-11-22T11:59:18.559572Z",
     "iopub.status.idle": "2022-11-22T11:59:18.564458Z",
     "shell.execute_reply": "2022-11-22T11:59:18.563409Z"
    },
    "papermill": {
     "duration": 1.464616,
     "end_time": "2022-11-22T11:59:18.566364",
     "exception": false,
     "start_time": "2022-11-22T11:59:17.101748",
     "status": "completed"
    },
    "tags": []
   },
   "outputs": [],
   "source": [
    "# test data\n",
    "\n",
    "#test_y = pd.read_csv(\"../input/intel-mobileodt-cervical-cancer-screening/solution_stg1_release.csv\")\n",
    "#test_y.loc[1,['Type_1','Type_2','Type_3']]\n",
    "\n",
    "#root_dir = '../input/intel-mobileodt-cervical-cancer-screening'\n",
    "#test_dir = os.path.join(root_dir,'test', 'test')\n",
    "\n",
    "#test_type = []\n",
    "#test_features = []\n",
    "#i=0\n",
    "#for fn in test_y[['image_name']].to_numpy():\n",
    "#    for filename in fn:\n",
    "#        filepath = os.path.join(test_dir,filename)\n",
    "#        #print(filepath)\n",
    "#        img = cv2.imread(filepath)\n",
    "#        resized_img = cv2.resize(img, (180, 180))\n",
    "#        test_features.append(np.array(resized_img))\n",
    "#        test_type.append(np.array(test_y.loc[i,['Type_1','Type_2','Type_3']]))\n",
    "#        i=i+1\n",
    "    \n",
    "#print( len(test_features))"
   ]
  },
  {
   "cell_type": "code",
   "execution_count": 35,
   "id": "92db0b97",
   "metadata": {
    "execution": {
     "iopub.execute_input": "2022-11-22T11:59:21.481359Z",
     "iopub.status.busy": "2022-11-22T11:59:21.481001Z",
     "iopub.status.idle": "2022-11-22T11:59:21.485252Z",
     "shell.execute_reply": "2022-11-22T11:59:21.484322Z"
    },
    "papermill": {
     "duration": 1.394677,
     "end_time": "2022-11-22T11:59:21.487180",
     "exception": false,
     "start_time": "2022-11-22T11:59:20.092503",
     "status": "completed"
    },
    "tags": []
   },
   "outputs": [],
   "source": [
    "#test_y = pd.read_csv(\"../input/intel-mobileodt-cervical-cancer-screening/solution_stg1_release.csv\")\n",
    "#test_y.loc[1,['Type_1','Type_2','Type_3']]"
   ]
  },
  {
   "cell_type": "code",
   "execution_count": 36,
   "id": "82a70127",
   "metadata": {
    "execution": {
     "iopub.execute_input": "2022-11-22T11:59:24.930765Z",
     "iopub.status.busy": "2022-11-22T11:59:24.930391Z",
     "iopub.status.idle": "2022-11-22T11:59:24.934799Z",
     "shell.execute_reply": "2022-11-22T11:59:24.933782Z"
    },
    "papermill": {
     "duration": 1.858279,
     "end_time": "2022-11-22T11:59:24.936863",
     "exception": false,
     "start_time": "2022-11-22T11:59:23.078584",
     "status": "completed"
    },
    "tags": []
   },
   "outputs": [],
   "source": [
    "#y_test = test_y.loc[:,['Type_1','Type_2','Type_3']]\n",
    "#y_test\n",
    "#import tensorflow as tf"
   ]
  },
  {
   "cell_type": "code",
   "execution_count": 37,
   "id": "c64c6e82",
   "metadata": {
    "execution": {
     "iopub.execute_input": "2022-11-22T11:59:28.209688Z",
     "iopub.status.busy": "2022-11-22T11:59:28.209198Z",
     "iopub.status.idle": "2022-11-22T11:59:28.213905Z",
     "shell.execute_reply": "2022-11-22T11:59:28.212947Z"
    },
    "papermill": {
     "duration": 1.626564,
     "end_time": "2022-11-22T11:59:28.215922",
     "exception": false,
     "start_time": "2022-11-22T11:59:26.589358",
     "status": "completed"
    },
    "tags": []
   },
   "outputs": [],
   "source": [
    "#y_train_onehot"
   ]
  },
  {
   "cell_type": "code",
   "execution_count": 38,
   "id": "285a0864",
   "metadata": {
    "execution": {
     "iopub.execute_input": "2022-11-22T11:59:31.152172Z",
     "iopub.status.busy": "2022-11-22T11:59:31.151754Z",
     "iopub.status.idle": "2022-11-22T11:59:31.156380Z",
     "shell.execute_reply": "2022-11-22T11:59:31.155411Z"
    },
    "papermill": {
     "duration": 1.539753,
     "end_time": "2022-11-22T11:59:31.158493",
     "exception": false,
     "start_time": "2022-11-22T11:59:29.618740",
     "status": "completed"
    },
    "tags": []
   },
   "outputs": [],
   "source": [
    "#print(y_test)\n",
    "#list = []\n",
    "#for d in y_test.index:\n",
    "#    res = y_test.loc[d,:].values.tolist()\n",
    "#    list.append(res)"
   ]
  },
  {
   "cell_type": "code",
   "execution_count": 39,
   "id": "a5d33750",
   "metadata": {
    "execution": {
     "iopub.execute_input": "2022-11-22T11:59:34.126071Z",
     "iopub.status.busy": "2022-11-22T11:59:34.125705Z",
     "iopub.status.idle": "2022-11-22T11:59:34.129919Z",
     "shell.execute_reply": "2022-11-22T11:59:34.128968Z"
    },
    "papermill": {
     "duration": 1.5588,
     "end_time": "2022-11-22T11:59:34.132080",
     "exception": false,
     "start_time": "2022-11-22T11:59:32.573280",
     "status": "completed"
    },
    "tags": []
   },
   "outputs": [],
   "source": [
    "#y_test = np.array(list)\n",
    "#y_test"
   ]
  },
  {
   "cell_type": "code",
   "execution_count": 40,
   "id": "578600bd",
   "metadata": {
    "execution": {
     "iopub.execute_input": "2022-11-22T11:59:37.014414Z",
     "iopub.status.busy": "2022-11-22T11:59:37.014040Z",
     "iopub.status.idle": "2022-11-22T11:59:37.018373Z",
     "shell.execute_reply": "2022-11-22T11:59:37.017452Z"
    },
    "papermill": {
     "duration": 1.474269,
     "end_time": "2022-11-22T11:59:37.020378",
     "exception": false,
     "start_time": "2022-11-22T11:59:35.546109",
     "status": "completed"
    },
    "tags": []
   },
   "outputs": [],
   "source": [
    "# normalize test features\n",
    "#test_X = np.array(test_features)\n",
    "#X_test = test_X/255"
   ]
  },
  {
   "cell_type": "code",
   "execution_count": 41,
   "id": "5f10b8c9",
   "metadata": {
    "execution": {
     "iopub.execute_input": "2022-11-22T11:59:40.142120Z",
     "iopub.status.busy": "2022-11-22T11:59:40.141747Z",
     "iopub.status.idle": "2022-11-22T11:59:40.145980Z",
     "shell.execute_reply": "2022-11-22T11:59:40.145061Z"
    },
    "papermill": {
     "duration": 1.398703,
     "end_time": "2022-11-22T11:59:40.147961",
     "exception": false,
     "start_time": "2022-11-22T11:59:38.749258",
     "status": "completed"
    },
    "tags": []
   },
   "outputs": [],
   "source": [
    "#print(cnn.evaluate(X_test, y_test))\n",
    "#print(dnn.evaluate(X_test, y_test))"
   ]
  }
 ],
 "metadata": {
  "kernelspec": {
   "display_name": "Python 3",
   "language": "python",
   "name": "python3"
  },
  "language_info": {
   "codemirror_mode": {
    "name": "ipython",
    "version": 3
   },
   "file_extension": ".py",
   "mimetype": "text/x-python",
   "name": "python",
   "nbconvert_exporter": "python",
   "pygments_lexer": "ipython3",
   "version": "3.7.12"
  },
  "papermill": {
   "default_parameters": {},
   "duration": 2900.066943,
   "end_time": "2022-11-22T11:59:45.660315",
   "environment_variables": {},
   "exception": null,
   "input_path": "__notebook__.ipynb",
   "output_path": "__notebook__.ipynb",
   "parameters": {},
   "start_time": "2022-11-22T11:11:25.593372",
   "version": "2.3.4"
  }
 },
 "nbformat": 4,
 "nbformat_minor": 5
}
