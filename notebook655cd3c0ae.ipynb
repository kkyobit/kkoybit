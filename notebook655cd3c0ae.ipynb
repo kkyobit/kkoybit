{
 "cells": [
  {
   "cell_type": "code",
   "execution_count": 1,
   "id": "86367d91",
   "metadata": {
    "collapsed": false,
    "execution": {
     "iopub.execute_input": "2022-11-17T16:32:54.867209Z",
     "iopub.status.busy": "2022-11-17T16:32:54.866706Z",
     "iopub.status.idle": "2022-11-17T16:33:22.170512Z",
     "shell.execute_reply": "2022-11-17T16:33:22.169302Z"
    },
    "jupyter": {
     "outputs_hidden": false
    },
    "papermill": {
     "duration": 27.321907,
     "end_time": "2022-11-17T16:33:22.173418",
     "exception": false,
     "start_time": "2022-11-17T16:32:54.851511",
     "status": "completed"
    },
    "pycharm": {
     "name": "#%%\n"
    },
    "tags": []
   },
   "outputs": [
    {
     "name": "stdout",
     "output_type": "stream",
     "text": [
      "Requirement already satisfied: torchmetrics in /opt/conda/lib/python3.7/site-packages (0.10.0)\r\n",
      "Collecting timm\r\n",
      "  Downloading timm-0.6.11-py3-none-any.whl (548 kB)\r\n",
      "\u001b[2K     \u001b[90m━━━━━━━━━━━━━━━━━━━━━━━━━━━━━━━━━━━━━━━\u001b[0m \u001b[32m548.7/548.7 kB\u001b[0m \u001b[31m1.6 MB/s\u001b[0m eta \u001b[36m0:00:00\u001b[0m\r\n",
      "\u001b[?25hRequirement already satisfied: packaging in /opt/conda/lib/python3.7/site-packages (from torchmetrics) (21.3)\r\n",
      "Requirement already satisfied: torch>=1.3.1 in /opt/conda/lib/python3.7/site-packages (from torchmetrics) (1.11.0+cpu)\r\n",
      "Requirement already satisfied: numpy>=1.17.2 in /opt/conda/lib/python3.7/site-packages (from torchmetrics) (1.21.6)\r\n",
      "Requirement already satisfied: typing-extensions in /opt/conda/lib/python3.7/site-packages (from torchmetrics) (4.4.0)\r\n",
      "Requirement already satisfied: torchvision in /opt/conda/lib/python3.7/site-packages (from timm) (0.12.0+cpu)\r\n",
      "Requirement already satisfied: pyyaml in /opt/conda/lib/python3.7/site-packages (from timm) (6.0)\r\n",
      "Requirement already satisfied: huggingface-hub in /opt/conda/lib/python3.7/site-packages (from timm) (0.10.1)\r\n",
      "Requirement already satisfied: requests in /opt/conda/lib/python3.7/site-packages (from huggingface-hub->timm) (2.28.1)\r\n",
      "Requirement already satisfied: filelock in /opt/conda/lib/python3.7/site-packages (from huggingface-hub->timm) (3.7.1)\r\n",
      "Requirement already satisfied: tqdm in /opt/conda/lib/python3.7/site-packages (from huggingface-hub->timm) (4.64.0)\r\n",
      "Requirement already satisfied: importlib-metadata in /opt/conda/lib/python3.7/site-packages (from huggingface-hub->timm) (4.13.0)\r\n",
      "Requirement already satisfied: pyparsing!=3.0.5,>=2.0.2 in /opt/conda/lib/python3.7/site-packages (from packaging->torchmetrics) (3.0.9)\r\n",
      "Requirement already satisfied: pillow!=8.3.*,>=5.3.0 in /opt/conda/lib/python3.7/site-packages (from torchvision->timm) (9.1.1)\r\n",
      "Requirement already satisfied: zipp>=0.5 in /opt/conda/lib/python3.7/site-packages (from importlib-metadata->huggingface-hub->timm) (3.8.0)\r\n",
      "Requirement already satisfied: idna<4,>=2.5 in /opt/conda/lib/python3.7/site-packages (from requests->huggingface-hub->timm) (3.3)\r\n",
      "Requirement already satisfied: charset-normalizer<3,>=2 in /opt/conda/lib/python3.7/site-packages (from requests->huggingface-hub->timm) (2.1.0)\r\n",
      "Requirement already satisfied: certifi>=2017.4.17 in /opt/conda/lib/python3.7/site-packages (from requests->huggingface-hub->timm) (2022.9.24)\r\n",
      "Requirement already satisfied: urllib3<1.27,>=1.21.1 in /opt/conda/lib/python3.7/site-packages (from requests->huggingface-hub->timm) (1.26.12)\r\n",
      "Installing collected packages: timm\r\n",
      "Successfully installed timm-0.6.11\r\n",
      "\u001b[33mWARNING: Running pip as the 'root' user can result in broken permissions and conflicting behaviour with the system package manager. It is recommended to use a virtual environment instead: https://pip.pypa.io/warnings/venv\u001b[0m\u001b[33m\r\n",
      "\u001b[0m"
     ]
    }
   ],
   "source": [
    "!pip install torchmetrics timm\n",
    "import gc\n",
    "import numpy as np\n",
    "import pandas as pd\n",
    "from torch.utils.data import Dataset,DataLoader\n",
    "from torchvision import datasets, models, transforms\n",
    "import torch\n",
    "from matplotlib import pyplot as plt\n",
    "from tensorflow import keras\n",
    "from cv2 import imread\n",
    "from tensorflow.keras.models import Sequential\n",
    "from tensorflow.keras.layers import Activation, Conv2D, MaxPooling2D, Dense, Flatten\n",
    "from tensorflow.keras.layers import Dropout, BatchNormalization \n",
    "from tensorflow.keras.utils import to_categorical\n",
    "from tensorflow.keras.preprocessing import image\n",
    "import torchmetrics \n",
    "import timm\n",
    "import albumentations as A\n",
    "from albumentations.pytorch import ToTensorV2\n",
    "from torch import nn\n",
    "from torch.optim import AdamW,Adam # optmizers\n",
    "import time\n",
    "from keras.callbacks import ModelCheckpoint\n",
    "\n",
    "import matplotlib.pyplot as plt\n",
    "\n",
    "import seaborn as sns\n",
    "import os\n",
    "import glob\n",
    "import plotly.graph_objects as go\n",
    "import cv2\n",
    "from PIL import Image\n",
    "from PIL import ImageFile\n",
    "from sklearn.model_selection import train_test_split\n",
    "from sklearn.preprocessing import LabelEncoder\n",
    "import tensorflow as tf\n",
    "from tensorflow.keras.preprocessing.image import ImageDataGenerator\n",
    "from keras.utils.np_utils import to_categorical\n",
    "from keras.applications.vgg16 import VGG16\n",
    "from tensorflow.keras.optimizers import Adam\n",
    "from keras.callbacks import EarlyStopping, ReduceLROnPlateau,ModelCheckpoint \n",
    "from sklearn.metrics import accuracy_score, confusion_matrix, classification_report\n",
    "import warnings\n",
    "warnings.filterwarnings(\"ignore\")\n",
    "ImageFile.LOAD_TRUNCATED_IMAGES = True\n",
    "\n",
    "from tqdm import tqdm"
   ]
  },
  {
   "cell_type": "markdown",
   "id": "78bec655",
   "metadata": {
    "papermill": {
     "duration": 0.013038,
     "end_time": "2022-11-17T16:33:22.201891",
     "exception": false,
     "start_time": "2022-11-17T16:33:22.188853",
     "status": "completed"
    },
    "tags": []
   },
   "source": [
    "# 데이터"
   ]
  },
  {
   "cell_type": "code",
   "execution_count": 2,
   "id": "bbd03d1e",
   "metadata": {
    "execution": {
     "iopub.execute_input": "2022-11-17T16:33:22.232581Z",
     "iopub.status.busy": "2022-11-17T16:33:22.231791Z",
     "iopub.status.idle": "2022-11-17T16:33:22.276082Z",
     "shell.execute_reply": "2022-11-17T16:33:22.274189Z"
    },
    "papermill": {
     "duration": 0.063167,
     "end_time": "2022-11-17T16:33:22.278850",
     "exception": false,
     "start_time": "2022-11-17T16:33:22.215683",
     "status": "completed"
    },
    "tags": []
   },
   "outputs": [
    {
     "data": {
      "text/html": [
       "<div>\n",
       "<style scoped>\n",
       "    .dataframe tbody tr th:only-of-type {\n",
       "        vertical-align: middle;\n",
       "    }\n",
       "\n",
       "    .dataframe tbody tr th {\n",
       "        vertical-align: top;\n",
       "    }\n",
       "\n",
       "    .dataframe thead th {\n",
       "        text-align: right;\n",
       "    }\n",
       "</style>\n",
       "<table border=\"1\" class=\"dataframe\">\n",
       "  <thead>\n",
       "    <tr style=\"text-align: right;\">\n",
       "      <th></th>\n",
       "      <th>filename</th>\n",
       "      <th>old_label</th>\n",
       "      <th>new_label</th>\n",
       "    </tr>\n",
       "  </thead>\n",
       "  <tbody>\n",
       "    <tr>\n",
       "      <th>0</th>\n",
       "      <td>10.jpg</td>\n",
       "      <td>Type_2</td>\n",
       "      <td>Type_1</td>\n",
       "    </tr>\n",
       "    <tr>\n",
       "      <th>1</th>\n",
       "      <td>1001.jpg</td>\n",
       "      <td>Type_2</td>\n",
       "      <td>Type_1</td>\n",
       "    </tr>\n",
       "    <tr>\n",
       "      <th>2</th>\n",
       "      <td>1002.jpg</td>\n",
       "      <td>Type_3</td>\n",
       "      <td>Type_2</td>\n",
       "    </tr>\n",
       "    <tr>\n",
       "      <th>3</th>\n",
       "      <td>1004.jpg</td>\n",
       "      <td>Type_2</td>\n",
       "      <td>Type_1</td>\n",
       "    </tr>\n",
       "    <tr>\n",
       "      <th>4</th>\n",
       "      <td>1005.jpg</td>\n",
       "      <td>Type_3</td>\n",
       "      <td>Type_1</td>\n",
       "    </tr>\n",
       "    <tr>\n",
       "      <th>...</th>\n",
       "      <td>...</td>\n",
       "      <td>...</td>\n",
       "      <td>...</td>\n",
       "    </tr>\n",
       "    <tr>\n",
       "      <th>1816</th>\n",
       "      <td>975.jpg</td>\n",
       "      <td>Type_2</td>\n",
       "      <td>Type_1</td>\n",
       "    </tr>\n",
       "    <tr>\n",
       "      <th>1817</th>\n",
       "      <td>984.jpg</td>\n",
       "      <td>Type_2</td>\n",
       "      <td>Type_3</td>\n",
       "    </tr>\n",
       "    <tr>\n",
       "      <th>1818</th>\n",
       "      <td>986.jpg</td>\n",
       "      <td>Type_2</td>\n",
       "      <td>Type_1</td>\n",
       "    </tr>\n",
       "    <tr>\n",
       "      <th>1819</th>\n",
       "      <td>988.jpg</td>\n",
       "      <td>Type_2</td>\n",
       "      <td>Type_1</td>\n",
       "    </tr>\n",
       "    <tr>\n",
       "      <th>1820</th>\n",
       "      <td>997.jpg</td>\n",
       "      <td>Type_3</td>\n",
       "      <td>Type_2</td>\n",
       "    </tr>\n",
       "  </tbody>\n",
       "</table>\n",
       "<p>1821 rows × 3 columns</p>\n",
       "</div>"
      ],
      "text/plain": [
       "      filename old_label new_label\n",
       "0       10.jpg    Type_2    Type_1\n",
       "1     1001.jpg    Type_2    Type_1\n",
       "2     1002.jpg    Type_3    Type_2\n",
       "3     1004.jpg    Type_2    Type_1\n",
       "4     1005.jpg    Type_3    Type_1\n",
       "...        ...       ...       ...\n",
       "1816   975.jpg    Type_2    Type_1\n",
       "1817   984.jpg    Type_2    Type_3\n",
       "1818   986.jpg    Type_2    Type_1\n",
       "1819   988.jpg    Type_2    Type_1\n",
       "1820   997.jpg    Type_3    Type_2\n",
       "\n",
       "[1821 rows x 3 columns]"
      ]
     },
     "execution_count": 2,
     "metadata": {},
     "output_type": "execute_result"
    }
   ],
   "source": [
    "label = pd.read_csv(\"../input/intel-mobileodt-cervical-cancer-screening/fixed_labels_v2.csv\")\n",
    "label"
   ]
  },
  {
   "cell_type": "code",
   "execution_count": 3,
   "id": "6bc5c887",
   "metadata": {
    "execution": {
     "iopub.execute_input": "2022-11-17T16:33:22.309273Z",
     "iopub.status.busy": "2022-11-17T16:33:22.308884Z",
     "iopub.status.idle": "2022-11-17T16:33:23.707191Z",
     "shell.execute_reply": "2022-11-17T16:33:23.705478Z"
    },
    "papermill": {
     "duration": 1.417173,
     "end_time": "2022-11-17T16:33:23.710033",
     "exception": false,
     "start_time": "2022-11-17T16:33:22.292860",
     "status": "completed"
    },
    "tags": []
   },
   "outputs": [
    {
     "name": "stdout",
     "output_type": "stream",
     "text": [
      "Type 1 files for training: 1441 \n",
      "Type 2 files for training: 4348\n",
      "Type 3 files for training: 2426\n"
     ]
    }
   ],
   "source": [
    "root_dir = '../input/intel-mobileodt-cervical-cancer-screening'\n",
    "train_dir = os.path.join(root_dir,'train', 'train')\n",
    "\n",
    "type1_dir = os.path.join(train_dir, 'Type_1')\n",
    "type2_dir = os.path.join(train_dir, 'Type_2')\n",
    "type3_dir = os.path.join(train_dir, 'Type_3')\n",
    "\n",
    "train_type1_files = glob.glob(type1_dir+'/*.jpg')\n",
    "train_type2_files = glob.glob(type2_dir+'/*.jpg')\n",
    "train_type3_files = glob.glob(type3_dir+'/*.jpg')\n",
    "\n",
    "added_type1_files  =  glob.glob(os.path.join(root_dir, \"additional_Type_1_v2\", \"Type_1\")+'/*.jpg')\n",
    "added_type2_files  =  glob.glob(os.path.join(root_dir, \"additional_Type_2_v2\", \"Type_2\")+'/*.jpg')\n",
    "added_type3_files  =  glob.glob(os.path.join(root_dir, \"additional_Type_3_v2\", \"Type_3\")+'/*.jpg')\n",
    "\n",
    "\n",
    "type1_files = train_type1_files + added_type1_files\n",
    "type2_files = train_type2_files + added_type2_files\n",
    "type3_files = train_type3_files + added_type3_files\n",
    "\n",
    "print(f'''Type 1 files for training: {len(type1_files)} \n",
    "Type 2 files for training: {len(type2_files)}\n",
    "Type 3 files for training: {len(type3_files)}''' )"
   ]
  },
  {
   "cell_type": "code",
   "execution_count": 4,
   "id": "53f40f81",
   "metadata": {
    "execution": {
     "iopub.execute_input": "2022-11-17T16:33:23.742190Z",
     "iopub.status.busy": "2022-11-17T16:33:23.741740Z",
     "iopub.status.idle": "2022-11-17T16:33:23.763588Z",
     "shell.execute_reply": "2022-11-17T16:33:23.762147Z"
    },
    "papermill": {
     "duration": 0.041469,
     "end_time": "2022-11-17T16:33:23.767096",
     "exception": false,
     "start_time": "2022-11-17T16:33:23.725627",
     "status": "completed"
    },
    "tags": []
   },
   "outputs": [
    {
     "data": {
      "text/html": [
       "<div>\n",
       "<style scoped>\n",
       "    .dataframe tbody tr th:only-of-type {\n",
       "        vertical-align: middle;\n",
       "    }\n",
       "\n",
       "    .dataframe tbody tr th {\n",
       "        vertical-align: top;\n",
       "    }\n",
       "\n",
       "    .dataframe thead th {\n",
       "        text-align: right;\n",
       "    }\n",
       "</style>\n",
       "<table border=\"1\" class=\"dataframe\">\n",
       "  <thead>\n",
       "    <tr style=\"text-align: right;\">\n",
       "      <th></th>\n",
       "      <th>filepath</th>\n",
       "      <th>label</th>\n",
       "    </tr>\n",
       "  </thead>\n",
       "  <tbody>\n",
       "    <tr>\n",
       "      <th>0</th>\n",
       "      <td>../input/intel-mobileodt-cervical-cancer-scree...</td>\n",
       "      <td>Type 1</td>\n",
       "    </tr>\n",
       "    <tr>\n",
       "      <th>1</th>\n",
       "      <td>../input/intel-mobileodt-cervical-cancer-scree...</td>\n",
       "      <td>Type 3</td>\n",
       "    </tr>\n",
       "    <tr>\n",
       "      <th>2</th>\n",
       "      <td>../input/intel-mobileodt-cervical-cancer-scree...</td>\n",
       "      <td>Type 1</td>\n",
       "    </tr>\n",
       "    <tr>\n",
       "      <th>3</th>\n",
       "      <td>../input/intel-mobileodt-cervical-cancer-scree...</td>\n",
       "      <td>Type 2</td>\n",
       "    </tr>\n",
       "    <tr>\n",
       "      <th>4</th>\n",
       "      <td>../input/intel-mobileodt-cervical-cancer-scree...</td>\n",
       "      <td>Type 3</td>\n",
       "    </tr>\n",
       "    <tr>\n",
       "      <th>...</th>\n",
       "      <td>...</td>\n",
       "      <td>...</td>\n",
       "    </tr>\n",
       "    <tr>\n",
       "      <th>8210</th>\n",
       "      <td>../input/intel-mobileodt-cervical-cancer-scree...</td>\n",
       "      <td>Type 2</td>\n",
       "    </tr>\n",
       "    <tr>\n",
       "      <th>8211</th>\n",
       "      <td>../input/intel-mobileodt-cervical-cancer-scree...</td>\n",
       "      <td>Type 3</td>\n",
       "    </tr>\n",
       "    <tr>\n",
       "      <th>8212</th>\n",
       "      <td>../input/intel-mobileodt-cervical-cancer-scree...</td>\n",
       "      <td>Type 1</td>\n",
       "    </tr>\n",
       "    <tr>\n",
       "      <th>8213</th>\n",
       "      <td>../input/intel-mobileodt-cervical-cancer-scree...</td>\n",
       "      <td>Type 2</td>\n",
       "    </tr>\n",
       "    <tr>\n",
       "      <th>8214</th>\n",
       "      <td>../input/intel-mobileodt-cervical-cancer-scree...</td>\n",
       "      <td>Type 1</td>\n",
       "    </tr>\n",
       "  </tbody>\n",
       "</table>\n",
       "<p>8215 rows × 2 columns</p>\n",
       "</div>"
      ],
      "text/plain": [
       "                                               filepath   label\n",
       "0     ../input/intel-mobileodt-cervical-cancer-scree...  Type 1\n",
       "1     ../input/intel-mobileodt-cervical-cancer-scree...  Type 3\n",
       "2     ../input/intel-mobileodt-cervical-cancer-scree...  Type 1\n",
       "3     ../input/intel-mobileodt-cervical-cancer-scree...  Type 2\n",
       "4     ../input/intel-mobileodt-cervical-cancer-scree...  Type 3\n",
       "...                                                 ...     ...\n",
       "8210  ../input/intel-mobileodt-cervical-cancer-scree...  Type 2\n",
       "8211  ../input/intel-mobileodt-cervical-cancer-scree...  Type 3\n",
       "8212  ../input/intel-mobileodt-cervical-cancer-scree...  Type 1\n",
       "8213  ../input/intel-mobileodt-cervical-cancer-scree...  Type 2\n",
       "8214  ../input/intel-mobileodt-cervical-cancer-scree...  Type 1\n",
       "\n",
       "[8215 rows x 2 columns]"
      ]
     },
     "execution_count": 4,
     "metadata": {},
     "output_type": "execute_result"
    }
   ],
   "source": [
    "files = {'filepath': type1_files + type2_files + type3_files,\n",
    "          'label': ['Type 1']* len(type1_files) + ['Type 2']* len(type2_files) + ['Type 3']* len(type3_files)}\n",
    "\n",
    "files_df = pd.DataFrame(files).sample(frac=1, random_state= 1).reset_index(drop=True)\n",
    "files_df"
   ]
  },
  {
   "cell_type": "code",
   "execution_count": 5,
   "id": "f966eb21",
   "metadata": {
    "execution": {
     "iopub.execute_input": "2022-11-17T16:33:23.796526Z",
     "iopub.status.busy": "2022-11-17T16:33:23.796102Z",
     "iopub.status.idle": "2022-11-17T16:35:46.245872Z",
     "shell.execute_reply": "2022-11-17T16:35:46.242463Z"
    },
    "papermill": {
     "duration": 142.468378,
     "end_time": "2022-11-17T16:35:46.249565",
     "exception": false,
     "start_time": "2022-11-17T16:33:23.781187",
     "status": "completed"
    },
    "tags": []
   },
   "outputs": [
    {
     "name": "stderr",
     "output_type": "stream",
     "text": [
      "100%|██████████| 8215/8215 [02:22<00:00, 57.68it/s]\n"
     ]
    }
   ],
   "source": [
    "bad_files = []\n",
    "for path in tqdm(files_df['filepath'].values):\n",
    "    try:\n",
    "        img = Image.open(path)\n",
    "    except:\n",
    "        index = files_df[files_df['filepath']==path].index.values[0]\n",
    "        bad_files.append(index)"
   ]
  },
  {
   "cell_type": "code",
   "execution_count": 6,
   "id": "7fea6c45",
   "metadata": {
    "execution": {
     "iopub.execute_input": "2022-11-17T16:35:46.420718Z",
     "iopub.status.busy": "2022-11-17T16:35:46.419966Z",
     "iopub.status.idle": "2022-11-17T16:35:46.428108Z",
     "shell.execute_reply": "2022-11-17T16:35:46.426772Z"
    },
    "papermill": {
     "duration": 0.095905,
     "end_time": "2022-11-17T16:35:46.430889",
     "exception": false,
     "start_time": "2022-11-17T16:35:46.334984",
     "status": "completed"
    },
    "tags": []
   },
   "outputs": [],
   "source": [
    "bad_files\n",
    "files_df.drop(bad_files, inplace=True)"
   ]
  },
  {
   "cell_type": "code",
   "execution_count": 7,
   "id": "69910e58",
   "metadata": {
    "execution": {
     "iopub.execute_input": "2022-11-17T16:35:46.592881Z",
     "iopub.status.busy": "2022-11-17T16:35:46.592391Z",
     "iopub.status.idle": "2022-11-17T16:35:46.597805Z",
     "shell.execute_reply": "2022-11-17T16:35:46.596102Z"
    },
    "papermill": {
     "duration": 0.088507,
     "end_time": "2022-11-17T16:35:46.600555",
     "exception": false,
     "start_time": "2022-11-17T16:35:46.512048",
     "status": "completed"
    },
    "tags": []
   },
   "outputs": [],
   "source": [
    "# save csv (files_df)\n",
    "#files_df.to_csv('/kaggle/working/dropfiles.csv', sep=',')"
   ]
  },
  {
   "cell_type": "code",
   "execution_count": 8,
   "id": "6ac61bc5",
   "metadata": {
    "execution": {
     "iopub.execute_input": "2022-11-17T16:35:46.761746Z",
     "iopub.status.busy": "2022-11-17T16:35:46.761368Z",
     "iopub.status.idle": "2022-11-17T16:35:46.767519Z",
     "shell.execute_reply": "2022-11-17T16:35:46.766008Z"
    },
    "papermill": {
     "duration": 0.08883,
     "end_time": "2022-11-17T16:35:46.769874",
     "exception": false,
     "start_time": "2022-11-17T16:35:46.681044",
     "status": "completed"
    },
    "tags": []
   },
   "outputs": [],
   "source": [
    "# 정리된 files_df 사용\n",
    "#files_df = pd.read_csv('../input/dropfiles/dropfiles.csv', sep=',').drop('Unnamed: 0', axis=1)\n",
    "#files_df"
   ]
  },
  {
   "cell_type": "code",
   "execution_count": 9,
   "id": "160b4b84",
   "metadata": {
    "execution": {
     "iopub.execute_input": "2022-11-17T16:35:46.931035Z",
     "iopub.status.busy": "2022-11-17T16:35:46.930651Z",
     "iopub.status.idle": "2022-11-17T16:35:46.951704Z",
     "shell.execute_reply": "2022-11-17T16:35:46.950272Z"
    },
    "papermill": {
     "duration": 0.105211,
     "end_time": "2022-11-17T16:35:46.954440",
     "exception": false,
     "start_time": "2022-11-17T16:35:46.849229",
     "status": "completed"
    },
    "tags": []
   },
   "outputs": [
    {
     "data": {
      "text/html": [
       "<div>\n",
       "<style scoped>\n",
       "    .dataframe tbody tr th:only-of-type {\n",
       "        vertical-align: middle;\n",
       "    }\n",
       "\n",
       "    .dataframe tbody tr th {\n",
       "        vertical-align: top;\n",
       "    }\n",
       "\n",
       "    .dataframe thead th {\n",
       "        text-align: right;\n",
       "    }\n",
       "</style>\n",
       "<table border=\"1\" class=\"dataframe\">\n",
       "  <thead>\n",
       "    <tr style=\"text-align: right;\">\n",
       "      <th></th>\n",
       "      <th>Num_Values</th>\n",
       "    </tr>\n",
       "  </thead>\n",
       "  <tbody>\n",
       "    <tr>\n",
       "      <th>Type 2</th>\n",
       "      <td>4346</td>\n",
       "    </tr>\n",
       "    <tr>\n",
       "      <th>Type 3</th>\n",
       "      <td>2426</td>\n",
       "    </tr>\n",
       "    <tr>\n",
       "      <th>Type 1</th>\n",
       "      <td>1440</td>\n",
       "    </tr>\n",
       "  </tbody>\n",
       "</table>\n",
       "</div>"
      ],
      "text/plain": [
       "        Num_Values\n",
       "Type 2        4346\n",
       "Type 3        2426\n",
       "Type 1        1440"
      ]
     },
     "execution_count": 9,
     "metadata": {},
     "output_type": "execute_result"
    }
   ],
   "source": [
    "# get count of each type \n",
    "type_count = pd.DataFrame(files_df['label'].value_counts()).rename(columns= {'label': 'Num_Values'})\n",
    "type_count"
   ]
  },
  {
   "cell_type": "code",
   "execution_count": 10,
   "id": "eac7abbb",
   "metadata": {
    "collapsed": false,
    "execution": {
     "iopub.execute_input": "2022-11-17T16:35:47.116012Z",
     "iopub.status.busy": "2022-11-17T16:35:47.114555Z",
     "iopub.status.idle": "2022-11-17T16:35:47.311220Z",
     "shell.execute_reply": "2022-11-17T16:35:47.310137Z"
    },
    "jupyter": {
     "outputs_hidden": false
    },
    "papermill": {
     "duration": 0.279227,
     "end_time": "2022-11-17T16:35:47.313394",
     "exception": false,
     "start_time": "2022-11-17T16:35:47.034167",
     "status": "completed"
    },
    "pycharm": {
     "name": "#%%\n"
    },
    "tags": []
   },
   "outputs": [
    {
     "data": {
      "image/png": "[encoded data removed]",
      "text/plain": [
       "<Figure size 1080x432 with 1 Axes>"
      ]
     },
     "metadata": {
      "needs_background": "light"
     },
     "output_type": "display_data"
    }
   ],
   "source": [
    "plt.figure(figsize = (15, 6))\n",
    "sns.barplot(x= type_count['Num_Values'], y= type_count.index.to_list())\n",
    "plt.title('Type Distribution')\n",
    "plt.grid(True)\n",
    "plt.show()"
   ]
  },
  {
   "cell_type": "code",
   "execution_count": 11,
   "id": "b30aa8cb",
   "metadata": {
    "execution": {
     "iopub.execute_input": "2022-11-17T16:35:47.477826Z",
     "iopub.status.busy": "2022-11-17T16:35:47.477400Z",
     "iopub.status.idle": "2022-11-17T16:35:47.642613Z",
     "shell.execute_reply": "2022-11-17T16:35:47.641414Z"
    },
    "papermill": {
     "duration": 0.249353,
     "end_time": "2022-11-17T16:35:47.644666",
     "exception": false,
     "start_time": "2022-11-17T16:35:47.395313",
     "status": "completed"
    },
    "tags": []
   },
   "outputs": [
    {
     "data": {
      "text/html": [
       "        <script type=\"text/javascript\">\n",
       "        window.PlotlyConfig = {MathJaxConfig: 'local'};\n",
       "        if (window.MathJax && window.MathJax.Hub && window.MathJax.Hub.Config) {window.MathJax.Hub.Config({SVG: {font: \"STIX-Web\"}});}\n",
       "        if (typeof require !== 'undefined') {\n",
       "        require.undef(\"plotly\");\n",
       "        requirejs.config({\n",
       "            paths: {\n",
       "                'plotly': ['https://cdn.plot.ly/plotly-2.14.0.min']\n",
       "            }\n",
       "        });\n",
       "        require(['plotly'], function(Plotly) {\n",
       "            window._Plotly = Plotly;\n",
       "        });\n",
       "        }\n",
       "        </script>\n",
       "        "
      ]
     },
     "metadata": {},
     "output_type": "display_data"
    },
    {
     "data": {
      "text/html": [
       "<div>                            <div id=\"a5159974-d91b-4eb3-aa3e-ea2b12fb509d\" class=\"plotly-graph-div\" style=\"height:525px; width:100%;\"></div>            <script type=\"text/javascript\">                require([\"plotly\"], function(Plotly) {                    window.PLOTLYENV=window.PLOTLYENV || {};                                    if (document.getElementById(\"a5159974-d91b-4eb3-aa3e-ea2b12fb509d\")) {                    Plotly.newPlot(                        \"a5159974-d91b-4eb3-aa3e-ea2b12fb509d\",                        [{\"hole\":0.2,\"labels\":[\"Type 2\",\"Type 3\",\"Type 1\"],\"text\":[\"Type 2\",\"Type 3\",\"Type 1\"],\"textposition\":\"auto\",\"values\":[4346,2426,1440],\"type\":\"pie\"}],                        {\"template\":{\"data\":{\"histogram2dcontour\":[{\"type\":\"histogram2dcontour\",\"colorbar\":{\"outlinewidth\":0,\"ticks\":\"\"},\"colorscale\":[[0.0,\"#0d0887\"],[0.1111111111111111,\"#46039f\"],[0.2222222222222222,\"#7201a8\"],[0.3333333333333333,\"#9c179e\"],[0.4444444444444444,\"#bd3786\"],[0.5555555555555556,\"#d8576b\"],[0.6666666666666666,\"#ed7953\"],[0.7777777777777778,\"#fb9f3a\"],[0.8888888888888888,\"#fdca26\"],[1.0,\"#f0f921\"]]}],\"choropleth\":[{\"type\":\"choropleth\",\"colorbar\":{\"outlinewidth\":0,\"ticks\":\"\"}}],\"histogram2d\":[{\"type\":\"histogram2d\",\"colorbar\":{\"outlinewidth\":0,\"ticks\":\"\"},\"colorscale\":[[0.0,\"#0d0887\"],[0.1111111111111111,\"#46039f\"],[0.2222222222222222,\"#7201a8\"],[0.3333333333333333,\"#9c179e\"],[0.4444444444444444,\"#bd3786\"],[0.5555555555555556,\"#d8576b\"],[0.6666666666666666,\"#ed7953\"],[0.7777777777777778,\"#fb9f3a\"],[0.8888888888888888,\"#fdca26\"],[1.0,\"#f0f921\"]]}],\"heatmap\":[{\"type\":\"heatmap\",\"colorbar\":{\"outlinewidth\":0,\"ticks\":\"\"},\"colorscale\":[[0.0,\"#0d0887\"],[0.1111111111111111,\"#46039f\"],[0.2222222222222222,\"#7201a8\"],[0.3333333333333333,\"#9c179e\"],[0.4444444444444444,\"#bd3786\"],[0.5555555555555556,\"#d8576b\"],[0.6666666666666666,\"#ed7953\"],[0.7777777777777778,\"#fb9f3a\"],[0.8888888888888888,\"#fdca26\"],[1.0,\"#f0f921\"]]}],\"heatmapgl\":[{\"type\":\"heatmapgl\",\"colorbar\":{\"outlinewidth\":0,\"ticks\":\"\"},\"colorscale\":[[0.0,\"#0d0887\"],[0.1111111111111111,\"#46039f\"],[0.2222222222222222,\"#7201a8\"],[0.3333333333333333,\"#9c179e\"],[0.4444444444444444,\"#bd3786\"],[0.5555555555555556,\"#d8576b\"],[0.6666666666666666,\"#ed7953\"],[0.7777777777777778,\"#fb9f3a\"],[0.8888888888888888,\"#fdca26\"],[1.0,\"#f0f921\"]]}],\"contourcarpet\":[{\"type\":\"contourcarpet\",\"colorbar\":{\"outlinewidth\":0,\"ticks\":\"\"}}],\"contour\":[{\"type\":\"contour\",\"colorbar\":{\"outlinewidth\":0,\"ticks\":\"\"},\"colorscale\":[[0.0,\"#0d0887\"],[0.1111111111111111,\"#46039f\"],[0.2222222222222222,\"#7201a8\"],[0.3333333333333333,\"#9c179e\"],[0.4444444444444444,\"#bd3786\"],[0.5555555555555556,\"#d8576b\"],[0.6666666666666666,\"#ed7953\"],[0.7777777777777778,\"#fb9f3a\"],[0.8888888888888888,\"#fdca26\"],[1.0,\"#f0f921\"]]}],\"surface\":[{\"type\":\"surface\",\"colorbar\":{\"outlinewidth\":0,\"ticks\":\"\"},\"colorscale\":[[0.0,\"#0d0887\"],[0.1111111111111111,\"#46039f\"],[0.2222222222222222,\"#7201a8\"],[0.3333333333333333,\"#9c179e\"],[0.4444444444444444,\"#bd3786\"],[0.5555555555555556,\"#d8576b\"],[0.6666666666666666,\"#ed7953\"],[0.7777777777777778,\"#fb9f3a\"],[0.8888888888888888,\"#fdca26\"],[1.0,\"#f0f921\"]]}],\"mesh3d\":[{\"type\":\"mesh3d\",\"colorbar\":{\"outlinewidth\":0,\"ticks\":\"\"}}],\"scatter\":[{\"fillpattern\":{\"fillmode\":\"overlay\",\"size\":10,\"solidity\":0.2},\"type\":\"scatter\"}],\"parcoords\":[{\"type\":\"parcoords\",\"line\":{\"colorbar\":{\"outlinewidth\":0,\"ticks\":\"\"}}}],\"scatterpolargl\":[{\"type\":\"scatterpolargl\",\"marker\":{\"colorbar\":{\"outlinewidth\":0,\"ticks\":\"\"}}}],\"bar\":[{\"error_x\":{\"color\":\"#2a3f5f\"},\"error_y\":{\"color\":\"#2a3f5f\"},\"marker\":{\"line\":{\"color\":\"#E5ECF6\",\"width\":0.5},\"pattern\":{\"fillmode\":\"overlay\",\"size\":10,\"solidity\":0.2}},\"type\":\"bar\"}],\"scattergeo\":[{\"type\":\"scattergeo\",\"marker\":{\"colorbar\":{\"outlinewidth\":0,\"ticks\":\"\"}}}],\"scatterpolar\":[{\"type\":\"scatterpolar\",\"marker\":{\"colorbar\":{\"outlinewidth\":0,\"ticks\":\"\"}}}],\"histogram\":[{\"marker\":{\"pattern\":{\"fillmode\":\"overlay\",\"size\":10,\"solidity\":0.2}},\"type\":\"histogram\"}],\"scattergl\":[{\"type\":\"scattergl\",\"marker\":{\"colorbar\":{\"outlinewidth\":0,\"ticks\":\"\"}}}],\"scatter3d\":[{\"type\":\"scatter3d\",\"line\":{\"colorbar\":{\"outlinewidth\":0,\"ticks\":\"\"}},\"marker\":{\"colorbar\":{\"outlinewidth\":0,\"ticks\":\"\"}}}],\"scattermapbox\":[{\"type\":\"scattermapbox\",\"marker\":{\"colorbar\":{\"outlinewidth\":0,\"ticks\":\"\"}}}],\"scatterternary\":[{\"type\":\"scatterternary\",\"marker\":{\"colorbar\":{\"outlinewidth\":0,\"ticks\":\"\"}}}],\"scattercarpet\":[{\"type\":\"scattercarpet\",\"marker\":{\"colorbar\":{\"outlinewidth\":0,\"ticks\":\"\"}}}],\"carpet\":[{\"aaxis\":{\"endlinecolor\":\"#2a3f5f\",\"gridcolor\":\"white\",\"linecolor\":\"white\",\"minorgridcolor\":\"white\",\"startlinecolor\":\"#2a3f5f\"},\"baxis\":{\"endlinecolor\":\"#2a3f5f\",\"gridcolor\":\"white\",\"linecolor\":\"white\",\"minorgridcolor\":\"white\",\"startlinecolor\":\"#2a3f5f\"},\"type\":\"carpet\"}],\"table\":[{\"cells\":{\"fill\":{\"color\":\"#EBF0F8\"},\"line\":{\"color\":\"white\"}},\"header\":{\"fill\":{\"color\":\"#C8D4E3\"},\"line\":{\"color\":\"white\"}},\"type\":\"table\"}],\"barpolar\":[{\"marker\":{\"line\":{\"color\":\"#E5ECF6\",\"width\":0.5},\"pattern\":{\"fillmode\":\"overlay\",\"size\":10,\"solidity\":0.2}},\"type\":\"barpolar\"}],\"pie\":[{\"automargin\":true,\"type\":\"pie\"}]},\"layout\":{\"autotypenumbers\":\"strict\",\"colorway\":[\"#636efa\",\"#EF553B\",\"#00cc96\",\"#ab63fa\",\"#FFA15A\",\"#19d3f3\",\"#FF6692\",\"#B6E880\",\"#FF97FF\",\"#FECB52\"],\"font\":{\"color\":\"#2a3f5f\"},\"hovermode\":\"closest\",\"hoverlabel\":{\"align\":\"left\"},\"paper_bgcolor\":\"white\",\"plot_bgcolor\":\"#E5ECF6\",\"polar\":{\"bgcolor\":\"#E5ECF6\",\"angularaxis\":{\"gridcolor\":\"white\",\"linecolor\":\"white\",\"ticks\":\"\"},\"radialaxis\":{\"gridcolor\":\"white\",\"linecolor\":\"white\",\"ticks\":\"\"}},\"ternary\":{\"bgcolor\":\"#E5ECF6\",\"aaxis\":{\"gridcolor\":\"white\",\"linecolor\":\"white\",\"ticks\":\"\"},\"baxis\":{\"gridcolor\":\"white\",\"linecolor\":\"white\",\"ticks\":\"\"},\"caxis\":{\"gridcolor\":\"white\",\"linecolor\":\"white\",\"ticks\":\"\"}},\"coloraxis\":{\"colorbar\":{\"outlinewidth\":0,\"ticks\":\"\"}},\"colorscale\":{\"sequential\":[[0.0,\"#0d0887\"],[0.1111111111111111,\"#46039f\"],[0.2222222222222222,\"#7201a8\"],[0.3333333333333333,\"#9c179e\"],[0.4444444444444444,\"#bd3786\"],[0.5555555555555556,\"#d8576b\"],[0.6666666666666666,\"#ed7953\"],[0.7777777777777778,\"#fb9f3a\"],[0.8888888888888888,\"#fdca26\"],[1.0,\"#f0f921\"]],\"sequentialminus\":[[0.0,\"#0d0887\"],[0.1111111111111111,\"#46039f\"],[0.2222222222222222,\"#7201a8\"],[0.3333333333333333,\"#9c179e\"],[0.4444444444444444,\"#bd3786\"],[0.5555555555555556,\"#d8576b\"],[0.6666666666666666,\"#ed7953\"],[0.7777777777777778,\"#fb9f3a\"],[0.8888888888888888,\"#fdca26\"],[1.0,\"#f0f921\"]],\"diverging\":[[0,\"#8e0152\"],[0.1,\"#c51b7d\"],[0.2,\"#de77ae\"],[0.3,\"#f1b6da\"],[0.4,\"#fde0ef\"],[0.5,\"#f7f7f7\"],[0.6,\"#e6f5d0\"],[0.7,\"#b8e186\"],[0.8,\"#7fbc41\"],[0.9,\"#4d9221\"],[1,\"#276419\"]]},\"xaxis\":{\"gridcolor\":\"white\",\"linecolor\":\"white\",\"ticks\":\"\",\"title\":{\"standoff\":15},\"zerolinecolor\":\"white\",\"automargin\":true,\"zerolinewidth\":2},\"yaxis\":{\"gridcolor\":\"white\",\"linecolor\":\"white\",\"ticks\":\"\",\"title\":{\"standoff\":15},\"zerolinecolor\":\"white\",\"automargin\":true,\"zerolinewidth\":2},\"scene\":{\"xaxis\":{\"backgroundcolor\":\"#E5ECF6\",\"gridcolor\":\"white\",\"linecolor\":\"white\",\"showbackground\":true,\"ticks\":\"\",\"zerolinecolor\":\"white\",\"gridwidth\":2},\"yaxis\":{\"backgroundcolor\":\"#E5ECF6\",\"gridcolor\":\"white\",\"linecolor\":\"white\",\"showbackground\":true,\"ticks\":\"\",\"zerolinecolor\":\"white\",\"gridwidth\":2},\"zaxis\":{\"backgroundcolor\":\"#E5ECF6\",\"gridcolor\":\"white\",\"linecolor\":\"white\",\"showbackground\":true,\"ticks\":\"\",\"zerolinecolor\":\"white\",\"gridwidth\":2}},\"shapedefaults\":{\"line\":{\"color\":\"#2a3f5f\"}},\"annotationdefaults\":{\"arrowcolor\":\"#2a3f5f\",\"arrowhead\":0,\"arrowwidth\":1},\"geo\":{\"bgcolor\":\"white\",\"landcolor\":\"#E5ECF6\",\"subunitcolor\":\"white\",\"showland\":true,\"showlakes\":true,\"lakecolor\":\"white\"},\"title\":{\"x\":0.05},\"mapbox\":{\"style\":\"light\"}}},\"title\":{\"text\":\"Pie Chart of Type Distribution\"}},                        {\"responsive\": true}                    ).then(function(){\n",
       "                            \n",
       "var gd = document.getElementById('a5159974-d91b-4eb3-aa3e-ea2b12fb509d');\n",
       "var x = new MutationObserver(function (mutations, observer) {{\n",
       "        var display = window.getComputedStyle(gd).display;\n",
       "        if (!display || display === 'none') {{\n",
       "            console.log([gd, 'removed!']);\n",
       "            Plotly.purge(gd);\n",
       "            observer.disconnect();\n",
       "        }}\n",
       "}});\n",
       "\n",
       "// Listen for the removal of the full notebook cells\n",
       "var notebookContainer = gd.closest('#notebook-container');\n",
       "if (notebookContainer) {{\n",
       "    x.observe(notebookContainer, {childList: true});\n",
       "}}\n",
       "\n",
       "// Listen for the clearing of the current output cell\n",
       "var outputEl = gd.closest('.output');\n",
       "if (outputEl) {{\n",
       "    x.observe(outputEl, {childList: true});\n",
       "}}\n",
       "\n",
       "                        })                };                });            </script>        </div>"
      ]
     },
     "metadata": {},
     "output_type": "display_data"
    }
   ],
   "source": [
    "pie_plot = go.Pie(labels= type_count.index.to_list(), values= type_count.values.flatten(),\n",
    "                 hole= 0.2, text= type_count.index.to_list(), textposition='auto')\n",
    "fig = go.Figure([pie_plot])\n",
    "fig.update_layout(title_text='Pie Chart of Type Distribution')\n",
    "fig.show()"
   ]
  },
  {
   "cell_type": "markdown",
   "id": "86b039dd",
   "metadata": {
    "papermill": {
     "duration": 0.080518,
     "end_time": "2022-11-17T16:35:47.806526",
     "exception": false,
     "start_time": "2022-11-17T16:35:47.726008",
     "status": "completed"
    },
    "tags": []
   },
   "source": [
    "# 데이터 분리"
   ]
  },
  {
   "cell_type": "code",
   "execution_count": 12,
   "id": "0b3f73a7",
   "metadata": {
    "execution": {
     "iopub.execute_input": "2022-11-17T16:35:47.968539Z",
     "iopub.status.busy": "2022-11-17T16:35:47.968140Z",
     "iopub.status.idle": "2022-11-17T16:35:47.986131Z",
     "shell.execute_reply": "2022-11-17T16:35:47.984407Z"
    },
    "papermill": {
     "duration": 0.104272,
     "end_time": "2022-11-17T16:35:47.990320",
     "exception": false,
     "start_time": "2022-11-17T16:35:47.886048",
     "status": "completed"
    },
    "tags": []
   },
   "outputs": [
    {
     "name": "stdout",
     "output_type": "stream",
     "text": [
      "6569 1643\n"
     ]
    }
   ],
   "source": [
    "# Train / Validation\n",
    "\n",
    "train_df, valid_df = train_test_split(files_df, test_size = 0.2, stratify = files_df['label'], random_state = 1234)\n",
    "\n",
    "print(len(train_df), len(valid_df))"
   ]
  },
  {
   "cell_type": "code",
   "execution_count": 13,
   "id": "5f492e9c",
   "metadata": {
    "execution": {
     "iopub.execute_input": "2022-11-17T16:35:48.154246Z",
     "iopub.status.busy": "2022-11-17T16:35:48.153192Z",
     "iopub.status.idle": "2022-11-17T16:35:48.162555Z",
     "shell.execute_reply": "2022-11-17T16:35:48.161429Z"
    },
    "papermill": {
     "duration": 0.095332,
     "end_time": "2022-11-17T16:35:48.165203",
     "exception": false,
     "start_time": "2022-11-17T16:35:48.069871",
     "status": "completed"
    },
    "tags": []
   },
   "outputs": [],
   "source": [
    "X_train = train_df[['filepath']]\n",
    "y_train = train_df[['label']]\n",
    "X_train = X_train.reset_index(drop=True)\n",
    "y_train = y_train.reset_index(drop=True)"
   ]
  },
  {
   "cell_type": "code",
   "execution_count": 14,
   "id": "5a91d6ab",
   "metadata": {
    "execution": {
     "iopub.execute_input": "2022-11-17T16:35:48.330298Z",
     "iopub.status.busy": "2022-11-17T16:35:48.329873Z",
     "iopub.status.idle": "2022-11-17T16:35:48.339860Z",
     "shell.execute_reply": "2022-11-17T16:35:48.338126Z"
    },
    "papermill": {
     "duration": 0.095996,
     "end_time": "2022-11-17T16:35:48.342313",
     "exception": false,
     "start_time": "2022-11-17T16:35:48.246317",
     "status": "completed"
    },
    "tags": []
   },
   "outputs": [
    {
     "name": "stdout",
     "output_type": "stream",
     "text": [
      "6569 6569 1643 1643\n"
     ]
    }
   ],
   "source": [
    "X_valid = valid_df[['filepath']].reset_index(drop=True)\n",
    "y_valid = valid_df[['label']].reset_index(drop=True)\n",
    "\n",
    "print(len(X_train), len(y_train), len(X_valid),len(y_valid))"
   ]
  },
  {
   "cell_type": "markdown",
   "id": "04500141",
   "metadata": {
    "papermill": {
     "duration": 0.084153,
     "end_time": "2022-11-17T16:35:48.509611",
     "exception": false,
     "start_time": "2022-11-17T16:35:48.425458",
     "status": "completed"
    },
    "tags": []
   },
   "source": [
    "# 데이터 전처리"
   ]
  },
  {
   "cell_type": "code",
   "execution_count": 15,
   "id": "039cd1e1",
   "metadata": {
    "execution": {
     "iopub.execute_input": "2022-11-17T16:35:48.676695Z",
     "iopub.status.busy": "2022-11-17T16:35:48.675436Z",
     "iopub.status.idle": "2022-11-17T16:35:48.682366Z",
     "shell.execute_reply": "2022-11-17T16:35:48.680748Z"
    },
    "papermill": {
     "duration": 0.092409,
     "end_time": "2022-11-17T16:35:48.685206",
     "exception": false,
     "start_time": "2022-11-17T16:35:48.592797",
     "status": "completed"
    },
    "tags": []
   },
   "outputs": [],
   "source": [
    "# save train data as npy files\n",
    "\n",
    "#np.save('/kaggle/working/X_train_25', X_train)\n",
    "#np.save('/kaggle/working/y_train_25', y_train)"
   ]
  },
  {
   "cell_type": "code",
   "execution_count": 16,
   "id": "f79056f1",
   "metadata": {
    "execution": {
     "iopub.execute_input": "2022-11-17T16:35:48.859640Z",
     "iopub.status.busy": "2022-11-17T16:35:48.859197Z",
     "iopub.status.idle": "2022-11-17T16:56:46.988172Z",
     "shell.execute_reply": "2022-11-17T16:56:46.986676Z"
    },
    "papermill": {
     "duration": 1258.215419,
     "end_time": "2022-11-17T16:56:46.991217",
     "exception": false,
     "start_time": "2022-11-17T16:35:48.775798",
     "status": "completed"
    },
    "tags": []
   },
   "outputs": [
    {
     "name": "stderr",
     "output_type": "stream",
     "text": [
      " 23%|██▎       | 1503/6569 [04:34<17:08,  4.92it/s]Premature end of JPEG file\n",
      " 85%|████████▍ | 5581/6569 [17:22<02:51,  5.75it/s]Premature end of JPEG file\n",
      "100%|██████████| 6569/6569 [20:57<00:00,  5.22it/s]\n"
     ]
    }
   ],
   "source": [
    "features = []\n",
    "f_app = features.append\n",
    "path = train_df['filepath'].values\n",
    "labels = train_df['label'].values\n",
    "for p in tqdm(path):\n",
    "    image = cv2.imread(p)\n",
    "    image = cv2.cvtColor(image, cv2.COLOR_RGB2BGR)\n",
    "    re_image = cv2.resize(image, (128,128))\n",
    "    f_app(np.array(re_image))\n",
    "\n",
    "X_train = np.array(features)\n",
    "y_train = np.array(labels)"
   ]
  },
  {
   "cell_type": "code",
   "execution_count": 17,
   "id": "3900cd33",
   "metadata": {
    "execution": {
     "iopub.execute_input": "2022-11-17T16:56:48.088744Z",
     "iopub.status.busy": "2022-11-17T16:56:48.088266Z",
     "iopub.status.idle": "2022-11-17T16:56:48.094824Z",
     "shell.execute_reply": "2022-11-17T16:56:48.092900Z"
    },
    "papermill": {
     "duration": 0.617085,
     "end_time": "2022-11-17T16:56:48.097948",
     "exception": false,
     "start_time": "2022-11-17T16:56:47.480863",
     "status": "completed"
    },
    "tags": []
   },
   "outputs": [],
   "source": [
    "# 소요시간줄이는코드 (추가 수정 필요)\n",
    "#path = train_df['filepath'].values\n",
    "#labels = train_df['label'].values\n",
    "#features = [np.array(cv2.resize(cv2.cvtColor(cv2.imread(p),cv2.COLOR_RGB2BGR),(180,180))) for p in tqdm(path)]"
   ]
  },
  {
   "cell_type": "code",
   "execution_count": 18,
   "id": "23f89107",
   "metadata": {
    "execution": {
     "iopub.execute_input": "2022-11-17T16:56:49.136922Z",
     "iopub.status.busy": "2022-11-17T16:56:49.136498Z",
     "iopub.status.idle": "2022-11-17T17:02:27.931859Z",
     "shell.execute_reply": "2022-11-17T17:02:27.930533Z"
    },
    "papermill": {
     "duration": 339.470934,
     "end_time": "2022-11-17T17:02:28.073188",
     "exception": false,
     "start_time": "2022-11-17T16:56:48.602254",
     "status": "completed"
    },
    "tags": []
   },
   "outputs": [
    {
     "name": "stderr",
     "output_type": "stream",
     "text": [
      " 37%|███▋      | 615/1643 [02:08<03:34,  4.79it/s]Premature end of JPEG file\n",
      "100%|██████████| 1643/1643 [05:38<00:00,  4.85it/s]\n"
     ]
    }
   ],
   "source": [
    "# validation data\n",
    "\n",
    "features = []\n",
    "f_app = features.append\n",
    "path = valid_df['filepath'].values\n",
    "labels = valid_df['label'].values\n",
    "for p in tqdm(path):\n",
    "    image = cv2.imread(p)\n",
    "    image = cv2.cvtColor(image, cv2.COLOR_RGB2BGR)\n",
    "    re_image = cv2.resize(image, (128,128))\n",
    "    f_app(np.array(re_image))\n",
    "\n",
    "X_valid = np.array(features)\n",
    "y_valid = np.array(labels)"
   ]
  },
  {
   "cell_type": "code",
   "execution_count": 19,
   "id": "7786acd2",
   "metadata": {
    "execution": {
     "iopub.execute_input": "2022-11-17T17:02:29.303255Z",
     "iopub.status.busy": "2022-11-17T17:02:29.301686Z",
     "iopub.status.idle": "2022-11-17T17:02:29.306697Z",
     "shell.execute_reply": "2022-11-17T17:02:29.305950Z"
    },
    "papermill": {
     "duration": 0.6159,
     "end_time": "2022-11-17T17:02:29.309308",
     "exception": false,
     "start_time": "2022-11-17T17:02:28.693408",
     "status": "completed"
    },
    "tags": []
   },
   "outputs": [],
   "source": [
    "# save validation data as npy files\n",
    "\n",
    "#np.save('/kaggle/working/X_valid', X_valid)\n",
    "#np.save('/kaggle/working/y_valid', y_valid)"
   ]
  },
  {
   "cell_type": "code",
   "execution_count": 20,
   "id": "c704a2ce",
   "metadata": {
    "execution": {
     "iopub.execute_input": "2022-11-17T17:02:30.604057Z",
     "iopub.status.busy": "2022-11-17T17:02:30.603595Z",
     "iopub.status.idle": "2022-11-17T17:02:30.611871Z",
     "shell.execute_reply": "2022-11-17T17:02:30.610314Z"
    },
    "papermill": {
     "duration": 0.710567,
     "end_time": "2022-11-17T17:02:30.614427",
     "exception": false,
     "start_time": "2022-11-17T17:02:29.903860",
     "status": "completed"
    },
    "tags": []
   },
   "outputs": [
    {
     "data": {
      "text/plain": [
       "array([[[ 71,  81,  90],\n",
       "        [ 79,  89,  97],\n",
       "        [ 88, 101, 106],\n",
       "        ...,\n",
       "        [ 87,  57,  81],\n",
       "        [ 90,  58,  82],\n",
       "        [ 87,  55,  78]],\n",
       "\n",
       "       [[ 82,  89,  97],\n",
       "        [ 88,  95, 101],\n",
       "        [ 96, 107, 111],\n",
       "        ...,\n",
       "        [100,  66,  93],\n",
       "        [ 99,  65,  92],\n",
       "        [ 93,  60,  88]],\n",
       "\n",
       "       [[ 79,  83,  94],\n",
       "        [ 93,  98, 104],\n",
       "        [107, 114, 120],\n",
       "        ...,\n",
       "        [102,  67, 100],\n",
       "        [ 99,  64,  96],\n",
       "        [ 98,  63,  93]],\n",
       "\n",
       "       ...,\n",
       "\n",
       "       [[ 94,  62,  86],\n",
       "        [ 75,  47,  69],\n",
       "        [ 64,  43,  58],\n",
       "        ...,\n",
       "        [ 70,  37,  44],\n",
       "        [ 69,  37,  48],\n",
       "        [ 67,  36,  51]],\n",
       "\n",
       "       [[110,  74, 100],\n",
       "        [ 89,  57,  81],\n",
       "        [ 77,  49,  71],\n",
       "        ...,\n",
       "        [ 53,  24,  28],\n",
       "        [ 60,  30,  40],\n",
       "        [ 65,  36,  54]],\n",
       "\n",
       "       [[120,  84, 110],\n",
       "        [108,  75,  99],\n",
       "        [ 95,  63,  87],\n",
       "        ...,\n",
       "        [ 51,  23,  35],\n",
       "        [ 60,  29,  47],\n",
       "        [ 78,  46,  72]]], dtype=uint8)"
      ]
     },
     "execution_count": 20,
     "metadata": {},
     "output_type": "execute_result"
    }
   ],
   "source": [
    "# X train data 확인\n",
    "X_train[0]"
   ]
  },
  {
   "cell_type": "code",
   "execution_count": 21,
   "id": "cfe96125",
   "metadata": {
    "execution": {
     "iopub.execute_input": "2022-11-17T17:02:31.915001Z",
     "iopub.status.busy": "2022-11-17T17:02:31.914559Z",
     "iopub.status.idle": "2022-11-17T17:02:31.923428Z",
     "shell.execute_reply": "2022-11-17T17:02:31.921697Z"
    },
    "papermill": {
     "duration": 0.725663,
     "end_time": "2022-11-17T17:02:31.926574",
     "exception": false,
     "start_time": "2022-11-17T17:02:31.200911",
     "status": "completed"
    },
    "tags": []
   },
   "outputs": [
    {
     "data": {
      "text/plain": [
       "array([[[ 59,  51,  72],\n",
       "        [ 57,  49,  67],\n",
       "        [ 59,  52,  70],\n",
       "        ...,\n",
       "        [ 29,  39,  50],\n",
       "        [ 22,  31,  39],\n",
       "        [ 28,  36,  45]],\n",
       "\n",
       "       [[ 61,  53,  72],\n",
       "        [ 67,  56,  76],\n",
       "        [ 68,  54,  77],\n",
       "        ...,\n",
       "        [ 22,  40,  48],\n",
       "        [ 25,  39,  48],\n",
       "        [ 26,  35,  45]],\n",
       "\n",
       "       [[ 70,  61,  80],\n",
       "        [ 67,  59,  73],\n",
       "        [ 71,  59,  79],\n",
       "        ...,\n",
       "        [ 25,  38,  54],\n",
       "        [ 27,  39,  51],\n",
       "        [ 28,  37,  47]],\n",
       "\n",
       "       ...,\n",
       "\n",
       "       [[ 95,  87, 110],\n",
       "        [101,  93, 117],\n",
       "        [115, 103, 127],\n",
       "        ...,\n",
       "        [ 63,  49,  74],\n",
       "        [ 60,  47,  67],\n",
       "        [ 59,  45,  69]],\n",
       "\n",
       "       [[ 70,  67,  88],\n",
       "        [ 85,  78, 101],\n",
       "        [100,  91, 118],\n",
       "        ...,\n",
       "        [ 54,  41,  61],\n",
       "        [ 54,  41,  58],\n",
       "        [ 55,  42,  60]],\n",
       "\n",
       "       [[ 50,  48,  68],\n",
       "        [ 63,  60,  81],\n",
       "        [ 76,  67,  93],\n",
       "        ...,\n",
       "        [ 53,  40,  63],\n",
       "        [ 52,  39,  59],\n",
       "        [ 46,  34,  50]]], dtype=uint8)"
      ]
     },
     "execution_count": 21,
     "metadata": {},
     "output_type": "execute_result"
    }
   ],
   "source": [
    "# X validation data 확인\n",
    "X_valid[0]"
   ]
  },
  {
   "cell_type": "code",
   "execution_count": 22,
   "id": "8d4f0d2e",
   "metadata": {
    "execution": {
     "iopub.execute_input": "2022-11-17T17:02:33.289331Z",
     "iopub.status.busy": "2022-11-17T17:02:33.288811Z",
     "iopub.status.idle": "2022-11-17T17:02:36.891297Z",
     "shell.execute_reply": "2022-11-17T17:02:36.890504Z"
    },
    "papermill": {
     "duration": 4.369508,
     "end_time": "2022-11-17T17:02:36.893690",
     "exception": false,
     "start_time": "2022-11-17T17:02:32.524182",
     "status": "completed"
    },
    "tags": []
   },
   "outputs": [],
   "source": [
    "# 정규화 (0과1사이의값)\n",
    "X_train = X_train/255\n",
    "X_valid = X_valid/255"
   ]
  },
  {
   "cell_type": "code",
   "execution_count": 23,
   "id": "e9ca359b",
   "metadata": {
    "execution": {
     "iopub.execute_input": "2022-11-17T17:02:38.131776Z",
     "iopub.status.busy": "2022-11-17T17:02:38.131095Z",
     "iopub.status.idle": "2022-11-17T17:02:38.140132Z",
     "shell.execute_reply": "2022-11-17T17:02:38.138936Z"
    },
    "papermill": {
     "duration": 0.627888,
     "end_time": "2022-11-17T17:02:38.143364",
     "exception": false,
     "start_time": "2022-11-17T17:02:37.515476",
     "status": "completed"
    },
    "tags": []
   },
   "outputs": [
    {
     "data": {
      "text/plain": [
       "array([[[0.27843137, 0.31764706, 0.35294118],\n",
       "        [0.30980392, 0.34901961, 0.38039216],\n",
       "        [0.34509804, 0.39607843, 0.41568627],\n",
       "        ...,\n",
       "        [0.34117647, 0.22352941, 0.31764706],\n",
       "        [0.35294118, 0.22745098, 0.32156863],\n",
       "        [0.34117647, 0.21568627, 0.30588235]],\n",
       "\n",
       "       [[0.32156863, 0.34901961, 0.38039216],\n",
       "        [0.34509804, 0.37254902, 0.39607843],\n",
       "        [0.37647059, 0.41960784, 0.43529412],\n",
       "        ...,\n",
       "        [0.39215686, 0.25882353, 0.36470588],\n",
       "        [0.38823529, 0.25490196, 0.36078431],\n",
       "        [0.36470588, 0.23529412, 0.34509804]],\n",
       "\n",
       "       [[0.30980392, 0.3254902 , 0.36862745],\n",
       "        [0.36470588, 0.38431373, 0.40784314],\n",
       "        [0.41960784, 0.44705882, 0.47058824],\n",
       "        ...,\n",
       "        [0.4       , 0.2627451 , 0.39215686],\n",
       "        [0.38823529, 0.25098039, 0.37647059],\n",
       "        [0.38431373, 0.24705882, 0.36470588]],\n",
       "\n",
       "       ...,\n",
       "\n",
       "       [[0.36862745, 0.24313725, 0.3372549 ],\n",
       "        [0.29411765, 0.18431373, 0.27058824],\n",
       "        [0.25098039, 0.16862745, 0.22745098],\n",
       "        ...,\n",
       "        [0.2745098 , 0.14509804, 0.17254902],\n",
       "        [0.27058824, 0.14509804, 0.18823529],\n",
       "        [0.2627451 , 0.14117647, 0.2       ]],\n",
       "\n",
       "       [[0.43137255, 0.29019608, 0.39215686],\n",
       "        [0.34901961, 0.22352941, 0.31764706],\n",
       "        [0.30196078, 0.19215686, 0.27843137],\n",
       "        ...,\n",
       "        [0.20784314, 0.09411765, 0.10980392],\n",
       "        [0.23529412, 0.11764706, 0.15686275],\n",
       "        [0.25490196, 0.14117647, 0.21176471]],\n",
       "\n",
       "       [[0.47058824, 0.32941176, 0.43137255],\n",
       "        [0.42352941, 0.29411765, 0.38823529],\n",
       "        [0.37254902, 0.24705882, 0.34117647],\n",
       "        ...,\n",
       "        [0.2       , 0.09019608, 0.1372549 ],\n",
       "        [0.23529412, 0.11372549, 0.18431373],\n",
       "        [0.30588235, 0.18039216, 0.28235294]]])"
      ]
     },
     "execution_count": 23,
     "metadata": {},
     "output_type": "execute_result"
    }
   ],
   "source": [
    "# 정규화한 X train data 확인\n",
    "X_train[0]"
   ]
  },
  {
   "cell_type": "code",
   "execution_count": 24,
   "id": "6adfdc65",
   "metadata": {
    "execution": {
     "iopub.execute_input": "2022-11-17T17:02:39.482703Z",
     "iopub.status.busy": "2022-11-17T17:02:39.482043Z",
     "iopub.status.idle": "2022-11-17T17:02:39.489569Z",
     "shell.execute_reply": "2022-11-17T17:02:39.488259Z"
    },
    "papermill": {
     "duration": 0.622894,
     "end_time": "2022-11-17T17:02:39.491562",
     "exception": false,
     "start_time": "2022-11-17T17:02:38.868668",
     "status": "completed"
    },
    "tags": []
   },
   "outputs": [
    {
     "data": {
      "text/plain": [
       "array([[[0.23137255, 0.2       , 0.28235294],\n",
       "        [0.22352941, 0.19215686, 0.2627451 ],\n",
       "        [0.23137255, 0.20392157, 0.2745098 ],\n",
       "        ...,\n",
       "        [0.11372549, 0.15294118, 0.19607843],\n",
       "        [0.08627451, 0.12156863, 0.15294118],\n",
       "        [0.10980392, 0.14117647, 0.17647059]],\n",
       "\n",
       "       [[0.23921569, 0.20784314, 0.28235294],\n",
       "        [0.2627451 , 0.21960784, 0.29803922],\n",
       "        [0.26666667, 0.21176471, 0.30196078],\n",
       "        ...,\n",
       "        [0.08627451, 0.15686275, 0.18823529],\n",
       "        [0.09803922, 0.15294118, 0.18823529],\n",
       "        [0.10196078, 0.1372549 , 0.17647059]],\n",
       "\n",
       "       [[0.2745098 , 0.23921569, 0.31372549],\n",
       "        [0.2627451 , 0.23137255, 0.28627451],\n",
       "        [0.27843137, 0.23137255, 0.30980392],\n",
       "        ...,\n",
       "        [0.09803922, 0.14901961, 0.21176471],\n",
       "        [0.10588235, 0.15294118, 0.2       ],\n",
       "        [0.10980392, 0.14509804, 0.18431373]],\n",
       "\n",
       "       ...,\n",
       "\n",
       "       [[0.37254902, 0.34117647, 0.43137255],\n",
       "        [0.39607843, 0.36470588, 0.45882353],\n",
       "        [0.45098039, 0.40392157, 0.49803922],\n",
       "        ...,\n",
       "        [0.24705882, 0.19215686, 0.29019608],\n",
       "        [0.23529412, 0.18431373, 0.2627451 ],\n",
       "        [0.23137255, 0.17647059, 0.27058824]],\n",
       "\n",
       "       [[0.2745098 , 0.2627451 , 0.34509804],\n",
       "        [0.33333333, 0.30588235, 0.39607843],\n",
       "        [0.39215686, 0.35686275, 0.4627451 ],\n",
       "        ...,\n",
       "        [0.21176471, 0.16078431, 0.23921569],\n",
       "        [0.21176471, 0.16078431, 0.22745098],\n",
       "        [0.21568627, 0.16470588, 0.23529412]],\n",
       "\n",
       "       [[0.19607843, 0.18823529, 0.26666667],\n",
       "        [0.24705882, 0.23529412, 0.31764706],\n",
       "        [0.29803922, 0.2627451 , 0.36470588],\n",
       "        ...,\n",
       "        [0.20784314, 0.15686275, 0.24705882],\n",
       "        [0.20392157, 0.15294118, 0.23137255],\n",
       "        [0.18039216, 0.13333333, 0.19607843]]])"
      ]
     },
     "execution_count": 24,
     "metadata": {},
     "output_type": "execute_result"
    }
   ],
   "source": [
    "# 정규화한 X validation data 확인\n",
    "X_valid[0]"
   ]
  },
  {
   "cell_type": "code",
   "execution_count": 25,
   "id": "f5e18a34",
   "metadata": {
    "execution": {
     "iopub.execute_input": "2022-11-17T17:02:40.865254Z",
     "iopub.status.busy": "2022-11-17T17:02:40.864519Z",
     "iopub.status.idle": "2022-11-17T17:02:40.870609Z",
     "shell.execute_reply": "2022-11-17T17:02:40.869661Z"
    },
    "papermill": {
     "duration": 0.76065,
     "end_time": "2022-11-17T17:02:40.872788",
     "exception": false,
     "start_time": "2022-11-17T17:02:40.112138",
     "status": "completed"
    },
    "tags": []
   },
   "outputs": [
    {
     "name": "stdout",
     "output_type": "stream",
     "text": [
      "6569 6569\n",
      "(6569, 128, 128, 3)\n"
     ]
    }
   ],
   "source": [
    "# train 개수, 차원 확인\n",
    "print(len(X_train), len(y_train))\n",
    "print(X_train.shape)"
   ]
  },
  {
   "cell_type": "code",
   "execution_count": 26,
   "id": "9d62e571",
   "metadata": {
    "execution": {
     "iopub.execute_input": "2022-11-17T17:02:42.068747Z",
     "iopub.status.busy": "2022-11-17T17:02:42.068088Z",
     "iopub.status.idle": "2022-11-17T17:02:42.074372Z",
     "shell.execute_reply": "2022-11-17T17:02:42.072681Z"
    },
    "papermill": {
     "duration": 0.613524,
     "end_time": "2022-11-17T17:02:42.076582",
     "exception": false,
     "start_time": "2022-11-17T17:02:41.463058",
     "status": "completed"
    },
    "tags": []
   },
   "outputs": [
    {
     "name": "stdout",
     "output_type": "stream",
     "text": [
      "1643 1643\n",
      "(1643, 128, 128, 3)\n"
     ]
    }
   ],
   "source": [
    "# validation 개수, 차원 확인\n",
    "print(len(X_valid), len(y_valid))\n",
    "print(X_valid.shape)"
   ]
  },
  {
   "cell_type": "code",
   "execution_count": 27,
   "id": "813c1e82",
   "metadata": {
    "execution": {
     "iopub.execute_input": "2022-11-17T17:02:43.407923Z",
     "iopub.status.busy": "2022-11-17T17:02:43.407507Z",
     "iopub.status.idle": "2022-11-17T17:02:43.420809Z",
     "shell.execute_reply": "2022-11-17T17:02:43.418101Z"
    },
    "papermill": {
     "duration": 0.608964,
     "end_time": "2022-11-17T17:02:43.424659",
     "exception": false,
     "start_time": "2022-11-17T17:02:42.815695",
     "status": "completed"
    },
    "tags": []
   },
   "outputs": [],
   "source": [
    "# y 라벨링 (string -> int)\n",
    "le = LabelEncoder().fit(['Type 1', 'Type 2', 'Type 3'])\n",
    "y_train = le.transform(y_train)\n",
    "y_valid = le.transform(y_valid)\n",
    "\n",
    "y_train_onehot = to_categorical(y_train, num_classes=3)\n",
    "y_valid_onehot = to_categorical(y_valid, num_classes=3)"
   ]
  },
  {
   "cell_type": "code",
   "execution_count": 28,
   "id": "73614cc0",
   "metadata": {
    "execution": {
     "iopub.execute_input": "2022-11-17T17:02:44.757381Z",
     "iopub.status.busy": "2022-11-17T17:02:44.756844Z",
     "iopub.status.idle": "2022-11-17T17:02:44.767181Z",
     "shell.execute_reply": "2022-11-17T17:02:44.765770Z"
    },
    "papermill": {
     "duration": 0.728503,
     "end_time": "2022-11-17T17:02:44.769078",
     "exception": false,
     "start_time": "2022-11-17T17:02:44.040575",
     "status": "completed"
    },
    "tags": []
   },
   "outputs": [
    {
     "data": {
      "text/plain": [
       "array([[0., 1., 0.],\n",
       "       [0., 0., 1.],\n",
       "       [0., 1., 0.],\n",
       "       [0., 1., 0.],\n",
       "       [0., 0., 1.]], dtype=float32)"
      ]
     },
     "execution_count": 28,
     "metadata": {},
     "output_type": "execute_result"
    }
   ],
   "source": [
    "y_train_onehot[:5]"
   ]
  },
  {
   "cell_type": "code",
   "execution_count": 29,
   "id": "38291a36",
   "metadata": {
    "execution": {
     "iopub.execute_input": "2022-11-17T17:02:46.082211Z",
     "iopub.status.busy": "2022-11-17T17:02:46.081297Z",
     "iopub.status.idle": "2022-11-17T17:02:46.088123Z",
     "shell.execute_reply": "2022-11-17T17:02:46.087381Z"
    },
    "papermill": {
     "duration": 0.720698,
     "end_time": "2022-11-17T17:02:46.089954",
     "exception": false,
     "start_time": "2022-11-17T17:02:45.369256",
     "status": "completed"
    },
    "tags": []
   },
   "outputs": [
    {
     "data": {
      "text/plain": [
       "array([[0., 1., 0.],\n",
       "       [0., 1., 0.],\n",
       "       [0., 1., 0.],\n",
       "       [0., 0., 1.],\n",
       "       [0., 1., 0.]], dtype=float32)"
      ]
     },
     "execution_count": 29,
     "metadata": {},
     "output_type": "execute_result"
    }
   ],
   "source": [
    "y_valid_onehot[:5]"
   ]
  },
  {
   "cell_type": "code",
   "execution_count": 30,
   "id": "ba3c83b9",
   "metadata": {
    "execution": {
     "iopub.execute_input": "2022-11-17T17:02:47.276951Z",
     "iopub.status.busy": "2022-11-17T17:02:47.276566Z",
     "iopub.status.idle": "2022-11-17T17:02:48.657607Z",
     "shell.execute_reply": "2022-11-17T17:02:48.656638Z"
    },
    "papermill": {
     "duration": 1.975992,
     "end_time": "2022-11-17T17:02:48.659855",
     "exception": false,
     "start_time": "2022-11-17T17:02:46.683863",
     "status": "completed"
    },
    "tags": []
   },
   "outputs": [
    {
     "name": "stderr",
     "output_type": "stream",
     "text": [
      "2022-11-17 17:02:47.393892: I tensorflow/core/common_runtime/process_util.cc:146] Creating new thread pool with default inter op setting: 2. Tune using inter_op_parallelism_threads for best performance.\n"
     ]
    },
    {
     "name": "stdout",
     "output_type": "stream",
     "text": [
      "Model: \"mobilenet_v1\"\n",
      "_________________________________________________________________\n",
      "Layer (type)                 Output Shape              Param #   \n",
      "=================================================================\n",
      "zero_padding2d (ZeroPadding2 multiple                  0         \n",
      "_________________________________________________________________\n",
      "conv2d (Conv2D)              multiple                  864       \n",
      "_________________________________________________________________\n",
      "batch_normalization (BatchNo multiple                  128       \n",
      "_________________________________________________________________\n",
      "re_lu (ReLU)                 multiple                  0         \n",
      "_________________________________________________________________\n",
      "sequential (Sequential)      (1, 113, 113, 64)         2720      \n",
      "_________________________________________________________________\n",
      "zero_padding2d_1 (ZeroPaddin multiple                  0         \n",
      "_________________________________________________________________\n",
      "sequential_1 (Sequential)    (1, 56, 56, 128)          28096     \n",
      "_________________________________________________________________\n",
      "zero_padding2d_2 (ZeroPaddin multiple                  0         \n",
      "_________________________________________________________________\n",
      "sequential_2 (Sequential)    (1, 28, 28, 256)          105344    \n",
      "_________________________________________________________________\n",
      "zero_padding2d_3 (ZeroPaddin multiple                  0         \n",
      "_________________________________________________________________\n",
      "sequential_3 (Sequential)    (1, 14, 14, 512)          1490688   \n",
      "_________________________________________________________________\n",
      "zero_padding2d_4 (ZeroPaddin multiple                  0         \n",
      "_________________________________________________________________\n",
      "sequential_4 (Sequential)    (1, 4, 4, 1024)           1601024   \n",
      "_________________________________________________________________\n",
      "global_average_pooling2d (Gl multiple                  0         \n",
      "_________________________________________________________________\n",
      "reshape (Reshape)            multiple                  0         \n",
      "_________________________________________________________________\n",
      "dropout (Dropout)            multiple                  0         \n",
      "_________________________________________________________________\n",
      "conv2d_14 (Conv2D)           multiple                  1025000   \n",
      "_________________________________________________________________\n",
      "reshape_1 (Reshape)          multiple                  0         \n",
      "=================================================================\n",
      "Total params: 4,253,864\n",
      "Trainable params: 4,231,976\n",
      "Non-trainable params: 21,888\n",
      "_________________________________________________________________\n"
     ]
    }
   ],
   "source": [
    "class Depthwise_bn_relu(tf.keras.Model):\n",
    "    def __init__(self, strides, padding):\n",
    "        super(Depthwise_bn_relu, self).__init__()\n",
    "\n",
    "        self.strides = strides\n",
    "        self.padding = padding\n",
    "\n",
    "        self.dw = tf.keras.layers.DepthwiseConv2D(kernel_size=(3, 3), \n",
    "                                                  strides=self.strides, \n",
    "                                                  padding=self.padding,\n",
    "                                                  use_bias=False)\n",
    "        self.bn = tf.keras.layers.BatchNormalization()\n",
    "        self.relu = tf.keras.layers.ReLU()\n",
    "\n",
    "    def call(self, x, training=False):\n",
    "        x = self.dw(x)\n",
    "        x = self.bn(x)\n",
    "        x = self.relu(x)\n",
    "\n",
    "        return x\n",
    "\n",
    "\n",
    "\n",
    "class Pointwise_bn_relu(tf.keras.Model):\n",
    "    def __init__(self, nb_filters):\n",
    "        super(Pointwise_bn_relu, self).__init__()\n",
    "\n",
    "        self.nb_filters = nb_filters\n",
    "\n",
    "        self.pw = tf.keras.layers.Conv2D(self.nb_filters,\n",
    "                                         kernel_size=(1, 1), \n",
    "                                         strides=(1, 1),  \n",
    "                                         padding='same', \n",
    "                                         use_bias=False)\n",
    "        self.bn = tf.keras.layers.BatchNormalization()\n",
    "        self.relu = tf.keras.layers.ReLU()\n",
    "\n",
    "    def call(self, x, training=False):\n",
    "        x = self.pw(x)\n",
    "        x = self.bn(x)\n",
    "        x = self.relu(x)\n",
    "\n",
    "        return x\n",
    "\n",
    "\n",
    "    \n",
    "\n",
    "\n",
    "class MobilenetV1(tf.keras.Model):\n",
    "    def __init__(self, nb_class):\n",
    "        super(MobilenetV1, self).__init__()\n",
    "\n",
    "        self.nb_class = nb_class\n",
    "        self.zero_pad = tf.keras.layers.ZeroPadding2D((2, 2))\n",
    "        self.conv = tf.keras.layers.Conv2D(32, (3, 3), strides=(2, 2), use_bias=False)\n",
    "        self.bn = tf.keras.layers.BatchNormalization()\n",
    "        self.relu = tf.keras.layers.ReLU()\n",
    "\n",
    "        self.block1 = tf.keras.Sequential()\n",
    "        self.block1.add(Depthwise_bn_relu(1, 'same'))\n",
    "        self.block1.add(Pointwise_bn_relu(64))\n",
    "        self.zero_pad_1 = tf.keras.layers.ZeroPadding2D(padding=((0, 1), (0, 1)))\n",
    "        \n",
    "        \n",
    "        self.block2 = tf.keras.Sequential()\n",
    "        self.block2.add(Depthwise_bn_relu(2, 'valid'))\n",
    "        self.block2.add(Pointwise_bn_relu(128))\n",
    "        self.block2.add(Depthwise_bn_relu(1, 'same'))\n",
    "        self.block2.add(Pointwise_bn_relu(128))\n",
    "        self.zero_pad_2 = tf.keras.layers.ZeroPadding2D(padding=((0, 1), (0, 1)))\n",
    "\n",
    "\n",
    "        self.block3 = tf.keras.Sequential()\n",
    "        self.block3.add(Depthwise_bn_relu(2, 'valid'))\n",
    "        self.block3.add(Pointwise_bn_relu(256))\n",
    "        self.block3.add(Depthwise_bn_relu(1, 'same'))\n",
    "        self.block3.add(Pointwise_bn_relu(256))\n",
    "        self.zero_pad_3 = tf.keras.layers.ZeroPadding2D(padding=((0, 1), (0, 1)))\n",
    "\n",
    "\n",
    "        self.block4 = tf.keras.Sequential()\n",
    "        self.block4.add(Depthwise_bn_relu(2, 'valid'))\n",
    "        self.block4.add(Pointwise_bn_relu(512))\n",
    "\n",
    "        for _ in range(5):\n",
    "            self.block4.add(Depthwise_bn_relu(1, 'same'))\n",
    "            self.block4.add(Pointwise_bn_relu(512))\n",
    "\n",
    "        self.zero_pad_4 = tf.keras.layers.ZeroPadding2D(padding=((0, 1), (0, 1)))\n",
    "\n",
    "\n",
    "\n",
    "        self.block5 = tf.keras.Sequential()\n",
    "        self.block5.add(Depthwise_bn_relu(2, 'valid'))\n",
    "        self.block5.add(Pointwise_bn_relu(1024))\n",
    "        self.block5.add(Depthwise_bn_relu(2, 'same'))\n",
    "        self.block5.add(Pointwise_bn_relu(1024))\n",
    "\n",
    "\n",
    "        self.gap = tf.keras.layers.GlobalAveragePooling2D()\n",
    "        self.reshape = tf.keras.layers.Reshape((1, 1, 1024))\n",
    "        self.drop = tf.keras.layers.Dropout(0.001)\n",
    "        self.conv_pred = tf.keras.layers.Conv2D(1000, \n",
    "                                                kernel_size=(1, 1), \n",
    "                                                strides=(1, 1), \n",
    "                                                padding='same', \n",
    "                                                activation='softmax')\n",
    "        self.reshape_2 = tf.keras.layers.Reshape((1000,))\n",
    "\n",
    "        \n",
    "\n",
    "\n",
    "    def call(self, x, training=False):\n",
    "        x = self.zero_pad(x)\n",
    "        x = self.conv(x)\n",
    "        x = self.bn(x)\n",
    "        x = self.relu(x)\n",
    "       \n",
    "        x = self.block1(x)\n",
    "        x = self.zero_pad_1(x)\n",
    "\n",
    "        x = self.block2(x)\n",
    "        x = self.zero_pad_2(x)\n",
    "\n",
    "        x = self.block3(x)\n",
    "        x = self.zero_pad_3(x)\n",
    "\n",
    "        x = self.block4(x)\n",
    "        x = self.zero_pad_4(x)\n",
    "\n",
    "        x = self.block5(x)\n",
    "\n",
    "        x = self.gap(x)\n",
    "        x = self.reshape(x)\n",
    "        x = self.drop(x)\n",
    "        x = self.conv_pred(x)\n",
    "        x = self.reshape_2(x)\n",
    "        \n",
    "        return x\n",
    "\n",
    "    \n",
    "\n",
    "\n",
    "model = MobilenetV1(1000)\n",
    "model.build((1, 224, 224, 3))\n",
    "model.summary()"
   ]
  },
  {
   "cell_type": "code",
   "execution_count": 31,
   "id": "f51f8159",
   "metadata": {
    "execution": {
     "iopub.execute_input": "2022-11-17T17:02:49.982312Z",
     "iopub.status.busy": "2022-11-17T17:02:49.980498Z",
     "iopub.status.idle": "2022-11-17T17:02:50.000371Z",
     "shell.execute_reply": "2022-11-17T17:02:49.999062Z"
    },
    "papermill": {
     "duration": 0.637668,
     "end_time": "2022-11-17T17:02:50.002891",
     "exception": false,
     "start_time": "2022-11-17T17:02:49.365223",
     "status": "completed"
    },
    "tags": []
   },
   "outputs": [],
   "source": [
    "model.compile(\n",
    "    loss = 'sparse_categorical_crossentropy'\n",
    "    ,metrics = ['accuracy']\n",
    ")"
   ]
  },
  {
   "cell_type": "code",
   "execution_count": 32,
   "id": "931e9761",
   "metadata": {
    "execution": {
     "iopub.execute_input": "2022-11-17T17:02:51.334536Z",
     "iopub.status.busy": "2022-11-17T17:02:51.334024Z",
     "iopub.status.idle": "2022-11-17T17:02:51.342055Z",
     "shell.execute_reply": "2022-11-17T17:02:51.339475Z"
    },
    "papermill": {
     "duration": 0.6229,
     "end_time": "2022-11-17T17:02:51.346213",
     "exception": false,
     "start_time": "2022-11-17T17:02:50.723313",
     "status": "completed"
    },
    "tags": []
   },
   "outputs": [],
   "source": [
    "BATCH_SIZE = 16\n",
    "TRAIN_STEPS = len(train_df)//BATCH_SIZE\n",
    "VAL_STEPS = len(valid_df)//BATCH_SIZE"
   ]
  },
  {
   "cell_type": "code",
   "execution_count": 33,
   "id": "3e9b86a8",
   "metadata": {
    "execution": {
     "iopub.execute_input": "2022-11-17T17:02:52.673860Z",
     "iopub.status.busy": "2022-11-17T17:02:52.673459Z",
     "iopub.status.idle": "2022-11-17T17:02:52.681383Z",
     "shell.execute_reply": "2022-11-17T17:02:52.680101Z"
    },
    "papermill": {
     "duration": 0.742063,
     "end_time": "2022-11-17T17:02:52.683547",
     "exception": false,
     "start_time": "2022-11-17T17:02:51.941484",
     "status": "completed"
    },
    "tags": []
   },
   "outputs": [],
   "source": [
    "reduceLR = ReduceLROnPlateau(monitor='val_accuracy', patience=10, verbose= 1, mode='max', factor=  0.2, min_lr = 1e-5)\n",
    "\n",
    "early_stopping = EarlyStopping(monitor='val_accuracy', patience = 20, verbose=1, mode='max', restore_best_weights= True)\n",
    "\n",
    "checkpoint = ModelCheckpoint('movilenet_v1', monitor='val_accuracy', verbose=1,save_best_only=True, mode= 'max')"
   ]
  },
  {
   "cell_type": "code",
   "execution_count": 34,
   "id": "9ca8686d",
   "metadata": {
    "execution": {
     "iopub.execute_input": "2022-11-17T17:02:53.913881Z",
     "iopub.status.busy": "2022-11-17T17:02:53.913398Z",
     "iopub.status.idle": "2022-11-17T18:29:08.691466Z",
     "shell.execute_reply": "2022-11-17T18:29:08.689825Z"
    },
    "papermill": {
     "duration": 5175.387571,
     "end_time": "2022-11-17T18:29:08.693930",
     "exception": false,
     "start_time": "2022-11-17T17:02:53.306359",
     "status": "completed"
    },
    "tags": []
   },
   "outputs": [
    {
     "name": "stderr",
     "output_type": "stream",
     "text": [
      "2022-11-17 17:02:58.200170: I tensorflow/compiler/mlir/mlir_graph_optimization_pass.cc:185] None of the MLIR Optimization Passes are enabled (registered 2)\n"
     ]
    },
    {
     "name": "stdout",
     "output_type": "stream",
     "text": [
      "Epoch 1/20\n",
      "410/410 [==============================] - 250s 591ms/step - loss: 1.1249 - accuracy: 0.4786 - val_loss: 1.0045 - val_accuracy: 0.5295\n",
      "\n",
      "Epoch 00001: val_accuracy improved from -inf to 0.52952, saving model to movilenet_v1\n"
     ]
    },
    {
     "name": "stderr",
     "output_type": "stream",
     "text": [
      "2022-11-17 17:07:20.677755: W tensorflow/python/util/util.cc:348] Sets are not currently considered sequences, but this may change in the future, so consider avoiding using them.\n"
     ]
    },
    {
     "name": "stdout",
     "output_type": "stream",
     "text": [
      "Epoch 2/20\n",
      "410/410 [==============================] - 227s 554ms/step - loss: 0.9993 - accuracy: 0.5158 - val_loss: 1.9876 - val_accuracy: 0.3335\n",
      "\n",
      "Epoch 00002: val_accuracy did not improve from 0.52952\n",
      "Epoch 3/20\n",
      "410/410 [==============================] - 227s 554ms/step - loss: 0.9642 - accuracy: 0.5161 - val_loss: 0.9834 - val_accuracy: 0.5386\n",
      "\n",
      "Epoch 00003: val_accuracy improved from 0.52952 to 0.53865, saving model to movilenet_v1\n",
      "Epoch 4/20\n",
      "410/410 [==============================] - 214s 522ms/step - loss: 0.9443 - accuracy: 0.5336 - val_loss: 1.0111 - val_accuracy: 0.5143\n",
      "\n",
      "Epoch 00004: val_accuracy did not improve from 0.53865\n",
      "Epoch 5/20\n",
      "410/410 [==============================] - 209s 509ms/step - loss: 0.9227 - accuracy: 0.5439 - val_loss: 1.0456 - val_accuracy: 0.5143\n",
      "\n",
      "Epoch 00005: val_accuracy did not improve from 0.53865\n",
      "Epoch 6/20\n",
      "410/410 [==============================] - 225s 549ms/step - loss: 0.9156 - accuracy: 0.5446 - val_loss: 1.0939 - val_accuracy: 0.5374\n",
      "\n",
      "Epoch 00006: val_accuracy did not improve from 0.53865\n",
      "Epoch 7/20\n",
      "410/410 [==============================] - 220s 537ms/step - loss: 0.8997 - accuracy: 0.5422 - val_loss: 0.9825 - val_accuracy: 0.4553\n",
      "\n",
      "Epoch 00007: val_accuracy did not improve from 0.53865\n",
      "Epoch 8/20\n",
      "410/410 [==============================] - 208s 508ms/step - loss: 0.8763 - accuracy: 0.5665 - val_loss: 1.0933 - val_accuracy: 0.5417\n",
      "\n",
      "Epoch 00008: val_accuracy improved from 0.53865 to 0.54169, saving model to movilenet_v1\n",
      "Epoch 9/20\n",
      "410/410 [==============================] - 220s 537ms/step - loss: 0.8385 - accuracy: 0.5950 - val_loss: 0.9711 - val_accuracy: 0.5429\n",
      "\n",
      "Epoch 00009: val_accuracy improved from 0.54169 to 0.54291, saving model to movilenet_v1\n",
      "Epoch 10/20\n",
      "410/410 [==============================] - 216s 527ms/step - loss: 0.7919 - accuracy: 0.6318 - val_loss: 0.9097 - val_accuracy: 0.5764\n",
      "\n",
      "Epoch 00010: val_accuracy improved from 0.54291 to 0.57638, saving model to movilenet_v1\n",
      "Epoch 11/20\n",
      "410/410 [==============================] - 223s 544ms/step - loss: 0.7440 - accuracy: 0.6568 - val_loss: 0.9088 - val_accuracy: 0.5886\n",
      "\n",
      "Epoch 00011: val_accuracy improved from 0.57638 to 0.58856, saving model to movilenet_v1\n",
      "Epoch 12/20\n",
      "410/410 [==============================] - 214s 521ms/step - loss: 0.6868 - accuracy: 0.6934 - val_loss: 1.0296 - val_accuracy: 0.5654\n",
      "\n",
      "Epoch 00012: val_accuracy did not improve from 0.58856\n",
      "Epoch 13/20\n",
      "410/410 [==============================] - 219s 535ms/step - loss: 0.6219 - accuracy: 0.7223 - val_loss: 1.3797 - val_accuracy: 0.5691\n",
      "\n",
      "Epoch 00013: val_accuracy did not improve from 0.58856\n",
      "Epoch 14/20\n",
      "410/410 [==============================] - 218s 531ms/step - loss: 0.5622 - accuracy: 0.7561 - val_loss: 1.0428 - val_accuracy: 0.5855\n",
      "\n",
      "Epoch 00014: val_accuracy did not improve from 0.58856\n",
      "Epoch 15/20\n",
      "410/410 [==============================] - 215s 524ms/step - loss: 0.4894 - accuracy: 0.7906 - val_loss: 1.4675 - val_accuracy: 0.5898\n",
      "\n",
      "Epoch 00015: val_accuracy improved from 0.58856 to 0.58977, saving model to movilenet_v1\n",
      "Epoch 16/20\n",
      "410/410 [==============================] - 221s 538ms/step - loss: 0.4492 - accuracy: 0.8183 - val_loss: 1.5514 - val_accuracy: 0.5837\n",
      "\n",
      "Epoch 00016: val_accuracy did not improve from 0.58977\n",
      "Epoch 17/20\n",
      "410/410 [==============================] - 219s 534ms/step - loss: 0.3881 - accuracy: 0.8454 - val_loss: 1.4444 - val_accuracy: 0.6093\n",
      "\n",
      "Epoch 00017: val_accuracy improved from 0.58977 to 0.60925, saving model to movilenet_v1\n",
      "Epoch 18/20\n",
      "410/410 [==============================] - 216s 526ms/step - loss: 0.3563 - accuracy: 0.8559 - val_loss: 1.4077 - val_accuracy: 0.6086\n",
      "\n",
      "Epoch 00018: val_accuracy did not improve from 0.60925\n",
      "Epoch 19/20\n",
      "410/410 [==============================] - 210s 512ms/step - loss: 0.3144 - accuracy: 0.8740 - val_loss: 1.5013 - val_accuracy: 0.5849\n",
      "\n",
      "Epoch 00019: val_accuracy did not improve from 0.60925\n",
      "Epoch 20/20\n",
      "410/410 [==============================] - 212s 518ms/step - loss: 0.3023 - accuracy: 0.8848 - val_loss: 1.4723 - val_accuracy: 0.5733\n",
      "\n",
      "Epoch 00020: val_accuracy did not improve from 0.60925\n"
     ]
    }
   ],
   "source": [
    "# Non-augmentation\n",
    "train_gen = ImageDataGenerator().flow(X_train, y_train, batch_size = BATCH_SIZE)\n",
    "valid_gen = ImageDataGenerator().flow(X_valid, y_valid, batch_size = BATCH_SIZE)\n",
    "\n",
    "history_mov1 = model.fit(\n",
    "    train_gen\n",
    "    , steps_per_epoch = TRAIN_STEPS\n",
    "    , validation_data = valid_gen\n",
    "    , epochs = 20\n",
    "    , callbacks = [reduceLR, early_stopping, checkpoint]\n",
    ")"
   ]
  },
  {
   "cell_type": "code",
   "execution_count": 35,
   "id": "34a6627a",
   "metadata": {
    "execution": {
     "iopub.execute_input": "2022-11-17T18:29:11.138685Z",
     "iopub.status.busy": "2022-11-17T18:29:11.137575Z",
     "iopub.status.idle": "2022-11-17T18:29:11.460772Z",
     "shell.execute_reply": "2022-11-17T18:29:11.459605Z"
    },
    "papermill": {
     "duration": 1.643002,
     "end_time": "2022-11-17T18:29:11.463003",
     "exception": false,
     "start_time": "2022-11-17T18:29:09.820001",
     "status": "completed"
    },
    "tags": []
   },
   "outputs": [
    {
     "data": {
      "image/png": "[encoded data removed]",
      "text/plain": [
       "<Figure size 1080x360 with 2 Axes>"
      ]
     },
     "metadata": {
      "needs_background": "light"
     },
     "output_type": "display_data"
    }
   ],
   "source": [
    "plt.figure(figsize=(15, 5))\n",
    "\n",
    "plt.subplot(1, 2, 1)\n",
    "plt.plot(history_mov1.history['accuracy'], label='Training Accuracy')\n",
    "plt.plot(history_mov1.history['val_accuracy'], label='Validation Accuracy')\n",
    "plt.legend(loc='lower right')\n",
    "plt.title('Training and Validation Accuracy')\n",
    "\n",
    "plt.subplot(1, 2, 2)\n",
    "plt.plot(history_mov1.history['loss'], label='Training Loss')\n",
    "plt.plot(history_mov1.history['val_loss'], label='Validation Loss')\n",
    "plt.legend(loc='upper right')\n",
    "plt.title('Training and Validation Loss')\n",
    "\n",
    "plt.show()"
   ]
  },
  {
   "cell_type": "code",
   "execution_count": 36,
   "id": "805d9a80",
   "metadata": {
    "execution": {
     "iopub.execute_input": "2022-11-17T18:29:13.931552Z",
     "iopub.status.busy": "2022-11-17T18:29:13.930969Z",
     "iopub.status.idle": "2022-11-17T18:29:18.894232Z",
     "shell.execute_reply": "2022-11-17T18:29:18.892623Z"
    },
    "papermill": {
     "duration": 6.250167,
     "end_time": "2022-11-17T18:29:18.897265",
     "exception": false,
     "start_time": "2022-11-17T18:29:12.647098",
     "status": "completed"
    },
    "tags": []
   },
   "outputs": [],
   "source": [
    "train_datagen = ImageDataGenerator(rescale=1/255,\n",
    "                     rotation_range=20,\n",
    "                     width_shift_range=0.1,\n",
    "                     height_shift_range=0.1,\n",
    "                     zoom_range=0.1,\n",
    "                     vertical_flip=True,\n",
    "                     horizontal_flip=True,\n",
    "                     fill_mode='nearest')\n",
    "\n",
    "\n",
    "train_gen_ag = train_datagen.flow(X_train, y_train, batch_size = BATCH_SIZE)"
   ]
  },
  {
   "cell_type": "code",
   "execution_count": 37,
   "id": "68509d7e",
   "metadata": {
    "execution": {
     "iopub.execute_input": "2022-11-17T18:29:22.089200Z",
     "iopub.status.busy": "2022-11-17T18:29:22.088231Z",
     "iopub.status.idle": "2022-11-17T18:29:22.098932Z",
     "shell.execute_reply": "2022-11-17T18:29:22.097560Z"
    },
    "papermill": {
     "duration": 1.900283,
     "end_time": "2022-11-17T18:29:22.102460",
     "exception": false,
     "start_time": "2022-11-17T18:29:20.202177",
     "status": "completed"
    },
    "tags": []
   },
   "outputs": [],
   "source": [
    "reduceLR = ReduceLROnPlateau(monitor='val_accuracy', patience=10, verbose= 1, mode='max', factor=  0.2, min_lr = 1e-5)\n",
    "\n",
    "early_stopping = EarlyStopping(monitor='val_accuracy', patience = 20, verbose=1, mode='max', restore_best_weights= True)\n",
    "\n",
    "checkpoint_ag = ModelCheckpoint('movilenet_v1_ag', monitor='val_accuracy', verbose=1,save_best_only=True, mode= 'max')"
   ]
  },
  {
   "cell_type": "code",
   "execution_count": 38,
   "id": "d67296a8",
   "metadata": {
    "execution": {
     "iopub.execute_input": "2022-11-17T18:29:25.478083Z",
     "iopub.status.busy": "2022-11-17T18:29:25.477052Z",
     "iopub.status.idle": "2022-11-17T19:55:38.001676Z",
     "shell.execute_reply": "2022-11-17T19:55:37.998864Z"
    },
    "papermill": {
     "duration": 5174.211417,
     "end_time": "2022-11-17T19:55:38.005598",
     "exception": false,
     "start_time": "2022-11-17T18:29:23.794181",
     "status": "completed"
    },
    "tags": []
   },
   "outputs": [
    {
     "name": "stdout",
     "output_type": "stream",
     "text": [
      "Epoch 1/20\n",
      "410/410 [==============================] - 245s 597ms/step - loss: 0.9820 - accuracy: 0.5312 - val_loss: 7.5628 - val_accuracy: 0.5306\n",
      "\n",
      "Epoch 00001: val_accuracy improved from -inf to 0.53064, saving model to movilenet_v1_ag\n",
      "Epoch 2/20\n",
      "410/410 [==============================] - 231s 562ms/step - loss: 0.9269 - accuracy: 0.5394 - val_loss: 8.0183 - val_accuracy: 0.4449\n",
      "\n",
      "Epoch 00002: val_accuracy did not improve from 0.53064\n",
      "Epoch 3/20\n",
      "410/410 [==============================] - 226s 550ms/step - loss: 0.9240 - accuracy: 0.5459 - val_loss: 7.5657 - val_accuracy: 0.5300\n",
      "\n",
      "Epoch 00003: val_accuracy did not improve from 0.53064\n",
      "Epoch 4/20\n",
      "410/410 [==============================] - 233s 566ms/step - loss: 0.9206 - accuracy: 0.5336 - val_loss: 13.0169 - val_accuracy: 0.1777\n",
      "\n",
      "Epoch 00004: val_accuracy did not improve from 0.53064\n",
      "Epoch 5/20\n",
      "410/410 [==============================] - 239s 583ms/step - loss: 0.9137 - accuracy: 0.5466 - val_loss: 8.9085 - val_accuracy: 0.3511\n",
      "\n",
      "Epoch 00005: val_accuracy did not improve from 0.53064\n",
      "Epoch 6/20\n",
      "410/410 [==============================] - 237s 577ms/step - loss: 0.9090 - accuracy: 0.5492 - val_loss: 7.5851 - val_accuracy: 0.5294\n",
      "\n",
      "Epoch 00006: val_accuracy did not improve from 0.53064\n",
      "Epoch 7/20\n",
      "410/410 [==============================] - 232s 566ms/step - loss: 0.9013 - accuracy: 0.5547 - val_loss: 7.4285 - val_accuracy: 0.5239\n",
      "\n",
      "Epoch 00007: val_accuracy did not improve from 0.53064\n",
      "Epoch 8/20\n",
      "410/410 [==============================] - 222s 542ms/step - loss: 0.8935 - accuracy: 0.5582 - val_loss: 7.5851 - val_accuracy: 0.5294\n",
      "\n",
      "Epoch 00008: val_accuracy did not improve from 0.53064\n",
      "Epoch 9/20\n",
      "410/410 [==============================] - 236s 574ms/step - loss: 0.8866 - accuracy: 0.5610 - val_loss: 7.6048 - val_accuracy: 0.5282\n",
      "\n",
      "Epoch 00009: val_accuracy did not improve from 0.53064\n",
      "Epoch 10/20\n",
      "410/410 [==============================] - 236s 575ms/step - loss: 0.8821 - accuracy: 0.5691 - val_loss: 7.5618 - val_accuracy: 0.5306\n",
      "\n",
      "Epoch 00010: val_accuracy did not improve from 0.53064\n",
      "Epoch 11/20\n",
      "410/410 [==============================] - 234s 570ms/step - loss: 0.8742 - accuracy: 0.5788 - val_loss: 7.5752 - val_accuracy: 0.5300\n",
      "\n",
      "Epoch 00011: ReduceLROnPlateau reducing learning rate to 0.00020000000949949026.\n",
      "\n",
      "Epoch 00011: val_accuracy did not improve from 0.53064\n",
      "Epoch 12/20\n",
      "410/410 [==============================] - 227s 554ms/step - loss: 0.8413 - accuracy: 0.5944 - val_loss: 7.5555 - val_accuracy: 0.5312\n",
      "\n",
      "Epoch 00012: val_accuracy improved from 0.53064 to 0.53125, saving model to movilenet_v1_ag\n",
      "Epoch 13/20\n",
      "410/410 [==============================] - 226s 550ms/step - loss: 0.8274 - accuracy: 0.5976 - val_loss: 7.5950 - val_accuracy: 0.5288\n",
      "\n",
      "Epoch 00013: val_accuracy did not improve from 0.53125\n",
      "Epoch 14/20\n",
      "410/410 [==============================] - 234s 571ms/step - loss: 0.8243 - accuracy: 0.5987 - val_loss: 7.5752 - val_accuracy: 0.5300\n",
      "\n",
      "Epoch 00014: val_accuracy did not improve from 0.53125\n",
      "Epoch 15/20\n",
      "410/410 [==============================] - 234s 571ms/step - loss: 0.8159 - accuracy: 0.6052 - val_loss: 7.5851 - val_accuracy: 0.5294\n",
      "\n",
      "Epoch 00015: val_accuracy did not improve from 0.53125\n",
      "Epoch 16/20\n",
      "410/410 [==============================] - 233s 569ms/step - loss: 0.8115 - accuracy: 0.6144 - val_loss: 7.6147 - val_accuracy: 0.5276\n",
      "\n",
      "Epoch 00016: val_accuracy did not improve from 0.53125\n",
      "Epoch 17/20\n",
      "410/410 [==============================] - 225s 549ms/step - loss: 0.8122 - accuracy: 0.6118 - val_loss: 7.5653 - val_accuracy: 0.5306\n",
      "\n",
      "Epoch 00017: val_accuracy did not improve from 0.53125\n",
      "Epoch 18/20\n",
      "410/410 [==============================] - 235s 573ms/step - loss: 0.8049 - accuracy: 0.6170 - val_loss: 7.5950 - val_accuracy: 0.5288\n",
      "\n",
      "Epoch 00018: val_accuracy did not improve from 0.53125\n",
      "Epoch 19/20\n",
      "410/410 [==============================] - 245s 596ms/step - loss: 0.7958 - accuracy: 0.6208 - val_loss: 7.5752 - val_accuracy: 0.5300\n",
      "\n",
      "Epoch 00019: val_accuracy did not improve from 0.53125\n",
      "Epoch 20/20\n",
      "410/410 [==============================] - 238s 580ms/step - loss: 0.7902 - accuracy: 0.6321 - val_loss: 7.5851 - val_accuracy: 0.5294\n",
      "\n",
      "Epoch 00020: val_accuracy did not improve from 0.53125\n"
     ]
    }
   ],
   "source": [
    "history_mov1_ag = model.fit(\n",
    "    train_gen_ag\n",
    "    , steps_per_epoch= TRAIN_STEPS\n",
    "    , validation_data=valid_gen\n",
    "    , validation_steps=VAL_STEPS\n",
    "    , epochs= 20\n",
    "    , callbacks= [reduceLR, early_stopping, checkpoint_ag]\n",
    ")"
   ]
  },
  {
   "cell_type": "code",
   "execution_count": 39,
   "id": "0b57f2eb",
   "metadata": {
    "execution": {
     "iopub.execute_input": "2022-11-17T19:55:41.924774Z",
     "iopub.status.busy": "2022-11-17T19:55:41.924179Z",
     "iopub.status.idle": "2022-11-17T19:55:42.696402Z",
     "shell.execute_reply": "2022-11-17T19:55:42.694821Z"
    },
    "papermill": {
     "duration": 2.69701,
     "end_time": "2022-11-17T19:55:42.699981",
     "exception": false,
     "start_time": "2022-11-17T19:55:40.002971",
     "status": "completed"
    },
    "tags": []
   },
   "outputs": [
    {
     "data": {
      "image/png": "[encoded data removed]",
      "text/plain": [
       "<Figure size 1440x1152 with 4 Axes>"
      ]
     },
     "metadata": {
      "needs_background": "light"
     },
     "output_type": "display_data"
    }
   ],
   "source": [
    "plt.figure(figsize=(20, 16))\n",
    "\n",
    "plt.subplot(2, 2, 1)\n",
    "plt.plot(history_mov1.history['accuracy'], label='Training Accuracy')\n",
    "plt.plot(history_mov1.history['val_accuracy'], label='Validation Accuracy')\n",
    "plt.legend(loc='lower right')\n",
    "plt.title('Non-Augmentation Training and Validation Accuracy')\n",
    "\n",
    "plt.subplot(2, 2, 2)\n",
    "plt.plot(history_mov1.history['loss'], label='Training Loss')\n",
    "plt.plot(history_mov1.history['val_loss'], label='Validation Loss')\n",
    "plt.legend(loc='upper right')\n",
    "plt.title('Non-Augmentation Training and Validation Loss')\n",
    "\n",
    "plt.subplot(2, 2, 3)\n",
    "plt.plot(history_mov1_ag.history['accuracy'], label='Training Accuracy')\n",
    "plt.plot(history_mov1_ag.history['val_accuracy'], label='Validation Accuracy')\n",
    "plt.legend(loc='lower right')\n",
    "plt.title('Augmentation Training and Validation Accuracy')\n",
    "\n",
    "plt.subplot(2, 2, 4)\n",
    "plt.plot(history_mov1_ag.history['loss'], label='Training Loss')\n",
    "plt.plot(history_mov1_ag.history['val_loss'], label='Validation Loss')\n",
    "plt.legend(loc='upper right')\n",
    "plt.title('Augmentation Training and Validation Loss')\n",
    "\n",
    "plt.show()"
   ]
  },
  {
   "cell_type": "code",
   "execution_count": 40,
   "id": "413eef2e",
   "metadata": {
    "collapsed": false,
    "execution": {
     "iopub.execute_input": "2022-11-17T19:55:46.542643Z",
     "iopub.status.busy": "2022-11-17T19:55:46.541830Z",
     "iopub.status.idle": "2022-11-17T19:55:46.548322Z",
     "shell.execute_reply": "2022-11-17T19:55:46.547566Z"
    },
    "jupyter": {
     "outputs_hidden": false
    },
    "papermill": {
     "duration": 1.790211,
     "end_time": "2022-11-17T19:55:46.550527",
     "exception": false,
     "start_time": "2022-11-17T19:55:44.760316",
     "status": "completed"
    },
    "pycharm": {
     "name": "#%%\n"
    },
    "tags": []
   },
   "outputs": [],
   "source": [
    "#이미지 오류남\n",
    "\n",
    "#stage1 = y_train[y_train == 0].index\n",
    "#stage2 = y_train[y_train == 1].index\n",
    "#stage3 = y_train[y_train == 2].index\n",
    "\n",
    "#\n",
    "\n",
    "#stage1 = np.where(y_train == 0)\n",
    "#type(stage1)\n",
    "#stageq = stage1[0]\n",
    "\n",
    "#stage2 = np.where(y_train == 1)\n",
    "#type(stage2)\n",
    "#stagew = stage2[0]\n",
    "\n",
    "#stage3 = np.where(y_train == 2)\n",
    "#type(stage3)\n",
    "#stagee = stage3[0]\n",
    "\n",
    "#\n",
    "\n",
    "#plt.figure(figsize=(20, 20))\n",
    "\n",
    "#for i in range(16):\n",
    "#    plt.subplot(4, 4, i+1)\n",
    "#    plt.suptitle('Type1 Images', fontsize=20) # 하나의 큰 제목 설정\n",
    "#    plt.imshow(X_train[stageq[i]])\n",
    "#    plt.title('Type1')\n",
    "#    plt.subplots_adjust(hspace=0.5)\n",
    "#    plt.axis(False)\n",
    "#plt.show()\n",
    "\n",
    "#\n",
    "\n",
    "#plt.figure(figsize=(20, 20))\n",
    "\n",
    "#for i in range(16):\n",
    "#    plt.subplot(4, 4, i+1)\n",
    "#    plt.suptitle('type2 Images', fontsize=20) # 하나의 큰 제목 설정\n",
    "#    plt.imshow(X_train[stagew[i]])\n",
    "#    plt.title('type2')\n",
    "#    plt.subplots_adjust(hspace=0.5)\n",
    "#    plt.axis(False)\n",
    "#plt.savefig('type2.png', dpi=300)\n",
    "#plt.show()\n",
    "\n",
    "#\n",
    "\n",
    "#plt.figure(figsize=(20, 20))\n",
    "#\n",
    "#for i in range(16):\n",
    "#    plt.subplot(4, 4, i+1)\n",
    "#    plt.suptitle('type3 Images', fontsize=20) # 하나의 큰 제목 설정\n",
    "#    plt.imshow(X_train[stagee[i]])\n",
    "#    plt.title('type3')\n",
    "#    plt.subplots_adjust(hspace=0.5)\n",
    "#    plt.axis(False)\n",
    "#plt.savefig('type3.png', dpi=300)\n",
    "#plt.show()"
   ]
  },
  {
   "cell_type": "code",
   "execution_count": null,
   "id": "a28d7cc1",
   "metadata": {
    "papermill": {
     "duration": 2.026269,
     "end_time": "2022-11-17T19:55:50.563828",
     "exception": false,
     "start_time": "2022-11-17T19:55:48.537559",
     "status": "completed"
    },
    "tags": []
   },
   "outputs": [],
   "source": []
  },
  {
   "cell_type": "code",
   "execution_count": 41,
   "id": "5a0a5edb",
   "metadata": {
    "execution": {
     "iopub.execute_input": "2022-11-17T19:55:54.251387Z",
     "iopub.status.busy": "2022-11-17T19:55:54.250411Z",
     "iopub.status.idle": "2022-11-17T19:55:54.261773Z",
     "shell.execute_reply": "2022-11-17T19:55:54.258907Z"
    },
    "papermill": {
     "duration": 1.955856,
     "end_time": "2022-11-17T19:55:54.266127",
     "exception": false,
     "start_time": "2022-11-17T19:55:52.310271",
     "status": "completed"
    },
    "pycharm": {
     "name": "#%%\n"
    },
    "tags": []
   },
   "outputs": [],
   "source": [
    "# 참고용\n",
    "# double\n",
    "\n",
    "#history_df_cnn = pd.DataFrame(historycnn.history)\n",
    "#history_df_dnn = pd.DataFrame(historydnn.history)\n",
    "\n",
    "#plt.figure(figsize= (15,6))\n",
    "#plt.subplot(1,2,1)\n",
    "#plt.plot(history_df_cnn['accuracy'], label= 'cnn_accuracy' )\n",
    "## plt.plot(history_df_cnn['val_accuracy'], label= 'val_accuracy')\n",
    "#plt.plot(history_df_dnn['accuracy'], label= 'dnn_accuracy', color='limegreen' )\n",
    "## plt.plot(history_df_dnn['val_accuracy'], label= 'val_accuracy', color='limegreen')\n",
    "## history_df[['acc', 'val_acc']]\n",
    "#plt.xlabel('Epochs')\n",
    "#plt.ylabel('Accuracy')\n",
    "#plt.title('Training and Validation Accuracy History')\n",
    "#plt.legend()\n",
    "\n",
    "# display history of loss\n",
    "#plt.subplot(1,2,2)\n",
    "#plt.plot(history_df_cnn['loss'], label= 'cnn_loss')\n",
    "##plt.plot(history_df_cnn['val_loss'], label= 'val_loss')\n",
    "#plt.plot(history_df_dnn['loss'], label= 'dnn_loss', color='limegreen')\n",
    "##plt.plot(history_df_dnn['val_loss'], label= 'val_loss', color='limegreen')\n",
    "# history_df[['loss', 'val_loss']].plot()\n",
    "#plt.xlabel('Epochs')\n",
    "#plt.ylabel('Loss')\n",
    "#plt.title('Training and Validation Loss History')\n",
    "#plt.legend()\n",
    "#plt.savefig('fig2.png', dpi=300)\n",
    "#plt.show()\n"
   ]
  },
  {
   "cell_type": "code",
   "execution_count": 42,
   "id": "15cc9ae4",
   "metadata": {
    "execution": {
     "iopub.execute_input": "2022-11-17T19:55:58.193591Z",
     "iopub.status.busy": "2022-11-17T19:55:58.192885Z",
     "iopub.status.idle": "2022-11-17T19:55:58.198952Z",
     "shell.execute_reply": "2022-11-17T19:55:58.196793Z"
    },
    "papermill": {
     "duration": 1.995014,
     "end_time": "2022-11-17T19:55:58.202536",
     "exception": false,
     "start_time": "2022-11-17T19:55:56.207522",
     "status": "completed"
    },
    "tags": []
   },
   "outputs": [],
   "source": [
    "#plt.figure(figsize= (6,6))\n",
    "#plt.plot(history_df_cnn['accuracy'], label= 'cnn_accuracy' )\n",
    "##plt.plot(history_df_cnn['val_loss'], label= 'val_loss')\n",
    "##plt.plot(history_df_dnn['loss'], label= 'dnn_loss', color='limegreen')\n",
    "##plt.plot(history_df_dnn['val_loss'], label= 'val_loss', color='limegreen')\n",
    "## history_df[['loss', 'val_loss']].plot()\n",
    "#plt.xlabel('Epochs')\n",
    "#plt.ylabel('Loss')\n",
    "#plt.title('Training and Validation Loss History')\n",
    "#plt.legend()\n",
    "#plt.savefig('cnnaccuracy.png', dpi=300)\n",
    "#plt.show()"
   ]
  },
  {
   "cell_type": "markdown",
   "id": "28028c22",
   "metadata": {
    "papermill": {
     "duration": 1.74125,
     "end_time": "2022-11-17T19:56:01.975822",
     "exception": false,
     "start_time": "2022-11-17T19:56:00.234572",
     "status": "completed"
    },
    "tags": []
   },
   "source": [
    "# test data (2차에 활용)"
   ]
  },
  {
   "cell_type": "code",
   "execution_count": 43,
   "id": "8a2057cd",
   "metadata": {
    "execution": {
     "iopub.execute_input": "2022-11-17T19:56:05.944282Z",
     "iopub.status.busy": "2022-11-17T19:56:05.943844Z",
     "iopub.status.idle": "2022-11-17T19:56:05.948879Z",
     "shell.execute_reply": "2022-11-17T19:56:05.948156Z"
    },
    "papermill": {
     "duration": 1.993291,
     "end_time": "2022-11-17T19:56:05.950559",
     "exception": false,
     "start_time": "2022-11-17T19:56:03.957268",
     "status": "completed"
    },
    "tags": []
   },
   "outputs": [],
   "source": [
    "# test data\n",
    "\n",
    "#test_y = pd.read_csv(\"../input/intel-mobileodt-cervical-cancer-screening/solution_stg1_release.csv\")\n",
    "#test_y.loc[1,['Type_1','Type_2','Type_3']]\n",
    "\n",
    "#root_dir = '../input/intel-mobileodt-cervical-cancer-screening'\n",
    "#test_dir = os.path.join(root_dir,'test', 'test')\n",
    "\n",
    "#test_type = []\n",
    "#test_features = []\n",
    "#i=0\n",
    "#for fn in test_y[['image_name']].to_numpy():\n",
    "#    for filename in fn:\n",
    "#        filepath = os.path.join(test_dir,filename)\n",
    "#        #print(filepath)\n",
    "#        img = cv2.imread(filepath)\n",
    "#        resized_img = cv2.resize(img, (180, 180))\n",
    "#        test_features.append(np.array(resized_img))\n",
    "#        test_type.append(np.array(test_y.loc[i,['Type_1','Type_2','Type_3']]))\n",
    "#        i=i+1\n",
    "    \n",
    "#print( len(test_features))"
   ]
  },
  {
   "cell_type": "code",
   "execution_count": 44,
   "id": "a83c453f",
   "metadata": {
    "execution": {
     "iopub.execute_input": "2022-11-17T19:56:09.697001Z",
     "iopub.status.busy": "2022-11-17T19:56:09.696592Z",
     "iopub.status.idle": "2022-11-17T19:56:09.701877Z",
     "shell.execute_reply": "2022-11-17T19:56:09.700489Z"
    },
    "papermill": {
     "duration": 1.97854,
     "end_time": "2022-11-17T19:56:09.703879",
     "exception": false,
     "start_time": "2022-11-17T19:56:07.725339",
     "status": "completed"
    },
    "tags": []
   },
   "outputs": [],
   "source": [
    "#test_y = pd.read_csv(\"../input/intel-mobileodt-cervical-cancer-screening/solution_stg1_release.csv\")\n",
    "#test_y.loc[1,['Type_1','Type_2','Type_3']]"
   ]
  },
  {
   "cell_type": "code",
   "execution_count": 45,
   "id": "7c15f5fe",
   "metadata": {
    "execution": {
     "iopub.execute_input": "2022-11-17T19:56:13.415810Z",
     "iopub.status.busy": "2022-11-17T19:56:13.415060Z",
     "iopub.status.idle": "2022-11-17T19:56:13.420412Z",
     "shell.execute_reply": "2022-11-17T19:56:13.419304Z"
    },
    "papermill": {
     "duration": 1.739746,
     "end_time": "2022-11-17T19:56:13.422820",
     "exception": false,
     "start_time": "2022-11-17T19:56:11.683074",
     "status": "completed"
    },
    "tags": []
   },
   "outputs": [],
   "source": [
    "#y_test = test_y.loc[:,['Type_1','Type_2','Type_3']]\n",
    "#y_test\n",
    "#import tensorflow as tf"
   ]
  },
  {
   "cell_type": "code",
   "execution_count": 46,
   "id": "8f520f32",
   "metadata": {
    "execution": {
     "iopub.execute_input": "2022-11-17T19:56:17.455594Z",
     "iopub.status.busy": "2022-11-17T19:56:17.454804Z",
     "iopub.status.idle": "2022-11-17T19:56:17.459690Z",
     "shell.execute_reply": "2022-11-17T19:56:17.458451Z"
    },
    "papermill": {
     "duration": 2.023796,
     "end_time": "2022-11-17T19:56:17.462504",
     "exception": false,
     "start_time": "2022-11-17T19:56:15.438708",
     "status": "completed"
    },
    "tags": []
   },
   "outputs": [],
   "source": [
    "#y_train_onehot"
   ]
  },
  {
   "cell_type": "code",
   "execution_count": 47,
   "id": "441b2942",
   "metadata": {
    "execution": {
     "iopub.execute_input": "2022-11-17T19:56:21.153967Z",
     "iopub.status.busy": "2022-11-17T19:56:21.153034Z",
     "iopub.status.idle": "2022-11-17T19:56:21.157287Z",
     "shell.execute_reply": "2022-11-17T19:56:21.156629Z"
    },
    "papermill": {
     "duration": 1.965569,
     "end_time": "2022-11-17T19:56:21.159861",
     "exception": false,
     "start_time": "2022-11-17T19:56:19.194292",
     "status": "completed"
    },
    "tags": []
   },
   "outputs": [],
   "source": [
    "#print(y_test)\n",
    "#list = []\n",
    "#for d in y_test.index:\n",
    "#    res = y_test.loc[d,:].values.tolist()\n",
    "#    list.append(res)"
   ]
  },
  {
   "cell_type": "code",
   "execution_count": 48,
   "id": "6bb4b67a",
   "metadata": {
    "execution": {
     "iopub.execute_input": "2022-11-17T19:56:25.192615Z",
     "iopub.status.busy": "2022-11-17T19:56:25.191874Z",
     "iopub.status.idle": "2022-11-17T19:56:25.196797Z",
     "shell.execute_reply": "2022-11-17T19:56:25.195489Z"
    },
    "papermill": {
     "duration": 2.006069,
     "end_time": "2022-11-17T19:56:25.198963",
     "exception": false,
     "start_time": "2022-11-17T19:56:23.192894",
     "status": "completed"
    },
    "tags": []
   },
   "outputs": [],
   "source": [
    "#y_test = np.array(list)\n",
    "#y_test"
   ]
  },
  {
   "cell_type": "code",
   "execution_count": 49,
   "id": "bbe94819",
   "metadata": {
    "execution": {
     "iopub.execute_input": "2022-11-17T19:56:29.053338Z",
     "iopub.status.busy": "2022-11-17T19:56:29.052895Z",
     "iopub.status.idle": "2022-11-17T19:56:29.058803Z",
     "shell.execute_reply": "2022-11-17T19:56:29.057588Z"
    },
    "papermill": {
     "duration": 2.110922,
     "end_time": "2022-11-17T19:56:29.060696",
     "exception": false,
     "start_time": "2022-11-17T19:56:26.949774",
     "status": "completed"
    },
    "tags": []
   },
   "outputs": [],
   "source": [
    "# normalize test features\n",
    "#test_X = np.array(test_features)\n",
    "#X_test = test_X/255"
   ]
  },
  {
   "cell_type": "code",
   "execution_count": 50,
   "id": "d03e581e",
   "metadata": {
    "execution": {
     "iopub.execute_input": "2022-11-17T19:56:32.725460Z",
     "iopub.status.busy": "2022-11-17T19:56:32.724986Z",
     "iopub.status.idle": "2022-11-17T19:56:32.730550Z",
     "shell.execute_reply": "2022-11-17T19:56:32.729179Z"
    },
    "papermill": {
     "duration": 1.721684,
     "end_time": "2022-11-17T19:56:32.733489",
     "exception": false,
     "start_time": "2022-11-17T19:56:31.011805",
     "status": "completed"
    },
    "tags": []
   },
   "outputs": [],
   "source": [
    "#print(cnn.evaluate(X_test, y_test))\n",
    "#print(dnn.evaluate(X_test, y_test))"
   ]
  }
 ],
 "metadata": {
  "kernelspec": {
   "display_name": "Python 3",
   "language": "python",
   "name": "python3"
  },
  "language_info": {
   "codemirror_mode": {
    "name": "ipython",
    "version": 3
   },
   "file_extension": ".py",
   "mimetype": "text/x-python",
   "name": "python",
   "nbconvert_exporter": "python",
   "pygments_lexer": "ipython3",
   "version": "3.7.12"
  },
  "papermill": {
   "default_parameters": {},
   "duration": 12231.455567,
   "end_time": "2022-11-17T19:56:37.613200",
   "environment_variables": {},
   "exception": null,
   "input_path": "__notebook__.ipynb",
   "output_path": "__notebook__.ipynb",
   "parameters": {},
   "start_time": "2022-11-17T16:32:46.157633",
   "version": "2.3.4"
  }
 },
 "nbformat": 4,
 "nbformat_minor": 5
}
