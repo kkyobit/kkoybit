{
 "cells": [
  {
   "cell_type": "code",
   "execution_count": 1,
   "id": "f28859e1",
   "metadata": {
    "collapsed": false,
    "execution": {
     "iopub.execute_input": "2022-11-25T14:45:51.743523Z",
     "iopub.status.busy": "2022-11-25T14:45:51.742694Z",
     "iopub.status.idle": "2022-11-25T14:46:03.089205Z",
     "shell.execute_reply": "2022-11-25T14:46:03.088190Z"
    },
    "jupyter": {
     "outputs_hidden": false
    },
    "papermill": {
     "duration": 11.363193,
     "end_time": "2022-11-25T14:46:03.091776",
     "exception": false,
     "start_time": "2022-11-25T14:45:51.728583",
     "status": "completed"
    },
    "pycharm": {
     "name": "#%%\n"
    },
    "tags": []
   },
   "outputs": [],
   "source": [
    "import gc\n",
    "import numpy as np\n",
    "import pandas as pd\n",
    "import sklearn\n",
    "from torch.utils.data import Dataset,DataLoader\n",
    "from torchvision import datasets, models, transforms\n",
    "import torch\n",
    "from matplotlib import pyplot as plt\n",
    "from tensorflow import keras\n",
    "from cv2 import imread\n",
    "from tensorflow.keras.models import Sequential\n",
    "from tensorflow.keras.layers import Activation, Conv2D, MaxPooling2D, Dense, Flatten\n",
    "from tensorflow.keras.layers import Dropout, BatchNormalization \n",
    "from tensorflow.keras.utils import to_categorical\n",
    "from tensorflow.keras.preprocessing import image\n",
    "import torchmetrics \n",
    "import albumentations as A\n",
    "from albumentations.pytorch import ToTensorV2\n",
    "from torch import nn\n",
    "from torch.optim import AdamW,Adam # optmizers\n",
    "import time\n",
    "from keras.callbacks import ModelCheckpoint\n",
    "import matplotlib.pyplot as plt\n",
    "from sklearn.metrics import accuracy_score, confusion_matrix, classification_report\n",
    "import seaborn as sns\n",
    "import os\n",
    "import glob\n",
    "import plotly.graph_objects as go\n",
    "import cv2\n",
    "from PIL import Image\n",
    "from PIL import ImageFile\n",
    "from sklearn.model_selection import train_test_split\n",
    "from sklearn.preprocessing import LabelEncoder\n",
    "import tensorflow as tf\n",
    "from tensorflow.keras.preprocessing.image import ImageDataGenerator\n",
    "from keras.utils.np_utils import to_categorical\n",
    "from keras.applications.vgg16 import VGG16\n",
    "from tensorflow.keras.optimizers import Adam\n",
    "from keras.callbacks import EarlyStopping, ReduceLROnPlateau,ModelCheckpoint \n",
    "from sklearn.metrics import accuracy_score, confusion_matrix, classification_report\n",
    "import warnings\n",
    "warnings.filterwarnings(\"ignore\")\n",
    "ImageFile.LOAD_TRUNCATED_IMAGES = True\n",
    "\n",
    "from tqdm import tqdm"
   ]
  },
  {
   "cell_type": "code",
   "execution_count": 2,
   "id": "c09d00fa",
   "metadata": {
    "execution": {
     "iopub.execute_input": "2022-11-25T14:46:03.118125Z",
     "iopub.status.busy": "2022-11-25T14:46:03.117267Z",
     "iopub.status.idle": "2022-11-25T14:46:06.601155Z",
     "shell.execute_reply": "2022-11-25T14:46:06.600206Z"
    },
    "papermill": {
     "duration": 3.500166,
     "end_time": "2022-11-25T14:46:06.603434",
     "exception": false,
     "start_time": "2022-11-25T14:46:03.103268",
     "status": "completed"
    },
    "tags": []
   },
   "outputs": [],
   "source": [
    "X_valid = np.load('../input/cervical-cancer-screening128/X_valid_128.npy',allow_pickle=True)\n",
    "y_valid = np.load('../input/cervical-cancer-screening128/y_valid_128.npy',allow_pickle=True)\n",
    "X_train = np.load('../input/cervical-cancer-screening128/X_train_128.npy',allow_pickle=True)\n",
    "y_train = np.load('../input/cervical-cancer-screening128/y_train_128.npy',allow_pickle=True)"
   ]
  },
  {
   "cell_type": "markdown",
   "id": "b596e01f",
   "metadata": {
    "papermill": {
     "duration": 0.010936,
     "end_time": "2022-11-25T14:46:06.625721",
     "exception": false,
     "start_time": "2022-11-25T14:46:06.614785",
     "status": "completed"
    },
    "tags": []
   },
   "source": [
    "# 데이터"
   ]
  },
  {
   "cell_type": "markdown",
   "id": "c54848b6",
   "metadata": {
    "papermill": {
     "duration": 0.010755,
     "end_time": "2022-11-25T14:46:06.647421",
     "exception": false,
     "start_time": "2022-11-25T14:46:06.636666",
     "status": "completed"
    },
    "tags": []
   },
   "source": [
    "# 데이터 분리"
   ]
  },
  {
   "cell_type": "code",
   "execution_count": 3,
   "id": "89b21ab9",
   "metadata": {
    "execution": {
     "iopub.execute_input": "2022-11-25T14:46:06.671076Z",
     "iopub.status.busy": "2022-11-25T14:46:06.670699Z",
     "iopub.status.idle": "2022-11-25T14:46:06.675702Z",
     "shell.execute_reply": "2022-11-25T14:46:06.674304Z"
    },
    "papermill": {
     "duration": 0.019344,
     "end_time": "2022-11-25T14:46:06.677797",
     "exception": false,
     "start_time": "2022-11-25T14:46:06.658453",
     "status": "completed"
    },
    "tags": []
   },
   "outputs": [],
   "source": [
    "# Train / Validation\n",
    "\n",
    "#train_df, valid_df = train_test_split(files_df, test_size = 0.2, stratify = files_df['label'], random_state = 1234)\n",
    "\n",
    "#print(len(train_df), len(valid_df))"
   ]
  },
  {
   "cell_type": "code",
   "execution_count": 4,
   "id": "a47e6173",
   "metadata": {
    "execution": {
     "iopub.execute_input": "2022-11-25T14:46:06.707100Z",
     "iopub.status.busy": "2022-11-25T14:46:06.705565Z",
     "iopub.status.idle": "2022-11-25T14:46:06.711093Z",
     "shell.execute_reply": "2022-11-25T14:46:06.710144Z"
    },
    "papermill": {
     "duration": 0.021458,
     "end_time": "2022-11-25T14:46:06.713537",
     "exception": false,
     "start_time": "2022-11-25T14:46:06.692079",
     "status": "completed"
    },
    "tags": []
   },
   "outputs": [],
   "source": [
    "#X_train = train_df[['filepath']]\n",
    "#y_train = train_df[['label']]\n",
    "#X_train = X_train.reset_index(drop=True)\n",
    "#y_train = y_train.reset_index(drop=True)"
   ]
  },
  {
   "cell_type": "code",
   "execution_count": 5,
   "id": "8353fa60",
   "metadata": {
    "execution": {
     "iopub.execute_input": "2022-11-25T14:46:06.743418Z",
     "iopub.status.busy": "2022-11-25T14:46:06.742985Z",
     "iopub.status.idle": "2022-11-25T14:46:06.748457Z",
     "shell.execute_reply": "2022-11-25T14:46:06.747584Z"
    },
    "papermill": {
     "duration": 0.021602,
     "end_time": "2022-11-25T14:46:06.751461",
     "exception": false,
     "start_time": "2022-11-25T14:46:06.729859",
     "status": "completed"
    },
    "tags": []
   },
   "outputs": [
    {
     "name": "stdout",
     "output_type": "stream",
     "text": [
      "6569 6569 1643 1643\n"
     ]
    }
   ],
   "source": [
    "#X_valid = valid_df[['filepath']].reset_index(drop=True)\n",
    "#y_valid = valid_df[['label']].reset_index(drop=True)\n",
    "\n",
    "print(len(X_train), len(y_train), len(X_valid),len(y_valid))"
   ]
  },
  {
   "cell_type": "markdown",
   "id": "7ccca349",
   "metadata": {
    "papermill": {
     "duration": 0.01089,
     "end_time": "2022-11-25T14:46:06.776573",
     "exception": false,
     "start_time": "2022-11-25T14:46:06.765683",
     "status": "completed"
    },
    "tags": []
   },
   "source": [
    "# 데이터 전처리"
   ]
  },
  {
   "cell_type": "code",
   "execution_count": 6,
   "id": "0a851099",
   "metadata": {
    "execution": {
     "iopub.execute_input": "2022-11-25T14:46:06.800676Z",
     "iopub.status.busy": "2022-11-25T14:46:06.800348Z",
     "iopub.status.idle": "2022-11-25T14:46:06.804116Z",
     "shell.execute_reply": "2022-11-25T14:46:06.803355Z"
    },
    "papermill": {
     "duration": 0.018017,
     "end_time": "2022-11-25T14:46:06.805851",
     "exception": false,
     "start_time": "2022-11-25T14:46:06.787834",
     "status": "completed"
    },
    "tags": []
   },
   "outputs": [],
   "source": [
    "# save train data as npy files\n",
    "\n",
    "#np.save('/kaggle/working/X_train_25', X_train)\n",
    "#np.save('/kaggle/working/y_train_25', y_train)"
   ]
  },
  {
   "cell_type": "code",
   "execution_count": 7,
   "id": "4237de56",
   "metadata": {
    "execution": {
     "iopub.execute_input": "2022-11-25T14:46:06.830883Z",
     "iopub.status.busy": "2022-11-25T14:46:06.829764Z",
     "iopub.status.idle": "2022-11-25T14:46:06.834898Z",
     "shell.execute_reply": "2022-11-25T14:46:06.833955Z"
    },
    "papermill": {
     "duration": 0.020305,
     "end_time": "2022-11-25T14:46:06.837591",
     "exception": false,
     "start_time": "2022-11-25T14:46:06.817286",
     "status": "completed"
    },
    "tags": []
   },
   "outputs": [],
   "source": [
    "#features = []\n",
    "#f_app = features.append\n",
    "#path = train_df['filepath'].values\n",
    "#labels = train_df['label'].values\n",
    "#for p in tqdm(path):\n",
    "#    image = cv2.imread(p)\n",
    "#    image = cv2.cvtColor(image, cv2.COLOR_RGB2BGR)\n",
    "#    re_image = cv2.resize(image, (128,128))\n",
    "#    f_app(np.array(re_image))\n",
    "\n",
    "#X_train = np.array(features)\n",
    "#y_train = np.array(labels)"
   ]
  },
  {
   "cell_type": "code",
   "execution_count": 8,
   "id": "cbef5873",
   "metadata": {
    "execution": {
     "iopub.execute_input": "2022-11-25T14:46:06.861921Z",
     "iopub.status.busy": "2022-11-25T14:46:06.861544Z",
     "iopub.status.idle": "2022-11-25T14:46:06.866307Z",
     "shell.execute_reply": "2022-11-25T14:46:06.865367Z"
    },
    "papermill": {
     "duration": 0.01966,
     "end_time": "2022-11-25T14:46:06.868662",
     "exception": false,
     "start_time": "2022-11-25T14:46:06.849002",
     "status": "completed"
    },
    "tags": []
   },
   "outputs": [],
   "source": [
    "# 소요시간줄이는코드 (추가 수정 필요)\n",
    "#path = train_df['filepath'].values\n",
    "#labels = train_df['label'].values\n",
    "#features = [np.array(cv2.resize(cv2.cvtColor(cv2.imread(p),cv2.COLOR_RGB2BGR),(180,180))) for p in tqdm(path)]"
   ]
  },
  {
   "cell_type": "code",
   "execution_count": 9,
   "id": "074a6f32",
   "metadata": {
    "execution": {
     "iopub.execute_input": "2022-11-25T14:46:06.893632Z",
     "iopub.status.busy": "2022-11-25T14:46:06.892277Z",
     "iopub.status.idle": "2022-11-25T14:46:06.897429Z",
     "shell.execute_reply": "2022-11-25T14:46:06.896471Z"
    },
    "papermill": {
     "duration": 0.01929,
     "end_time": "2022-11-25T14:46:06.899260",
     "exception": false,
     "start_time": "2022-11-25T14:46:06.879970",
     "status": "completed"
    },
    "tags": []
   },
   "outputs": [],
   "source": [
    "# validation data\n",
    "\n",
    "#features = []\n",
    "#f_app = features.append\n",
    "#path = valid_df['filepath'].values\n",
    "#labels = valid_df['label'].values\n",
    "#for p in tqdm(path):\n",
    "#    image = cv2.imread(p)\n",
    "#    image = cv2.cvtColor(image, cv2.COLOR_RGB2BGR)\n",
    "#    re_image = cv2.resize(image, (128,128))\n",
    "#    f_app(np.array(re_image))\n",
    "\n",
    "#X_valid = np.array(features)\n",
    "#y_valid = np.array(labels)"
   ]
  },
  {
   "cell_type": "code",
   "execution_count": 10,
   "id": "0835a90a",
   "metadata": {
    "execution": {
     "iopub.execute_input": "2022-11-25T14:46:06.923696Z",
     "iopub.status.busy": "2022-11-25T14:46:06.923346Z",
     "iopub.status.idle": "2022-11-25T14:46:06.927112Z",
     "shell.execute_reply": "2022-11-25T14:46:06.926277Z"
    },
    "papermill": {
     "duration": 0.019626,
     "end_time": "2022-11-25T14:46:06.930235",
     "exception": false,
     "start_time": "2022-11-25T14:46:06.910609",
     "status": "completed"
    },
    "tags": []
   },
   "outputs": [],
   "source": [
    "# save validation data as npy files\n",
    "\n",
    "#np.save('/kaggle/working/X_valid', X_valid)\n",
    "#np.save('/kaggle/working/y_valid', y_valid)"
   ]
  },
  {
   "cell_type": "code",
   "execution_count": 11,
   "id": "2dd8ae76",
   "metadata": {
    "execution": {
     "iopub.execute_input": "2022-11-25T14:46:06.954118Z",
     "iopub.status.busy": "2022-11-25T14:46:06.953762Z",
     "iopub.status.idle": "2022-11-25T14:46:06.963885Z",
     "shell.execute_reply": "2022-11-25T14:46:06.962835Z"
    },
    "papermill": {
     "duration": 0.024731,
     "end_time": "2022-11-25T14:46:06.966270",
     "exception": false,
     "start_time": "2022-11-25T14:46:06.941539",
     "status": "completed"
    },
    "tags": []
   },
   "outputs": [
    {
     "data": {
      "text/plain": [
       "array([[[ 71,  81,  90],\n",
       "        [ 79,  89,  97],\n",
       "        [ 88, 101, 106],\n",
       "        ...,\n",
       "        [ 87,  57,  81],\n",
       "        [ 90,  58,  82],\n",
       "        [ 87,  55,  78]],\n",
       "\n",
       "       [[ 82,  89,  97],\n",
       "        [ 88,  95, 101],\n",
       "        [ 96, 107, 111],\n",
       "        ...,\n",
       "        [100,  66,  93],\n",
       "        [ 99,  65,  92],\n",
       "        [ 93,  60,  88]],\n",
       "\n",
       "       [[ 79,  83,  94],\n",
       "        [ 93,  98, 104],\n",
       "        [107, 114, 120],\n",
       "        ...,\n",
       "        [102,  67, 100],\n",
       "        [ 99,  64,  96],\n",
       "        [ 98,  63,  93]],\n",
       "\n",
       "       ...,\n",
       "\n",
       "       [[ 94,  62,  86],\n",
       "        [ 75,  47,  69],\n",
       "        [ 64,  43,  58],\n",
       "        ...,\n",
       "        [ 70,  37,  44],\n",
       "        [ 69,  37,  48],\n",
       "        [ 67,  36,  51]],\n",
       "\n",
       "       [[110,  74, 100],\n",
       "        [ 89,  57,  81],\n",
       "        [ 77,  49,  71],\n",
       "        ...,\n",
       "        [ 53,  24,  28],\n",
       "        [ 60,  30,  40],\n",
       "        [ 65,  36,  54]],\n",
       "\n",
       "       [[120,  84, 110],\n",
       "        [108,  75,  99],\n",
       "        [ 95,  63,  87],\n",
       "        ...,\n",
       "        [ 51,  23,  35],\n",
       "        [ 60,  29,  47],\n",
       "        [ 78,  46,  72]]], dtype=uint8)"
      ]
     },
     "execution_count": 11,
     "metadata": {},
     "output_type": "execute_result"
    }
   ],
   "source": [
    "# X train data 확인\n",
    "X_train[0]"
   ]
  },
  {
   "cell_type": "code",
   "execution_count": 12,
   "id": "ad28a3fc",
   "metadata": {
    "execution": {
     "iopub.execute_input": "2022-11-25T14:46:06.991068Z",
     "iopub.status.busy": "2022-11-25T14:46:06.990670Z",
     "iopub.status.idle": "2022-11-25T14:46:06.998678Z",
     "shell.execute_reply": "2022-11-25T14:46:06.997533Z"
    },
    "papermill": {
     "duration": 0.022724,
     "end_time": "2022-11-25T14:46:07.000616",
     "exception": false,
     "start_time": "2022-11-25T14:46:06.977892",
     "status": "completed"
    },
    "tags": []
   },
   "outputs": [
    {
     "data": {
      "text/plain": [
       "array([[[ 59,  51,  72],\n",
       "        [ 57,  49,  67],\n",
       "        [ 59,  52,  70],\n",
       "        ...,\n",
       "        [ 29,  39,  50],\n",
       "        [ 22,  31,  39],\n",
       "        [ 28,  36,  45]],\n",
       "\n",
       "       [[ 61,  53,  72],\n",
       "        [ 67,  56,  76],\n",
       "        [ 68,  54,  77],\n",
       "        ...,\n",
       "        [ 22,  40,  48],\n",
       "        [ 25,  39,  48],\n",
       "        [ 26,  35,  45]],\n",
       "\n",
       "       [[ 70,  61,  80],\n",
       "        [ 67,  59,  73],\n",
       "        [ 71,  59,  79],\n",
       "        ...,\n",
       "        [ 25,  38,  54],\n",
       "        [ 27,  39,  51],\n",
       "        [ 28,  37,  47]],\n",
       "\n",
       "       ...,\n",
       "\n",
       "       [[ 95,  87, 110],\n",
       "        [101,  93, 117],\n",
       "        [115, 103, 127],\n",
       "        ...,\n",
       "        [ 63,  49,  74],\n",
       "        [ 60,  47,  67],\n",
       "        [ 59,  45,  69]],\n",
       "\n",
       "       [[ 70,  67,  88],\n",
       "        [ 85,  78, 101],\n",
       "        [100,  91, 118],\n",
       "        ...,\n",
       "        [ 54,  41,  61],\n",
       "        [ 54,  41,  58],\n",
       "        [ 55,  42,  60]],\n",
       "\n",
       "       [[ 50,  48,  68],\n",
       "        [ 63,  60,  81],\n",
       "        [ 76,  67,  93],\n",
       "        ...,\n",
       "        [ 53,  40,  63],\n",
       "        [ 52,  39,  59],\n",
       "        [ 46,  34,  50]]], dtype=uint8)"
      ]
     },
     "execution_count": 12,
     "metadata": {},
     "output_type": "execute_result"
    }
   ],
   "source": [
    "# X validation data 확인\n",
    "X_valid[0]"
   ]
  },
  {
   "cell_type": "code",
   "execution_count": 13,
   "id": "f08caa5b",
   "metadata": {
    "execution": {
     "iopub.execute_input": "2022-11-25T14:46:07.025665Z",
     "iopub.status.busy": "2022-11-25T14:46:07.025293Z",
     "iopub.status.idle": "2022-11-25T14:46:07.668672Z",
     "shell.execute_reply": "2022-11-25T14:46:07.667245Z"
    },
    "papermill": {
     "duration": 0.658778,
     "end_time": "2022-11-25T14:46:07.671213",
     "exception": false,
     "start_time": "2022-11-25T14:46:07.012435",
     "status": "completed"
    },
    "tags": []
   },
   "outputs": [],
   "source": [
    "# 정규화 (0과1사이의값)\n",
    "X_train = X_train/255\n",
    "X_valid = X_valid/255"
   ]
  },
  {
   "cell_type": "code",
   "execution_count": 14,
   "id": "27269c60",
   "metadata": {
    "execution": {
     "iopub.execute_input": "2022-11-25T14:46:07.696565Z",
     "iopub.status.busy": "2022-11-25T14:46:07.696211Z",
     "iopub.status.idle": "2022-11-25T14:46:07.704276Z",
     "shell.execute_reply": "2022-11-25T14:46:07.703226Z"
    },
    "papermill": {
     "duration": 0.023521,
     "end_time": "2022-11-25T14:46:07.706527",
     "exception": false,
     "start_time": "2022-11-25T14:46:07.683006",
     "status": "completed"
    },
    "tags": []
   },
   "outputs": [
    {
     "data": {
      "text/plain": [
       "array([[[0.27843137, 0.31764706, 0.35294118],\n",
       "        [0.30980392, 0.34901961, 0.38039216],\n",
       "        [0.34509804, 0.39607843, 0.41568627],\n",
       "        ...,\n",
       "        [0.34117647, 0.22352941, 0.31764706],\n",
       "        [0.35294118, 0.22745098, 0.32156863],\n",
       "        [0.34117647, 0.21568627, 0.30588235]],\n",
       "\n",
       "       [[0.32156863, 0.34901961, 0.38039216],\n",
       "        [0.34509804, 0.37254902, 0.39607843],\n",
       "        [0.37647059, 0.41960784, 0.43529412],\n",
       "        ...,\n",
       "        [0.39215686, 0.25882353, 0.36470588],\n",
       "        [0.38823529, 0.25490196, 0.36078431],\n",
       "        [0.36470588, 0.23529412, 0.34509804]],\n",
       "\n",
       "       [[0.30980392, 0.3254902 , 0.36862745],\n",
       "        [0.36470588, 0.38431373, 0.40784314],\n",
       "        [0.41960784, 0.44705882, 0.47058824],\n",
       "        ...,\n",
       "        [0.4       , 0.2627451 , 0.39215686],\n",
       "        [0.38823529, 0.25098039, 0.37647059],\n",
       "        [0.38431373, 0.24705882, 0.36470588]],\n",
       "\n",
       "       ...,\n",
       "\n",
       "       [[0.36862745, 0.24313725, 0.3372549 ],\n",
       "        [0.29411765, 0.18431373, 0.27058824],\n",
       "        [0.25098039, 0.16862745, 0.22745098],\n",
       "        ...,\n",
       "        [0.2745098 , 0.14509804, 0.17254902],\n",
       "        [0.27058824, 0.14509804, 0.18823529],\n",
       "        [0.2627451 , 0.14117647, 0.2       ]],\n",
       "\n",
       "       [[0.43137255, 0.29019608, 0.39215686],\n",
       "        [0.34901961, 0.22352941, 0.31764706],\n",
       "        [0.30196078, 0.19215686, 0.27843137],\n",
       "        ...,\n",
       "        [0.20784314, 0.09411765, 0.10980392],\n",
       "        [0.23529412, 0.11764706, 0.15686275],\n",
       "        [0.25490196, 0.14117647, 0.21176471]],\n",
       "\n",
       "       [[0.47058824, 0.32941176, 0.43137255],\n",
       "        [0.42352941, 0.29411765, 0.38823529],\n",
       "        [0.37254902, 0.24705882, 0.34117647],\n",
       "        ...,\n",
       "        [0.2       , 0.09019608, 0.1372549 ],\n",
       "        [0.23529412, 0.11372549, 0.18431373],\n",
       "        [0.30588235, 0.18039216, 0.28235294]]])"
      ]
     },
     "execution_count": 14,
     "metadata": {},
     "output_type": "execute_result"
    }
   ],
   "source": [
    "# 정규화한 X train data 확인\n",
    "X_train[0]"
   ]
  },
  {
   "cell_type": "code",
   "execution_count": 15,
   "id": "d664fca6",
   "metadata": {
    "execution": {
     "iopub.execute_input": "2022-11-25T14:46:07.732479Z",
     "iopub.status.busy": "2022-11-25T14:46:07.732023Z",
     "iopub.status.idle": "2022-11-25T14:46:07.739356Z",
     "shell.execute_reply": "2022-11-25T14:46:07.738462Z"
    },
    "papermill": {
     "duration": 0.022802,
     "end_time": "2022-11-25T14:46:07.741078",
     "exception": false,
     "start_time": "2022-11-25T14:46:07.718276",
     "status": "completed"
    },
    "tags": []
   },
   "outputs": [
    {
     "data": {
      "text/plain": [
       "array([[[0.23137255, 0.2       , 0.28235294],\n",
       "        [0.22352941, 0.19215686, 0.2627451 ],\n",
       "        [0.23137255, 0.20392157, 0.2745098 ],\n",
       "        ...,\n",
       "        [0.11372549, 0.15294118, 0.19607843],\n",
       "        [0.08627451, 0.12156863, 0.15294118],\n",
       "        [0.10980392, 0.14117647, 0.17647059]],\n",
       "\n",
       "       [[0.23921569, 0.20784314, 0.28235294],\n",
       "        [0.2627451 , 0.21960784, 0.29803922],\n",
       "        [0.26666667, 0.21176471, 0.30196078],\n",
       "        ...,\n",
       "        [0.08627451, 0.15686275, 0.18823529],\n",
       "        [0.09803922, 0.15294118, 0.18823529],\n",
       "        [0.10196078, 0.1372549 , 0.17647059]],\n",
       "\n",
       "       [[0.2745098 , 0.23921569, 0.31372549],\n",
       "        [0.2627451 , 0.23137255, 0.28627451],\n",
       "        [0.27843137, 0.23137255, 0.30980392],\n",
       "        ...,\n",
       "        [0.09803922, 0.14901961, 0.21176471],\n",
       "        [0.10588235, 0.15294118, 0.2       ],\n",
       "        [0.10980392, 0.14509804, 0.18431373]],\n",
       "\n",
       "       ...,\n",
       "\n",
       "       [[0.37254902, 0.34117647, 0.43137255],\n",
       "        [0.39607843, 0.36470588, 0.45882353],\n",
       "        [0.45098039, 0.40392157, 0.49803922],\n",
       "        ...,\n",
       "        [0.24705882, 0.19215686, 0.29019608],\n",
       "        [0.23529412, 0.18431373, 0.2627451 ],\n",
       "        [0.23137255, 0.17647059, 0.27058824]],\n",
       "\n",
       "       [[0.2745098 , 0.2627451 , 0.34509804],\n",
       "        [0.33333333, 0.30588235, 0.39607843],\n",
       "        [0.39215686, 0.35686275, 0.4627451 ],\n",
       "        ...,\n",
       "        [0.21176471, 0.16078431, 0.23921569],\n",
       "        [0.21176471, 0.16078431, 0.22745098],\n",
       "        [0.21568627, 0.16470588, 0.23529412]],\n",
       "\n",
       "       [[0.19607843, 0.18823529, 0.26666667],\n",
       "        [0.24705882, 0.23529412, 0.31764706],\n",
       "        [0.29803922, 0.2627451 , 0.36470588],\n",
       "        ...,\n",
       "        [0.20784314, 0.15686275, 0.24705882],\n",
       "        [0.20392157, 0.15294118, 0.23137255],\n",
       "        [0.18039216, 0.13333333, 0.19607843]]])"
      ]
     },
     "execution_count": 15,
     "metadata": {},
     "output_type": "execute_result"
    }
   ],
   "source": [
    "# 정규화한 X validation data 확인\n",
    "X_valid[0]"
   ]
  },
  {
   "cell_type": "code",
   "execution_count": 16,
   "id": "e72f1d54",
   "metadata": {
    "execution": {
     "iopub.execute_input": "2022-11-25T14:46:07.765859Z",
     "iopub.status.busy": "2022-11-25T14:46:07.765526Z",
     "iopub.status.idle": "2022-11-25T14:46:07.770721Z",
     "shell.execute_reply": "2022-11-25T14:46:07.769720Z"
    },
    "papermill": {
     "duration": 0.020072,
     "end_time": "2022-11-25T14:46:07.772867",
     "exception": false,
     "start_time": "2022-11-25T14:46:07.752795",
     "status": "completed"
    },
    "tags": []
   },
   "outputs": [
    {
     "name": "stdout",
     "output_type": "stream",
     "text": [
      "6569 6569\n",
      "(6569, 128, 128, 3)\n"
     ]
    }
   ],
   "source": [
    "# train 개수, 차원 확인\n",
    "print(len(X_train), len(y_train))\n",
    "print(X_train.shape)"
   ]
  },
  {
   "cell_type": "code",
   "execution_count": 17,
   "id": "8d685e02",
   "metadata": {
    "execution": {
     "iopub.execute_input": "2022-11-25T14:46:07.800896Z",
     "iopub.status.busy": "2022-11-25T14:46:07.800534Z",
     "iopub.status.idle": "2022-11-25T14:46:07.807012Z",
     "shell.execute_reply": "2022-11-25T14:46:07.805816Z"
    },
    "papermill": {
     "duration": 0.022445,
     "end_time": "2022-11-25T14:46:07.809386",
     "exception": false,
     "start_time": "2022-11-25T14:46:07.786941",
     "status": "completed"
    },
    "tags": []
   },
   "outputs": [
    {
     "name": "stdout",
     "output_type": "stream",
     "text": [
      "1643 1643\n",
      "(1643, 128, 128, 3)\n"
     ]
    }
   ],
   "source": [
    "# validation 개수, 차원 확인\n",
    "print(len(X_valid), len(y_valid))\n",
    "print(X_valid.shape)"
   ]
  },
  {
   "cell_type": "code",
   "execution_count": 18,
   "id": "0348f647",
   "metadata": {
    "execution": {
     "iopub.execute_input": "2022-11-25T14:46:07.836182Z",
     "iopub.status.busy": "2022-11-25T14:46:07.835829Z",
     "iopub.status.idle": "2022-11-25T14:46:07.843923Z",
     "shell.execute_reply": "2022-11-25T14:46:07.843215Z"
    },
    "papermill": {
     "duration": 0.023629,
     "end_time": "2022-11-25T14:46:07.845652",
     "exception": false,
     "start_time": "2022-11-25T14:46:07.822023",
     "status": "completed"
    },
    "tags": []
   },
   "outputs": [],
   "source": [
    "# y 라벨링 (string -> int)\n",
    "le = LabelEncoder().fit(['Type 1', 'Type 2', 'Type 3'])\n",
    "y_train = le.transform(y_train)\n",
    "y_valid = le.transform(y_valid)\n",
    "\n",
    "y_train_onehot = to_categorical(y_train, num_classes=3)\n",
    "y_valid_onehot = to_categorical(y_valid, num_classes=3)"
   ]
  },
  {
   "cell_type": "code",
   "execution_count": 19,
   "id": "b3e7f0c4",
   "metadata": {
    "execution": {
     "iopub.execute_input": "2022-11-25T14:46:07.870773Z",
     "iopub.status.busy": "2022-11-25T14:46:07.870454Z",
     "iopub.status.idle": "2022-11-25T14:46:07.876748Z",
     "shell.execute_reply": "2022-11-25T14:46:07.875760Z"
    },
    "papermill": {
     "duration": 0.020863,
     "end_time": "2022-11-25T14:46:07.878466",
     "exception": false,
     "start_time": "2022-11-25T14:46:07.857603",
     "status": "completed"
    },
    "tags": []
   },
   "outputs": [
    {
     "data": {
      "text/plain": [
       "array([[0., 1., 0.],\n",
       "       [0., 0., 1.],\n",
       "       [0., 1., 0.],\n",
       "       [0., 1., 0.],\n",
       "       [0., 0., 1.]], dtype=float32)"
      ]
     },
     "execution_count": 19,
     "metadata": {},
     "output_type": "execute_result"
    }
   ],
   "source": [
    "y_train_onehot[:5]"
   ]
  },
  {
   "cell_type": "code",
   "execution_count": 20,
   "id": "b938f30e",
   "metadata": {
    "execution": {
     "iopub.execute_input": "2022-11-25T14:46:07.904042Z",
     "iopub.status.busy": "2022-11-25T14:46:07.903444Z",
     "iopub.status.idle": "2022-11-25T14:46:07.909115Z",
     "shell.execute_reply": "2022-11-25T14:46:07.908463Z"
    },
    "papermill": {
     "duration": 0.020606,
     "end_time": "2022-11-25T14:46:07.910820",
     "exception": false,
     "start_time": "2022-11-25T14:46:07.890214",
     "status": "completed"
    },
    "tags": []
   },
   "outputs": [
    {
     "data": {
      "text/plain": [
       "array([[0., 1., 0.],\n",
       "       [0., 1., 0.],\n",
       "       [0., 1., 0.],\n",
       "       [0., 0., 1.],\n",
       "       [0., 1., 0.]], dtype=float32)"
      ]
     },
     "execution_count": 20,
     "metadata": {},
     "output_type": "execute_result"
    }
   ],
   "source": [
    "y_valid_onehot[:5]"
   ]
  },
  {
   "cell_type": "code",
   "execution_count": 21,
   "id": "b27eb0e7",
   "metadata": {
    "execution": {
     "iopub.execute_input": "2022-11-25T14:46:07.936895Z",
     "iopub.status.busy": "2022-11-25T14:46:07.935999Z",
     "iopub.status.idle": "2022-11-25T14:46:08.825027Z",
     "shell.execute_reply": "2022-11-25T14:46:08.823874Z"
    },
    "papermill": {
     "duration": 0.904499,
     "end_time": "2022-11-25T14:46:08.827228",
     "exception": false,
     "start_time": "2022-11-25T14:46:07.922729",
     "status": "completed"
    },
    "tags": []
   },
   "outputs": [
    {
     "name": "stderr",
     "output_type": "stream",
     "text": [
      "2022-11-25 14:46:07.987524: I tensorflow/core/common_runtime/process_util.cc:146] Creating new thread pool with default inter op setting: 2. Tune using inter_op_parallelism_threads for best performance.\n"
     ]
    },
    {
     "name": "stdout",
     "output_type": "stream",
     "text": [
      "Model: \"mobilenet_v1\"\n",
      "_________________________________________________________________\n",
      "Layer (type)                 Output Shape              Param #   \n",
      "=================================================================\n",
      "zero_padding2d (ZeroPadding2 multiple                  0         \n",
      "_________________________________________________________________\n",
      "conv2d (Conv2D)              multiple                  864       \n",
      "_________________________________________________________________\n",
      "batch_normalization (BatchNo multiple                  128       \n",
      "_________________________________________________________________\n",
      "re_lu (ReLU)                 multiple                  0         \n",
      "_________________________________________________________________\n",
      "sequential (Sequential)      (1, 65, 65, 64)           2720      \n",
      "_________________________________________________________________\n",
      "zero_padding2d_1 (ZeroPaddin multiple                  0         \n",
      "_________________________________________________________________\n",
      "sequential_1 (Sequential)    (1, 32, 32, 128)          28096     \n",
      "_________________________________________________________________\n",
      "zero_padding2d_2 (ZeroPaddin multiple                  0         \n",
      "_________________________________________________________________\n",
      "sequential_2 (Sequential)    (1, 16, 16, 256)          105344    \n",
      "_________________________________________________________________\n",
      "zero_padding2d_3 (ZeroPaddin multiple                  0         \n",
      "_________________________________________________________________\n",
      "sequential_3 (Sequential)    (1, 8, 8, 512)            1490688   \n",
      "_________________________________________________________________\n",
      "zero_padding2d_4 (ZeroPaddin multiple                  0         \n",
      "_________________________________________________________________\n",
      "sequential_4 (Sequential)    (1, 2, 2, 1024)           1601024   \n",
      "_________________________________________________________________\n",
      "global_average_pooling2d (Gl multiple                  0         \n",
      "_________________________________________________________________\n",
      "reshape (Reshape)            multiple                  0         \n",
      "_________________________________________________________________\n",
      "dropout (Dropout)            multiple                  0         \n",
      "_________________________________________________________________\n",
      "conv2d_14 (Conv2D)           multiple                  1025000   \n",
      "_________________________________________________________________\n",
      "reshape_1 (Reshape)          multiple                  0         \n",
      "=================================================================\n",
      "Total params: 4,253,864\n",
      "Trainable params: 4,231,976\n",
      "Non-trainable params: 21,888\n",
      "_________________________________________________________________\n"
     ]
    }
   ],
   "source": [
    "class Depthwise_bn_relu(tf.keras.Model):\n",
    "    def __init__(self, strides, padding):\n",
    "        super(Depthwise_bn_relu, self).__init__()\n",
    "\n",
    "        self.strides = strides\n",
    "        self.padding = padding\n",
    "\n",
    "        self.dw = tf.keras.layers.DepthwiseConv2D(kernel_size=(3, 3), \n",
    "                                                  strides=self.strides, \n",
    "                                                  padding=self.padding,\n",
    "                                                  use_bias=False)\n",
    "        self.bn = tf.keras.layers.BatchNormalization()\n",
    "        self.relu = tf.keras.layers.ReLU()\n",
    "\n",
    "    def call(self, x, training=False):\n",
    "        x = self.dw(x)\n",
    "        x = self.bn(x)\n",
    "        x = self.relu(x)\n",
    "\n",
    "        return x\n",
    "\n",
    "\n",
    "\n",
    "class Pointwise_bn_relu(tf.keras.Model):\n",
    "    def __init__(self, nb_filters):\n",
    "        super(Pointwise_bn_relu, self).__init__()\n",
    "\n",
    "        self.nb_filters = nb_filters\n",
    "\n",
    "        self.pw = tf.keras.layers.Conv2D(self.nb_filters,\n",
    "                                         kernel_size=(1, 1), \n",
    "                                         strides=(1, 1),  \n",
    "                                         padding='same', \n",
    "                                         use_bias=False)\n",
    "        self.bn = tf.keras.layers.BatchNormalization()\n",
    "        self.relu = tf.keras.layers.ReLU()\n",
    "\n",
    "    def call(self, x, training=False):\n",
    "        x = self.pw(x)\n",
    "        x = self.bn(x)\n",
    "        x = self.relu(x)\n",
    "\n",
    "        return x\n",
    "\n",
    "\n",
    "    \n",
    "\n",
    "\n",
    "class MobilenetV1(tf.keras.Model):\n",
    "    def __init__(self, nb_class):\n",
    "        super(MobilenetV1, self).__init__()\n",
    "\n",
    "        self.nb_class = nb_class\n",
    "        self.zero_pad = tf.keras.layers.ZeroPadding2D((2, 2))\n",
    "        self.conv = tf.keras.layers.Conv2D(32, (3, 3), strides=(2, 2), use_bias=False)\n",
    "        self.bn = tf.keras.layers.BatchNormalization()\n",
    "        self.relu = tf.keras.layers.ReLU()\n",
    "\n",
    "        self.block1 = tf.keras.Sequential()\n",
    "        self.block1.add(Depthwise_bn_relu(1, 'same'))\n",
    "        self.block1.add(Pointwise_bn_relu(64))\n",
    "        self.zero_pad_1 = tf.keras.layers.ZeroPadding2D(padding=((0, 1), (0, 1)))\n",
    "        \n",
    "        \n",
    "        self.block2 = tf.keras.Sequential()\n",
    "        self.block2.add(Depthwise_bn_relu(2, 'valid'))\n",
    "        self.block2.add(Pointwise_bn_relu(128))\n",
    "        self.block2.add(Depthwise_bn_relu(1, 'same'))\n",
    "        self.block2.add(Pointwise_bn_relu(128))\n",
    "        self.zero_pad_2 = tf.keras.layers.ZeroPadding2D(padding=((0, 1), (0, 1)))\n",
    "\n",
    "\n",
    "        self.block3 = tf.keras.Sequential()\n",
    "        self.block3.add(Depthwise_bn_relu(2, 'valid'))\n",
    "        self.block3.add(Pointwise_bn_relu(256))\n",
    "        self.block3.add(Depthwise_bn_relu(1, 'same'))\n",
    "        self.block3.add(Pointwise_bn_relu(256))\n",
    "        self.zero_pad_3 = tf.keras.layers.ZeroPadding2D(padding=((0, 1), (0, 1)))\n",
    "\n",
    "\n",
    "        self.block4 = tf.keras.Sequential()\n",
    "        self.block4.add(Depthwise_bn_relu(2, 'valid'))\n",
    "        self.block4.add(Pointwise_bn_relu(512))\n",
    "\n",
    "        for _ in range(5):\n",
    "            self.block4.add(Depthwise_bn_relu(1, 'same'))\n",
    "            self.block4.add(Pointwise_bn_relu(512))\n",
    "\n",
    "        self.zero_pad_4 = tf.keras.layers.ZeroPadding2D(padding=((0, 1), (0, 1)))\n",
    "\n",
    "\n",
    "\n",
    "        self.block5 = tf.keras.Sequential()\n",
    "        self.block5.add(Depthwise_bn_relu(2, 'valid'))\n",
    "        self.block5.add(Pointwise_bn_relu(1024))\n",
    "        self.block5.add(Depthwise_bn_relu(2, 'same'))\n",
    "        self.block5.add(Pointwise_bn_relu(1024))\n",
    "\n",
    "\n",
    "        self.gap = tf.keras.layers.GlobalAveragePooling2D()\n",
    "        self.reshape = tf.keras.layers.Reshape((1, 1, 1024))\n",
    "        self.drop = tf.keras.layers.Dropout(0.001)\n",
    "        self.conv_pred = tf.keras.layers.Conv2D(1000, \n",
    "                                                kernel_size=(1, 1), \n",
    "                                                strides=(1, 1), \n",
    "                                                padding='same', \n",
    "                                                activation='softmax')\n",
    "        self.reshape_2 = tf.keras.layers.Reshape((1000,))\n",
    "\n",
    "        \n",
    "\n",
    "\n",
    "    def call(self, x, training=False):\n",
    "        x = self.zero_pad(x)\n",
    "        x = self.conv(x)\n",
    "        x = self.bn(x)\n",
    "        x = self.relu(x)\n",
    "       \n",
    "        x = self.block1(x)\n",
    "        x = self.zero_pad_1(x)\n",
    "\n",
    "        x = self.block2(x)\n",
    "        x = self.zero_pad_2(x)\n",
    "\n",
    "        x = self.block3(x)\n",
    "        x = self.zero_pad_3(x)\n",
    "\n",
    "        x = self.block4(x)\n",
    "        x = self.zero_pad_4(x)\n",
    "\n",
    "        x = self.block5(x)\n",
    "\n",
    "        x = self.gap(x)\n",
    "        x = self.reshape(x)\n",
    "        x = self.drop(x)\n",
    "        x = self.conv_pred(x)\n",
    "        x = self.reshape_2(x)\n",
    "        \n",
    "        return x\n",
    "\n",
    "    \n",
    "\n",
    "\n",
    "model = MobilenetV1(1000)\n",
    "model.build((1, 128, 128, 3))\n",
    "model.summary()"
   ]
  },
  {
   "cell_type": "code",
   "execution_count": 22,
   "id": "ed1922c5",
   "metadata": {
    "execution": {
     "iopub.execute_input": "2022-11-25T14:46:08.854526Z",
     "iopub.status.busy": "2022-11-25T14:46:08.853963Z",
     "iopub.status.idle": "2022-11-25T14:46:08.865721Z",
     "shell.execute_reply": "2022-11-25T14:46:08.865031Z"
    },
    "papermill": {
     "duration": 0.027845,
     "end_time": "2022-11-25T14:46:08.867851",
     "exception": false,
     "start_time": "2022-11-25T14:46:08.840006",
     "status": "completed"
    },
    "tags": []
   },
   "outputs": [],
   "source": [
    "model.compile(\n",
    "    loss = 'sparse_categorical_crossentropy'\n",
    "    ,metrics = ['accuracy']\n",
    ")"
   ]
  },
  {
   "cell_type": "code",
   "execution_count": 23,
   "id": "0b698a58",
   "metadata": {
    "execution": {
     "iopub.execute_input": "2022-11-25T14:46:08.894719Z",
     "iopub.status.busy": "2022-11-25T14:46:08.894088Z",
     "iopub.status.idle": "2022-11-25T14:46:08.898655Z",
     "shell.execute_reply": "2022-11-25T14:46:08.897678Z"
    },
    "papermill": {
     "duration": 0.020341,
     "end_time": "2022-11-25T14:46:08.900671",
     "exception": false,
     "start_time": "2022-11-25T14:46:08.880330",
     "status": "completed"
    },
    "tags": []
   },
   "outputs": [],
   "source": [
    "BATCH_SIZE = 16\n",
    "TRAIN_STEPS = len(X_train)//BATCH_SIZE\n",
    "VAL_STEPS = len(X_valid)//BATCH_SIZE"
   ]
  },
  {
   "cell_type": "code",
   "execution_count": 24,
   "id": "b4ee2191",
   "metadata": {
    "execution": {
     "iopub.execute_input": "2022-11-25T14:46:08.926760Z",
     "iopub.status.busy": "2022-11-25T14:46:08.926374Z",
     "iopub.status.idle": "2022-11-25T14:46:08.932205Z",
     "shell.execute_reply": "2022-11-25T14:46:08.931337Z"
    },
    "papermill": {
     "duration": 0.020885,
     "end_time": "2022-11-25T14:46:08.933848",
     "exception": false,
     "start_time": "2022-11-25T14:46:08.912963",
     "status": "completed"
    },
    "tags": []
   },
   "outputs": [],
   "source": [
    "reduceLR = ReduceLROnPlateau(monitor='val_accuracy', patience=10, verbose= 1, mode='max', factor=  0.2, min_lr = 1e-5)\n",
    "\n",
    "early_stopping = EarlyStopping(monitor='val_accuracy', patience = 20, verbose=1, mode='max', restore_best_weights= True)\n",
    "\n",
    "checkpoint = ModelCheckpoint('movilenet_v1.tf', monitor='val_accuracy', verbose=1,save_best_only=True, mode= 'max')"
   ]
  },
  {
   "cell_type": "code",
   "execution_count": 25,
   "id": "5e50ea12",
   "metadata": {
    "execution": {
     "iopub.execute_input": "2022-11-25T14:46:08.959757Z",
     "iopub.status.busy": "2022-11-25T14:46:08.959393Z",
     "iopub.status.idle": "2022-11-25T17:45:06.515188Z",
     "shell.execute_reply": "2022-11-25T17:45:06.513808Z"
    },
    "papermill": {
     "duration": 10737.571483,
     "end_time": "2022-11-25T17:45:06.517430",
     "exception": false,
     "start_time": "2022-11-25T14:46:08.945947",
     "status": "completed"
    },
    "tags": []
   },
   "outputs": [
    {
     "name": "stderr",
     "output_type": "stream",
     "text": [
      "2022-11-25 14:46:09.442546: I tensorflow/compiler/mlir/mlir_graph_optimization_pass.cc:185] None of the MLIR Optimization Passes are enabled (registered 2)\n"
     ]
    },
    {
     "name": "stdout",
     "output_type": "stream",
     "text": [
      "Epoch 1/100\n",
      "410/410 [==============================] - 118s 275ms/step - loss: 1.1159 - accuracy: 0.4917 - val_loss: 1.0072 - val_accuracy: 0.5295\n",
      "\n",
      "Epoch 00001: val_accuracy improved from -inf to 0.52952, saving model to movilenet_v1.tf\n"
     ]
    },
    {
     "name": "stderr",
     "output_type": "stream",
     "text": [
      "2022-11-25 14:48:15.935805: W tensorflow/python/util/util.cc:348] Sets are not currently considered sequences, but this may change in the future, so consider avoiding using them.\n"
     ]
    },
    {
     "name": "stdout",
     "output_type": "stream",
     "text": [
      "Epoch 2/100\n",
      "410/410 [==============================] - 109s 267ms/step - loss: 1.0002 - accuracy: 0.5156 - val_loss: 1.9318 - val_accuracy: 0.4212\n",
      "\n",
      "Epoch 00002: val_accuracy did not improve from 0.52952\n",
      "Epoch 3/100\n",
      "410/410 [==============================] - 114s 277ms/step - loss: 0.9677 - accuracy: 0.5233 - val_loss: 1.0323 - val_accuracy: 0.5222\n",
      "\n",
      "Epoch 00003: val_accuracy did not improve from 0.52952\n",
      "Epoch 4/100\n",
      "410/410 [==============================] - 113s 276ms/step - loss: 0.9463 - accuracy: 0.5271 - val_loss: 1.5533 - val_accuracy: 0.3968\n",
      "\n",
      "Epoch 00004: val_accuracy did not improve from 0.52952\n",
      "Epoch 5/100\n",
      "410/410 [==============================] - 113s 276ms/step - loss: 0.9313 - accuracy: 0.5269 - val_loss: 1.0244 - val_accuracy: 0.4814\n",
      "\n",
      "Epoch 00005: val_accuracy did not improve from 0.52952\n",
      "Epoch 6/100\n",
      "410/410 [==============================] - 117s 286ms/step - loss: 0.9070 - accuracy: 0.5514 - val_loss: 1.0237 - val_accuracy: 0.4948\n",
      "\n",
      "Epoch 00006: val_accuracy did not improve from 0.52952\n",
      "Epoch 7/100\n",
      "410/410 [==============================] - 112s 273ms/step - loss: 0.8888 - accuracy: 0.5681 - val_loss: 0.9372 - val_accuracy: 0.5533\n",
      "\n",
      "Epoch 00007: val_accuracy improved from 0.52952 to 0.55326, saving model to movilenet_v1.tf\n",
      "Epoch 8/100\n",
      "410/410 [==============================] - 114s 278ms/step - loss: 0.8553 - accuracy: 0.5851 - val_loss: 0.9595 - val_accuracy: 0.5247\n",
      "\n",
      "Epoch 00008: val_accuracy did not improve from 0.55326\n",
      "Epoch 9/100\n",
      "410/410 [==============================] - 110s 269ms/step - loss: 0.8241 - accuracy: 0.6058 - val_loss: 0.9977 - val_accuracy: 0.5636\n",
      "\n",
      "Epoch 00009: val_accuracy improved from 0.55326 to 0.56360, saving model to movilenet_v1.tf\n",
      "Epoch 10/100\n",
      "410/410 [==============================] - 111s 271ms/step - loss: 0.7746 - accuracy: 0.6409 - val_loss: 0.9373 - val_accuracy: 0.5977\n",
      "\n",
      "Epoch 00010: val_accuracy improved from 0.56360 to 0.59769, saving model to movilenet_v1.tf\n",
      "Epoch 11/100\n",
      "410/410 [==============================] - 110s 267ms/step - loss: 0.7176 - accuracy: 0.6791 - val_loss: 0.9966 - val_accuracy: 0.5971\n",
      "\n",
      "Epoch 00011: val_accuracy did not improve from 0.59769\n",
      "Epoch 12/100\n",
      "410/410 [==============================] - 113s 276ms/step - loss: 0.6499 - accuracy: 0.7165 - val_loss: 0.9665 - val_accuracy: 0.5764\n",
      "\n",
      "Epoch 00012: val_accuracy did not improve from 0.59769\n",
      "Epoch 13/100\n",
      "410/410 [==============================] - 108s 264ms/step - loss: 0.6020 - accuracy: 0.7461 - val_loss: 1.0533 - val_accuracy: 0.5971\n",
      "\n",
      "Epoch 00013: val_accuracy did not improve from 0.59769\n",
      "Epoch 14/100\n",
      "410/410 [==============================] - 109s 267ms/step - loss: 0.5242 - accuracy: 0.7819 - val_loss: 1.2869 - val_accuracy: 0.5703\n",
      "\n",
      "Epoch 00014: val_accuracy did not improve from 0.59769\n",
      "Epoch 15/100\n",
      "410/410 [==============================] - 114s 277ms/step - loss: 0.4611 - accuracy: 0.8121 - val_loss: 1.1274 - val_accuracy: 0.5989\n",
      "\n",
      "Epoch 00015: val_accuracy improved from 0.59769 to 0.59890, saving model to movilenet_v1.tf\n",
      "Epoch 16/100\n",
      "410/410 [==============================] - 109s 266ms/step - loss: 0.4165 - accuracy: 0.8337 - val_loss: 1.4209 - val_accuracy: 0.5831\n",
      "\n",
      "Epoch 00016: val_accuracy did not improve from 0.59890\n",
      "Epoch 17/100\n",
      "410/410 [==============================] - 110s 268ms/step - loss: 0.3658 - accuracy: 0.8582 - val_loss: 1.4649 - val_accuracy: 0.5934\n",
      "\n",
      "Epoch 00017: val_accuracy did not improve from 0.59890\n",
      "Epoch 18/100\n",
      "410/410 [==============================] - 115s 279ms/step - loss: 0.3199 - accuracy: 0.8805 - val_loss: 1.5324 - val_accuracy: 0.6062\n",
      "\n",
      "Epoch 00018: val_accuracy improved from 0.59890 to 0.60621, saving model to movilenet_v1.tf\n",
      "Epoch 19/100\n",
      "410/410 [==============================] - 115s 281ms/step - loss: 0.2968 - accuracy: 0.8848 - val_loss: 1.4584 - val_accuracy: 0.6050\n",
      "\n",
      "Epoch 00019: val_accuracy did not improve from 0.60621\n",
      "Epoch 20/100\n",
      "410/410 [==============================] - 116s 284ms/step - loss: 0.2780 - accuracy: 0.8959 - val_loss: 1.3946 - val_accuracy: 0.6093\n",
      "\n",
      "Epoch 00020: val_accuracy improved from 0.60621 to 0.60925, saving model to movilenet_v1.tf\n",
      "Epoch 21/100\n",
      "410/410 [==============================] - 113s 276ms/step - loss: 0.2402 - accuracy: 0.9109 - val_loss: 1.7325 - val_accuracy: 0.5746\n",
      "\n",
      "Epoch 00021: val_accuracy did not improve from 0.60925\n",
      "Epoch 22/100\n",
      "410/410 [==============================] - 115s 281ms/step - loss: 0.2289 - accuracy: 0.9185 - val_loss: 1.5535 - val_accuracy: 0.5965\n",
      "\n",
      "Epoch 00022: val_accuracy did not improve from 0.60925\n",
      "Epoch 23/100\n",
      "410/410 [==============================] - 113s 276ms/step - loss: 0.2182 - accuracy: 0.9171 - val_loss: 1.6309 - val_accuracy: 0.5782\n",
      "\n",
      "Epoch 00023: val_accuracy did not improve from 0.60925\n",
      "Epoch 24/100\n",
      "410/410 [==============================] - 112s 274ms/step - loss: 0.2123 - accuracy: 0.9243 - val_loss: 1.5449 - val_accuracy: 0.6299\n",
      "\n",
      "Epoch 00024: val_accuracy improved from 0.60925 to 0.62995, saving model to movilenet_v1.tf\n",
      "Epoch 25/100\n",
      "410/410 [==============================] - 114s 277ms/step - loss: 0.1736 - accuracy: 0.9358 - val_loss: 1.7103 - val_accuracy: 0.6281\n",
      "\n",
      "Epoch 00025: val_accuracy did not improve from 0.62995\n",
      "Epoch 26/100\n",
      "410/410 [==============================] - 112s 274ms/step - loss: 0.1662 - accuracy: 0.9393 - val_loss: 1.7281 - val_accuracy: 0.5983\n",
      "\n",
      "Epoch 00026: val_accuracy did not improve from 0.62995\n",
      "Epoch 27/100\n",
      "410/410 [==============================] - 111s 272ms/step - loss: 0.1818 - accuracy: 0.9385 - val_loss: 1.8609 - val_accuracy: 0.6196\n",
      "\n",
      "Epoch 00027: val_accuracy did not improve from 0.62995\n",
      "Epoch 28/100\n",
      "410/410 [==============================] - 111s 271ms/step - loss: 0.1513 - accuracy: 0.9455 - val_loss: 2.2032 - val_accuracy: 0.6129\n",
      "\n",
      "Epoch 00028: val_accuracy did not improve from 0.62995\n",
      "Epoch 29/100\n",
      "410/410 [==============================] - 113s 275ms/step - loss: 0.1540 - accuracy: 0.9470 - val_loss: 1.8451 - val_accuracy: 0.6147\n",
      "\n",
      "Epoch 00029: val_accuracy did not improve from 0.62995\n",
      "Epoch 30/100\n",
      "410/410 [==============================] - 116s 282ms/step - loss: 0.1550 - accuracy: 0.9467 - val_loss: 1.7812 - val_accuracy: 0.6360\n",
      "\n",
      "Epoch 00030: val_accuracy improved from 0.62995 to 0.63603, saving model to movilenet_v1.tf\n",
      "Epoch 31/100\n",
      "410/410 [==============================] - 114s 278ms/step - loss: 0.1265 - accuracy: 0.9576 - val_loss: 2.1028 - val_accuracy: 0.6050\n",
      "\n",
      "Epoch 00031: val_accuracy did not improve from 0.63603\n",
      "Epoch 32/100\n",
      "410/410 [==============================] - 111s 271ms/step - loss: 0.1244 - accuracy: 0.9559 - val_loss: 1.9662 - val_accuracy: 0.6208\n",
      "\n",
      "Epoch 00032: val_accuracy did not improve from 0.63603\n",
      "Epoch 33/100\n",
      "410/410 [==============================] - 110s 269ms/step - loss: 0.1274 - accuracy: 0.9565 - val_loss: 1.8398 - val_accuracy: 0.6196\n",
      "\n",
      "Epoch 00033: val_accuracy did not improve from 0.63603\n",
      "Epoch 34/100\n",
      "410/410 [==============================] - 111s 271ms/step - loss: 0.1216 - accuracy: 0.9567 - val_loss: 2.0222 - val_accuracy: 0.6050\n",
      "\n",
      "Epoch 00034: val_accuracy did not improve from 0.63603\n",
      "Epoch 35/100\n",
      "410/410 [==============================] - 112s 273ms/step - loss: 0.1163 - accuracy: 0.9632 - val_loss: 2.2012 - val_accuracy: 0.6233\n",
      "\n",
      "Epoch 00035: val_accuracy did not improve from 0.63603\n",
      "Epoch 36/100\n",
      "410/410 [==============================] - 113s 276ms/step - loss: 0.1203 - accuracy: 0.9600 - val_loss: 1.8493 - val_accuracy: 0.6135\n",
      "\n",
      "Epoch 00036: val_accuracy did not improve from 0.63603\n",
      "Epoch 37/100\n",
      "410/410 [==============================] - 113s 275ms/step - loss: 0.1044 - accuracy: 0.9646 - val_loss: 1.8158 - val_accuracy: 0.6239\n",
      "\n",
      "Epoch 00037: val_accuracy did not improve from 0.63603\n",
      "Epoch 38/100\n",
      "410/410 [==============================] - 110s 268ms/step - loss: 0.1100 - accuracy: 0.9638 - val_loss: 1.9315 - val_accuracy: 0.6099\n",
      "\n",
      "Epoch 00038: val_accuracy did not improve from 0.63603\n",
      "Epoch 39/100\n",
      "410/410 [==============================] - 115s 280ms/step - loss: 0.0974 - accuracy: 0.9684 - val_loss: 2.0061 - val_accuracy: 0.6141\n",
      "\n",
      "Epoch 00039: val_accuracy did not improve from 0.63603\n",
      "Epoch 40/100\n",
      "410/410 [==============================] - 112s 273ms/step - loss: 0.1093 - accuracy: 0.9646 - val_loss: 2.1788 - val_accuracy: 0.6007\n",
      "\n",
      "Epoch 00040: ReduceLROnPlateau reducing learning rate to 0.00020000000949949026.\n",
      "\n",
      "Epoch 00040: val_accuracy did not improve from 0.63603\n",
      "Epoch 41/100\n",
      "410/410 [==============================] - 107s 261ms/step - loss: 0.0314 - accuracy: 0.9890 - val_loss: 1.9489 - val_accuracy: 0.6324\n",
      "\n",
      "Epoch 00041: val_accuracy did not improve from 0.63603\n",
      "Epoch 42/100\n",
      "410/410 [==============================] - 113s 275ms/step - loss: 0.0152 - accuracy: 0.9942 - val_loss: 2.2559 - val_accuracy: 0.6366\n",
      "\n",
      "Epoch 00042: val_accuracy improved from 0.63603 to 0.63664, saving model to movilenet_v1.tf\n",
      "Epoch 43/100\n",
      "410/410 [==============================] - 113s 275ms/step - loss: 0.0064 - accuracy: 0.9974 - val_loss: 2.5229 - val_accuracy: 0.6330\n",
      "\n",
      "Epoch 00043: val_accuracy did not improve from 0.63664\n",
      "Epoch 44/100\n",
      "410/410 [==============================] - 113s 275ms/step - loss: 0.0065 - accuracy: 0.9985 - val_loss: 2.7285 - val_accuracy: 0.6287\n",
      "\n",
      "Epoch 00044: val_accuracy did not improve from 0.63664\n",
      "Epoch 45/100\n",
      "410/410 [==============================] - 113s 275ms/step - loss: 0.0046 - accuracy: 0.9980 - val_loss: 2.8231 - val_accuracy: 0.6397\n",
      "\n",
      "Epoch 00045: val_accuracy improved from 0.63664 to 0.63968, saving model to movilenet_v1.tf\n",
      "Epoch 46/100\n",
      "410/410 [==============================] - 114s 277ms/step - loss: 0.0050 - accuracy: 0.9983 - val_loss: 3.0014 - val_accuracy: 0.6439\n",
      "\n",
      "Epoch 00046: val_accuracy improved from 0.63968 to 0.64394, saving model to movilenet_v1.tf\n",
      "Epoch 47/100\n",
      "410/410 [==============================] - 112s 272ms/step - loss: 0.0033 - accuracy: 0.9989 - val_loss: 3.0058 - val_accuracy: 0.6354\n",
      "\n",
      "Epoch 00047: val_accuracy did not improve from 0.64394\n",
      "Epoch 48/100\n",
      "410/410 [==============================] - 114s 279ms/step - loss: 0.0037 - accuracy: 0.9991 - val_loss: 3.0882 - val_accuracy: 0.6379\n",
      "\n",
      "Epoch 00048: val_accuracy did not improve from 0.64394\n",
      "Epoch 49/100\n",
      "410/410 [==============================] - 113s 274ms/step - loss: 0.0059 - accuracy: 0.9989 - val_loss: 3.1511 - val_accuracy: 0.6415\n",
      "\n",
      "Epoch 00049: val_accuracy did not improve from 0.64394\n",
      "Epoch 50/100\n",
      "410/410 [==============================] - 114s 278ms/step - loss: 0.0025 - accuracy: 0.9992 - val_loss: 3.3257 - val_accuracy: 0.6342\n",
      "\n",
      "Epoch 00050: val_accuracy did not improve from 0.64394\n",
      "Epoch 51/100\n",
      "410/410 [==============================] - 108s 263ms/step - loss: 0.0025 - accuracy: 0.9991 - val_loss: 3.3903 - val_accuracy: 0.6366\n",
      "\n",
      "Epoch 00051: val_accuracy did not improve from 0.64394\n",
      "Epoch 52/100\n",
      "410/410 [==============================] - 108s 263ms/step - loss: 0.0052 - accuracy: 0.9988 - val_loss: 3.3906 - val_accuracy: 0.6488\n",
      "\n",
      "Epoch 00052: val_accuracy improved from 0.64394 to 0.64881, saving model to movilenet_v1.tf\n",
      "Epoch 53/100\n",
      "410/410 [==============================] - 114s 277ms/step - loss: 0.0067 - accuracy: 0.9989 - val_loss: 3.3564 - val_accuracy: 0.6433\n",
      "\n",
      "Epoch 00053: val_accuracy did not improve from 0.64881\n",
      "Epoch 54/100\n",
      "410/410 [==============================] - 111s 270ms/step - loss: 0.0017 - accuracy: 0.9994 - val_loss: 3.4731 - val_accuracy: 0.6458\n",
      "\n",
      "Epoch 00054: val_accuracy did not improve from 0.64881\n",
      "Epoch 55/100\n",
      "410/410 [==============================] - 108s 262ms/step - loss: 6.7966e-04 - accuracy: 0.9998 - val_loss: 3.5132 - val_accuracy: 0.6476\n",
      "\n",
      "Epoch 00055: val_accuracy did not improve from 0.64881\n",
      "Epoch 56/100\n",
      "410/410 [==============================] - 112s 274ms/step - loss: 0.0031 - accuracy: 0.9995 - val_loss: 3.6775 - val_accuracy: 0.6397\n",
      "\n",
      "Epoch 00056: val_accuracy did not improve from 0.64881\n",
      "Epoch 57/100\n",
      "410/410 [==============================] - 115s 280ms/step - loss: 0.0013 - accuracy: 0.9994 - val_loss: 3.5979 - val_accuracy: 0.6525\n",
      "\n",
      "Epoch 00057: val_accuracy improved from 0.64881 to 0.65246, saving model to movilenet_v1.tf\n",
      "Epoch 58/100\n",
      "410/410 [==============================] - 114s 279ms/step - loss: 3.2387e-04 - accuracy: 0.9998 - val_loss: 3.6969 - val_accuracy: 0.6506\n",
      "\n",
      "Epoch 00058: val_accuracy did not improve from 0.65246\n",
      "Epoch 59/100\n",
      "410/410 [==============================] - 112s 274ms/step - loss: 0.0041 - accuracy: 0.9986 - val_loss: 3.7037 - val_accuracy: 0.6543\n",
      "\n",
      "Epoch 00059: val_accuracy improved from 0.65246 to 0.65429, saving model to movilenet_v1.tf\n",
      "Epoch 60/100\n",
      "410/410 [==============================] - 111s 272ms/step - loss: 0.0043 - accuracy: 0.9991 - val_loss: 3.6946 - val_accuracy: 0.6458\n",
      "\n",
      "Epoch 00060: val_accuracy did not improve from 0.65429\n",
      "Epoch 61/100\n",
      "410/410 [==============================] - 111s 270ms/step - loss: 4.6960e-04 - accuracy: 0.9998 - val_loss: 3.7327 - val_accuracy: 0.6391\n",
      "\n",
      "Epoch 00061: val_accuracy did not improve from 0.65429\n",
      "Epoch 62/100\n",
      "410/410 [==============================] - 111s 270ms/step - loss: 0.0030 - accuracy: 0.9991 - val_loss: 3.7926 - val_accuracy: 0.6415\n",
      "\n",
      "Epoch 00062: val_accuracy did not improve from 0.65429\n",
      "Epoch 63/100\n",
      "410/410 [==============================] - 114s 278ms/step - loss: 0.0024 - accuracy: 0.9991 - val_loss: 3.8841 - val_accuracy: 0.6403\n",
      "\n",
      "Epoch 00063: val_accuracy did not improve from 0.65429\n",
      "Epoch 64/100\n",
      "410/410 [==============================] - 117s 286ms/step - loss: 0.0059 - accuracy: 0.9989 - val_loss: 3.8592 - val_accuracy: 0.6275\n",
      "\n",
      "Epoch 00064: val_accuracy did not improve from 0.65429\n",
      "Epoch 65/100\n",
      "410/410 [==============================] - 114s 278ms/step - loss: 0.0017 - accuracy: 0.9997 - val_loss: 3.9212 - val_accuracy: 0.6251\n",
      "\n",
      "Epoch 00065: val_accuracy did not improve from 0.65429\n",
      "Epoch 66/100\n",
      "410/410 [==============================] - 118s 288ms/step - loss: 0.0078 - accuracy: 0.9989 - val_loss: 3.8885 - val_accuracy: 0.6385\n",
      "\n",
      "Epoch 00066: val_accuracy did not improve from 0.65429\n",
      "Epoch 67/100\n",
      "410/410 [==============================] - 118s 288ms/step - loss: 0.0030 - accuracy: 0.9995 - val_loss: 3.9543 - val_accuracy: 0.6354\n",
      "\n",
      "Epoch 00067: val_accuracy did not improve from 0.65429\n",
      "Epoch 68/100\n",
      "410/410 [==============================] - 111s 270ms/step - loss: 0.0010 - accuracy: 0.9998 - val_loss: 4.0115 - val_accuracy: 0.6263\n",
      "\n",
      "Epoch 00068: val_accuracy did not improve from 0.65429\n",
      "Epoch 69/100\n",
      "410/410 [==============================] - 113s 276ms/step - loss: 0.0028 - accuracy: 0.9995 - val_loss: 4.0369 - val_accuracy: 0.6379\n",
      "\n",
      "Epoch 00069: ReduceLROnPlateau reducing learning rate to 4.0000001899898055e-05.\n",
      "\n",
      "Epoch 00069: val_accuracy did not improve from 0.65429\n",
      "Epoch 70/100\n",
      "410/410 [==============================] - 115s 281ms/step - loss: 3.1480e-04 - accuracy: 0.9998 - val_loss: 4.0152 - val_accuracy: 0.6397\n",
      "\n",
      "Epoch 00070: val_accuracy did not improve from 0.65429\n",
      "Epoch 71/100\n",
      "410/410 [==============================] - 114s 279ms/step - loss: 0.0015 - accuracy: 0.9995 - val_loss: 4.0172 - val_accuracy: 0.6379\n",
      "\n",
      "Epoch 00071: val_accuracy did not improve from 0.65429\n",
      "Epoch 72/100\n",
      "410/410 [==============================] - 117s 284ms/step - loss: 0.0018 - accuracy: 0.9992 - val_loss: 4.0375 - val_accuracy: 0.6366\n",
      "\n",
      "Epoch 00072: val_accuracy did not improve from 0.65429\n",
      "Epoch 73/100\n",
      "410/410 [==============================] - 113s 275ms/step - loss: 4.0016e-04 - accuracy: 0.9998 - val_loss: 4.0238 - val_accuracy: 0.6391\n",
      "\n",
      "Epoch 00073: val_accuracy did not improve from 0.65429\n",
      "Epoch 74/100\n",
      "410/410 [==============================] - 117s 286ms/step - loss: 1.0231e-04 - accuracy: 1.0000 - val_loss: 4.0570 - val_accuracy: 0.6379\n",
      "\n",
      "Epoch 00074: val_accuracy did not improve from 0.65429\n",
      "Epoch 75/100\n",
      "410/410 [==============================] - 115s 281ms/step - loss: 0.0012 - accuracy: 0.9998 - val_loss: 4.0746 - val_accuracy: 0.6360\n",
      "\n",
      "Epoch 00075: val_accuracy did not improve from 0.65429\n",
      "Epoch 76/100\n",
      "410/410 [==============================] - 116s 284ms/step - loss: 1.3286e-04 - accuracy: 1.0000 - val_loss: 4.0702 - val_accuracy: 0.6403\n",
      "\n",
      "Epoch 00076: val_accuracy did not improve from 0.65429\n",
      "Epoch 77/100\n",
      "410/410 [==============================] - 115s 281ms/step - loss: 1.5964e-04 - accuracy: 1.0000 - val_loss: 4.0753 - val_accuracy: 0.6415\n",
      "\n",
      "Epoch 00077: val_accuracy did not improve from 0.65429\n",
      "Epoch 78/100\n",
      "410/410 [==============================] - 117s 286ms/step - loss: 0.0029 - accuracy: 0.9995 - val_loss: 4.0974 - val_accuracy: 0.6403\n",
      "\n",
      "Epoch 00078: val_accuracy did not improve from 0.65429\n",
      "Epoch 79/100\n",
      "410/410 [==============================] - 113s 275ms/step - loss: 0.0014 - accuracy: 0.9997 - val_loss: 4.1122 - val_accuracy: 0.6421\n",
      "\n",
      "Epoch 00079: ReduceLROnPlateau reducing learning rate to 1e-05.\n",
      "Restoring model weights from the end of the best epoch.\n",
      "\n",
      "Epoch 00079: val_accuracy did not improve from 0.65429\n",
      "Epoch 00079: early stopping\n"
     ]
    }
   ],
   "source": [
    "# Non-augmentation\n",
    "train_gen = ImageDataGenerator().flow(X_train, y_train, batch_size = BATCH_SIZE)\n",
    "valid_gen = ImageDataGenerator().flow(X_valid, y_valid, batch_size = BATCH_SIZE)\n",
    "\n",
    "history_mov1 = model.fit(\n",
    "    train_gen\n",
    "    , steps_per_epoch = TRAIN_STEPS\n",
    "    , validation_data = valid_gen\n",
    "    , epochs = 100\n",
    "    , callbacks = [reduceLR, early_stopping, checkpoint]\n",
    ")"
   ]
  },
  {
   "cell_type": "code",
   "execution_count": 26,
   "id": "cf7dc990",
   "metadata": {
    "execution": {
     "iopub.execute_input": "2022-11-25T17:45:10.419040Z",
     "iopub.status.busy": "2022-11-25T17:45:10.418511Z",
     "iopub.status.idle": "2022-11-25T17:45:36.067351Z",
     "shell.execute_reply": "2022-11-25T17:45:36.065717Z"
    },
    "papermill": {
     "duration": 27.612516,
     "end_time": "2022-11-25T17:45:36.069973",
     "exception": false,
     "start_time": "2022-11-25T17:45:08.457457",
     "status": "completed"
    },
    "tags": []
   },
   "outputs": [
    {
     "data": {
      "image/png": "[encoded data removed]",
      "text/plain": [
       "<Figure size 1080x360 with 2 Axes>"
      ]
     },
     "metadata": {
      "needs_background": "light"
     },
     "output_type": "display_data"
    }
   ],
   "source": [
    "plt.figure(figsize=(15, 5))\n",
    "\n",
    "plt.subplot(1, 2, 1)\n",
    "plt.plot(history_mov1.history['accuracy'], label='Training Accuracy')\n",
    "plt.plot(history_mov1.history['val_accuracy'], label='Validation Accuracy')\n",
    "plt.legend(loc='lower right')\n",
    "plt.title('Training and Validation Accuracy')\n",
    "\n",
    "plt.subplot(1, 2, 2)\n",
    "plt.plot(history_mov1.history['loss'], label='Training Loss')\n",
    "plt.plot(history_mov1.history['val_loss'], label='Validation Loss')\n",
    "plt.legend(loc='upper right')\n",
    "plt.title('Training and Validation Loss')\n",
    "\n",
    "plt.show()"
   ]
  },
  {
   "cell_type": "code",
   "execution_count": 27,
   "id": "1ea1aad3",
   "metadata": {
    "execution": {
     "iopub.execute_input": "2022-11-25T17:45:39.815842Z",
     "iopub.status.busy": "2022-11-25T17:45:39.815250Z",
     "iopub.status.idle": "2022-11-25T17:45:40.575136Z",
     "shell.execute_reply": "2022-11-25T17:45:40.573739Z"
    },
    "papermill": {
     "duration": 2.685405,
     "end_time": "2022-11-25T17:45:40.577298",
     "exception": false,
     "start_time": "2022-11-25T17:45:37.891893",
     "status": "completed"
    },
    "tags": []
   },
   "outputs": [
    {
     "name": "stdout",
     "output_type": "stream",
     "text": [
      "Model: \"mobilenet_v1_1\"\n",
      "_________________________________________________________________\n",
      "Layer (type)                 Output Shape              Param #   \n",
      "=================================================================\n",
      "zero_padding2d_5 (ZeroPaddin multiple                  0         \n",
      "_________________________________________________________________\n",
      "conv2d_15 (Conv2D)           multiple                  864       \n",
      "_________________________________________________________________\n",
      "batch_normalization_27 (Batc multiple                  128       \n",
      "_________________________________________________________________\n",
      "re_lu_27 (ReLU)              multiple                  0         \n",
      "_________________________________________________________________\n",
      "sequential_5 (Sequential)    (1, 65, 65, 64)           2720      \n",
      "_________________________________________________________________\n",
      "zero_padding2d_6 (ZeroPaddin multiple                  0         \n",
      "_________________________________________________________________\n",
      "sequential_6 (Sequential)    (1, 32, 32, 128)          28096     \n",
      "_________________________________________________________________\n",
      "zero_padding2d_7 (ZeroPaddin multiple                  0         \n",
      "_________________________________________________________________\n",
      "sequential_7 (Sequential)    (1, 16, 16, 256)          105344    \n",
      "_________________________________________________________________\n",
      "zero_padding2d_8 (ZeroPaddin multiple                  0         \n",
      "_________________________________________________________________\n",
      "sequential_8 (Sequential)    (1, 8, 8, 512)            1490688   \n",
      "_________________________________________________________________\n",
      "zero_padding2d_9 (ZeroPaddin multiple                  0         \n",
      "_________________________________________________________________\n",
      "sequential_9 (Sequential)    (1, 2, 2, 1024)           1601024   \n",
      "_________________________________________________________________\n",
      "global_average_pooling2d_1 ( multiple                  0         \n",
      "_________________________________________________________________\n",
      "reshape_2 (Reshape)          multiple                  0         \n",
      "_________________________________________________________________\n",
      "dropout_1 (Dropout)          multiple                  0         \n",
      "_________________________________________________________________\n",
      "conv2d_29 (Conv2D)           multiple                  1025000   \n",
      "_________________________________________________________________\n",
      "reshape_3 (Reshape)          multiple                  0         \n",
      "=================================================================\n",
      "Total params: 4,253,864\n",
      "Trainable params: 4,231,976\n",
      "Non-trainable params: 21,888\n",
      "_________________________________________________________________\n"
     ]
    }
   ],
   "source": [
    "class Depthwise_bn_relu(tf.keras.Model):\n",
    "    def __init__(self, strides, padding):\n",
    "        super(Depthwise_bn_relu, self).__init__()\n",
    "\n",
    "        self.strides = strides\n",
    "        self.padding = padding\n",
    "\n",
    "        self.dw = tf.keras.layers.DepthwiseConv2D(kernel_size=(3, 3), \n",
    "                                                  strides=self.strides, \n",
    "                                                  padding=self.padding,\n",
    "                                                  use_bias=False)\n",
    "        self.bn = tf.keras.layers.BatchNormalization()\n",
    "        self.relu = tf.keras.layers.ReLU()\n",
    "\n",
    "    def call(self, x, training=False):\n",
    "        x = self.dw(x)\n",
    "        x = self.bn(x)\n",
    "        x = self.relu(x)\n",
    "\n",
    "        return x\n",
    "\n",
    "\n",
    "\n",
    "class Pointwise_bn_relu(tf.keras.Model):\n",
    "    def __init__(self, nb_filters):\n",
    "        super(Pointwise_bn_relu, self).__init__()\n",
    "\n",
    "        self.nb_filters = nb_filters\n",
    "\n",
    "        self.pw = tf.keras.layers.Conv2D(self.nb_filters,\n",
    "                                         kernel_size=(1, 1), \n",
    "                                         strides=(1, 1),  \n",
    "                                         padding='same', \n",
    "                                         use_bias=False)\n",
    "        self.bn = tf.keras.layers.BatchNormalization()\n",
    "        self.relu = tf.keras.layers.ReLU()\n",
    "\n",
    "    def call(self, x, training=False):\n",
    "        x = self.pw(x)\n",
    "        x = self.bn(x)\n",
    "        x = self.relu(x)\n",
    "\n",
    "        return x\n",
    "\n",
    "\n",
    "    \n",
    "\n",
    "\n",
    "class MobilenetV1(tf.keras.Model):\n",
    "    def __init__(self, nb_class):\n",
    "        super(MobilenetV1, self).__init__()\n",
    "\n",
    "        self.nb_class = nb_class\n",
    "        self.zero_pad = tf.keras.layers.ZeroPadding2D((2, 2))\n",
    "        self.conv = tf.keras.layers.Conv2D(32, (3, 3), strides=(2, 2), use_bias=False)\n",
    "        self.bn = tf.keras.layers.BatchNormalization()\n",
    "        self.relu = tf.keras.layers.ReLU()\n",
    "\n",
    "        self.block1 = tf.keras.Sequential()\n",
    "        self.block1.add(Depthwise_bn_relu(1, 'same'))\n",
    "        self.block1.add(Pointwise_bn_relu(64))\n",
    "        self.zero_pad_1 = tf.keras.layers.ZeroPadding2D(padding=((0, 1), (0, 1)))\n",
    "        \n",
    "        \n",
    "        self.block2 = tf.keras.Sequential()\n",
    "        self.block2.add(Depthwise_bn_relu(2, 'valid'))\n",
    "        self.block2.add(Pointwise_bn_relu(128))\n",
    "        self.block2.add(Depthwise_bn_relu(1, 'same'))\n",
    "        self.block2.add(Pointwise_bn_relu(128))\n",
    "        self.zero_pad_2 = tf.keras.layers.ZeroPadding2D(padding=((0, 1), (0, 1)))\n",
    "\n",
    "\n",
    "        self.block3 = tf.keras.Sequential()\n",
    "        self.block3.add(Depthwise_bn_relu(2, 'valid'))\n",
    "        self.block3.add(Pointwise_bn_relu(256))\n",
    "        self.block3.add(Depthwise_bn_relu(1, 'same'))\n",
    "        self.block3.add(Pointwise_bn_relu(256))\n",
    "        self.zero_pad_3 = tf.keras.layers.ZeroPadding2D(padding=((0, 1), (0, 1)))\n",
    "\n",
    "\n",
    "        self.block4 = tf.keras.Sequential()\n",
    "        self.block4.add(Depthwise_bn_relu(2, 'valid'))\n",
    "        self.block4.add(Pointwise_bn_relu(512))\n",
    "\n",
    "        for _ in range(5):\n",
    "            self.block4.add(Depthwise_bn_relu(1, 'same'))\n",
    "            self.block4.add(Pointwise_bn_relu(512))\n",
    "\n",
    "        self.zero_pad_4 = tf.keras.layers.ZeroPadding2D(padding=((0, 1), (0, 1)))\n",
    "\n",
    "\n",
    "\n",
    "        self.block5 = tf.keras.Sequential()\n",
    "        self.block5.add(Depthwise_bn_relu(2, 'valid'))\n",
    "        self.block5.add(Pointwise_bn_relu(1024))\n",
    "        self.block5.add(Depthwise_bn_relu(2, 'same'))\n",
    "        self.block5.add(Pointwise_bn_relu(1024))\n",
    "\n",
    "\n",
    "        self.gap = tf.keras.layers.GlobalAveragePooling2D()\n",
    "        self.reshape = tf.keras.layers.Reshape((1, 1, 1024))\n",
    "        self.drop = tf.keras.layers.Dropout(0.001)\n",
    "        self.conv_pred = tf.keras.layers.Conv2D(1000, \n",
    "                                                kernel_size=(1, 1), \n",
    "                                                strides=(1, 1), \n",
    "                                                padding='same', \n",
    "                                                activation='softmax')\n",
    "        self.reshape_2 = tf.keras.layers.Reshape((1000,))\n",
    "\n",
    "        \n",
    "\n",
    "\n",
    "    def call(self, x, training=False):\n",
    "        x = self.zero_pad(x)\n",
    "        x = self.conv(x)\n",
    "        x = self.bn(x)\n",
    "        x = self.relu(x)\n",
    "       \n",
    "        x = self.block1(x)\n",
    "        x = self.zero_pad_1(x)\n",
    "\n",
    "        x = self.block2(x)\n",
    "        x = self.zero_pad_2(x)\n",
    "\n",
    "        x = self.block3(x)\n",
    "        x = self.zero_pad_3(x)\n",
    "\n",
    "        x = self.block4(x)\n",
    "        x = self.zero_pad_4(x)\n",
    "\n",
    "        x = self.block5(x)\n",
    "\n",
    "        x = self.gap(x)\n",
    "        x = self.reshape(x)\n",
    "        x = self.drop(x)\n",
    "        x = self.conv_pred(x)\n",
    "        x = self.reshape_2(x)\n",
    "        \n",
    "        return x\n",
    "\n",
    "    \n",
    "\n",
    "\n",
    "model_ag = MobilenetV1(1000)\n",
    "model_ag.build((1, 128, 128, 3))\n",
    "model_ag.summary()"
   ]
  },
  {
   "cell_type": "code",
   "execution_count": 28,
   "id": "4041bbf5",
   "metadata": {
    "execution": {
     "iopub.execute_input": "2022-11-25T17:45:44.416379Z",
     "iopub.status.busy": "2022-11-25T17:45:44.415636Z",
     "iopub.status.idle": "2022-11-25T17:45:44.426703Z",
     "shell.execute_reply": "2022-11-25T17:45:44.425522Z"
    },
    "papermill": {
     "duration": 1.938819,
     "end_time": "2022-11-25T17:45:44.429051",
     "exception": false,
     "start_time": "2022-11-25T17:45:42.490232",
     "status": "completed"
    },
    "tags": []
   },
   "outputs": [],
   "source": [
    "model_ag.compile(\n",
    "    loss = 'sparse_categorical_crossentropy'\n",
    "    ,metrics = ['accuracy']\n",
    ")"
   ]
  },
  {
   "cell_type": "code",
   "execution_count": 29,
   "id": "238a6f55",
   "metadata": {
    "execution": {
     "iopub.execute_input": "2022-11-25T17:45:48.293204Z",
     "iopub.status.busy": "2022-11-25T17:45:48.292522Z",
     "iopub.status.idle": "2022-11-25T17:45:54.759663Z",
     "shell.execute_reply": "2022-11-25T17:45:54.758614Z"
    },
    "papermill": {
     "duration": 8.401583,
     "end_time": "2022-11-25T17:45:54.762629",
     "exception": false,
     "start_time": "2022-11-25T17:45:46.361046",
     "status": "completed"
    },
    "tags": []
   },
   "outputs": [],
   "source": [
    "train_datagen = ImageDataGenerator(rescale=1/255,\n",
    "                     rotation_range=20,\n",
    "                     width_shift_range=0.1,\n",
    "                     height_shift_range=0.1,\n",
    "                     zoom_range=0.1,\n",
    "                     vertical_flip=True,\n",
    "                     horizontal_flip=True,\n",
    "                     fill_mode='nearest')\n",
    "\n",
    "\n",
    "train_gen_ag = train_datagen.flow(X_train, y_train, batch_size = BATCH_SIZE)"
   ]
  },
  {
   "cell_type": "code",
   "execution_count": 30,
   "id": "f53f6160",
   "metadata": {
    "execution": {
     "iopub.execute_input": "2022-11-25T17:45:58.597479Z",
     "iopub.status.busy": "2022-11-25T17:45:58.597072Z",
     "iopub.status.idle": "2022-11-25T17:45:58.602766Z",
     "shell.execute_reply": "2022-11-25T17:45:58.602116Z"
    },
    "papermill": {
     "duration": 1.944285,
     "end_time": "2022-11-25T17:45:58.604525",
     "exception": false,
     "start_time": "2022-11-25T17:45:56.660240",
     "status": "completed"
    },
    "tags": []
   },
   "outputs": [],
   "source": [
    "reduceLR = ReduceLROnPlateau(monitor='val_accuracy', patience=10, verbose= 1, mode='max', factor=  0.2, min_lr = 1e-5)\n",
    "\n",
    "early_stopping = EarlyStopping(monitor='val_accuracy', patience = 20, verbose=1, mode='max', restore_best_weights= True)\n",
    "\n",
    "checkpoint_ag = ModelCheckpoint('movilenet_v1_ag.tf', monitor='val_accuracy', verbose=1,save_best_only=True, mode= 'max')"
   ]
  },
  {
   "cell_type": "code",
   "execution_count": 31,
   "id": "b83c7067",
   "metadata": {
    "execution": {
     "iopub.execute_input": "2022-11-25T17:46:02.461537Z",
     "iopub.status.busy": "2022-11-25T17:46:02.460899Z",
     "iopub.status.idle": "2022-11-25T18:31:56.100518Z",
     "shell.execute_reply": "2022-11-25T18:31:56.099155Z"
    },
    "papermill": {
     "duration": 2757.873409,
     "end_time": "2022-11-25T18:31:58.386394",
     "exception": false,
     "start_time": "2022-11-25T17:46:00.512985",
     "status": "completed"
    },
    "tags": []
   },
   "outputs": [
    {
     "name": "stdout",
     "output_type": "stream",
     "text": [
      "Epoch 1/100\n",
      "410/410 [==============================] - 136s 318ms/step - loss: 1.1255 - accuracy: 0.4839 - val_loss: 1.0136 - val_accuracy: 0.5312\n",
      "\n",
      "Epoch 00001: val_accuracy improved from -inf to 0.53125, saving model to movilenet_v1_ag.tf\n",
      "Epoch 2/100\n",
      "410/410 [==============================] - 128s 312ms/step - loss: 1.0205 - accuracy: 0.5159 - val_loss: 11.3668 - val_accuracy: 0.2947\n",
      "\n",
      "Epoch 00002: val_accuracy did not improve from 0.53125\n",
      "Epoch 3/100\n",
      "410/410 [==============================] - 129s 315ms/step - loss: 0.9972 - accuracy: 0.5144 - val_loss: 11.3380 - val_accuracy: 0.2947\n",
      "\n",
      "Epoch 00003: val_accuracy did not improve from 0.53125\n",
      "Epoch 4/100\n",
      "410/410 [==============================] - 126s 308ms/step - loss: 0.9783 - accuracy: 0.5199 - val_loss: 13.2936 - val_accuracy: 0.1752\n",
      "\n",
      "Epoch 00004: val_accuracy did not improve from 0.53125\n",
      "Epoch 5/100\n",
      "410/410 [==============================] - 128s 312ms/step - loss: 0.9603 - accuracy: 0.5207 - val_loss: 13.2837 - val_accuracy: 0.1759\n",
      "\n",
      "Epoch 00005: val_accuracy did not improve from 0.53125\n",
      "Epoch 6/100\n",
      "410/410 [==============================] - 127s 311ms/step - loss: 0.9582 - accuracy: 0.5179 - val_loss: 7.5950 - val_accuracy: 0.5288\n",
      "\n",
      "Epoch 00006: val_accuracy did not improve from 0.53125\n",
      "Epoch 7/100\n",
      "410/410 [==============================] - 126s 308ms/step - loss: 0.9591 - accuracy: 0.5243 - val_loss: 5.5416 - val_accuracy: 0.3725\n",
      "\n",
      "Epoch 00007: val_accuracy did not improve from 0.53125\n",
      "Epoch 8/100\n",
      "410/410 [==============================] - 130s 316ms/step - loss: 0.9466 - accuracy: 0.5256 - val_loss: 7.5653 - val_accuracy: 0.5306\n",
      "\n",
      "Epoch 00008: val_accuracy did not improve from 0.53125\n",
      "Epoch 9/100\n",
      "410/410 [==============================] - 131s 320ms/step - loss: 0.9402 - accuracy: 0.5300 - val_loss: 7.5749 - val_accuracy: 0.5300\n",
      "\n",
      "Epoch 00009: val_accuracy did not improve from 0.53125\n",
      "Epoch 10/100\n",
      "410/410 [==============================] - 132s 321ms/step - loss: 0.9371 - accuracy: 0.5260 - val_loss: 7.6059 - val_accuracy: 0.5276\n",
      "\n",
      "Epoch 00010: val_accuracy did not improve from 0.53125\n",
      "Epoch 11/100\n",
      "410/410 [==============================] - 130s 317ms/step - loss: 0.9333 - accuracy: 0.5303 - val_loss: 7.5593 - val_accuracy: 0.5306\n",
      "\n",
      "Epoch 00011: ReduceLROnPlateau reducing learning rate to 0.00020000000949949026.\n",
      "\n",
      "Epoch 00011: val_accuracy did not improve from 0.53125\n",
      "Epoch 12/100\n",
      "410/410 [==============================] - 131s 319ms/step - loss: 0.9041 - accuracy: 0.5558 - val_loss: 7.6246 - val_accuracy: 0.5270\n",
      "\n",
      "Epoch 00012: val_accuracy did not improve from 0.53125\n",
      "Epoch 13/100\n",
      "410/410 [==============================] - 131s 319ms/step - loss: 0.9016 - accuracy: 0.5524 - val_loss: 7.5851 - val_accuracy: 0.5294\n",
      "\n",
      "Epoch 00013: val_accuracy did not improve from 0.53125\n",
      "Epoch 14/100\n",
      "410/410 [==============================] - 128s 311ms/step - loss: 0.9003 - accuracy: 0.5488 - val_loss: 7.6048 - val_accuracy: 0.5282\n",
      "\n",
      "Epoch 00014: val_accuracy did not improve from 0.53125\n",
      "Epoch 15/100\n",
      "410/410 [==============================] - 131s 320ms/step - loss: 0.8923 - accuracy: 0.5579 - val_loss: 7.6048 - val_accuracy: 0.5282\n",
      "\n",
      "Epoch 00015: val_accuracy did not improve from 0.53125\n",
      "Epoch 16/100\n",
      "410/410 [==============================] - 133s 324ms/step - loss: 0.8888 - accuracy: 0.5599 - val_loss: 7.5752 - val_accuracy: 0.5300\n",
      "\n",
      "Epoch 00016: val_accuracy did not improve from 0.53125\n",
      "Epoch 17/100\n",
      "410/410 [==============================] - 132s 323ms/step - loss: 0.8848 - accuracy: 0.5629 - val_loss: 7.5752 - val_accuracy: 0.5300\n",
      "\n",
      "Epoch 00017: val_accuracy did not improve from 0.53125\n",
      "Epoch 18/100\n",
      "410/410 [==============================] - 129s 314ms/step - loss: 0.8825 - accuracy: 0.5591 - val_loss: 7.6048 - val_accuracy: 0.5282\n",
      "\n",
      "Epoch 00018: val_accuracy did not improve from 0.53125\n",
      "Epoch 19/100\n",
      "410/410 [==============================] - 130s 317ms/step - loss: 0.8837 - accuracy: 0.5675 - val_loss: 7.5851 - val_accuracy: 0.5294\n",
      "\n",
      "Epoch 00019: val_accuracy did not improve from 0.53125\n",
      "Epoch 20/100\n",
      "410/410 [==============================] - 131s 319ms/step - loss: 0.8775 - accuracy: 0.5648 - val_loss: 7.5851 - val_accuracy: 0.5294\n",
      "\n",
      "Epoch 00020: val_accuracy did not improve from 0.53125\n",
      "Epoch 21/100\n",
      "410/410 [==============================] - 130s 318ms/step - loss: 0.8773 - accuracy: 0.5665 - val_loss: 7.5851 - val_accuracy: 0.5294\n",
      "\n",
      "Epoch 00021: ReduceLROnPlateau reducing learning rate to 4.0000001899898055e-05.\n",
      "Restoring model weights from the end of the best epoch.\n",
      "\n",
      "Epoch 00021: val_accuracy did not improve from 0.53125\n",
      "Epoch 00021: early stopping\n"
     ]
    }
   ],
   "source": [
    "history_mov1_ag = model_ag.fit(\n",
    "    train_gen_ag\n",
    "    , steps_per_epoch= TRAIN_STEPS\n",
    "    , validation_data=valid_gen\n",
    "    , validation_steps=VAL_STEPS\n",
    "    , epochs= 100\n",
    "    , callbacks= [reduceLR, early_stopping, checkpoint_ag]\n",
    ")"
   ]
  },
  {
   "cell_type": "code",
   "execution_count": 32,
   "id": "fa62e9e7",
   "metadata": {
    "execution": {
     "iopub.execute_input": "2022-11-25T18:32:03.356000Z",
     "iopub.status.busy": "2022-11-25T18:32:03.355369Z",
     "iopub.status.idle": "2022-11-25T18:32:03.954931Z",
     "shell.execute_reply": "2022-11-25T18:32:03.954125Z"
    },
    "papermill": {
     "duration": 3.022555,
     "end_time": "2022-11-25T18:32:03.956749",
     "exception": false,
     "start_time": "2022-11-25T18:32:00.934194",
     "status": "completed"
    },
    "tags": []
   },
   "outputs": [
    {
     "data": {
      "image/png": "[encoded data removed]",
      "text/plain": [
       "<Figure size 1440x1152 with 4 Axes>"
      ]
     },
     "metadata": {
      "needs_background": "light"
     },
     "output_type": "display_data"
    }
   ],
   "source": [
    "plt.figure(figsize=(20, 16))\n",
    "\n",
    "plt.subplot(2, 2, 1)\n",
    "plt.plot(history_mov1.history['accuracy'], label='Training Accuracy')\n",
    "plt.plot(history_mov1.history['val_accuracy'], label='Validation Accuracy')\n",
    "plt.legend(loc='lower right')\n",
    "plt.title('Non-Augmentation Training and Validation Accuracy')\n",
    "\n",
    "plt.subplot(2, 2, 2)\n",
    "plt.plot(history_mov1.history['loss'], label='Training Loss')\n",
    "plt.plot(history_mov1.history['val_loss'], label='Validation Loss')\n",
    "plt.legend(loc='upper right')\n",
    "plt.title('Non-Augmentation Training and Validation Loss')\n",
    "\n",
    "plt.subplot(2, 2, 3)\n",
    "plt.plot(history_mov1_ag.history['accuracy'], label='Training Accuracy')\n",
    "plt.plot(history_mov1_ag.history['val_accuracy'], label='Validation Accuracy')\n",
    "plt.legend(loc='lower right')\n",
    "plt.title('Augmentation Training and Validation Accuracy')\n",
    "\n",
    "plt.subplot(2, 2, 4)\n",
    "plt.plot(history_mov1_ag.history['loss'], label='Training Loss')\n",
    "plt.plot(history_mov1_ag.history['val_loss'], label='Validation Loss')\n",
    "plt.legend(loc='upper right')\n",
    "plt.title('Augmentation Training and Validation Loss')\n",
    "\n",
    "plt.show()"
   ]
  },
  {
   "cell_type": "code",
   "execution_count": 33,
   "id": "95aacff7",
   "metadata": {
    "execution": {
     "iopub.execute_input": "2022-11-25T18:32:08.921592Z",
     "iopub.status.busy": "2022-11-25T18:32:08.920978Z",
     "iopub.status.idle": "2022-11-25T18:32:16.705084Z",
     "shell.execute_reply": "2022-11-25T18:32:16.703877Z"
    },
    "papermill": {
     "duration": 10.413733,
     "end_time": "2022-11-25T18:32:16.707275",
     "exception": false,
     "start_time": "2022-11-25T18:32:06.293542",
     "status": "completed"
    },
    "tags": []
   },
   "outputs": [
    {
     "data": {
      "text/html": [
       "<div>\n",
       "<style scoped>\n",
       "    .dataframe tbody tr th:only-of-type {\n",
       "        vertical-align: middle;\n",
       "    }\n",
       "\n",
       "    .dataframe tbody tr th {\n",
       "        vertical-align: top;\n",
       "    }\n",
       "\n",
       "    .dataframe thead th {\n",
       "        text-align: right;\n",
       "    }\n",
       "</style>\n",
       "<table border=\"1\" class=\"dataframe\">\n",
       "  <thead>\n",
       "    <tr style=\"text-align: right;\">\n",
       "      <th></th>\n",
       "      <th>Type 1</th>\n",
       "      <th>Type 2</th>\n",
       "      <th>Type 3</th>\n",
       "    </tr>\n",
       "  </thead>\n",
       "  <tbody>\n",
       "    <tr>\n",
       "      <th>Type 1</th>\n",
       "      <td>150</td>\n",
       "      <td>94</td>\n",
       "      <td>44</td>\n",
       "    </tr>\n",
       "    <tr>\n",
       "      <th>Type 2</th>\n",
       "      <td>58</td>\n",
       "      <td>667</td>\n",
       "      <td>145</td>\n",
       "    </tr>\n",
       "    <tr>\n",
       "      <th>Type 3</th>\n",
       "      <td>35</td>\n",
       "      <td>192</td>\n",
       "      <td>258</td>\n",
       "    </tr>\n",
       "  </tbody>\n",
       "</table>\n",
       "</div>"
      ],
      "text/plain": [
       "        Type 1  Type 2  Type 3\n",
       "Type 1     150      94      44\n",
       "Type 2      58     667     145\n",
       "Type 3      35     192     258"
      ]
     },
     "execution_count": 33,
     "metadata": {},
     "output_type": "execute_result"
    }
   ],
   "source": [
    "y_pred_enc = model.predict(X_valid)          # one-hot encoding된 label 예측값\n",
    "y_pred = [np.argmax(i) for i in y_pred_enc] # label 예측값\n",
    "\n",
    "item = {\n",
    "      0: 'Type 1'\n",
    "    , 1: 'Type 2'\n",
    "    , 2: 'Type 3'\n",
    "}\n",
    "\n",
    "matrix = confusion_matrix(y_valid, y_pred)\n",
    "df = pd.DataFrame(matrix)\n",
    "df.columns = item.values()\n",
    "df.index = item.values()\n",
    "        \n",
    "df"
   ]
  },
  {
   "cell_type": "code",
   "execution_count": 34,
   "id": "1ef72bcb",
   "metadata": {
    "execution": {
     "iopub.execute_input": "2022-11-25T18:32:21.423782Z",
     "iopub.status.busy": "2022-11-25T18:32:21.423089Z",
     "iopub.status.idle": "2022-11-25T18:32:27.770100Z",
     "shell.execute_reply": "2022-11-25T18:32:27.769199Z"
    },
    "papermill": {
     "duration": 8.631144,
     "end_time": "2022-11-25T18:32:27.772002",
     "exception": false,
     "start_time": "2022-11-25T18:32:19.140858",
     "status": "completed"
    },
    "tags": []
   },
   "outputs": [
    {
     "data": {
      "text/html": [
       "<div>\n",
       "<style scoped>\n",
       "    .dataframe tbody tr th:only-of-type {\n",
       "        vertical-align: middle;\n",
       "    }\n",
       "\n",
       "    .dataframe tbody tr th {\n",
       "        vertical-align: top;\n",
       "    }\n",
       "\n",
       "    .dataframe thead th {\n",
       "        text-align: right;\n",
       "    }\n",
       "</style>\n",
       "<table border=\"1\" class=\"dataframe\">\n",
       "  <thead>\n",
       "    <tr style=\"text-align: right;\">\n",
       "      <th></th>\n",
       "      <th>Type 1</th>\n",
       "      <th>Type 2</th>\n",
       "      <th>Type 3</th>\n",
       "    </tr>\n",
       "  </thead>\n",
       "  <tbody>\n",
       "    <tr>\n",
       "      <th>Type 1</th>\n",
       "      <td>0</td>\n",
       "      <td>288</td>\n",
       "      <td>0</td>\n",
       "    </tr>\n",
       "    <tr>\n",
       "      <th>Type 2</th>\n",
       "      <td>0</td>\n",
       "      <td>870</td>\n",
       "      <td>0</td>\n",
       "    </tr>\n",
       "    <tr>\n",
       "      <th>Type 3</th>\n",
       "      <td>0</td>\n",
       "      <td>485</td>\n",
       "      <td>0</td>\n",
       "    </tr>\n",
       "  </tbody>\n",
       "</table>\n",
       "</div>"
      ],
      "text/plain": [
       "        Type 1  Type 2  Type 3\n",
       "Type 1       0     288       0\n",
       "Type 2       0     870       0\n",
       "Type 3       0     485       0"
      ]
     },
     "execution_count": 34,
     "metadata": {},
     "output_type": "execute_result"
    }
   ],
   "source": [
    "y_pred_enc = model_ag.predict(X_valid)          # one-hot encoding된 label 예측값\n",
    "y_pred = [np.argmax(i) for i in y_pred_enc] # label 예측값\n",
    "\n",
    "item = {\n",
    "      0: 'Type 1'\n",
    "    , 1: 'Type 2'\n",
    "    , 2: 'Type 3'\n",
    "}\n",
    "\n",
    "matrix = confusion_matrix(y_valid, y_pred)\n",
    "df = pd.DataFrame(matrix)\n",
    "df.columns = item.values()\n",
    "df.index = item.values()\n",
    "        \n",
    "df"
   ]
  },
  {
   "cell_type": "code",
   "execution_count": 35,
   "id": "b648c8aa",
   "metadata": {
    "execution": {
     "iopub.execute_input": "2022-11-25T18:32:32.745330Z",
     "iopub.status.busy": "2022-11-25T18:32:32.744623Z",
     "iopub.status.idle": "2022-11-25T18:32:32.925680Z",
     "shell.execute_reply": "2022-11-25T18:32:32.923908Z"
    },
    "papermill": {
     "duration": 2.605534,
     "end_time": "2022-11-25T18:32:32.928724",
     "exception": false,
     "start_time": "2022-11-25T18:32:30.323190",
     "status": "completed"
    },
    "tags": []
   },
   "outputs": [],
   "source": [
    "model.save_weights('mobilenet_v1.h5')\n",
    "model_ag.save_weights('mobilenet_v1_ag.h5')"
   ]
  },
  {
   "cell_type": "markdown",
   "id": "c8f9f4d6",
   "metadata": {
    "papermill": {
     "duration": 2.421016,
     "end_time": "2022-11-25T18:32:37.783626",
     "exception": false,
     "start_time": "2022-11-25T18:32:35.362610",
     "status": "completed"
    },
    "tags": []
   },
   "source": [
    "# test data (2차에 활용)"
   ]
  },
  {
   "cell_type": "code",
   "execution_count": 36,
   "id": "54fcc9a1",
   "metadata": {
    "execution": {
     "iopub.execute_input": "2022-11-25T18:32:42.715744Z",
     "iopub.status.busy": "2022-11-25T18:32:42.715312Z",
     "iopub.status.idle": "2022-11-25T18:32:43.056270Z",
     "shell.execute_reply": "2022-11-25T18:32:43.054690Z"
    },
    "papermill": {
     "duration": 2.797325,
     "end_time": "2022-11-25T18:32:43.059015",
     "exception": false,
     "start_time": "2022-11-25T18:32:40.261690",
     "status": "completed"
    },
    "tags": []
   },
   "outputs": [],
   "source": [
    "# load data\n",
    "\n",
    "X_test = np.load('../input/cervicalcancerscreening128-test/X_test_128.npy')\n",
    "y_test = np.load('../input/cervicalcancerscreening128-test/y_test_128.npy', allow_pickle=True)"
   ]
  },
  {
   "cell_type": "code",
   "execution_count": 37,
   "id": "8fb6f092",
   "metadata": {
    "execution": {
     "iopub.execute_input": "2022-11-25T18:32:47.924682Z",
     "iopub.status.busy": "2022-11-25T18:32:47.924319Z",
     "iopub.status.idle": "2022-11-25T18:32:47.961766Z",
     "shell.execute_reply": "2022-11-25T18:32:47.960449Z"
    },
    "papermill": {
     "duration": 2.461405,
     "end_time": "2022-11-25T18:32:47.964360",
     "exception": false,
     "start_time": "2022-11-25T18:32:45.502955",
     "status": "completed"
    },
    "tags": []
   },
   "outputs": [],
   "source": [
    "# normalize test features\n",
    "\n",
    "X_test = X_test/255"
   ]
  },
  {
   "cell_type": "code",
   "execution_count": 38,
   "id": "15dc3a4a",
   "metadata": {
    "execution": {
     "iopub.execute_input": "2022-11-25T18:32:52.815678Z",
     "iopub.status.busy": "2022-11-25T18:32:52.815327Z",
     "iopub.status.idle": "2022-11-25T18:32:52.821016Z",
     "shell.execute_reply": "2022-11-25T18:32:52.819961Z"
    },
    "papermill": {
     "duration": 2.432621,
     "end_time": "2022-11-25T18:32:52.823498",
     "exception": false,
     "start_time": "2022-11-25T18:32:50.390877",
     "status": "completed"
    },
    "tags": []
   },
   "outputs": [],
   "source": [
    "ydf = pd.DataFrame(y_test)"
   ]
  },
  {
   "cell_type": "code",
   "execution_count": 39,
   "id": "159deb26",
   "metadata": {
    "execution": {
     "iopub.execute_input": "2022-11-25T18:32:57.758094Z",
     "iopub.status.busy": "2022-11-25T18:32:57.757450Z",
     "iopub.status.idle": "2022-11-25T18:32:57.765573Z",
     "shell.execute_reply": "2022-11-25T18:32:57.764316Z"
    },
    "papermill": {
     "duration": 2.463064,
     "end_time": "2022-11-25T18:32:57.767558",
     "exception": false,
     "start_time": "2022-11-25T18:32:55.304494",
     "status": "completed"
    },
    "tags": []
   },
   "outputs": [],
   "source": [
    "ydf[0] = ydf[0].replace(1, 't1')\n",
    "ydf[1] = ydf[1].replace(1, 't2')\n",
    "ydf[2] = ydf[2].replace(1, 't3')"
   ]
  },
  {
   "cell_type": "code",
   "execution_count": 40,
   "id": "9ea3d44e",
   "metadata": {
    "execution": {
     "iopub.execute_input": "2022-11-25T18:33:02.700214Z",
     "iopub.status.busy": "2022-11-25T18:33:02.699554Z",
     "iopub.status.idle": "2022-11-25T18:33:02.713526Z",
     "shell.execute_reply": "2022-11-25T18:33:02.712278Z"
    },
    "papermill": {
     "duration": 2.505932,
     "end_time": "2022-11-25T18:33:02.715897",
     "exception": false,
     "start_time": "2022-11-25T18:33:00.209965",
     "status": "completed"
    },
    "tags": []
   },
   "outputs": [],
   "source": [
    "type1 = ydf[ydf[0].isin(['t1'])][0]\n",
    "type2 = ydf[ydf[1].isin(['t2'])][1]\n",
    "type3 = ydf[ydf[2].isin(['t3'])][2]"
   ]
  },
  {
   "cell_type": "code",
   "execution_count": 41,
   "id": "c614f3df",
   "metadata": {
    "execution": {
     "iopub.execute_input": "2022-11-25T18:33:07.645032Z",
     "iopub.status.busy": "2022-11-25T18:33:07.643825Z",
     "iopub.status.idle": "2022-11-25T18:33:07.653051Z",
     "shell.execute_reply": "2022-11-25T18:33:07.651926Z"
    },
    "papermill": {
     "duration": 2.450557,
     "end_time": "2022-11-25T18:33:07.654799",
     "exception": false,
     "start_time": "2022-11-25T18:33:05.204242",
     "status": "completed"
    },
    "tags": []
   },
   "outputs": [
    {
     "data": {
      "text/plain": [
       "2      t1\n",
       "16     t1\n",
       "20     t1\n",
       "23     t1\n",
       "25     t1\n",
       "       ..\n",
       "496    t3\n",
       "499    t3\n",
       "502    t3\n",
       "504    t3\n",
       "511    t3\n",
       "Length: 512, dtype: object"
      ]
     },
     "execution_count": 41,
     "metadata": {},
     "output_type": "execute_result"
    }
   ],
   "source": [
    "type = pd.concat([type1, type2, type3])\n",
    "type"
   ]
  },
  {
   "cell_type": "code",
   "execution_count": 42,
   "id": "97cd0632",
   "metadata": {
    "execution": {
     "iopub.execute_input": "2022-11-25T18:33:12.510418Z",
     "iopub.status.busy": "2022-11-25T18:33:12.509755Z",
     "iopub.status.idle": "2022-11-25T18:33:12.516129Z",
     "shell.execute_reply": "2022-11-25T18:33:12.515433Z"
    },
    "papermill": {
     "duration": 2.449858,
     "end_time": "2022-11-25T18:33:12.518212",
     "exception": false,
     "start_time": "2022-11-25T18:33:10.068354",
     "status": "completed"
    },
    "tags": []
   },
   "outputs": [],
   "source": [
    "type = type.replace('t1',0)\n",
    "type = type.replace('t2',1)\n",
    "type = type.replace('t3',2)"
   ]
  },
  {
   "cell_type": "code",
   "execution_count": 43,
   "id": "4bead33f",
   "metadata": {
    "execution": {
     "iopub.execute_input": "2022-11-25T18:33:17.381096Z",
     "iopub.status.busy": "2022-11-25T18:33:17.380136Z",
     "iopub.status.idle": "2022-11-25T18:33:17.389326Z",
     "shell.execute_reply": "2022-11-25T18:33:17.388133Z"
    },
    "papermill": {
     "duration": 2.448454,
     "end_time": "2022-11-25T18:33:17.391774",
     "exception": false,
     "start_time": "2022-11-25T18:33:14.943320",
     "status": "completed"
    },
    "tags": []
   },
   "outputs": [],
   "source": [
    "type = type.sort_index()\n",
    "y_test = np.array(type)"
   ]
  },
  {
   "cell_type": "code",
   "execution_count": 44,
   "id": "01f46628",
   "metadata": {
    "execution": {
     "iopub.execute_input": "2022-11-25T18:33:22.217894Z",
     "iopub.status.busy": "2022-11-25T18:33:22.217585Z",
     "iopub.status.idle": "2022-11-25T18:33:22.365543Z",
     "shell.execute_reply": "2022-11-25T18:33:22.364495Z"
    },
    "papermill": {
     "duration": 2.566261,
     "end_time": "2022-11-25T18:33:22.368609",
     "exception": false,
     "start_time": "2022-11-25T18:33:19.802348",
     "status": "completed"
    },
    "tags": []
   },
   "outputs": [],
   "source": [
    "#load best weights\n",
    "model.load_weights('mobilenet_v1.h5')\n",
    "model_ag.load_weights('mobilenet_v1_ag.h5')"
   ]
  },
  {
   "cell_type": "code",
   "execution_count": 45,
   "id": "41a58904",
   "metadata": {
    "execution": {
     "iopub.execute_input": "2022-11-25T18:33:27.259835Z",
     "iopub.status.busy": "2022-11-25T18:33:27.259523Z",
     "iopub.status.idle": "2022-11-25T18:33:27.291297Z",
     "shell.execute_reply": "2022-11-25T18:33:27.290155Z"
    },
    "papermill": {
     "duration": 2.448172,
     "end_time": "2022-11-25T18:33:27.293566",
     "exception": false,
     "start_time": "2022-11-25T18:33:24.845394",
     "status": "completed"
    },
    "tags": []
   },
   "outputs": [],
   "source": [
    "test_gen = ImageDataGenerator().flow(X_test, y_test, batch_size = BATCH_SIZE)"
   ]
  },
  {
   "cell_type": "code",
   "execution_count": 46,
   "id": "ccc8531b",
   "metadata": {
    "execution": {
     "iopub.execute_input": "2022-11-25T18:33:32.120778Z",
     "iopub.status.busy": "2022-11-25T18:33:32.120082Z",
     "iopub.status.idle": "2022-11-25T18:33:34.209190Z",
     "shell.execute_reply": "2022-11-25T18:33:34.208397Z"
    },
    "papermill": {
     "duration": 4.514101,
     "end_time": "2022-11-25T18:33:34.211105",
     "exception": false,
     "start_time": "2022-11-25T18:33:29.697004",
     "status": "completed"
    },
    "tags": []
   },
   "outputs": [
    {
     "name": "stdout",
     "output_type": "stream",
     "text": [
      "32/32 [==============================] - 2s 63ms/step - loss: 4.7288 - accuracy: 0.5664\n"
     ]
    },
    {
     "data": {
      "text/plain": [
       "[4.728822231292725, 0.56640625]"
      ]
     },
     "execution_count": 46,
     "metadata": {},
     "output_type": "execute_result"
    }
   ],
   "source": [
    "model.evaluate(test_gen)"
   ]
  },
  {
   "cell_type": "code",
   "execution_count": 47,
   "id": "e18d086e",
   "metadata": {
    "execution": {
     "iopub.execute_input": "2022-11-25T18:33:39.205118Z",
     "iopub.status.busy": "2022-11-25T18:33:39.204740Z",
     "iopub.status.idle": "2022-11-25T18:33:41.254666Z",
     "shell.execute_reply": "2022-11-25T18:33:41.253915Z"
    },
    "papermill": {
     "duration": 4.545446,
     "end_time": "2022-11-25T18:33:41.256528",
     "exception": false,
     "start_time": "2022-11-25T18:33:36.711082",
     "status": "completed"
    },
    "tags": []
   },
   "outputs": [
    {
     "name": "stdout",
     "output_type": "stream",
     "text": [
      "32/32 [==============================] - 2s 62ms/step - loss: 1.0221 - accuracy: 0.5176\n"
     ]
    },
    {
     "data": {
      "text/plain": [
       "[1.022114634513855, 0.517578125]"
      ]
     },
     "execution_count": 47,
     "metadata": {},
     "output_type": "execute_result"
    }
   ],
   "source": [
    "model_ag.evaluate(test_gen)"
   ]
  },
  {
   "cell_type": "code",
   "execution_count": 48,
   "id": "a3f2fcc6",
   "metadata": {
    "execution": {
     "iopub.execute_input": "2022-11-25T18:33:46.144756Z",
     "iopub.status.busy": "2022-11-25T18:33:46.143686Z",
     "iopub.status.idle": "2022-11-25T18:33:48.438367Z",
     "shell.execute_reply": "2022-11-25T18:33:48.437226Z"
    },
    "papermill": {
     "duration": 4.74088,
     "end_time": "2022-11-25T18:33:48.440358",
     "exception": false,
     "start_time": "2022-11-25T18:33:43.699478",
     "status": "completed"
    },
    "tags": []
   },
   "outputs": [
    {
     "data": {
      "text/html": [
       "<div>\n",
       "<style scoped>\n",
       "    .dataframe tbody tr th:only-of-type {\n",
       "        vertical-align: middle;\n",
       "    }\n",
       "\n",
       "    .dataframe tbody tr th {\n",
       "        vertical-align: top;\n",
       "    }\n",
       "\n",
       "    .dataframe thead th {\n",
       "        text-align: right;\n",
       "    }\n",
       "</style>\n",
       "<table border=\"1\" class=\"dataframe\">\n",
       "  <thead>\n",
       "    <tr style=\"text-align: right;\">\n",
       "      <th></th>\n",
       "      <th>Type 1</th>\n",
       "      <th>Type 2</th>\n",
       "      <th>Type 3</th>\n",
       "    </tr>\n",
       "  </thead>\n",
       "  <tbody>\n",
       "    <tr>\n",
       "      <th>Type 1</th>\n",
       "      <td>33</td>\n",
       "      <td>46</td>\n",
       "      <td>8</td>\n",
       "    </tr>\n",
       "    <tr>\n",
       "      <th>Type 2</th>\n",
       "      <td>30</td>\n",
       "      <td>181</td>\n",
       "      <td>54</td>\n",
       "    </tr>\n",
       "    <tr>\n",
       "      <th>Type 3</th>\n",
       "      <td>5</td>\n",
       "      <td>79</td>\n",
       "      <td>76</td>\n",
       "    </tr>\n",
       "  </tbody>\n",
       "</table>\n",
       "</div>"
      ],
      "text/plain": [
       "        Type 1  Type 2  Type 3\n",
       "Type 1      33      46       8\n",
       "Type 2      30     181      54\n",
       "Type 3       5      79      76"
      ]
     },
     "execution_count": 48,
     "metadata": {},
     "output_type": "execute_result"
    }
   ],
   "source": [
    "y_pred_enc = model.predict(X_test)        \n",
    "y_pred = [np.argmax(i) for i in y_pred_enc] \n",
    "item = {\n",
    "      0: 'Type 1'\n",
    "    , 1: 'Type 2'\n",
    "    , 2: 'Type 3'\n",
    "}\n",
    "\n",
    "matrix = confusion_matrix(y_test, y_pred)\n",
    "df = pd.DataFrame(matrix)\n",
    "df.columns = item.values()\n",
    "df.index = item.values()\n",
    "        \n",
    "df"
   ]
  },
  {
   "cell_type": "code",
   "execution_count": 49,
   "id": "80f94084",
   "metadata": {
    "execution": {
     "iopub.execute_input": "2022-11-25T18:33:53.170257Z",
     "iopub.status.busy": "2022-11-25T18:33:53.169879Z",
     "iopub.status.idle": "2022-11-25T18:33:55.938178Z",
     "shell.execute_reply": "2022-11-25T18:33:55.936742Z"
    },
    "papermill": {
     "duration": 5.060866,
     "end_time": "2022-11-25T18:33:55.940916",
     "exception": false,
     "start_time": "2022-11-25T18:33:50.880050",
     "status": "completed"
    },
    "tags": []
   },
   "outputs": [
    {
     "data": {
      "text/html": [
       "<div>\n",
       "<style scoped>\n",
       "    .dataframe tbody tr th:only-of-type {\n",
       "        vertical-align: middle;\n",
       "    }\n",
       "\n",
       "    .dataframe tbody tr th {\n",
       "        vertical-align: top;\n",
       "    }\n",
       "\n",
       "    .dataframe thead th {\n",
       "        text-align: right;\n",
       "    }\n",
       "</style>\n",
       "<table border=\"1\" class=\"dataframe\">\n",
       "  <thead>\n",
       "    <tr style=\"text-align: right;\">\n",
       "      <th></th>\n",
       "      <th>Type 1</th>\n",
       "      <th>Type 2</th>\n",
       "      <th>Type 3</th>\n",
       "    </tr>\n",
       "  </thead>\n",
       "  <tbody>\n",
       "    <tr>\n",
       "      <th>Type 1</th>\n",
       "      <td>0</td>\n",
       "      <td>87</td>\n",
       "      <td>0</td>\n",
       "    </tr>\n",
       "    <tr>\n",
       "      <th>Type 2</th>\n",
       "      <td>0</td>\n",
       "      <td>265</td>\n",
       "      <td>0</td>\n",
       "    </tr>\n",
       "    <tr>\n",
       "      <th>Type 3</th>\n",
       "      <td>0</td>\n",
       "      <td>160</td>\n",
       "      <td>0</td>\n",
       "    </tr>\n",
       "  </tbody>\n",
       "</table>\n",
       "</div>"
      ],
      "text/plain": [
       "        Type 1  Type 2  Type 3\n",
       "Type 1       0      87       0\n",
       "Type 2       0     265       0\n",
       "Type 3       0     160       0"
      ]
     },
     "execution_count": 49,
     "metadata": {},
     "output_type": "execute_result"
    }
   ],
   "source": [
    "y_pred_enc = model_ag.predict(X_test)        \n",
    "y_pred = [np.argmax(i) for i in y_pred_enc] \n",
    "item = {\n",
    "      0: 'Type 1'\n",
    "    , 1: 'Type 2'\n",
    "    , 2: 'Type 3'\n",
    "}\n",
    "\n",
    "matrix = confusion_matrix(y_test, y_pred)\n",
    "df = pd.DataFrame(matrix)\n",
    "df.columns = item.values()\n",
    "df.index = item.values()\n",
    "        \n",
    "df"
   ]
  },
  {
   "cell_type": "code",
   "execution_count": 50,
   "id": "a9883e30",
   "metadata": {
    "execution": {
     "iopub.execute_input": "2022-11-25T18:34:00.768849Z",
     "iopub.status.busy": "2022-11-25T18:34:00.768250Z",
     "iopub.status.idle": "2022-11-25T18:34:00.776938Z",
     "shell.execute_reply": "2022-11-25T18:34:00.775780Z"
    },
    "papermill": {
     "duration": 2.298697,
     "end_time": "2022-11-25T18:34:00.778823",
     "exception": false,
     "start_time": "2022-11-25T18:33:58.480126",
     "status": "completed"
    },
    "tags": []
   },
   "outputs": [
    {
     "name": "stdout",
     "output_type": "stream",
     "text": [
      "              precision    recall  f1-score   support\n",
      "\n",
      "           0       0.00      0.00      0.00        87\n",
      "           1       0.52      1.00      0.68       265\n",
      "           2       0.00      0.00      0.00       160\n",
      "\n",
      "    accuracy                           0.52       512\n",
      "   macro avg       0.17      0.33      0.23       512\n",
      "weighted avg       0.27      0.52      0.35       512\n",
      "\n"
     ]
    }
   ],
   "source": [
    "report = sklearn.metrics.classification_report(y_test, y_pred)\n",
    "print(report)"
   ]
  },
  {
   "cell_type": "code",
   "execution_count": 51,
   "id": "ab2e9206",
   "metadata": {
    "execution": {
     "iopub.execute_input": "2022-11-25T18:34:05.621901Z",
     "iopub.status.busy": "2022-11-25T18:34:05.621220Z",
     "iopub.status.idle": "2022-11-25T18:34:05.630699Z",
     "shell.execute_reply": "2022-11-25T18:34:05.629341Z"
    },
    "papermill": {
     "duration": 2.312926,
     "end_time": "2022-11-25T18:34:05.633198",
     "exception": false,
     "start_time": "2022-11-25T18:34:03.320272",
     "status": "completed"
    },
    "tags": []
   },
   "outputs": [
    {
     "name": "stdout",
     "output_type": "stream",
     "text": [
      "0.517578125\n",
      "0.517578125\n",
      "0.517578125\n"
     ]
    }
   ],
   "source": [
    "## 정밀도\n",
    "print(sklearn.metrics.precision_score(y_test, y_pred, average = 'micro'))\n",
    "## 특이도\n",
    "print(sklearn.metrics.recall_score(y_test, y_pred, pos_label=0, average = 'micro'))\n",
    "## 정밀도\n",
    "print(sklearn.metrics.recall_score(y_test, y_pred, average = 'micro'))"
   ]
  }
 ],
 "metadata": {
  "kernelspec": {
   "display_name": "Python 3",
   "language": "python",
   "name": "python3"
  },
  "language_info": {
   "codemirror_mode": {
    "name": "ipython",
    "version": 3
   },
   "file_extension": ".py",
   "mimetype": "text/x-python",
   "name": "python",
   "nbconvert_exporter": "python",
   "pygments_lexer": "ipython3",
   "version": "3.7.12"
  },
  "papermill": {
   "default_parameters": {},
   "duration": 13707.491975,
   "end_time": "2022-11-25T18:34:11.835829",
   "environment_variables": {},
   "exception": null,
   "input_path": "__notebook__.ipynb",
   "output_path": "__notebook__.ipynb",
   "parameters": {},
   "start_time": "2022-11-25T14:45:44.343854",
   "version": "2.3.4"
  }
 },
 "nbformat": 4,
 "nbformat_minor": 5
}
